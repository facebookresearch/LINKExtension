{
  "metadata": {
    "dataExplorerConfig": {},
    "bento_stylesheets": {
      "bento/extensions/flow/main.css": true,
      "bento/extensions/kernel_selector/main.css": true,
      "bento/extensions/kernel_ui/main.css": true,
      "bento/extensions/new_kernel/main.css": true,
      "bento/extensions/system_usage/main.css": true,
      "bento/extensions/theme/main.css": true
    },
    "kernelspec": {
      "display_name": "Python 3",
      "language": "python",
      "name": "bento_kernel_default",
      "cinder_runtime": true,
      "ipyflow_runtime": false,
      "metadata": {
        "kernel_name": "bento_kernel_default",
        "nightly_builds": true,
        "fbpkg_supported": true,
        "cinder_runtime": true,
        "ipyflow_runtime": false,
        "is_prebuilt": true
      }
    },
    "language_info": {
      "codemirror_mode": {
        "name": "ipython",
        "version": 3
      },
      "file_extension": ".py",
      "mimetype": "text/x-python",
      "name": "python",
      "nbconvert_exporter": "python",
      "pygments_lexer": "ipython3"
    },
    "last_server_session_id": "9de088b8-ffa4-4336-8c22-fd34b4a337be",
    "last_kernel_id": "a3b970a7-80a5-4185-acba-71dbe1a53588",
    "last_base_url": "https://devvm1422.ash0.facebook.com:8090/",
    "last_msg_id": "aca9d40a-f35208cf29905f856e6ba937_734",
    "outputWidgetContext": {}
  },
  "nbformat": 4,
  "nbformat_minor": 2,
  "cells": [
    {
      "cell_type": "markdown",
      "metadata": {
        "originalKey": "877b6abd-52c5-48e5-9da7-a03cd9d4bfa8",
        "showInput": false,
        "customInput": null
      },
      "source": [
        "## Single-layer Networks"
      ]
    },
    {
      "cell_type": "code",
      "metadata": {
        "collapsed": false,
        "originalKey": "0b6bde1d-a399-415f-9ad5-755d159b1b6e",
        "requestMsgId": "ca9bf462-9bdc-406a-afd3-af14c61417e3",
        "executionStartTime": 1684159759429,
        "executionStopTime": 1684159759436
      },
      "source": [
        "import numpy as np\n",
        "\n",
        "# reference_ud_uw\n",
        "v0_single_I_ud_uw = np.load('rocauc_ud_uw_part1.npy')\n",
        "v0_single_II_ud_uw =  np.load('rocauc_ud_uw_part2.npy')\n",
        "v0_single_III_ud_uw = np.load('rocauc_ud_uw_part3.npy')\n",
        "\n",
        "# v1\n",
        "v1_single_I = np.load('rocauc_v1_ud_w_part1.npy')\n",
        "v1_single_II =  np.load('rocauc_v1_ud_w_part2.npy')\n",
        "v1_single_III = np.load('rocauc_v1_ud_w_part3.npy')\n",
        "\n",
        "# v2\n",
        "v2_single_I = np.load('rocauc_v2_ud_w_part1_original.npy')\n",
        "v2_single_II = np.load('rocauc_v2_ud_w_part2_original.npy')\n",
        "v2_single_III = np.load('rocauc_v2_ud_w_part3_original.npy')\n",
        "\n",
        "# v2*\n",
        "v2ast_single_I = np.load('rocauc_v2_ud_w_part1.npy')\n",
        "v2ast_single_II = np.load('rocauc_v2_ud_w_part2.npy')\n",
        "v2ast_single_III = np.load('rocauc_v2_ud_w_part3.npy')"
      ],
      "execution_count": 21,
      "outputs": []
    },
    {
      "cell_type": "code",
      "metadata": {
        "originalKey": "a6eb1d4a-f946-4632-9224-058a5f8de582",
        "showInput": true,
        "customInput": null,
        "collapsed": false,
        "requestMsgId": "07e2a2c7-709a-4c54-be7b-30c0aa550997",
        "executionStartTime": 1684159759921,
        "executionStopTime": 1684159760041
      },
      "source": [
        ""
      ],
      "execution_count": 21,
      "outputs": []
    },
    {
      "cell_type": "code",
      "metadata": {
        "originalKey": "ba258533-6eb4-45db-aef0-fd6d03034bd8",
        "showInput": true,
        "customInput": null,
        "collapsed": false,
        "requestMsgId": "0d8804a3-98bb-4716-8f74-95fe70871f3f",
        "executionStartTime": 1684159760427,
        "executionStopTime": 1684159760439
      },
      "source": [
        "v0_single_ud_uw = np.concatenate(\n",
        "    (v0_single_I_ud_uw, v0_single_II_ud_uw, v0_single_III_ud_uw)\n",
        ")\n",
        "print(np.mean(v0_single_ud_uw))"
      ],
      "execution_count": 22,
      "outputs": [
        {
          "output_type": "stream",
          "name": "stdout",
          "text": [
            "0.5114217094728364\n"
          ]
        }
      ]
    },
    {
      "cell_type": "code",
      "metadata": {
        "originalKey": "d0d72612-17e4-4c30-9108-8c49c9b5862f",
        "showInput": true,
        "customInput": null,
        "collapsed": false,
        "requestMsgId": "3e13a201-b0ae-47e3-b1e0-fa01a1d62b93",
        "executionStartTime": 1684159760797,
        "executionStopTime": 1684159760806
      },
      "source": [
        "v1_single = np.concatenate((v1_single_I, v1_single_II, v1_single_III))\n",
        "print(np.mean(v1_single))"
      ],
      "execution_count": 23,
      "outputs": [
        {
          "output_type": "stream",
          "name": "stdout",
          "text": [
            "0.6518443010022265\n"
          ]
        }
      ]
    },
    {
      "cell_type": "code",
      "metadata": {
        "originalKey": "ea207db5-31f0-410a-af64-244273244128",
        "showInput": true,
        "customInput": null,
        "collapsed": false,
        "requestMsgId": "0d885474-4922-479c-85c0-aa87e532148f",
        "executionStartTime": 1684159761117,
        "executionStopTime": 1684159761127
      },
      "source": [
        "v2_single = np.concatenate((v2_single_I, v2_single_II, v2_single_III))\n",
        "print(np.mean(v2_single))"
      ],
      "execution_count": 24,
      "outputs": [
        {
          "output_type": "stream",
          "name": "stdout",
          "text": [
            "0.5727075209551201\n"
          ]
        }
      ]
    },
    {
      "cell_type": "code",
      "metadata": {
        "originalKey": "3d286929-2cec-49d8-90e9-721b43831e30",
        "showInput": true,
        "customInput": null,
        "collapsed": false,
        "requestMsgId": "4535ba97-e5e7-4ca8-87c8-0eb1df9b579b",
        "executionStartTime": 1684159761549,
        "executionStopTime": 1684159761557
      },
      "source": [
        "v2ast_single = np.concatenate((v2ast_single_I, v2ast_single_II, v2ast_single_III))\n",
        "print(np.mean(v2ast_single))"
      ],
      "execution_count": 25,
      "outputs": [
        {
          "output_type": "stream",
          "name": "stdout",
          "text": [
            "0.7029216512439069\n"
          ]
        }
      ]
    },
    {
      "cell_type": "code",
      "metadata": {
        "originalKey": "894557ae-e3ec-4f4b-a0e3-4e7c4059ca7c",
        "showInput": true,
        "customInput": null,
        "collapsed": false,
        "requestMsgId": "1001e39e-7bf5-4b76-acb7-6fd5c8a6e90c",
        "executionStartTime": 1684159766883,
        "executionStopTime": 1684159767981
      },
      "source": [
        "from statsmodels.sandbox.stats.multicomp import multipletests\n",
        "from scipy.stats import wilcoxon"
      ],
      "execution_count": 26,
      "outputs": []
    },
    {
      "cell_type": "code",
      "metadata": {
        "originalKey": "73d99bb1-ae6f-4511-bad3-c91bab7a471f",
        "showInput": true,
        "customInput": null,
        "collapsed": false,
        "requestMsgId": "9f828397-0848-4da5-bc2b-8b6dedea603e",
        "executionStartTime": 1684159768268,
        "executionStopTime": 1684159768315
      },
      "source": [
        "print(wilcoxon(v0_single_ud_uw, v1_single, alternative = 'less'))\n",
        "print(wilcoxon(v0_single_ud_uw, v2_single, alternative = 'less'))\n",
        "print(wilcoxon(v0_single_ud_uw, v2ast_single, alternative = 'less'))"
      ],
      "execution_count": 27,
      "outputs": [
        {
          "output_type": "stream",
          "name": "stdout",
          "text": [
            "WilcoxonResult(statistic=276.0, pvalue=2.552791648480553e-17)\nWilcoxonResult(statistic=21.0, pvalue=3.6022455930049396e-20)\nWilcoxonResult(statistic=0.0, pvalue=2.048086895051651e-20)\n"
          ]
        }
      ]
    },
    {
      "cell_type": "code",
      "metadata": {
        "originalKey": "c485488b-438f-45d1-a6d7-340412ea5923",
        "showInput": true,
        "customInput": null,
        "collapsed": false,
        "requestMsgId": "d307997c-c0d9-4163-8e12-26751f2afc1e",
        "executionStartTime": 1684159768962,
        "executionStopTime": 1684159768973
      },
      "source": [
        "multipletests(np.array([2.552791648480553e-17, 3.6022455930049396e-20, 2.048086895051651e-20]), method = 'bonferroni')"
      ],
      "execution_count": 28,
      "outputs": [
        {
          "output_type": "execute_result",
          "data": {
            "text/plain": "(array([ True,  True,  True]),\n array([7.65837495e-17, 1.08067368e-19, 6.14426069e-20]),\n 0.016952427508441503,\n 0.016666666666666666)"
          },
          "metadata": {
            "bento_obj_id": "140658349590464"
          },
          "execution_count": 28
        }
      ]
    },
    {
      "cell_type": "code",
      "metadata": {
        "originalKey": "06cd39be-d68c-4d26-81b5-af045251f51d",
        "showInput": true,
        "customInput": null,
        "collapsed": false,
        "requestMsgId": "46d6593b-cf0c-4816-9469-957e88fd95a8",
        "executionStartTime": 1684159769478,
        "executionStopTime": 1684159769489
      },
      "source": [
        "print(wilcoxon(v1_single, v2_single))\n",
        "print(wilcoxon(v1_single, v2ast_single))\n",
        "print(wilcoxon(v2_single, v2ast_single))"
      ],
      "execution_count": 29,
      "outputs": [
        {
          "output_type": "stream",
          "name": "stdout",
          "text": [
            "WilcoxonResult(statistic=791.0, pvalue=5.613640416988119e-12)\nWilcoxonResult(statistic=339.0, pvalue=2.377223957972653e-16)\nWilcoxonResult(statistic=16.0, pvalue=6.300299589085754e-20)\n"
          ]
        }
      ]
    },
    {
      "cell_type": "code",
      "metadata": {
        "originalKey": "239432c5-77dc-447f-ac5f-85f5fc9c7006",
        "showInput": true,
        "customInput": null,
        "collapsed": false,
        "requestMsgId": "268fa3cb-2b46-4b7c-81b4-0355eead47eb",
        "executionStartTime": 1684159769974,
        "executionStopTime": 1684159769983
      },
      "source": [
        "multipletests(np.array([5.613640416988119e-12, 2.377223957972653e-16, 6.300299589085754e-20]), method = 'bonferroni')"
      ],
      "execution_count": 30,
      "outputs": [
        {
          "output_type": "execute_result",
          "data": {
            "text/plain": "(array([ True,  True,  True]),\n array([1.68409213e-11, 7.13167187e-16, 1.89008988e-19]),\n 0.016952427508441503,\n 0.016666666666666666)"
          },
          "metadata": {
            "bento_obj_id": "140658245895888"
          },
          "execution_count": 30
        }
      ]
    },
    {
      "cell_type": "code",
      "metadata": {
        "originalKey": "996a00c3-3dc4-4a30-a434-7a207b3ca581",
        "showInput": true,
        "customInput": null,
        "collapsed": false,
        "requestMsgId": "a8847aff-ac9f-438f-a500-19f52c099a95",
        "executionStartTime": 1684159770635,
        "executionStopTime": 1684159770766
      },
      "source": [
        ""
      ],
      "execution_count": 30,
      "outputs": []
    },
    {
      "cell_type": "code",
      "metadata": {
        "originalKey": "431d5d66-8ee3-4723-996f-5362b408ae00",
        "showInput": true,
        "customInput": null,
        "collapsed": false,
        "requestMsgId": "d96df6a7-ca35-4c91-b04c-c03fd62f12fe",
        "executionStartTime": 1684159771095,
        "executionStopTime": 1684159771214
      },
      "source": [
        ""
      ],
      "execution_count": 30,
      "outputs": []
    },
    {
      "cell_type": "markdown",
      "metadata": {
        "originalKey": "adaaebcf-d4fe-4b0b-b6db-c62d6417d83a",
        "showInput": false,
        "customInput": null
      },
      "source": [
        "## Multi-layer Networks"
      ]
    },
    {
      "cell_type": "code",
      "metadata": {
        "originalKey": "1479ddb6-8bb8-4049-a3c1-e408725f1c46",
        "showInput": true,
        "customInput": null,
        "collapsed": false,
        "requestMsgId": "20510677-9ae9-43ed-b1a7-2b4ae4ef98c9",
        "executionStartTime": 1684159773329,
        "executionStopTime": 1684159773337
      },
      "source": [
        "# v0\n",
        "v0_multi_I = np.load(\"rocauc_v0_ud_w_part1_multilayer.npy\")\n",
        "v0_multi_II = np.load(\"rocauc_v0_ud_w_part2_multilayer.npy\")\n",
        "v0_multi_III = np.load(\"rocauc_v0_ud_w_part3_multilayer.npy\")\n",
        "\n",
        "# v1\n",
        "v1_multi_I = np.load('rocauc_v1_ud_w_part1_multilayer.npy')\n",
        "v1_multi_II =  np.load('rocauc_v1_ud_w_part2_multilayer.npy')\n",
        "v1_multi_III = np.load('rocauc_v1_ud_w_part3_multilayer.npy')\n",
        "\n",
        "# # v2\n",
        "v2_multi_I = np.load('rocauc_v2_ud_w_part1_multilayer_original.npy')\n",
        "v2_multi_II = np.load('rocauc_v2_ud_w_part2_multilayer_original.npy')\n",
        "v2_multi_III = np.load('rocauc_v2_ud_w_part3_multilayer_original.npy')\n",
        ""
      ],
      "execution_count": 31,
      "outputs": []
    },
    {
      "cell_type": "code",
      "metadata": {
        "originalKey": "21490e30-7803-4adf-b504-87fb7400aa35",
        "showInput": true,
        "customInput": null,
        "collapsed": false,
        "requestMsgId": "2047cc51-1736-486c-a0fd-8f52b2fc3dc6",
        "executionStartTime": 1684159775105,
        "executionStopTime": 1684159775115
      },
      "source": [
        "v0_multi = np.concatenate((v0_multi_I, v0_multi_II, v0_multi_III))\n",
        "print(np.mean(v0_multi))"
      ],
      "execution_count": 32,
      "outputs": [
        {
          "output_type": "stream",
          "name": "stdout",
          "text": [
            "0.6807700158157218\n"
          ]
        }
      ]
    },
    {
      "cell_type": "code",
      "metadata": {
        "originalKey": "a8b5c4ab-4bc3-4885-ab18-2d9d78f42b96",
        "showInput": true,
        "customInput": null,
        "collapsed": false,
        "requestMsgId": "fbecd1d6-a0f2-4f3b-a2aa-30d67f2d7eea",
        "executionStartTime": 1684159775977,
        "executionStopTime": 1684159775989
      },
      "source": [
        "wilcoxon(v0_single_ud_uw, v0_multi, alternative = 'less')\n",
        ""
      ],
      "execution_count": 33,
      "outputs": [
        {
          "output_type": "execute_result",
          "data": {
            "text/plain": "WilcoxonResult(statistic=286.0, pvalue=3.265939066825806e-17)"
          },
          "metadata": {
            "bento_obj_id": "140658246057472"
          },
          "execution_count": 33
        }
      ]
    },
    {
      "cell_type": "code",
      "metadata": {
        "originalKey": "de99dd90-93db-4508-806e-bd60efcb6f9e",
        "showInput": true,
        "customInput": null,
        "collapsed": false,
        "requestMsgId": "003c705c-c8e6-48ee-92d3-c3e2164227e0",
        "executionStartTime": 1684161935722,
        "executionStopTime": 1684161935853
      },
      "source": [
        "#dummy test\n",
        "#wilcoxon([5,5,5,5,5,5,5,1,1,1,1,1], [65,65,65,65,65,25,25,11,11,11,11,11], alternative = 'less')\n",
        ""
      ],
      "execution_count": 42,
      "outputs": []
    },
    {
      "cell_type": "code",
      "metadata": {
        "originalKey": "434fb7ea-5c8f-4def-9fa8-369446876342",
        "showInput": true,
        "customInput": null,
        "collapsed": false,
        "requestMsgId": "8f676a94-889e-4b23-8df9-373c40f16e06",
        "executionStartTime": 1684159781017,
        "executionStopTime": 1684159781178
      },
      "source": [
        ""
      ],
      "execution_count": 34,
      "outputs": []
    },
    {
      "cell_type": "code",
      "metadata": {
        "originalKey": "05621501-dd26-40a6-844e-8a2e8bb47aa2",
        "showInput": true,
        "customInput": null,
        "collapsed": false,
        "requestMsgId": "1db1d8cc-1d9d-46fe-9b76-96d731c8fcc6",
        "executionStartTime": 1684159781499,
        "executionStopTime": 1684159781507
      },
      "source": [
        "v1_multi = np.concatenate((v1_multi_I, v1_multi_II, v1_multi_III))\n",
        "print(np.mean(v1_multi))"
      ],
      "execution_count": 35,
      "outputs": [
        {
          "output_type": "stream",
          "name": "stdout",
          "text": [
            "0.7166820797768718\n"
          ]
        }
      ]
    },
    {
      "cell_type": "code",
      "metadata": {
        "originalKey": "9819b96b-c6f6-4b40-8dc5-0079fe706af9",
        "showInput": true,
        "customInput": null,
        "collapsed": false,
        "requestMsgId": "6e4e31c5-705f-4cc2-ae4e-f6c9cac93714",
        "executionStartTime": 1684161971914,
        "executionStopTime": 1684161971925
      },
      "source": [
        "wilcoxon(v1_single, v1_multi, alternative = 'less')\n",
        ""
      ],
      "execution_count": 43,
      "outputs": [
        {
          "output_type": "execute_result",
          "data": {
            "text/plain": "WilcoxonResult(statistic=7.0, pvalue=2.4732463753979982e-20)"
          },
          "metadata": {
            "bento_obj_id": "140658401755392"
          },
          "execution_count": 43
        }
      ]
    },
    {
      "cell_type": "code",
      "metadata": {
        "originalKey": "6ae5c437-0ad4-4ad9-a81a-487dec420eb2",
        "showInput": true,
        "customInput": null,
        "collapsed": false,
        "requestMsgId": "a11962db-47a5-46fc-b362-f476b3be1169",
        "executionStartTime": 1684159786076,
        "executionStopTime": 1684159786086
      },
      "source": [
        "v2_multi = np.concatenate((v2_multi_I, v2_multi_II, v2_multi_III))\n",
        "print(np.mean(v2_multi))"
      ],
      "execution_count": 37,
      "outputs": [
        {
          "output_type": "stream",
          "name": "stdout",
          "text": [
            "0.7480628037743963\n"
          ]
        }
      ]
    },
    {
      "cell_type": "code",
      "metadata": {
        "originalKey": "874af8fb-b02a-408a-ad84-38aeb5e1dfe7",
        "showInput": true,
        "customInput": null,
        "collapsed": false,
        "requestMsgId": "b11435a3-cdc4-4478-baed-1c945258be35",
        "executionStartTime": 1684159786966,
        "executionStopTime": 1684159786977
      },
      "source": [
        "wilcoxon(v2_single, v2_multi, alternative = 'less')\n",
        ""
      ],
      "execution_count": 38,
      "outputs": [
        {
          "output_type": "execute_result",
          "data": {
            "text/plain": "WilcoxonResult(statistic=44.0, pvalue=6.657661280184566e-20)"
          },
          "metadata": {
            "bento_obj_id": "140658246314176"
          },
          "execution_count": 38
        }
      ]
    },
    {
      "cell_type": "code",
      "metadata": {
        "originalKey": "e0ca6566-a7c6-4d08-a77d-1180a1b031e5",
        "showInput": true,
        "customInput": null,
        "collapsed": false,
        "requestMsgId": "679bebc1-1705-40c3-843d-ae56f9499c7b",
        "executionStartTime": 1684159787734,
        "executionStopTime": 1684159787870
      },
      "source": [
        ""
      ],
      "execution_count": 38,
      "outputs": []
    },
    {
      "cell_type": "code",
      "metadata": {
        "originalKey": "fd8fab8b-4e99-4b9b-ba4d-e6c1af6c49a4",
        "showInput": true,
        "customInput": null,
        "collapsed": false,
        "requestMsgId": "4c0e728f-9499-45ee-a0bf-e2c7430154a4",
        "executionStartTime": 1684159788413,
        "executionStopTime": 1684159788506
      },
      "source": [
        "v2ast_multi = []\n",
        "for j in range(25):\n",
        "    tmp = np.load('REVISED_rocauc_v2_ud_w_part1_multilayer_iteration_'+str(j)+'.npy')\n",
        "    v2ast_multi.append(tmp[0])\n",
        "for j in range(25,50):\n",
        "    tmp = np.load('REVISED_rocauc_v2_ud_w_part2_multilayer_iteration_'+str(j)+'.npy')\n",
        "    v2ast_multi.append(tmp[0])\n",
        "for j in range(50,112):\n",
        "    tmp = np.load('REVISED_rocauc_v2_ud_w_part3_multilayer_iteration_'+str(j)+'.npy')\n",
        "    v2ast_multi.append(tmp[0])\n",
        "print(np.mean(v2ast_multi))\n",
        "print(len(v2ast_multi))"
      ],
      "execution_count": 39,
      "outputs": [
        {
          "output_type": "stream",
          "name": "stdout",
          "text": [
            "0.7562992912710721\n112\n"
          ]
        }
      ]
    },
    {
      "cell_type": "code",
      "metadata": {
        "originalKey": "12865fe0-17c0-41c1-9859-06b17515f66f",
        "showInput": true,
        "customInput": null,
        "collapsed": false,
        "requestMsgId": "9c403b81-0e39-4ee1-a6ad-54af6a967e9c",
        "executionStartTime": 1684159812319,
        "executionStopTime": 1684159812328
      },
      "source": [
        "wilcoxon(v2ast_single, v2ast_multi, alternative = 'less')\n",
        ""
      ],
      "execution_count": 40,
      "outputs": [
        {
          "output_type": "execute_result",
          "data": {
            "text/plain": "WilcoxonResult(statistic=46.0, pvalue=7.02144884649228e-20)"
          },
          "metadata": {
            "bento_obj_id": "140658246221312"
          },
          "execution_count": 40
        }
      ]
    },
    {
      "cell_type": "code",
      "metadata": {
        "originalKey": "d64bf2fd-c65f-4246-9b20-4297e32bf989",
        "showInput": true,
        "customInput": null,
        "collapsed": false,
        "requestMsgId": "4a9f3413-12e7-46d6-b859-228a74519884",
        "executionStartTime": 1684161994414,
        "executionStopTime": 1684161994424
      },
      "source": [
        "multipletests(np.array([3.265939066825806e-17, 2.4732463753979982e-20, 6.657661280184566e-20,\n",
        "7.02144884649228e-20]), method = 'bonferroni')"
      ],
      "execution_count": 44,
      "outputs": [
        {
          "output_type": "execute_result",
          "data": {
            "text/plain": "(array([ True,  True,  True,  True]),\n array([1.30637563e-16, 9.89298550e-20, 2.66306451e-19, 2.80857954e-19]),\n 0.012741455098566168,\n 0.0125)"
          },
          "metadata": {
            "bento_obj_id": "140658228224032"
          },
          "execution_count": 44
        }
      ]
    },
    {
      "cell_type": "code",
      "metadata": {
        "originalKey": "d87ebe9e-2f4d-4a72-ac1e-c3884d16d819",
        "showInput": true,
        "customInput": null,
        "collapsed": false,
        "requestMsgId": "685680ed-9b27-4dc4-82c6-80a8e02220cf",
        "executionStartTime": 1684162055487,
        "executionStopTime": 1684162055497
      },
      "source": [
        "wilcoxon(v2_multi, v2ast_multi, alternative = 'less')\n",
        ""
      ],
      "execution_count": 45,
      "outputs": [
        {
          "output_type": "execute_result",
          "data": {
            "text/plain": "WilcoxonResult(statistic=2895.0, pvalue=0.21741837965301108)"
          },
          "metadata": {
            "bento_obj_id": "140658228241216"
          },
          "execution_count": 45
        }
      ]
    },
    {
      "cell_type": "code",
      "metadata": {
        "originalKey": "d86c3d06-d169-4f40-8875-ee43e0620c46",
        "showInput": true,
        "customInput": null
      },
      "source": [
        ""
      ],
      "execution_count": null,
      "outputs": []
    },
    {
      "cell_type": "code",
      "metadata": {
        "originalKey": "739ca7ae-ac8c-4b9a-93b0-35e4046ec3d8",
        "showInput": true,
        "customInput": null,
        "collapsed": false,
        "requestMsgId": "739ca7ae-ac8c-4b9a-93b0-35e4046ec3d8",
        "executionStartTime": 1683992904941,
        "executionStopTime": 1683992905030
      },
      "source": [
        "from scipy.stats import wilcoxon\n",
        "print(wilcoxon(v2ast_single, v0_multi, alternative = 'less'))\n",
        "print(wilcoxon(v2ast_single, v1_multi, alternative = 'less'))\n",
        "print(wilcoxon(v2ast_single, v2_multi, alternative = 'less'))\n",
        "print(wilcoxon(v2ast_single, v2ast_multi, alternative = 'less'))"
      ],
      "execution_count": 41,
      "outputs": [
        {
          "output_type": "stream",
          "name": "stdout",
          "text": [
            "WilcoxonResult(statistic=4044.0, pvalue=0.9946868513564844)\nWilcoxonResult(statistic=2336.0, pvalue=0.008113024803320837)\nWilcoxonResult(statistic=1176.0, pvalue=3.930296006873285e-09)\nWilcoxonResult(statistic=598.0, pvalue=4.6872389052685854e-14)\n"
          ]
        }
      ]
    },
    {
      "cell_type": "code",
      "metadata": {
        "originalKey": "2602a7aa-5dc8-4d2e-8fa7-3828884332ba",
        "showInput": true,
        "customInput": null,
        "collapsed": false,
        "requestMsgId": "2602a7aa-5dc8-4d2e-8fa7-3828884332ba",
        "executionStartTime": 1683992948464,
        "executionStopTime": 1683992948491
      },
      "source": [
        "multipletests(np.array([0.9946868513564844, 0.008113024803320837, 3.930296006873285e-09, 4.6872389052685854e-14]), method = 'bonferroni')"
      ],
      "execution_count": 42,
      "outputs": [
        {
          "output_type": "execute_result",
          "data": {
            "text/plain": "(array([False,  True,  True,  True]),\n array([1.00000000e+00, 3.24520992e-02, 1.57211840e-08, 1.87489556e-13]),\n 0.012741455098566168,\n 0.0125)"
          },
          "metadata": {
            "bento_obj_id": "140151208135792"
          },
          "execution_count": 42
        }
      ]
    }
  ]
}
