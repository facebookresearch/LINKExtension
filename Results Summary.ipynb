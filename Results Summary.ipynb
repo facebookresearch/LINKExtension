{
  "metadata": {
    "dataExplorerConfig": {},
    "bento_stylesheets": {
      "bento/extensions/flow/main.css": true,
      "bento/extensions/kernel_selector/main.css": true,
      "bento/extensions/kernel_ui/main.css": true,
      "bento/extensions/new_kernel/main.css": true,
      "bento/extensions/system_usage/main.css": true,
      "bento/extensions/theme/main.css": true
    },
    "kernelspec": {
      "display_name": "Python 3",
      "language": "python",
      "name": "bento_kernel_default",
      "cinder_runtime": true,
      "ipyflow_runtime": false,
      "metadata": {
        "kernel_name": "bento_kernel_default",
        "nightly_builds": true,
        "fbpkg_supported": true,
        "cinder_runtime": true,
        "ipyflow_runtime": false,
        "is_prebuilt": true
      }
    },
    "language_info": {
      "codemirror_mode": {
        "name": "ipython",
        "version": 3
      },
      "file_extension": ".py",
      "mimetype": "text/x-python",
      "name": "python",
      "nbconvert_exporter": "python",
      "pygments_lexer": "ipython3"
    },
    "last_server_session_id": "d98b48c9-146e-47cc-b748-5dd0a78f5c2d",
    "last_kernel_id": "25aad3bf-ff3a-4ed5-a140-09c51fbcb555",
    "last_base_url": "https://devvm1422.ash0.facebook.com:8090/",
    "last_msg_id": "70ffd4db-1edf0a3a1c6eb560e0d3e7c8_1595",
    "outputWidgetContext": {}
  },
  "nbformat": 4,
  "nbformat_minor": 2,
  "cells": [
    {
      "cell_type": "markdown",
      "metadata": {
        "originalKey": "8e9e8c0e-6bbc-47b6-8fc8-52b2ffc002b1",
        "showInput": false,
        "customInput": null
      },
      "source": [
        "## Single-layer Networks"
      ]
    },
    {
      "cell_type": "code",
      "metadata": {
        "collapsed": false,
        "originalKey": "61c34ce6-59ee-4a41-8709-b37343ce4321",
        "requestMsgId": "c35732d5-0556-4ea7-aba7-ff478c9c0f65",
        "executionStartTime": 1681791645909,
        "executionStopTime": 1681791646100
      },
      "source": [
        "import numpy as np\n",
        "# v1\n",
        "v1_single_I = np.load('rocauc_v1_ud_w_part1.npy')\n",
        "v1_single_II =  np.load('rocauc_v1_ud_w_part2.npy')\n",
        "v1_single_III = np.load('rocauc_v1_ud_w_part3.npy')\n",
        "\n",
        "# v2\n",
        "v2_single_I = np.load('rocauc_v2_ud_w_part1_original.npy')\n",
        "v2_single_II = np.load('rocauc_v2_ud_w_part2_original.npy')\n",
        "v2_single_III = np.load('rocauc_v2_ud_w_part3_original.npy')\n",
        "\n",
        "# v2*\n",
        "v2ast_single_I = np.load('rocauc_v2_ud_w_part1.npy')\n",
        "v2ast_single_II = np.load('rocauc_v2_ud_w_part2.npy')\n",
        "v2ast_single_III = np.load('rocauc_v2_ud_w_part3.npy')"
      ],
      "execution_count": 48,
      "outputs": []
    },
    {
      "cell_type": "code",
      "metadata": {
        "originalKey": "8b53111b-8103-441e-8b08-e1974becb715",
        "showInput": true,
        "customInput": null,
        "collapsed": false,
        "requestMsgId": "8b53111b-8103-441e-8b08-e1974becb715",
        "executionStartTime": 1681702246324,
        "executionStopTime": 1681702246333
      },
      "source": [
        "v1_single = np.concatenate((v1_single_I, v1_single_II, v1_single_III))\n",
        "print(np.mean(v1_single))"
      ],
      "execution_count": 29,
      "outputs": [
        {
          "output_type": "stream",
          "name": "stdout",
          "text": [
            "0.6518443010022265\n"
          ]
        }
      ]
    },
    {
      "cell_type": "code",
      "metadata": {
        "originalKey": "77451548-11e6-4929-92f9-84d137938742",
        "showInput": true,
        "customInput": null,
        "collapsed": false,
        "requestMsgId": "77451548-11e6-4929-92f9-84d137938742",
        "executionStartTime": 1681702246850,
        "executionStopTime": 1681702246859
      },
      "source": [
        "v2_single = np.concatenate((v2_single_I, v2_single_II, v2_single_III))\n",
        "print(np.mean(v2_single))"
      ],
      "execution_count": 30,
      "outputs": [
        {
          "output_type": "stream",
          "name": "stdout",
          "text": [
            "0.5727075209551201\n"
          ]
        }
      ]
    },
    {
      "cell_type": "code",
      "metadata": {
        "originalKey": "b5a9b6f4-0694-4add-a2b6-c0886a772e58",
        "showInput": true,
        "customInput": null,
        "collapsed": false,
        "requestMsgId": "b5a9b6f4-0694-4add-a2b6-c0886a772e58",
        "executionStartTime": 1681702247234,
        "executionStopTime": 1681702247245
      },
      "source": [
        "v2ast_single = np.concatenate((v2ast_single_I, v2ast_single_II, v2ast_single_III))\n",
        "print(np.mean(v2ast_single))"
      ],
      "execution_count": 31,
      "outputs": [
        {
          "output_type": "stream",
          "name": "stdout",
          "text": [
            "0.7029216512439069\n"
          ]
        }
      ]
    },
    {
      "cell_type": "code",
      "metadata": {
        "originalKey": "900480a8-f058-4d7c-a8e4-42b67d5bee60",
        "showInput": true,
        "customInput": null,
        "collapsed": false,
        "requestMsgId": "900480a8-f058-4d7c-a8e4-42b67d5bee60",
        "executionStartTime": 1681702247702,
        "executionStopTime": 1681702247807
      },
      "source": [
        ""
      ],
      "execution_count": 31,
      "outputs": []
    },
    {
      "cell_type": "code",
      "metadata": {
        "originalKey": "0b3b183a-c289-4875-9c2c-0989bce2e771",
        "showInput": true,
        "customInput": null
      },
      "source": [
        ""
      ],
      "execution_count": null,
      "outputs": []
    },
    {
      "cell_type": "markdown",
      "metadata": {
        "originalKey": "adaaebcf-d4fe-4b0b-b6db-c62d6417d83a",
        "showInput": false,
        "customInput": null
      },
      "source": [
        "## Multi-layer Networks"
      ]
    },
    {
      "cell_type": "code",
      "metadata": {
        "originalKey": "b84a5dd4-6981-40dc-baea-742ce2e238d2",
        "showInput": true,
        "customInput": null,
        "collapsed": false,
        "requestMsgId": "b84a5dd4-6981-40dc-baea-742ce2e238d2",
        "executionStartTime": 1681680128348,
        "executionStopTime": 1681680128357
      },
      "source": [
        "# v0\n",
        "v0_multi_I = np.load(\"rocauc_v0_ud_w_part1_multilayer.npy\")\n",
        "v0_multi_II = np.load(\"rocauc_v0_ud_w_part2_multilayer.npy\")\n",
        "v0_multi_III = np.load(\"rocauc_v0_ud_w_part3_multilayer.npy\")\n",
        "\n",
        "# v1\n",
        "v1_multi_I = np.load('rocauc_v1_ud_w_part1_multilayer.npy')\n",
        "v1_multi_II =  np.load('rocauc_v1_ud_w_part2_multilayer.npy')\n",
        "v1_multi_III = np.load('rocauc_v1_ud_w_part3_multilayer.npy')\n",
        "\n",
        "# # v2\n",
        "v2_multi_I = np.load('rocauc_v2_ud_w_part1_multilayer_original.npy')\n",
        "v2_multi_II = np.load('rocauc_v2_ud_w_part2_multilayer_original.npy')\n",
        "v2_multi_III = np.load('rocauc_v2_ud_w_part3_multilayer_original.npy')\n",
        "\n",
        "# # v2*\n",
        "# v2ast_single_I = np.load('rocauc_v2_ud_w_part1.npy')\n",
        "# v2ast_single_II = np.load('rocauc_v2_ud_w_part2.npy')\n",
        "# v2ast_single_III = np.load('rocauc_v2_ud_w_part3.npy')"
      ],
      "execution_count": 23,
      "outputs": []
    },
    {
      "cell_type": "code",
      "metadata": {
        "originalKey": "b8a7af8d-7937-4793-b3cf-0fb00da62a01",
        "showInput": true,
        "customInput": null,
        "collapsed": false,
        "requestMsgId": "b8a7af8d-7937-4793-b3cf-0fb00da62a01",
        "executionStartTime": 1681680128873,
        "executionStopTime": 1681680128881
      },
      "source": [
        "v0_multi = np.concatenate((v0_multi_I, v0_multi_II, v0_multi_III))\n",
        "print(np.mean(v0_multi))"
      ],
      "execution_count": 24,
      "outputs": [
        {
          "output_type": "stream",
          "name": "stdout",
          "text": [
            "0.6807700158157218\n"
          ]
        }
      ]
    },
    {
      "cell_type": "code",
      "metadata": {
        "originalKey": "dddbdfc8-5b74-4a73-bd06-81abc88d44d6",
        "showInput": true,
        "customInput": null,
        "collapsed": false,
        "requestMsgId": "dddbdfc8-5b74-4a73-bd06-81abc88d44d6",
        "executionStartTime": 1681680129439,
        "executionStopTime": 1681680129446
      },
      "source": [
        "v1_multi = np.concatenate((v1_multi_I, v1_multi_II, v1_multi_III))\n",
        "print(np.mean(v1_multi))"
      ],
      "execution_count": 25,
      "outputs": [
        {
          "output_type": "stream",
          "name": "stdout",
          "text": [
            "0.7166820797768718\n"
          ]
        }
      ]
    },
    {
      "cell_type": "code",
      "metadata": {
        "originalKey": "d1508254-8ad6-4469-aa91-4f3533221f06",
        "showInput": true,
        "customInput": null,
        "collapsed": false,
        "requestMsgId": "d1508254-8ad6-4469-aa91-4f3533221f06",
        "executionStartTime": 1681680130042,
        "executionStopTime": 1681680130052
      },
      "source": [
        "v2_multi = np.concatenate((v2_multi_I, v2_multi_II, v2_multi_III))\n",
        "print(np.mean(v2_multi))"
      ],
      "execution_count": 26,
      "outputs": [
        {
          "output_type": "stream",
          "name": "stdout",
          "text": [
            "0.7480628037743963\n"
          ]
        }
      ]
    },
    {
      "cell_type": "code",
      "metadata": {
        "originalKey": "e8cd0c63-d122-4305-8e4b-37731da8bc75",
        "showInput": true,
        "customInput": null,
        "collapsed": false,
        "requestMsgId": "e8cd0c63-d122-4305-8e4b-37731da8bc75",
        "executionStartTime": 1681702337301,
        "executionStopTime": 1681702337311
      },
      "source": [
        "v2ast_multi = []\n",
        "for j in range(25):\n",
        "    tmp = np.load('rocauc_v2_ud_w_part1_multilayer_iteration_'+str(j)+'.npy')\n",
        "    v2ast_multi.append(tmp[0])\n",
        "for j in range(25,50):\n",
        "    tmp = np.load('rocauc_v2_ud_w_part2_multilayer_iteration_'+str(j)+'.npy')\n",
        "    v2ast_multi.append(tmp[0])\n",
        "print(np.mean(v2ast_multi))"
      ],
      "execution_count": 38,
      "outputs": [
        {
          "output_type": "stream",
          "name": "stdout",
          "text": [
            "0.7468358424490638\n"
          ]
        }
      ]
    },
    {
      "cell_type": "code",
      "metadata": {
        "originalKey": "8ebaa8d6-d00a-41e1-ba6f-0deac0e7862c",
        "showInput": true,
        "customInput": null,
        "collapsed": false,
        "requestMsgId": "8ebaa8d6-d00a-41e1-ba6f-0deac0e7862c",
        "executionStartTime": 1681702420809,
        "executionStopTime": 1681702420820
      },
      "source": [
        "from scipy.stats import wilcoxon\n",
        "wilcoxon(v2_multi[0:50], v2ast_multi)"
      ],
      "execution_count": 45,
      "outputs": [
        {
          "output_type": "execute_result",
          "data": {
            "text/plain": "WilcoxonResult(statistic=410.0, pvalue=0.028083291139889142)"
          },
          "metadata": {
            "bento_obj_id": "140691966019264"
          },
          "execution_count": 45
        }
      ]
    }
  ]
}
