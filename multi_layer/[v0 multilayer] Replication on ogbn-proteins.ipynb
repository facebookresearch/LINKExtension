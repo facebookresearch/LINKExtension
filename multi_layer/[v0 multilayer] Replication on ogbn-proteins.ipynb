{
  "metadata": {
    "dataExplorerConfig": {},
    "bento_stylesheets": {
      "bento/extensions/flow/main.css": true,
      "bento/extensions/kernel_selector/main.css": true,
      "bento/extensions/kernel_ui/main.css": true,
      "bento/extensions/new_kernel/main.css": true,
      "bento/extensions/system_usage/main.css": true,
      "bento/extensions/theme/main.css": true
    },
    "kernelspec": {
      "display_name": "pytorch",
      "language": "python",
      "name": "bento_kernel_pytorch",
      "cinder_runtime": false,
      "ipyflow_runtime": false,
      "metadata": {
        "kernel_name": "bento_kernel_pytorch",
        "nightly_builds": true,
        "fbpkg_supported": true,
        "cinder_runtime": false,
        "ipyflow_runtime": false,
        "is_prebuilt": true
      }
    },
    "language_info": {
      "codemirror_mode": {
        "name": "ipython",
        "version": 3
      },
      "file_extension": ".py",
      "mimetype": "text/x-python",
      "name": "python",
      "nbconvert_exporter": "python",
      "pygments_lexer": "ipython3"
    },
    "last_server_session_id": "b45a3007-20bc-4610-ae36-cc3fe8c8164f",
    "last_kernel_id": "56a81b90-88b1-4938-9bbe-1920a8c1e16d",
    "last_base_url": "https://devvm1422.ash0.facebook.com:8090/",
    "last_msg_id": "0a41922f-3a41287dee601c09708f4d4e_56",
    "outputWidgetContext": {}
  },
  "nbformat": 4,
  "nbformat_minor": 2,
  "cells": [
    {
      "cell_type": "code",
      "metadata": {
        "collapsed": false,
        "originalKey": "92eeeee7-b92a-41c5-a2f7-cd0ccb84e64c",
        "requestMsgId": "92eeeee7-b92a-41c5-a2f7-cd0ccb84e64c",
        "executionStartTime": 1680967221922,
        "executionStopTime": 1680967222675
      },
      "source": [
        "# 4/8/23\n",
        "# KM Altenburger\n",
        "\n",
        "# steps for downloading repo internally; run w/ \"grasp_workflows kernel\"\n",
        "# sudo feature install ttls_fwdproxy\n",
        "# mgt import --src-type pypi sdist\n",
        "# mgt import --src-type pypi nvidia-cublas-cu11==11.10.3.66\n",
        "# mgt import --src-type pypi ogb\n",
        "\n",
        "import sys\n",
        "sys.path.insert(0, \"/home/kaltenburger/fbsource/ogb\")\n",
        "import ogb\n",
        "import torch\n",
        "#import torch_geometric\n",
        "from ogb.nodeproppred import NodePropPredDataset\n",
        "import numpy as np\n",
        "import networkx as nx\n",
        "import pandas as pd\n",
        "import matplotlib.pyplot as plt\n",
        "from sklearn.linear_model import LogisticRegression\n",
        "from sklearn.metrics import (roc_auc_score, precision_recall_curve, auc)\n",
        "from sklearn.model_selection import train_test_split"
      ],
      "execution_count": 2,
      "outputs": [
        {
          "output_type": "stream",
          "name": "stderr",
          "text": [
            "\nBad key \"axes.color_cycle\" on line 214 in\n/home/kaltenburger/.matplotlib/matplotlibrc.\nYou probably need to get an updated matplotlibrc file from\nhttps://github.com/matplotlib/matplotlib/blob/v3.1.3/matplotlibrc.template\nor from the matplotlib source distribution\n"
          ]
        }
      ]
    },
    {
      "cell_type": "markdown",
      "metadata": {
        "originalKey": "0eb50079-caca-4391-bdb5-32bf6d7eaabc",
        "showInput": false,
        "customInput": null
      },
      "source": [
        "### read & set-up dataset\n",
        ""
      ]
    },
    {
      "cell_type": "code",
      "metadata": {
        "originalKey": "cbbd06f7-0013-49dd-9f93-bdf59145f8f5",
        "showInput": true,
        "customInput": null,
        "collapsed": false,
        "requestMsgId": "cbbd06f7-0013-49dd-9f93-bdf59145f8f5",
        "executionStartTime": 1680967226228,
        "executionStopTime": 1680967244959
      },
      "source": [
        "dataset = NodePropPredDataset(name='ogbn-proteins')\n",
        "g = dataset.graph # get edgelist and graph metadata\n",
        "y = dataset.labels # outcomes\n",
        "node_species_df = pd.DataFrame({'node_id':range(len(g['node_species'].flatten())), 'node_species': g['node_species'].flatten()})\n",
        "node_species_df.head()"
      ],
      "execution_count": 3,
      "outputs": [
        {
          "output_type": "execute_result",
          "data": {
            "text/plain": "   node_id  node_species\n0        0          3702\n1        1          3702\n2        2          3702\n3        3          3702\n4        4          3702",
            "text/html": "<div>\n<style scoped>\n    .dataframe tbody tr th:only-of-type {\n        vertical-align: middle;\n    }\n\n    .dataframe tbody tr th {\n        vertical-align: top;\n    }\n\n    .dataframe thead th {\n        text-align: right;\n    }\n</style>\n<table border=\"1\" class=\"dataframe\">\n  <thead>\n    <tr style=\"text-align: right;\">\n      <th></th>\n      <th>node_id</th>\n      <th>node_species</th>\n    </tr>\n  </thead>\n  <tbody>\n    <tr>\n      <th>0</th>\n      <td>0</td>\n      <td>3702</td>\n    </tr>\n    <tr>\n      <th>1</th>\n      <td>1</td>\n      <td>3702</td>\n    </tr>\n    <tr>\n      <th>2</th>\n      <td>2</td>\n      <td>3702</td>\n    </tr>\n    <tr>\n      <th>3</th>\n      <td>3</td>\n      <td>3702</td>\n    </tr>\n    <tr>\n      <th>4</th>\n      <td>4</td>\n      <td>3702</td>\n    </tr>\n  </tbody>\n</table>\n</div>",
            "application/vnd.dataresource+json": {
              "schema": {
                "fields": [
                  {
                    "name": "index",
                    "type": "integer"
                  },
                  {
                    "name": "node_id",
                    "type": "integer"
                  },
                  {
                    "name": "node_species",
                    "type": "integer"
                  }
                ],
                "primaryKey": [
                  "index"
                ],
                "pandas_version": "0.20.0"
              },
              "data": [
                {
                  "index": 0,
                  "node_id": 0,
                  "node_species": 3702
                },
                {
                  "index": 1,
                  "node_id": 1,
                  "node_species": 3702
                },
                {
                  "index": 2,
                  "node_id": 2,
                  "node_species": 3702
                },
                {
                  "index": 3,
                  "node_id": 3,
                  "node_species": 3702
                },
                {
                  "index": 4,
                  "node_id": 4,
                  "node_species": 3702
                }
              ]
            }
          },
          "metadata": {
            "bento_obj_id": "140623682521696"
          },
          "execution_count": 3
        }
      ]
    },
    {
      "cell_type": "code",
      "metadata": {
        "originalKey": "3e8a33a2-71cc-4dd1-a196-10272d35a39d",
        "showInput": true,
        "customInput": null,
        "collapsed": false,
        "requestMsgId": "3e8a33a2-71cc-4dd1-a196-10272d35a39d",
        "executionStartTime": 1680967244998,
        "executionStopTime": 1680967245125
      },
      "source": [
        "# create edgelist\n",
        "edge_list_df = pd.DataFrame(g[\"edge_index\"].T)\n",
        "edge_list_df.columns = ['src','dst']\n",
        "edge_list_df.head()"
      ],
      "execution_count": 4,
      "outputs": [
        {
          "output_type": "execute_result",
          "data": {
            "text/plain": "     src     dst\n0      1   96401\n1  96401       1\n2      1   68343\n3  68343       1\n4      1  125069",
            "text/html": "<div>\n<style scoped>\n    .dataframe tbody tr th:only-of-type {\n        vertical-align: middle;\n    }\n\n    .dataframe tbody tr th {\n        vertical-align: top;\n    }\n\n    .dataframe thead th {\n        text-align: right;\n    }\n</style>\n<table border=\"1\" class=\"dataframe\">\n  <thead>\n    <tr style=\"text-align: right;\">\n      <th></th>\n      <th>src</th>\n      <th>dst</th>\n    </tr>\n  </thead>\n  <tbody>\n    <tr>\n      <th>0</th>\n      <td>1</td>\n      <td>96401</td>\n    </tr>\n    <tr>\n      <th>1</th>\n      <td>96401</td>\n      <td>1</td>\n    </tr>\n    <tr>\n      <th>2</th>\n      <td>1</td>\n      <td>68343</td>\n    </tr>\n    <tr>\n      <th>3</th>\n      <td>68343</td>\n      <td>1</td>\n    </tr>\n    <tr>\n      <th>4</th>\n      <td>1</td>\n      <td>125069</td>\n    </tr>\n  </tbody>\n</table>\n</div>",
            "application/vnd.dataresource+json": {
              "schema": {
                "fields": [
                  {
                    "name": "index",
                    "type": "integer"
                  },
                  {
                    "name": "src",
                    "type": "integer"
                  },
                  {
                    "name": "dst",
                    "type": "integer"
                  }
                ],
                "primaryKey": [
                  "index"
                ],
                "pandas_version": "0.20.0"
              },
              "data": [
                {
                  "index": 0,
                  "src": 1,
                  "dst": 96401
                },
                {
                  "index": 1,
                  "src": 96401,
                  "dst": 1
                },
                {
                  "index": 2,
                  "src": 1,
                  "dst": 68343
                },
                {
                  "index": 3,
                  "src": 68343,
                  "dst": 1
                },
                {
                  "index": 4,
                  "src": 1,
                  "dst": 125069
                }
              ]
            }
          },
          "metadata": {
            "bento_obj_id": "140624834949760"
          },
          "execution_count": 4
        }
      ]
    },
    {
      "cell_type": "code",
      "metadata": {
        "originalKey": "fe379fba-b4fa-49b5-9dee-6ba24c4ba25e",
        "showInput": true,
        "customInput": null,
        "collapsed": false,
        "requestMsgId": "fe379fba-b4fa-49b5-9dee-6ba24c4ba25e",
        "executionStartTime": 1680967249367,
        "executionStopTime": 1680967299764
      },
      "source": [
        "# sanity check on inter-species connections\n",
        "edge_list_df_check = edge_list_df.merge(node_species_df, how = 'left', left_on = 'src', right_on = 'node_id')\n",
        "edge_list_df_check.drop('node_id', axis = 1, inplace=True)\n",
        "edge_list_df_check = edge_list_df_check.merge(node_species_df, how = 'left', left_on = 'dst', right_on = 'node_id')\n",
        "edge_list_df_check.drop('node_id', axis = 1, inplace=True)\n",
        "#edge_list_df_check.head()\n",
        "print(np.mean(edge_list_df_check['node_species_x']==edge_list_df_check['node_species_y']))\n",
        "print(np.mean(edge_list_df_check['node_species_x']!=edge_list_df_check['node_species_y']))"
      ],
      "execution_count": 5,
      "outputs": [
        {
          "output_type": "stream",
          "name": "stdout",
          "text": [
            "0.8059610954678583\n"
          ]
        },
        {
          "output_type": "stream",
          "name": "stdout",
          "text": [
            "0.1940389045321417\n"
          ]
        }
      ]
    },
    {
      "cell_type": "code",
      "metadata": {
        "originalKey": "f000616c-3596-4245-8732-7dd844351519",
        "showInput": true,
        "customInput": null,
        "collapsed": false,
        "requestMsgId": "f000616c-3596-4245-8732-7dd844351519",
        "executionStartTime": 1680967299919,
        "executionStopTime": 1680967299949
      },
      "source": [
        "y0 = pd.DataFrame(y)\n",
        "#y0 = y0.iloc[:,0:25] # part I\n",
        "#y0 = y0.iloc[:,25:50] # part II\n",
        "y0 = y0.iloc[:,50:112] # part II\n",
        "y0['node_id'] = range(len(y0[50]))\n",
        "    \n",
        "split_idx = dataset.get_idx_split()\n",
        "train_idx, valid_idx, test_idx = split_idx[\"train\"], split_idx[\"valid\"], split_idx[\"test\"]\n",
        "\n",
        "X_train = y0['node_id'].iloc[train_idx]\n",
        "y_train = y0.iloc[train_idx]\n",
        "\n",
        "X_valid = y0['node_id'].iloc[valid_idx]\n",
        "X_test = y0['node_id'].iloc[test_idx]\n",
        "y_valid = y0.iloc[valid_idx]\n",
        "y_test = y0.iloc[test_idx]\n",
        "\n",
        ""
      ],
      "execution_count": 6,
      "outputs": []
    },
    {
      "cell_type": "code",
      "metadata": {
        "originalKey": "3fcf7954-9653-4059-81be-39d81156b111",
        "showInput": true,
        "customInput": null,
        "collapsed": false,
        "requestMsgId": "3fcf7954-9653-4059-81be-39d81156b111",
        "executionStartTime": 1680967300095,
        "executionStopTime": 1680967449847
      },
      "source": [
        "edge_w = pd.DataFrame(g['edge_feat'])\n",
        "edge_w = edge_w.add_suffix('_weight')\n",
        "edge_list_df = pd.concat([edge_list_df, edge_w], axis=1)\n",
        "#edge_list_df.head()\n",
        "# w0 = edge_w[j]\n",
        "# edge_list_df['weight'] = w0\n",
        "# edge_list_df.head()\n",
        "# # merge in labels for training nodes on a user's connections\n",
        "relevant_edges_tmp = edge_list_df.merge(y_train, left_on = 'dst', right_on='node_id', how = 'left')\n",
        "relevant_edges_tmp.head()"
      ],
      "execution_count": 7,
      "outputs": [
        {
          "output_type": "execute_result",
          "data": {
            "text/plain": "     src     dst  0_weight  1_weight  2_weight  ...  108  109  110  111  node_id\n0      1   96401     0.501     0.001     0.001  ...  NaN  NaN  NaN  NaN      NaN\n1  96401       1     0.501     0.001     0.001  ...  0.0  0.0  0.0  0.0      1.0\n2      1   68343     0.501     0.001     0.001  ...  0.0  0.0  0.0  0.0  68343.0\n3  68343       1     0.501     0.001     0.001  ...  0.0  0.0  0.0  0.0      1.0\n4      1  125069     0.501     0.001     0.001  ...  NaN  NaN  NaN  NaN      NaN\n\n[5 rows x 73 columns]",
            "text/html": "<div>\n<style scoped>\n    .dataframe tbody tr th:only-of-type {\n        vertical-align: middle;\n    }\n\n    .dataframe tbody tr th {\n        vertical-align: top;\n    }\n\n    .dataframe thead th {\n        text-align: right;\n    }\n</style>\n<table border=\"1\" class=\"dataframe\">\n  <thead>\n    <tr style=\"text-align: right;\">\n      <th></th>\n      <th>src</th>\n      <th>dst</th>\n      <th>0_weight</th>\n      <th>1_weight</th>\n      <th>2_weight</th>\n      <th>3_weight</th>\n      <th>4_weight</th>\n      <th>5_weight</th>\n      <th>6_weight</th>\n      <th>7_weight</th>\n      <th>50</th>\n      <th>51</th>\n      <th>52</th>\n      <th>53</th>\n      <th>54</th>\n      <th>55</th>\n      <th>56</th>\n      <th>57</th>\n      <th>58</th>\n      <th>59</th>\n      <th>60</th>\n      <th>61</th>\n      <th>62</th>\n      <th>63</th>\n      <th>64</th>\n      <th>65</th>\n      <th>66</th>\n      <th>67</th>\n      <th>68</th>\n      <th>69</th>\n      <th>70</th>\n      <th>71</th>\n      <th>72</th>\n      <th>73</th>\n      <th>74</th>\n      <th>75</th>\n      <th>76</th>\n      <th>77</th>\n      <th>78</th>\n      <th>79</th>\n      <th>80</th>\n      <th>81</th>\n      <th>82</th>\n      <th>83</th>\n      <th>84</th>\n      <th>85</th>\n      <th>86</th>\n      <th>87</th>\n      <th>88</th>\n      <th>89</th>\n      <th>90</th>\n      <th>91</th>\n      <th>92</th>\n      <th>93</th>\n      <th>94</th>\n      <th>95</th>\n      <th>96</th>\n      <th>97</th>\n      <th>98</th>\n      <th>99</th>\n      <th>100</th>\n      <th>101</th>\n      <th>102</th>\n      <th>103</th>\n      <th>104</th>\n      <th>105</th>\n      <th>106</th>\n      <th>107</th>\n      <th>108</th>\n      <th>109</th>\n      <th>110</th>\n      <th>111</th>\n      <th>node_id</th>\n    </tr>\n  </thead>\n  <tbody>\n    <tr>\n      <th>0</th>\n      <td>1</td>\n      <td>96401</td>\n      <td>0.501</td>\n      <td>0.001</td>\n      <td>0.001</td>\n      <td>0.001</td>\n      <td>0.001</td>\n      <td>0.001</td>\n      <td>0.001</td>\n      <td>0.001</td>\n      <td>NaN</td>\n      <td>NaN</td>\n      <td>NaN</td>\n      <td>NaN</td>\n      <td>NaN</td>\n      <td>NaN</td>\n      <td>NaN</td>\n      <td>NaN</td>\n      <td>NaN</td>\n      <td>NaN</td>\n      <td>NaN</td>\n      <td>NaN</td>\n      <td>NaN</td>\n      <td>NaN</td>\n      <td>NaN</td>\n      <td>NaN</td>\n      <td>NaN</td>\n      <td>NaN</td>\n      <td>NaN</td>\n      <td>NaN</td>\n      <td>NaN</td>\n      <td>NaN</td>\n      <td>NaN</td>\n      <td>NaN</td>\n      <td>NaN</td>\n      <td>NaN</td>\n      <td>NaN</td>\n      <td>NaN</td>\n      <td>NaN</td>\n      <td>NaN</td>\n      <td>NaN</td>\n      <td>NaN</td>\n      <td>NaN</td>\n      <td>NaN</td>\n      <td>NaN</td>\n      <td>NaN</td>\n      <td>NaN</td>\n      <td>NaN</td>\n      <td>NaN</td>\n      <td>NaN</td>\n      <td>NaN</td>\n      <td>NaN</td>\n      <td>NaN</td>\n      <td>NaN</td>\n      <td>NaN</td>\n      <td>NaN</td>\n      <td>NaN</td>\n      <td>NaN</td>\n      <td>NaN</td>\n      <td>NaN</td>\n      <td>NaN</td>\n      <td>NaN</td>\n      <td>NaN</td>\n      <td>NaN</td>\n      <td>NaN</td>\n      <td>NaN</td>\n      <td>NaN</td>\n      <td>NaN</td>\n      <td>NaN</td>\n      <td>NaN</td>\n      <td>NaN</td>\n      <td>NaN</td>\n      <td>NaN</td>\n    </tr>\n    <tr>\n      <th>1</th>\n      <td>96401</td>\n      <td>1</td>\n      <td>0.501</td>\n      <td>0.001</td>\n      <td>0.001</td>\n      <td>0.001</td>\n      <td>0.001</td>\n      <td>0.001</td>\n      <td>0.001</td>\n      <td>0.001</td>\n      <td>0.0</td>\n      <td>0.0</td>\n      <td>0.0</td>\n      <td>1.0</td>\n      <td>1.0</td>\n      <td>1.0</td>\n      <td>0.0</td>\n      <td>1.0</td>\n      <td>0.0</td>\n      <td>0.0</td>\n      <td>0.0</td>\n      <td>0.0</td>\n      <td>0.0</td>\n      <td>0.0</td>\n      <td>0.0</td>\n      <td>0.0</td>\n      <td>1.0</td>\n      <td>1.0</td>\n      <td>0.0</td>\n      <td>0.0</td>\n      <td>0.0</td>\n      <td>0.0</td>\n      <td>0.0</td>\n      <td>0.0</td>\n      <td>0.0</td>\n      <td>1.0</td>\n      <td>0.0</td>\n      <td>0.0</td>\n      <td>0.0</td>\n      <td>0.0</td>\n      <td>0.0</td>\n      <td>0.0</td>\n      <td>0.0</td>\n      <td>0.0</td>\n      <td>0.0</td>\n      <td>0.0</td>\n      <td>0.0</td>\n      <td>0.0</td>\n      <td>0.0</td>\n      <td>0.0</td>\n      <td>0.0</td>\n      <td>0.0</td>\n      <td>0.0</td>\n      <td>0.0</td>\n      <td>0.0</td>\n      <td>0.0</td>\n      <td>0.0</td>\n      <td>0.0</td>\n      <td>0.0</td>\n      <td>0.0</td>\n      <td>0.0</td>\n      <td>0.0</td>\n      <td>0.0</td>\n      <td>0.0</td>\n      <td>0.0</td>\n      <td>0.0</td>\n      <td>0.0</td>\n      <td>0.0</td>\n      <td>0.0</td>\n      <td>0.0</td>\n      <td>0.0</td>\n      <td>0.0</td>\n      <td>1.0</td>\n    </tr>\n    <tr>\n      <th>2</th>\n      <td>1</td>\n      <td>68343</td>\n      <td>0.501</td>\n      <td>0.001</td>\n      <td>0.001</td>\n      <td>0.001</td>\n      <td>0.001</td>\n      <td>0.001</td>\n      <td>0.001</td>\n      <td>0.001</td>\n      <td>0.0</td>\n      <td>0.0</td>\n      <td>0.0</td>\n      <td>1.0</td>\n      <td>0.0</td>\n      <td>1.0</td>\n      <td>0.0</td>\n      <td>0.0</td>\n      <td>0.0</td>\n      <td>0.0</td>\n      <td>0.0</td>\n      <td>0.0</td>\n      <td>0.0</td>\n      <td>0.0</td>\n      <td>0.0</td>\n      <td>0.0</td>\n      <td>1.0</td>\n      <td>1.0</td>\n      <td>0.0</td>\n      <td>0.0</td>\n      <td>0.0</td>\n      <td>0.0</td>\n      <td>0.0</td>\n      <td>0.0</td>\n      <td>0.0</td>\n      <td>1.0</td>\n      <td>0.0</td>\n      <td>0.0</td>\n      <td>0.0</td>\n      <td>0.0</td>\n      <td>0.0</td>\n      <td>0.0</td>\n      <td>0.0</td>\n      <td>0.0</td>\n      <td>0.0</td>\n      <td>0.0</td>\n      <td>0.0</td>\n      <td>0.0</td>\n      <td>0.0</td>\n      <td>0.0</td>\n      <td>0.0</td>\n      <td>0.0</td>\n      <td>0.0</td>\n      <td>0.0</td>\n      <td>0.0</td>\n      <td>0.0</td>\n      <td>0.0</td>\n      <td>0.0</td>\n      <td>0.0</td>\n      <td>0.0</td>\n      <td>0.0</td>\n      <td>0.0</td>\n      <td>0.0</td>\n      <td>0.0</td>\n      <td>0.0</td>\n      <td>0.0</td>\n      <td>0.0</td>\n      <td>0.0</td>\n      <td>0.0</td>\n      <td>0.0</td>\n      <td>0.0</td>\n      <td>0.0</td>\n      <td>68343.0</td>\n    </tr>\n    <tr>\n      <th>3</th>\n      <td>68343</td>\n      <td>1</td>\n      <td>0.501</td>\n      <td>0.001</td>\n      <td>0.001</td>\n      <td>0.001</td>\n      <td>0.001</td>\n      <td>0.001</td>\n      <td>0.001</td>\n      <td>0.001</td>\n      <td>0.0</td>\n      <td>0.0</td>\n      <td>0.0</td>\n      <td>1.0</td>\n      <td>1.0</td>\n      <td>1.0</td>\n      <td>0.0</td>\n      <td>1.0</td>\n      <td>0.0</td>\n      <td>0.0</td>\n      <td>0.0</td>\n      <td>0.0</td>\n      <td>0.0</td>\n      <td>0.0</td>\n      <td>0.0</td>\n      <td>0.0</td>\n      <td>1.0</td>\n      <td>1.0</td>\n      <td>0.0</td>\n      <td>0.0</td>\n      <td>0.0</td>\n      <td>0.0</td>\n      <td>0.0</td>\n      <td>0.0</td>\n      <td>0.0</td>\n      <td>1.0</td>\n      <td>0.0</td>\n      <td>0.0</td>\n      <td>0.0</td>\n      <td>0.0</td>\n      <td>0.0</td>\n      <td>0.0</td>\n      <td>0.0</td>\n      <td>0.0</td>\n      <td>0.0</td>\n      <td>0.0</td>\n      <td>0.0</td>\n      <td>0.0</td>\n      <td>0.0</td>\n      <td>0.0</td>\n      <td>0.0</td>\n      <td>0.0</td>\n      <td>0.0</td>\n      <td>0.0</td>\n      <td>0.0</td>\n      <td>0.0</td>\n      <td>0.0</td>\n      <td>0.0</td>\n      <td>0.0</td>\n      <td>0.0</td>\n      <td>0.0</td>\n      <td>0.0</td>\n      <td>0.0</td>\n      <td>0.0</td>\n      <td>0.0</td>\n      <td>0.0</td>\n      <td>0.0</td>\n      <td>0.0</td>\n      <td>0.0</td>\n      <td>0.0</td>\n      <td>0.0</td>\n      <td>0.0</td>\n      <td>1.0</td>\n    </tr>\n    <tr>\n      <th>4</th>\n      <td>1</td>\n      <td>125069</td>\n      <td>0.501</td>\n      <td>0.001</td>\n      <td>0.001</td>\n      <td>0.001</td>\n      <td>0.001</td>\n      <td>0.001</td>\n      <td>0.001</td>\n      <td>0.001</td>\n      <td>NaN</td>\n      <td>NaN</td>\n      <td>NaN</td>\n      <td>NaN</td>\n      <td>NaN</td>\n      <td>NaN</td>\n      <td>NaN</td>\n      <td>NaN</td>\n      <td>NaN</td>\n      <td>NaN</td>\n      <td>NaN</td>\n      <td>NaN</td>\n      <td>NaN</td>\n      <td>NaN</td>\n      <td>NaN</td>\n      <td>NaN</td>\n      <td>NaN</td>\n      <td>NaN</td>\n      <td>NaN</td>\n      <td>NaN</td>\n      <td>NaN</td>\n      <td>NaN</td>\n      <td>NaN</td>\n      <td>NaN</td>\n      <td>NaN</td>\n      <td>NaN</td>\n      <td>NaN</td>\n      <td>NaN</td>\n      <td>NaN</td>\n      <td>NaN</td>\n      <td>NaN</td>\n      <td>NaN</td>\n      <td>NaN</td>\n      <td>NaN</td>\n      <td>NaN</td>\n      <td>NaN</td>\n      <td>NaN</td>\n      <td>NaN</td>\n      <td>NaN</td>\n      <td>NaN</td>\n      <td>NaN</td>\n      <td>NaN</td>\n      <td>NaN</td>\n      <td>NaN</td>\n      <td>NaN</td>\n      <td>NaN</td>\n      <td>NaN</td>\n      <td>NaN</td>\n      <td>NaN</td>\n      <td>NaN</td>\n      <td>NaN</td>\n      <td>NaN</td>\n      <td>NaN</td>\n      <td>NaN</td>\n      <td>NaN</td>\n      <td>NaN</td>\n      <td>NaN</td>\n      <td>NaN</td>\n      <td>NaN</td>\n      <td>NaN</td>\n      <td>NaN</td>\n      <td>NaN</td>\n      <td>NaN</td>\n    </tr>\n  </tbody>\n</table>\n</div>",
            "application/vnd.dataresource+json": {
              "schema": {
                "fields": [
                  {
                    "name": "index",
                    "type": "integer"
                  },
                  {
                    "name": "src",
                    "type": "integer"
                  },
                  {
                    "name": "dst",
                    "type": "integer"
                  },
                  {
                    "name": "0_weight",
                    "type": "number"
                  },
                  {
                    "name": "1_weight",
                    "type": "number"
                  },
                  {
                    "name": "2_weight",
                    "type": "number"
                  },
                  {
                    "name": "3_weight",
                    "type": "number"
                  },
                  {
                    "name": "4_weight",
                    "type": "number"
                  },
                  {
                    "name": "5_weight",
                    "type": "number"
                  },
                  {
                    "name": "6_weight",
                    "type": "number"
                  },
                  {
                    "name": "7_weight",
                    "type": "number"
                  },
                  {
                    "name": 50,
                    "type": "number"
                  },
                  {
                    "name": 51,
                    "type": "number"
                  },
                  {
                    "name": 52,
                    "type": "number"
                  },
                  {
                    "name": 53,
                    "type": "number"
                  },
                  {
                    "name": 54,
                    "type": "number"
                  },
                  {
                    "name": 55,
                    "type": "number"
                  },
                  {
                    "name": 56,
                    "type": "number"
                  },
                  {
                    "name": 57,
                    "type": "number"
                  },
                  {
                    "name": 58,
                    "type": "number"
                  },
                  {
                    "name": 59,
                    "type": "number"
                  },
                  {
                    "name": 60,
                    "type": "number"
                  },
                  {
                    "name": 61,
                    "type": "number"
                  },
                  {
                    "name": 62,
                    "type": "number"
                  },
                  {
                    "name": 63,
                    "type": "number"
                  },
                  {
                    "name": 64,
                    "type": "number"
                  },
                  {
                    "name": 65,
                    "type": "number"
                  },
                  {
                    "name": 66,
                    "type": "number"
                  },
                  {
                    "name": 67,
                    "type": "number"
                  },
                  {
                    "name": 68,
                    "type": "number"
                  },
                  {
                    "name": 69,
                    "type": "number"
                  },
                  {
                    "name": 70,
                    "type": "number"
                  },
                  {
                    "name": 71,
                    "type": "number"
                  },
                  {
                    "name": 72,
                    "type": "number"
                  },
                  {
                    "name": 73,
                    "type": "number"
                  },
                  {
                    "name": 74,
                    "type": "number"
                  },
                  {
                    "name": 75,
                    "type": "number"
                  },
                  {
                    "name": 76,
                    "type": "number"
                  },
                  {
                    "name": 77,
                    "type": "number"
                  },
                  {
                    "name": 78,
                    "type": "number"
                  },
                  {
                    "name": 79,
                    "type": "number"
                  },
                  {
                    "name": 80,
                    "type": "number"
                  },
                  {
                    "name": 81,
                    "type": "number"
                  },
                  {
                    "name": 82,
                    "type": "number"
                  },
                  {
                    "name": 83,
                    "type": "number"
                  },
                  {
                    "name": 84,
                    "type": "number"
                  },
                  {
                    "name": 85,
                    "type": "number"
                  },
                  {
                    "name": 86,
                    "type": "number"
                  },
                  {
                    "name": 87,
                    "type": "number"
                  },
                  {
                    "name": 88,
                    "type": "number"
                  },
                  {
                    "name": 89,
                    "type": "number"
                  },
                  {
                    "name": 90,
                    "type": "number"
                  },
                  {
                    "name": 91,
                    "type": "number"
                  },
                  {
                    "name": 92,
                    "type": "number"
                  },
                  {
                    "name": 93,
                    "type": "number"
                  },
                  {
                    "name": 94,
                    "type": "number"
                  },
                  {
                    "name": 95,
                    "type": "number"
                  },
                  {
                    "name": 96,
                    "type": "number"
                  },
                  {
                    "name": 97,
                    "type": "number"
                  },
                  {
                    "name": 98,
                    "type": "number"
                  },
                  {
                    "name": 99,
                    "type": "number"
                  },
                  {
                    "name": 100,
                    "type": "number"
                  },
                  {
                    "name": 101,
                    "type": "number"
                  },
                  {
                    "name": 102,
                    "type": "number"
                  },
                  {
                    "name": 103,
                    "type": "number"
                  },
                  {
                    "name": 104,
                    "type": "number"
                  },
                  {
                    "name": 105,
                    "type": "number"
                  },
                  {
                    "name": 106,
                    "type": "number"
                  },
                  {
                    "name": 107,
                    "type": "number"
                  },
                  {
                    "name": 108,
                    "type": "number"
                  },
                  {
                    "name": 109,
                    "type": "number"
                  },
                  {
                    "name": 110,
                    "type": "number"
                  },
                  {
                    "name": 111,
                    "type": "number"
                  },
                  {
                    "name": "node_id",
                    "type": "number"
                  }
                ],
                "primaryKey": [
                  "index"
                ],
                "pandas_version": "0.20.0"
              },
              "data": [
                {
                  "50": null,
                  "51": null,
                  "52": null,
                  "53": null,
                  "54": null,
                  "55": null,
                  "56": null,
                  "57": null,
                  "58": null,
                  "59": null,
                  "60": null,
                  "61": null,
                  "62": null,
                  "63": null,
                  "64": null,
                  "65": null,
                  "66": null,
                  "67": null,
                  "68": null,
                  "69": null,
                  "70": null,
                  "71": null,
                  "72": null,
                  "73": null,
                  "74": null,
                  "75": null,
                  "76": null,
                  "77": null,
                  "78": null,
                  "79": null,
                  "80": null,
                  "81": null,
                  "82": null,
                  "83": null,
                  "84": null,
                  "85": null,
                  "86": null,
                  "87": null,
                  "88": null,
                  "89": null,
                  "90": null,
                  "91": null,
                  "92": null,
                  "93": null,
                  "94": null,
                  "95": null,
                  "96": null,
                  "97": null,
                  "98": null,
                  "99": null,
                  "100": null,
                  "101": null,
                  "102": null,
                  "103": null,
                  "104": null,
                  "105": null,
                  "106": null,
                  "107": null,
                  "108": null,
                  "109": null,
                  "110": null,
                  "111": null,
                  "index": 0,
                  "src": 1,
                  "dst": 96401,
                  "0_weight": 0.5009999871,
                  "1_weight": 0.001,
                  "2_weight": 0.001,
                  "3_weight": 0.001,
                  "4_weight": 0.001,
                  "5_weight": 0.001,
                  "6_weight": 0.001,
                  "7_weight": 0.001,
                  "node_id": null
                },
                {
                  "50": 0,
                  "51": 0,
                  "52": 0,
                  "53": 1,
                  "54": 1,
                  "55": 1,
                  "56": 0,
                  "57": 1,
                  "58": 0,
                  "59": 0,
                  "60": 0,
                  "61": 0,
                  "62": 0,
                  "63": 0,
                  "64": 0,
                  "65": 0,
                  "66": 1,
                  "67": 1,
                  "68": 0,
                  "69": 0,
                  "70": 0,
                  "71": 0,
                  "72": 0,
                  "73": 0,
                  "74": 0,
                  "75": 1,
                  "76": 0,
                  "77": 0,
                  "78": 0,
                  "79": 0,
                  "80": 0,
                  "81": 0,
                  "82": 0,
                  "83": 0,
                  "84": 0,
                  "85": 0,
                  "86": 0,
                  "87": 0,
                  "88": 0,
                  "89": 0,
                  "90": 0,
                  "91": 0,
                  "92": 0,
                  "93": 0,
                  "94": 0,
                  "95": 0,
                  "96": 0,
                  "97": 0,
                  "98": 0,
                  "99": 0,
                  "100": 0,
                  "101": 0,
                  "102": 0,
                  "103": 0,
                  "104": 0,
                  "105": 0,
                  "106": 0,
                  "107": 0,
                  "108": 0,
                  "109": 0,
                  "110": 0,
                  "111": 0,
                  "index": 1,
                  "src": 96401,
                  "dst": 1,
                  "0_weight": 0.5009999871,
                  "1_weight": 0.001,
                  "2_weight": 0.001,
                  "3_weight": 0.001,
                  "4_weight": 0.001,
                  "5_weight": 0.001,
                  "6_weight": 0.001,
                  "7_weight": 0.001,
                  "node_id": 1
                },
                {
                  "50": 0,
                  "51": 0,
                  "52": 0,
                  "53": 1,
                  "54": 0,
                  "55": 1,
                  "56": 0,
                  "57": 0,
                  "58": 0,
                  "59": 0,
                  "60": 0,
                  "61": 0,
                  "62": 0,
                  "63": 0,
                  "64": 0,
                  "65": 0,
                  "66": 1,
                  "67": 1,
                  "68": 0,
                  "69": 0,
                  "70": 0,
                  "71": 0,
                  "72": 0,
                  "73": 0,
                  "74": 0,
                  "75": 1,
                  "76": 0,
                  "77": 0,
                  "78": 0,
                  "79": 0,
                  "80": 0,
                  "81": 0,
                  "82": 0,
                  "83": 0,
                  "84": 0,
                  "85": 0,
                  "86": 0,
                  "87": 0,
                  "88": 0,
                  "89": 0,
                  "90": 0,
                  "91": 0,
                  "92": 0,
                  "93": 0,
                  "94": 0,
                  "95": 0,
                  "96": 0,
                  "97": 0,
                  "98": 0,
                  "99": 0,
                  "100": 0,
                  "101": 0,
                  "102": 0,
                  "103": 0,
                  "104": 0,
                  "105": 0,
                  "106": 0,
                  "107": 0,
                  "108": 0,
                  "109": 0,
                  "110": 0,
                  "111": 0,
                  "index": 2,
                  "src": 1,
                  "dst": 68343,
                  "0_weight": 0.5009999871,
                  "1_weight": 0.001,
                  "2_weight": 0.001,
                  "3_weight": 0.001,
                  "4_weight": 0.001,
                  "5_weight": 0.001,
                  "6_weight": 0.001,
                  "7_weight": 0.001,
                  "node_id": 68343
                },
                {
                  "50": 0,
                  "51": 0,
                  "52": 0,
                  "53": 1,
                  "54": 1,
                  "55": 1,
                  "56": 0,
                  "57": 1,
                  "58": 0,
                  "59": 0,
                  "60": 0,
                  "61": 0,
                  "62": 0,
                  "63": 0,
                  "64": 0,
                  "65": 0,
                  "66": 1,
                  "67": 1,
                  "68": 0,
                  "69": 0,
                  "70": 0,
                  "71": 0,
                  "72": 0,
                  "73": 0,
                  "74": 0,
                  "75": 1,
                  "76": 0,
                  "77": 0,
                  "78": 0,
                  "79": 0,
                  "80": 0,
                  "81": 0,
                  "82": 0,
                  "83": 0,
                  "84": 0,
                  "85": 0,
                  "86": 0,
                  "87": 0,
                  "88": 0,
                  "89": 0,
                  "90": 0,
                  "91": 0,
                  "92": 0,
                  "93": 0,
                  "94": 0,
                  "95": 0,
                  "96": 0,
                  "97": 0,
                  "98": 0,
                  "99": 0,
                  "100": 0,
                  "101": 0,
                  "102": 0,
                  "103": 0,
                  "104": 0,
                  "105": 0,
                  "106": 0,
                  "107": 0,
                  "108": 0,
                  "109": 0,
                  "110": 0,
                  "111": 0,
                  "index": 3,
                  "src": 68343,
                  "dst": 1,
                  "0_weight": 0.5009999871,
                  "1_weight": 0.001,
                  "2_weight": 0.001,
                  "3_weight": 0.001,
                  "4_weight": 0.001,
                  "5_weight": 0.001,
                  "6_weight": 0.001,
                  "7_weight": 0.001,
                  "node_id": 1
                },
                {
                  "50": null,
                  "51": null,
                  "52": null,
                  "53": null,
                  "54": null,
                  "55": null,
                  "56": null,
                  "57": null,
                  "58": null,
                  "59": null,
                  "60": null,
                  "61": null,
                  "62": null,
                  "63": null,
                  "64": null,
                  "65": null,
                  "66": null,
                  "67": null,
                  "68": null,
                  "69": null,
                  "70": null,
                  "71": null,
                  "72": null,
                  "73": null,
                  "74": null,
                  "75": null,
                  "76": null,
                  "77": null,
                  "78": null,
                  "79": null,
                  "80": null,
                  "81": null,
                  "82": null,
                  "83": null,
                  "84": null,
                  "85": null,
                  "86": null,
                  "87": null,
                  "88": null,
                  "89": null,
                  "90": null,
                  "91": null,
                  "92": null,
                  "93": null,
                  "94": null,
                  "95": null,
                  "96": null,
                  "97": null,
                  "98": null,
                  "99": null,
                  "100": null,
                  "101": null,
                  "102": null,
                  "103": null,
                  "104": null,
                  "105": null,
                  "106": null,
                  "107": null,
                  "108": null,
                  "109": null,
                  "110": null,
                  "111": null,
                  "index": 4,
                  "src": 1,
                  "dst": 125069,
                  "0_weight": 0.5009999871,
                  "1_weight": 0.001,
                  "2_weight": 0.001,
                  "3_weight": 0.001,
                  "4_weight": 0.001,
                  "5_weight": 0.001,
                  "6_weight": 0.001,
                  "7_weight": 0.001,
                  "node_id": null
                }
              ]
            }
          },
          "metadata": {
            "bento_obj_id": "140624834540592"
          },
          "execution_count": 7
        }
      ]
    },
    {
      "cell_type": "code",
      "metadata": {
        "originalKey": "acd4e797-0043-4cce-9bda-0930843b8b01",
        "showInput": true,
        "customInput": null
      },
      "source": [
        ""
      ],
      "execution_count": null,
      "outputs": []
    },
    {
      "cell_type": "code",
      "metadata": {
        "originalKey": "49d8ce83-ce6d-44ab-aa5e-8f4c59abf461",
        "showInput": true,
        "customInput": null,
        "collapsed": false,
        "requestMsgId": "49d8ce83-ce6d-44ab-aa5e-8f4c59abf461",
        "executionStartTime": 1680877612444,
        "executionStopTime": 1680911757906,
        "customOutput": null
      },
      "source": [
        "from sklearn.ensemble import RandomForestClassifier\n",
        "\n",
        "# set-up loop\n",
        "rocauc_v0_ud_w = []\n",
        "#rocauc_v2_ud_w = []\n",
        "#rocauc_ud_uw = []\n",
        "\n",
        "baseline_prop = []\n",
        "\n",
        "#for i in range(0,25): # loop through outcomes\n",
        "#for i in range(25,50):\n",
        "for i in range(50,112):\n",
        "    print(i)\n",
        "#i = 0 # testing only right now\n",
        "\n",
        "    two_hop_v0_dict = {}\n",
        "    for j in range(8): # loop through edge weights\n",
        "        #print(j)\n",
        "\n",
        "        # edge weights\n",
        "        # edge_w = pd.DataFrame(g['edge_feat'])\n",
        "        # #w0 = np.mean(edge_w,1) # average edge weight\n",
        "        # w0 = edge_w[j]\n",
        "        # edge_list_df['weight'] = w0\n",
        "        # edge_list_df.head()\n",
        "        # # merge in labels for training nodes on a user's connections\n",
        "        # relevant_edges_tmp = edge_list_df.merge(y_train, left_on = 'dst', right_on='node_id', how = 'left')\n",
        "        relevant_edges = relevant_edges_tmp[[\"src\", \"dst\", str(j)+\"_weight\", \"node_id\", i]]\n",
        "        relevant_edges.columns = [\"src\", \"dst\", \"weight\", \"node_id\", \"y\"]\n",
        "        label1 = relevant_edges.groupby([\"src\"])[\"y\"].sum().reset_index()\n",
        "        labeltotal = relevant_edges.groupby([\"src\"])[\"y\"].count().reset_index()\n",
        "        relevant_edgelist = labeltotal.merge(label1, on=\"src\")\n",
        "        relevant_edgelist[\"label_0\"] = relevant_edgelist[\"y_x\"] - relevant_edgelist[\"y_y\"]\n",
        "        relevant_edgelist.rename(columns={\"y_y\": \"label_1\"}, inplace=True)\n",
        "        relevant_edgelist.drop([\"y_x\"], axis=1, inplace=True)\n",
        "\n",
        "        ## v0 - linear combination of single layers\n",
        "        normalizer = pd.DataFrame(y_train[i].value_counts(normalize=True, ascending=True))\n",
        "\n",
        "        # step 1 - one hop scores\n",
        "        step1_one_hop_scores = pd.DataFrame(\n",
        "            {\n",
        "                \"src\": relevant_edgelist.src,\n",
        "                \"frac\": np.log(\n",
        "                    (relevant_edgelist[\"label_1\"] + 1) / (relevant_edgelist[\"label_0\"] + 1)\n",
        "                )\n",
        "                * list((normalizer.iloc[0]) / (normalizer.iloc[1]))[0],\n",
        "            }\n",
        "        )\n",
        "\n",
        "        # step 2 - two hop scores\n",
        "        two_hop_stg = relevant_edges.merge(\n",
        "            step1_one_hop_scores, left_on=\"dst\", right_on=\"src\", how=\"inner\"\n",
        "        )\n",
        "\n",
        "        #print(np.shape(two_hop_stg))\n",
        "        interval = pd.DataFrame(\n",
        "            two_hop_stg.weight.quantile([0.25, 0.5, 0.75])\n",
        "        ).reset_index()\n",
        "        interval.columns = [\"interval\", \"weight\"]\n",
        "        #print(interval)\n",
        "        #print(np.unique(interval.weight))\n",
        "        if len(np.unique(interval.weight)) ==1:\n",
        "            interval = pd.DataFrame(\n",
        "                two_hop_stg.weight.quantile([0.5])\n",
        "            ).reset_index()\n",
        "            interval.columns = [\"interval\", \"weight\"]\n",
        "            \n",
        "            two_0 = (\n",
        "                two_hop_stg[two_hop_stg.weight <= interval.weight[0]]\n",
        "                .groupby([\"src_x\"])[\"frac\"]\n",
        "                .sum()\n",
        "                .reset_index()\n",
        "            )\n",
        "            \n",
        "            two_1 = (\n",
        "                two_hop_stg[(two_hop_stg.weight > interval.weight[0])]\n",
        "                .groupby([\"src_x\"])[\"frac\"]\n",
        "                .sum()\n",
        "                .reset_index()\n",
        "            )\n",
        "\n",
        "            two_hop_v0 = two_0.merge(two_1, how=\"outer\", on=\"src_x\").fillna(0)\n",
        "            two_hop_v0.columns = [\"src_x\", \"frac1_\"+str(j), \"frac2_\"+str(j), ]\n",
        "\n",
        "        if len(np.unique(interval.weight)) ==2:\n",
        "            interval = pd.DataFrame(\n",
        "                two_hop_stg.weight.quantile([0.25, 0.75])\n",
        "            ).reset_index()\n",
        "            interval.columns = [\"interval\", \"weight\"]\n",
        "            two_0 = (\n",
        "                two_hop_stg[two_hop_stg.weight <= interval.weight[0]]\n",
        "                .groupby([\"src_x\"])[\"frac\"]\n",
        "                .sum()\n",
        "                .reset_index()\n",
        "            )\n",
        "            two_1 = (\n",
        "                two_hop_stg[\n",
        "                    (two_hop_stg.weight > interval.weight[0])\n",
        "                    & (two_hop_stg.weight <= interval.weight[1])\n",
        "                ]\n",
        "                .groupby([\"src_x\"])[\"frac\"]\n",
        "                .sum()\n",
        "                .reset_index()\n",
        "            )\n",
        "            two_2 = (\n",
        "                two_hop_stg[\n",
        "                    (two_hop_stg.weight > interval.weight[1])\n",
        "                    \n",
        "                ]\n",
        "                .groupby([\"src_x\"])[\"frac\"]\n",
        "                .sum()\n",
        "                .reset_index()\n",
        "            )\n",
        "\n",
        "        else:\n",
        "            interval = pd.DataFrame(\n",
        "                two_hop_stg.weight.quantile([0.25, 0.5, 0.75])\n",
        "            ).reset_index()\n",
        "            interval.columns = [\"interval\", \"weight\"]\n",
        "\n",
        "            two_0 = (\n",
        "                two_hop_stg[two_hop_stg.weight <= interval.weight[0]]\n",
        "                .groupby([\"src_x\"])[\"frac\"]\n",
        "                .sum()\n",
        "                .reset_index()\n",
        "            )\n",
        "            two_1 = (\n",
        "                two_hop_stg[\n",
        "                    (two_hop_stg.weight > interval.weight[0])\n",
        "                    & (two_hop_stg.weight <= interval.weight[1])\n",
        "                ]\n",
        "                .groupby([\"src_x\"])[\"frac\"]\n",
        "                .sum()\n",
        "                .reset_index()\n",
        "            )\n",
        "            two_2 = (\n",
        "                two_hop_stg[\n",
        "                    (two_hop_stg.weight > interval.weight[1])\n",
        "                    & (two_hop_stg.weight <= interval.weight[2])\n",
        "                ]\n",
        "                .groupby([\"src_x\"])[\"frac\"]\n",
        "                .sum()\n",
        "                .reset_index()\n",
        "            )\n",
        "            two_3 = (\n",
        "                two_hop_stg[(two_hop_stg.weight > interval.weight[2])]\n",
        "                .groupby([\"src_x\"])[\"frac\"]\n",
        "                .sum()\n",
        "                .reset_index()\n",
        "            )\n",
        "\n",
        "            two_hop_v0 = two_0.merge(two_1, how=\"outer\", on=\"src_x\").fillna(0)\n",
        "            two_hop_v0 = two_hop_v0.merge(two_2, how=\"outer\", on=\"src_x\").fillna(0)\n",
        "            two_hop_v0 = two_hop_v0.merge(two_3, how=\"outer\", on=\"src_x\").fillna(0)\n",
        "            two_hop_v0.columns = [\"src_x\", \"frac1_\"+str(j), \"frac2_\"+str(j), \"frac3_\"+str(j), \"frac4_\"+str(j)]\n",
        "        # two_hop_v0_valid = two_hop_v0.merge(\n",
        "        #     y_valid, left_on=\"src_x\", right_on=\"node_id\", how=\"right\"\n",
        "        # )\n",
        "\n",
        "        two_hop_v0.head()\n",
        "        two_hop_v0_dict[j] = two_hop_v0\n",
        "\n",
        "    # rename columns -- do multiple joins\n",
        "    two_hop_v0_merge = two_hop_v0_dict[0].merge(two_hop_v0_dict[1], on = 'src_x', how = 'outer')\n",
        "    two_hop_v0_valid = two_hop_v0_merge.merge(\n",
        "            y_valid, left_on=\"src_x\", right_on=\"node_id\", how=\"right\"\n",
        "        )\n",
        "\n",
        "    two_hop_v0_merge = two_hop_v0_dict[0].merge(two_hop_v0_dict[1], on = 'src_x', how = 'outer')\n",
        "    for k in range(2,7):\n",
        "        #print(k)\n",
        "        two_hop_v0_merge = two_hop_v0_merge.merge(two_hop_v0_dict[k+1], on = 'src_x', how = 'outer')\n",
        "\n",
        "\n",
        "\n",
        "    two_hop_v0_valid = two_hop_v0_merge.merge(\n",
        "            y_valid, left_on=\"src_x\", right_on=\"node_id\", how=\"right\"\n",
        "        )\n",
        "    clf = LogisticRegression(random_state=0).fit(\n",
        "        two_hop_v0_valid[['frac1_0',   'frac2_0',   'frac3_0',   'frac4_0',\n",
        "            'frac1_1',   'frac2_1',   'frac3_1',   'frac4_1', 'frac1_3_x',\n",
        "        'frac2_3_x', 'frac3_3_x', 'frac4_3_x', 'frac1_3_y', 'frac2_3_y',\n",
        "        'frac3_3_y', 'frac4_3_y',   'frac1_3',   'frac2_3',   'frac3_3',\n",
        "            'frac4_3',   'frac1_6',   'frac2_6',   'frac3_6',   'frac4_6',\n",
        "            'frac1_7',   'frac2_7',   'frac3_7',   'frac4_7']], two_hop_v0_valid[i]\n",
        "    )\n",
        "\n",
        "\n",
        "    pred_v0 = y_test.merge(two_hop_v0_merge, right_on=\"src_x\", left_on=\"node_id\", how=\"left\")\n",
        "    print(\n",
        "        \"roc-auc, v1: \",\n",
        "        roc_auc_score(\n",
        "            pred_v0[i],\n",
        "            clf.predict_proba(pred_v0[['frac1_0',   'frac2_0',   'frac3_0',   'frac4_0',\n",
        "            'frac1_1',   'frac2_1',   'frac3_1',   'frac4_1', 'frac1_3_x',\n",
        "        'frac2_3_x', 'frac3_3_x', 'frac4_3_x', 'frac1_3_y', 'frac2_3_y',\n",
        "        'frac3_3_y', 'frac4_3_y',   'frac1_3',   'frac2_3',   'frac3_3',\n",
        "            'frac4_3',   'frac1_6',   'frac2_6',   'frac3_6',   'frac4_6',\n",
        "            'frac1_7',   'frac2_7',   'frac3_7',   'frac4_7']])[:,1]\n",
        "        ),\n",
        "    )\n",
        "\n",
        "\n",
        "    print('baseline, v1: ', np.mean(pred_v0[i]), len(pred_v0[i]))\n",
        "\n",
        "    rocauc_v0_ud_w.append(\n",
        "        roc_auc_score(\n",
        "            pred_v0[i],\n",
        "            clf.predict_proba(pred_v0[['frac1_0',   'frac2_0',   'frac3_0',   'frac4_0',\n",
        "            'frac1_1',   'frac2_1',   'frac3_1',   'frac4_1', 'frac1_3_x',\n",
        "        'frac2_3_x', 'frac3_3_x', 'frac4_3_x', 'frac1_3_y', 'frac2_3_y',\n",
        "        'frac3_3_y', 'frac4_3_y',   'frac1_3',   'frac2_3',   'frac3_3',\n",
        "            'frac4_3',   'frac1_6',   'frac2_6',   'frac3_6',   'frac4_6',\n",
        "            'frac1_7',   'frac2_7',   'frac3_7',   'frac4_7']])[:,1]\n",
        "        ),\n",
        "    )\n",
        "\n",
        "\n",
        "\n",
        "\n",
        "\n",
        "## v2 undirected, weighted\n",
        "# W = 4\n",
        "# interval = pd.DataFrame(relevant_edges.weight.quantile([0.25,0.5,0.75])).reset_index()\n",
        "# interval.columns = ['interval', 'weight']\n",
        "\n",
        "# relevant_edgelist_dict = {}\n",
        "# for w in range(W):\n",
        "#     if w == 0:\n",
        "#         idx = relevant_edges.weight<=interval.weight[0]\n",
        "#     if w == 1:\n",
        "#         idx = (relevant_edges.weight>interval.weight[0]) & (relevant_edges.weight<=interval.weight[1])\n",
        "#     if w == 2:\n",
        "#         idx = (relevant_edges.weight>interval.weight[1]) & (relevant_edges.weight<=interval.weight[2])\n",
        "#     if w == 3:\n",
        "#         idx = (relevant_edges.weight>interval.weight[2])\n",
        "\n",
        "#     label1 = relevant_edges.iloc[np.where(idx)[0]].groupby(['src'])['y'].sum().reset_index()\n",
        "#     labeltotal = relevant_edges.iloc[np.where(idx)[0]].groupby(['src'])['y'].count().reset_index()\n",
        "\n",
        "#     relevant_edgelist = labeltotal.merge(label1, on = 'src', how='outer').fillna(0)\n",
        "#     relevant_edgelist['label_0']  = relevant_edgelist['y_x'] - relevant_edgelist['y_y']\n",
        "#     relevant_edgelist.rename(columns = {'y_y':'label_1'}, inplace = True)\n",
        "#     relevant_edgelist.drop(['y_x'], axis=1,inplace = True)\n",
        "#     relevant_edgelist.columns = ['src', 'label_1_' + str(w),'label_0_' + str(w)]\n",
        "#     relevant_edgelist_dict[w]=relevant_edgelist\n",
        "\n",
        "# merged_edgelist = relevant_edgelist_dict[0].merge(relevant_edgelist_dict[1], on = 'src', how = 'outer')\n",
        "# merged_edgelist = merged_edgelist.merge(relevant_edgelist_dict[2], on = 'src', how = 'outer')\n",
        "# merged_edgelist = merged_edgelist.merge(relevant_edgelist_dict[3], on = 'src', how = 'outer').fillna(0)\n",
        "# normalizer = pd.DataFrame(y_train[i].value_counts(normalize=True, ascending=True))\n",
        "# step1_one_hop_scores = pd.DataFrame({'src':merged_edgelist.src, 'frac0':np.log((merged_edgelist['label_1_0']+1)/(merged_edgelist['label_0_0']+1)) * list((normalizer.iloc[0]) / (normalizer.iloc[1]))[0],\n",
        "# 'frac1':np.log((merged_edgelist['label_1_1']+1)/(merged_edgelist['label_0_1']+1)) * list((normalizer.iloc[0]/normalizer.iloc[1]))[0],\n",
        "# 'frac2':np.log((merged_edgelist['label_1_2']+1)/(merged_edgelist['label_0_2']+1)) * list((normalizer.iloc[0]/normalizer.iloc[1]))[0],\n",
        "# 'frac3':np.log((merged_edgelist['label_1_3']+1)/(merged_edgelist['label_0_3']+1)) * list((normalizer.iloc[0]/normalizer.iloc[1]))[0],\n",
        "\n",
        "# })\n",
        "# two_hop_stg1 = relevant_edges.merge(step1_one_hop_scores, left_on = 'dst', right_on='src', how = 'inner')\n",
        "\n",
        "# two_hop_v2 = two_hop_stg1.groupby(['src_x'])[('frac0','frac1','frac2','frac3')].sum().reset_index()\n",
        "# two_hop_v2_valid = two_hop_v2.merge(y_valid,left_on = 'src_x', right_on = 'node_id', how = 'right')\n",
        "# pred_v2 = y_test.merge(two_hop_v2, right_on=\"src_x\", left_on=\"node_id\", how=\"left\")\n",
        "# clf = LogisticRegression(random_state=0).fit(two_hop_v2_valid[['frac0', 'frac1', 'frac2', 'frac3']], two_hop_v2_valid[i])\n",
        "\n",
        "# print('roc-auc, v2: ',roc_auc_score(pred_v2[i], clf.predict_proba(pred_v2[[\"frac0\",\"frac1\", \"frac2\", \"frac3\"]])[:,1]))\n",
        "# precision, recall, thresholds = precision_recall_curve(pred_v2[i], clf.predict_proba(pred_v2[[\"frac0\",\"frac1\", \"frac2\", \"frac3\" ]])[:,1])\n",
        "# print('aucpr, v2: ',auc(recall, precision))\n",
        "# print('baseline, v2: ', np.mean(pred_v2[i]), len(pred_v2[i]))\n",
        "\n",
        "# aucpr_v2_ud_w.append(auc(recall, precision))\n",
        "# rocauc_v2_ud_w.append(roc_auc_score(pred_v2[i],clf.predict_proba(pred_v2[[\"frac0\",\"frac1\", \"frac2\", \"frac3\"]])[:,1])) \n",
        "\n",
        "# ## undirected, unweighted\n",
        "# two_hop = two_hop_stg.groupby([\"src_x\"])[\"frac\"].sum().reset_index()\n",
        "# two_hop.columns = [\"src\", \"frac\"]\n",
        "# two_hop_pred = two_hop.merge(X_test, left_on=\"src\", right_on=\"node_id\", how=\"right\")\n",
        "# pred = y_test.merge(\n",
        "#     two_hop_pred,\n",
        "#     on=\"node_id\",\n",
        "# )\n",
        "# print(\"roc-auc, ud/uw: \", roc_auc_score(pred[i], pred[\"frac\"]))\n",
        "# rocauc_ud_uw.append(roc_auc_score(pred[i], pred[\"frac\"]))\n",
        "# precision, recall, thresholds = precision_recall_curve(pred[i], pred[\"frac\"])\n",
        "# print(\"aucpr, ud/uw: \", auc(recall, precision))\n",
        "# print('baseline, ud/uw: ', np.mean(pred[i]), len(pred[i]))\n",
        "\n",
        "# aucpr_ud_uw.append(auc(recall, precision))\n",
        "# baseline_prop.append(np.mean(pred[i]))\n",
        "# print(\"************************************************************************\")"
      ],
      "execution_count": 8,
      "outputs": [
        {
          "output_type": "stream",
          "name": "stdout",
          "text": [
            "50\n"
          ]
        },
        {
          "output_type": "stream",
          "name": "stdout",
          "text": [
            "roc-auc, v1:  0.6752492300316326\nbaseline, v1:  0.014060537298918109 24679\n51\n"
          ]
        },
        {
          "output_type": "stream",
          "name": "stdout",
          "text": [
            "roc-auc, v1:  0.714391398402834\nbaseline, v1:  0.024757891324607966 24679\n52\n"
          ]
        },
        {
          "output_type": "stream",
          "name": "stdout",
          "text": [
            "roc-auc, v1:  0.6937062947861592\nbaseline, v1:  0.015114064589326959 24679\n53\n"
          ]
        },
        {
          "output_type": "stream",
          "name": "stdout",
          "text": [
            "roc-auc, v1:  0.7603069887674996\nbaseline, v1:  0.013007010008509259 24679\n54\n"
          ]
        },
        {
          "output_type": "stream",
          "name": "stdout",
          "text": [
            "roc-auc, v1:  0.6160532455548207\nbaseline, v1:  0.02978240609425017 24679\n55\n"
          ]
        },
        {
          "output_type": "stream",
          "name": "stdout",
          "text": [
            "roc-auc, v1:  0.6851896560361321\nbaseline, v1:  0.019044531788159975 24679\n56\n"
          ]
        },
        {
          "output_type": "stream",
          "name": "stdout",
          "text": [
            "roc-auc, v1:  0.5896926206190259\nbaseline, v1:  0.02074638356497427 24679\n57\n"
          ]
        },
        {
          "output_type": "stream",
          "name": "stdout",
          "text": [
            "roc-auc, v1:  0.6737348931398828\nbaseline, v1:  0.010575793184488837 24679\n58\n"
          ]
        },
        {
          "output_type": "stream",
          "name": "stdout",
          "text": [
            "roc-auc, v1:  0.7947009706891633\nbaseline, v1:  0.01308805056930994 24679\n59\n"
          ]
        },
        {
          "output_type": "stream",
          "name": "stdout",
          "text": [
            "roc-auc, v1:  0.6734985486186073\nbaseline, v1:  0.01308805056930994 24679\n60\n"
          ]
        },
        {
          "output_type": "stream",
          "name": "stdout",
          "text": [
            "roc-auc, v1:  0.7005880839472183\nbaseline, v1:  0.020948984966975972 24679\n61\n"
          ]
        },
        {
          "output_type": "stream",
          "name": "stdout",
          "text": [
            "roc-auc, v1:  0.7919030253141864\nbaseline, v1:  0.0130475302889096 24679\n62\n"
          ]
        },
        {
          "output_type": "stream",
          "name": "stdout",
          "text": [
            "roc-auc, v1:  0.6505630099963255\nbaseline, v1:  0.020017018517768142 24679\n63\n"
          ]
        },
        {
          "output_type": "stream",
          "name": "stdout",
          "text": [
            "roc-auc, v1:  0.7258312068928998\nbaseline, v1:  0.014951983467725596 24679\n64\n"
          ]
        },
        {
          "output_type": "stream",
          "name": "stdout",
          "text": [
            "roc-auc, v1:  0.7103574963183449\nbaseline, v1:  0.020179099639369504 24679\n65\n"
          ]
        },
        {
          "output_type": "stream",
          "name": "stdout",
          "text": [
            "roc-auc, v1:  0.706276915934035\nbaseline, v1:  0.020300660480570526 24679\n66\n"
          ]
        },
        {
          "output_type": "stream",
          "name": "stdout",
          "text": [
            "roc-auc, v1:  0.696072234563116\nbaseline, v1:  0.016977997487742615 24679\n67\n"
          ]
        },
        {
          "output_type": "stream",
          "name": "stdout",
          "text": [
            "roc-auc, v1:  0.696072234563116\nbaseline, v1:  0.016977997487742615 24679\n68\n"
          ]
        },
        {
          "output_type": "stream",
          "name": "stdout",
          "text": [
            "roc-auc, v1:  0.641735183423632\nbaseline, v1:  0.020260140200170185 24679\n69\n"
          ]
        },
        {
          "output_type": "stream",
          "name": "stdout",
          "text": [
            "roc-auc, v1:  0.7145010518181719\nbaseline, v1:  0.01973337655496576 24679\n70\n"
          ]
        },
        {
          "output_type": "stream",
          "name": "stdout",
          "text": [
            "roc-auc, v1:  0.7004337869789437\nbaseline, v1:  0.010697354025689857 24679\n71\n"
          ]
        },
        {
          "output_type": "stream",
          "name": "stdout",
          "text": [
            "roc-auc, v1:  0.8304529070732489\nbaseline, v1:  0.011588800194497345 24679\n72\n"
          ]
        },
        {
          "output_type": "stream",
          "name": "stdout",
          "text": [
            "roc-auc, v1:  0.6391982168619166\nbaseline, v1:  0.0199764982373678 24679\n73\n"
          ]
        },
        {
          "output_type": "stream",
          "name": "stdout",
          "text": [
            "roc-auc, v1:  0.8326036389127872\nbaseline, v1:  0.0109404757080919 24679\n74\n"
          ]
        },
        {
          "output_type": "stream",
          "name": "stdout",
          "text": [
            "roc-auc, v1:  0.6485266869748182\nbaseline, v1:  0.011102556829693262 24679\n75\n"
          ]
        },
        {
          "output_type": "stream",
          "name": "stdout",
          "text": [
            "roc-auc, v1:  0.7375690572342257\nbaseline, v1:  0.011669840755298026 24679\n76\n"
          ]
        },
        {
          "output_type": "stream",
          "name": "stdout",
          "text": [
            "roc-auc, v1:  0.7184935774508073\nbaseline, v1:  0.015073544308926618 24679\n77\n"
          ]
        },
        {
          "output_type": "stream",
          "name": "stdout",
          "text": [
            "roc-auc, v1:  0.8488961355914786\nbaseline, v1:  0.010332671502086794 24679\n78\n"
          ]
        },
        {
          "output_type": "stream",
          "name": "stdout",
          "text": [
            "roc-auc, v1:  0.8490894009461181\nbaseline, v1:  0.010251630941286114 24679\n79\n"
          ]
        },
        {
          "output_type": "stream",
          "name": "stdout",
          "text": [
            "roc-auc, v1:  0.6924151468062485\nbaseline, v1:  0.009117063090076583 24679\n80\n"
          ]
        },
        {
          "output_type": "stream",
          "name": "stdout",
          "text": [
            "roc-auc, v1:  0.6546073782374038\nbaseline, v1:  0.013979496738117428 24679\n81\n"
          ]
        },
        {
          "output_type": "stream",
          "name": "stdout",
          "text": [
            "roc-auc, v1:  0.8564252695741166\nbaseline, v1:  0.010008509258884071 24679\n82\n"
          ]
        },
        {
          "output_type": "stream",
          "name": "stdout",
          "text": [
            "roc-auc, v1:  0.8210921533196154\nbaseline, v1:  0.009522265894079987 24679\n83\n"
          ]
        },
        {
          "output_type": "stream",
          "name": "stdout",
          "text": [
            "roc-auc, v1:  0.736897736203896\nbaseline, v1:  0.017140078609343978 24679\n84\n"
          ]
        },
        {
          "output_type": "stream",
          "name": "stdout",
          "text": [
            "roc-auc, v1:  0.737910984235384\nbaseline, v1:  0.017059038048543296 24679\n85\n"
          ]
        },
        {
          "output_type": "stream",
          "name": "stdout",
          "text": [
            "roc-auc, v1:  0.8266343546378301\nbaseline, v1:  0.009441225333279306 24679\n86\n"
          ]
        },
        {
          "output_type": "stream",
          "name": "stdout",
          "text": [
            "roc-auc, v1:  0.73770388748507\nbaseline, v1:  0.017059038048543296 24679\n87\n"
          ]
        },
        {
          "output_type": "stream",
          "name": "stdout",
          "text": [
            "roc-auc, v1:  0.8318654725136615\nbaseline, v1:  0.008671340005672839 24679\n88\n"
          ]
        },
        {
          "output_type": "stream",
          "name": "stdout",
          "text": [
            "roc-auc, v1:  0.6888138123664451\nbaseline, v1:  0.008590299444872159 24679\n89\n"
          ]
        },
        {
          "output_type": "stream",
          "name": "stdout",
          "text": [
            "roc-auc, v1:  0.6974907018612395\nbaseline, v1:  0.0086308197252725 24679\n90\n"
          ]
        },
        {
          "output_type": "stream",
          "name": "stdout",
          "text": [
            "roc-auc, v1:  0.6601255065700602\nbaseline, v1:  0.010130070100085093 24679\n91\n"
          ]
        },
        {
          "output_type": "stream",
          "name": "stdout",
          "text": [
            "roc-auc, v1:  0.6622801063069772\nbaseline, v1:  0.00996798897848373 24679\n92\n"
          ]
        },
        {
          "output_type": "stream",
          "name": "stdout",
          "text": [
            "roc-auc, v1:  0.6938530291318137\nbaseline, v1:  0.008185096640868755 24679\n93\n"
          ]
        },
        {
          "output_type": "stream",
          "name": "stdout",
          "text": [
            "roc-auc, v1:  0.7722815030628174\nbaseline, v1:  0.008225616921269096 24679\n94\n"
          ]
        },
        {
          "output_type": "stream",
          "name": "stdout",
          "text": [
            "roc-auc, v1:  0.6667514310470714\nbaseline, v1:  0.02317760038899469 24679\n95\n"
          ]
        },
        {
          "output_type": "stream",
          "name": "stdout",
          "text": [
            "roc-auc, v1:  0.6614013143057937\nbaseline, v1:  0.009481745613679647 24679\n96\n"
          ]
        },
        {
          "output_type": "stream",
          "name": "stdout",
          "text": [
            "roc-auc, v1:  0.7092762153872351\nbaseline, v1:  0.008833421127274201 24679\n97\n"
          ]
        },
        {
          "output_type": "stream",
          "name": "stdout",
          "text": [
            "roc-auc, v1:  0.6288414424253757\nbaseline, v1:  0.009360184772478625 24679\n98\n"
          ]
        },
        {
          "output_type": "stream",
          "name": "stdout",
          "text": [
            "roc-auc, v1:  0.6893198341645136\nbaseline, v1:  0.008266137201669436 24679\n99\n"
          ]
        },
        {
          "output_type": "stream",
          "name": "stdout",
          "text": [
            "roc-auc, v1:  0.65096013223453\nbaseline, v1:  0.011953482718100409 24679\n100\n"
          ]
        },
        {
          "output_type": "stream",
          "name": "stdout",
          "text": [
            "roc-auc, v1:  0.6485640429872646\nbaseline, v1:  0.016856436646541594 24679\n101\n"
          ]
        },
        {
          "output_type": "stream",
          "name": "stdout",
          "text": [
            "roc-auc, v1:  0.794394329657423\nbaseline, v1:  0.008914461688074882 24679\n102\n"
          ]
        },
        {
          "output_type": "stream",
          "name": "stdout",
          "text": [
            "roc-auc, v1:  0.7145954759711785\nbaseline, v1:  0.008185096640868755 24679\n103\n"
          ]
        },
        {
          "output_type": "stream",
          "name": "stdout",
          "text": [
            "roc-auc, v1:  0.7002323299084701\nbaseline, v1:  0.008266137201669436 24679\n104\n"
          ]
        },
        {
          "output_type": "stream",
          "name": "stdout",
          "text": [
            "roc-auc, v1:  0.6881713949975201\nbaseline, v1:  0.014668341504923214 24679\n105\n"
          ]
        },
        {
          "output_type": "stream",
          "name": "stdout",
          "text": [
            "roc-auc, v1:  0.6979829553674906\nbaseline, v1:  0.01089995542769156 24679\n106\n"
          ]
        },
        {
          "output_type": "stream",
          "name": "stdout",
          "text": [
            "roc-auc, v1:  0.7687716430430387\nbaseline, v1:  0.008468738603671137 24679\n107\n"
          ]
        },
        {
          "output_type": "stream",
          "name": "stdout",
          "text": [
            "roc-auc, v1:  0.6645777686459832\nbaseline, v1:  0.013938976457717087 24679\n108\n"
          ]
        },
        {
          "output_type": "stream",
          "name": "stdout",
          "text": [
            "roc-auc, v1:  0.718259199511065\nbaseline, v1:  0.008387698042870456 24679\n109\n"
          ]
        },
        {
          "output_type": "stream",
          "name": "stdout",
          "text": [
            "roc-auc, v1:  0.6825983139830228\nbaseline, v1:  0.012277644961303132 24679\n110\n"
          ]
        },
        {
          "output_type": "stream",
          "name": "stdout",
          "text": [
            "roc-auc, v1:  0.6979073661107844\nbaseline, v1:  0.009400705052878966 24679\n111\n"
          ]
        },
        {
          "output_type": "stream",
          "name": "stdout",
          "text": [
            "roc-auc, v1:  0.7065668712083706\nbaseline, v1:  0.00875238056647352 24679\n"
          ]
        }
      ]
    },
    {
      "cell_type": "code",
      "metadata": {
        "originalKey": "8b4a9e9c-e7dc-40f1-8b6f-171a91dc208d",
        "showInput": true,
        "customInput": null
      },
      "source": [
        ""
      ],
      "execution_count": null,
      "outputs": []
    },
    {
      "cell_type": "code",
      "metadata": {
        "originalKey": "f1f25ec7-3a80-4508-9f30-bafc9e0de75f",
        "showInput": true,
        "customInput": null
      },
      "source": [
        ""
      ],
      "execution_count": null,
      "outputs": []
    },
    {
      "cell_type": "code",
      "metadata": {
        "originalKey": "2409e55c-fef3-4e0e-a08a-6c66951da828",
        "showInput": true,
        "customInput": null,
        "collapsed": false,
        "requestMsgId": "2409e55c-fef3-4e0e-a08a-6c66951da828",
        "executionStartTime": 1680911757950,
        "executionStopTime": 1680911757989
      },
      "source": [
        "print(np.mean(rocauc_v0_ud_w))\n",
        ""
      ],
      "execution_count": 9,
      "outputs": [
        {
          "output_type": "stream",
          "name": "stdout",
          "text": [
            "0.7141170451727397\n"
          ]
        }
      ]
    },
    {
      "cell_type": "code",
      "metadata": {
        "originalKey": "d29e2b9c-ca1c-4ba7-8284-e9a63d3ffef1",
        "showInput": true,
        "customInput": null,
        "collapsed": false,
        "requestMsgId": "d29e2b9c-ca1c-4ba7-8284-e9a63d3ffef1",
        "executionStartTime": 1680911758038,
        "executionStopTime": 1680911758062
      },
      "source": [
        "# with open('rocauc_v0_ud_w_part1_multilayer.npy', 'wb') as f:\n",
        "# with open('rocauc_v0_ud_w_part2_multilayer.npy', 'wb') as f:\n",
        "with open(\"rocauc_v0_ud_w_part3_multilayer.npy\", \"wb\") as f:\n",
        "    np.save(f, rocauc_v0_ud_w)"
      ],
      "execution_count": 10,
      "outputs": []
    },
    {
      "cell_type": "code",
      "metadata": {
        "originalKey": "c69cc570-2fa4-4b13-b69d-0ee02b38ca75",
        "showInput": true,
        "customInput": null
      },
      "source": [
        ""
      ],
      "execution_count": null,
      "outputs": []
    },
    {
      "cell_type": "code",
      "metadata": {
        "originalKey": "371df966-b2f0-4d0b-bd05-4ae363f499aa",
        "showInput": true,
        "customInput": null,
        "collapsed": false,
        "requestMsgId": "371df966-b2f0-4d0b-bd05-4ae363f499aa",
        "executionStartTime": 1680625683366,
        "executionStopTime": 1680625683374
      },
      "source": [
        ""
      ],
      "execution_count": 149,
      "outputs": []
    }
  ]
}
