{
  "metadata": {
    "dataExplorerConfig": {},
    "bento_stylesheets": {
      "bento/extensions/flow/main.css": true,
      "bento/extensions/kernel_selector/main.css": true,
      "bento/extensions/kernel_ui/main.css": true,
      "bento/extensions/new_kernel/main.css": true,
      "bento/extensions/system_usage/main.css": true,
      "bento/extensions/theme/main.css": true
    },
    "kernelspec": {
      "display_name": "pytorch",
      "language": "python",
      "name": "bento_kernel_pytorch",
      "cinder_runtime": false,
      "ipyflow_runtime": false,
      "metadata": {
        "kernel_name": "bento_kernel_pytorch",
        "nightly_builds": true,
        "fbpkg_supported": true,
        "cinder_runtime": false,
        "ipyflow_runtime": false,
        "is_prebuilt": true
      }
    },
    "language_info": {
      "codemirror_mode": {
        "name": "ipython",
        "version": 3
      },
      "file_extension": ".py",
      "mimetype": "text/x-python",
      "name": "python",
      "nbconvert_exporter": "python",
      "pygments_lexer": "ipython3"
    },
    "last_server_session_id": "48880eef-5f06-434a-8d78-dfc0aa306ab7",
    "last_kernel_id": "477a9009-ae12-4652-b8b1-28e4de3a8610",
    "last_base_url": "https://devvm1422.ash0.facebook.com:8090/",
    "last_msg_id": "2d85ecfe-0d47df0d484ebd67f1ea7b28_98",
    "outputWidgetContext": {}
  },
  "nbformat": 4,
  "nbformat_minor": 2,
  "cells": [
    {
      "cell_type": "code",
      "metadata": {
        "collapsed": false,
        "originalKey": "b17652f4-25c3-4f7d-8d54-22bbced7a95e",
        "requestMsgId": "79d68e77-bcd4-4d0b-8cc4-98a964772a4b",
        "executionStartTime": 1683935090793,
        "executionStopTime": 1683935093666
      },
      "source": [
        "# 4/8/23\n",
        "# KM Altenburger\n",
        "\n",
        "# steps for downloading repo internally; run w/ \"grasp_workflows kernel\"\n",
        "# sudo feature install ttls_fwdproxy\n",
        "# mgt import --src-type pypi sdist\n",
        "# mgt import --src-type pypi nvidia-cublas-cu11==11.10.3.66\n",
        "# mgt import --src-type pypi ogb\n",
        "\n",
        "import sys\n",
        "sys.path.insert(0, \"/home/kaltenburger/fbsource/ogb\")\n",
        "import ogb\n",
        "import torch\n",
        "#import torch_geometric\n",
        "from ogb.nodeproppred import NodePropPredDataset\n",
        "import numpy as np\n",
        "import networkx as nx\n",
        "import pandas as pd\n",
        "import matplotlib.pyplot as plt\n",
        "from sklearn.linear_model import LogisticRegression\n",
        "from sklearn.metrics import (roc_auc_score, precision_recall_curve, auc)\n",
        "from sklearn.model_selection import train_test_split"
      ],
      "execution_count": 1,
      "outputs": [
        {
          "output_type": "stream",
          "name": "stderr",
          "text": [
            "I0512 164450.756 _utils_internal.py:199] NCCL_DEBUG env var is set to None\n"
          ]
        },
        {
          "output_type": "stream",
          "name": "stderr",
          "text": [
            "I0512 164450.757 _utils_internal.py:217] NCCL_DEBUG is forced to WARN from None\n"
          ]
        },
        {
          "output_type": "stream",
          "name": "stderr",
          "text": [
            "\nBad key \"axes.color_cycle\" on line 214 in\n/home/kaltenburger/.matplotlib/matplotlibrc.\nYou probably need to get an updated matplotlibrc file from\nhttps://github.com/matplotlib/matplotlib/blob/v3.1.3/matplotlibrc.template\nor from the matplotlib source distribution\n"
          ]
        }
      ]
    },
    {
      "cell_type": "markdown",
      "metadata": {
        "originalKey": "0eb50079-caca-4391-bdb5-32bf6d7eaabc",
        "showInput": false,
        "customInput": null
      },
      "source": [
        "### read & set-up dataset\n",
        ""
      ]
    },
    {
      "cell_type": "code",
      "metadata": {
        "originalKey": "4981b443-103a-4d9f-8bb5-e48bb2b46c3b",
        "showInput": true,
        "customInput": null,
        "collapsed": false,
        "requestMsgId": "390e4b7a-fcf6-423e-a9ee-8fdace2b816e",
        "executionStartTime": 1683935093760,
        "executionStopTime": 1683935109261
      },
      "source": [
        "dataset = NodePropPredDataset(name='ogbn-proteins')\n",
        "g = dataset.graph # get edgelist and graph metadata\n",
        "y = dataset.labels # outcomes\n",
        "node_species_df = pd.DataFrame({'node_id':range(len(g['node_species'].flatten())), 'node_species': g['node_species'].flatten()})\n",
        "node_species_df.head()"
      ],
      "execution_count": 2,
      "outputs": [
        {
          "output_type": "execute_result",
          "data": {
            "text/plain": "   node_id  node_species\n0        0          3702\n1        1          3702\n2        2          3702\n3        3          3702\n4        4          3702",
            "text/html": "<div>\n<style scoped>\n    .dataframe tbody tr th:only-of-type {\n        vertical-align: middle;\n    }\n\n    .dataframe tbody tr th {\n        vertical-align: top;\n    }\n\n    .dataframe thead th {\n        text-align: right;\n    }\n</style>\n<table border=\"1\" class=\"dataframe\">\n  <thead>\n    <tr style=\"text-align: right;\">\n      <th></th>\n      <th>node_id</th>\n      <th>node_species</th>\n    </tr>\n  </thead>\n  <tbody>\n    <tr>\n      <th>0</th>\n      <td>0</td>\n      <td>3702</td>\n    </tr>\n    <tr>\n      <th>1</th>\n      <td>1</td>\n      <td>3702</td>\n    </tr>\n    <tr>\n      <th>2</th>\n      <td>2</td>\n      <td>3702</td>\n    </tr>\n    <tr>\n      <th>3</th>\n      <td>3</td>\n      <td>3702</td>\n    </tr>\n    <tr>\n      <th>4</th>\n      <td>4</td>\n      <td>3702</td>\n    </tr>\n  </tbody>\n</table>\n</div>",
            "application/vnd.dataresource+json": {
              "schema": {
                "fields": [
                  {
                    "name": "index",
                    "type": "integer"
                  },
                  {
                    "name": "node_id",
                    "type": "integer"
                  },
                  {
                    "name": "node_species",
                    "type": "integer"
                  }
                ],
                "primaryKey": [
                  "index"
                ],
                "pandas_version": "0.20.0"
              },
              "data": [
                {
                  "index": 0,
                  "node_id": 0,
                  "node_species": 3702
                },
                {
                  "index": 1,
                  "node_id": 1,
                  "node_species": 3702
                },
                {
                  "index": 2,
                  "node_id": 2,
                  "node_species": 3702
                },
                {
                  "index": 3,
                  "node_id": 3,
                  "node_species": 3702
                },
                {
                  "index": 4,
                  "node_id": 4,
                  "node_species": 3702
                }
              ]
            }
          },
          "metadata": {
            "bento_obj_id": "140552562912272"
          },
          "execution_count": 2
        }
      ]
    },
    {
      "cell_type": "code",
      "metadata": {
        "originalKey": "a8b17304-1607-4fb2-b937-11e06e629011",
        "showInput": true,
        "customInput": null,
        "collapsed": false,
        "requestMsgId": "086fb657-0588-4558-9b3d-e73b3451b67f",
        "executionStartTime": 1683935109283,
        "executionStopTime": 1683935109309
      },
      "source": [
        "# create edgelist\n",
        "edge_list_df = pd.DataFrame(g[\"edge_index\"].T)\n",
        "edge_list_df.columns = ['src','dst']\n",
        "edge_list_df.head()"
      ],
      "execution_count": 3,
      "outputs": [
        {
          "output_type": "execute_result",
          "data": {
            "text/plain": "     src     dst\n0      1   96401\n1  96401       1\n2      1   68343\n3  68343       1\n4      1  125069",
            "text/html": "<div>\n<style scoped>\n    .dataframe tbody tr th:only-of-type {\n        vertical-align: middle;\n    }\n\n    .dataframe tbody tr th {\n        vertical-align: top;\n    }\n\n    .dataframe thead th {\n        text-align: right;\n    }\n</style>\n<table border=\"1\" class=\"dataframe\">\n  <thead>\n    <tr style=\"text-align: right;\">\n      <th></th>\n      <th>src</th>\n      <th>dst</th>\n    </tr>\n  </thead>\n  <tbody>\n    <tr>\n      <th>0</th>\n      <td>1</td>\n      <td>96401</td>\n    </tr>\n    <tr>\n      <th>1</th>\n      <td>96401</td>\n      <td>1</td>\n    </tr>\n    <tr>\n      <th>2</th>\n      <td>1</td>\n      <td>68343</td>\n    </tr>\n    <tr>\n      <th>3</th>\n      <td>68343</td>\n      <td>1</td>\n    </tr>\n    <tr>\n      <th>4</th>\n      <td>1</td>\n      <td>125069</td>\n    </tr>\n  </tbody>\n</table>\n</div>",
            "application/vnd.dataresource+json": {
              "schema": {
                "fields": [
                  {
                    "name": "index",
                    "type": "integer"
                  },
                  {
                    "name": "src",
                    "type": "integer"
                  },
                  {
                    "name": "dst",
                    "type": "integer"
                  }
                ],
                "primaryKey": [
                  "index"
                ],
                "pandas_version": "0.20.0"
              },
              "data": [
                {
                  "index": 0,
                  "src": 1,
                  "dst": 96401
                },
                {
                  "index": 1,
                  "src": 96401,
                  "dst": 1
                },
                {
                  "index": 2,
                  "src": 1,
                  "dst": 68343
                },
                {
                  "index": 3,
                  "src": 68343,
                  "dst": 1
                },
                {
                  "index": 4,
                  "src": 1,
                  "dst": 125069
                }
              ]
            }
          },
          "metadata": {
            "bento_obj_id": "140551612147984"
          },
          "execution_count": 3
        }
      ]
    },
    {
      "cell_type": "code",
      "metadata": {
        "originalKey": "cce80361-8da4-4964-b366-4f730f205a19",
        "showInput": true,
        "customInput": null,
        "collapsed": false,
        "requestMsgId": "80e2e1b4-9481-4354-b041-ce74f67ccdfb",
        "executionStartTime": 1683935109371,
        "executionStopTime": 1683935157625
      },
      "source": [
        "# sanity check on inter-species connections\n",
        "edge_list_df_check = edge_list_df.merge(node_species_df, how = 'left', left_on = 'src', right_on = 'node_id')\n",
        "edge_list_df_check.drop('node_id', axis = 1, inplace=True)\n",
        "edge_list_df_check = edge_list_df_check.merge(node_species_df, how = 'left', left_on = 'dst', right_on = 'node_id')\n",
        "edge_list_df_check.drop('node_id', axis = 1, inplace=True)\n",
        "#edge_list_df_check.head()\n",
        "print(np.mean(edge_list_df_check['node_species_x']==edge_list_df_check['node_species_y']))\n",
        "print(np.mean(edge_list_df_check['node_species_x']!=edge_list_df_check['node_species_y']))"
      ],
      "execution_count": 4,
      "outputs": [
        {
          "output_type": "stream",
          "name": "stdout",
          "text": [
            "0.8059610954678583\n"
          ]
        },
        {
          "output_type": "stream",
          "name": "stdout",
          "text": [
            "0.1940389045321417\n"
          ]
        }
      ]
    },
    {
      "cell_type": "code",
      "metadata": {
        "originalKey": "76be8593-c6dc-44c0-8efe-b9e16bebedab",
        "showInput": true,
        "customInput": null,
        "collapsed": false,
        "requestMsgId": "f7862db8-dc4f-4e7a-8299-3ff45816b7b9",
        "executionStartTime": 1683935157704,
        "executionStopTime": 1683935157738
      },
      "source": [
        "y0 = pd.DataFrame(y)\n",
        "y0 = y0.iloc[:,0:25] # part I\n",
        "#y0 = y0.iloc[:,25:50] # part II\n",
        "#y0 = y0.iloc[:,50:112] # part II\n",
        "y0['node_id'] = range(len(y0[24]))\n",
        "    \n",
        "split_idx = dataset.get_idx_split()\n",
        "train_idx, valid_idx, test_idx = split_idx[\"train\"], split_idx[\"valid\"], split_idx[\"test\"]\n",
        "\n",
        "X_train = y0['node_id'].iloc[train_idx]\n",
        "y_train = y0.iloc[train_idx]\n",
        "\n",
        "X_valid = y0['node_id'].iloc[valid_idx]\n",
        "X_test = y0['node_id'].iloc[test_idx]\n",
        "y_valid = y0.iloc[valid_idx]\n",
        "y_test = y0.iloc[test_idx]\n",
        "\n",
        ""
      ],
      "execution_count": 5,
      "outputs": []
    },
    {
      "cell_type": "code",
      "metadata": {
        "originalKey": "7fc7c25e-951d-48a4-af8b-d200edbf379e",
        "showInput": true,
        "customInput": null,
        "collapsed": false,
        "requestMsgId": "a3272a10-cabf-47a2-a0c0-232930940eff",
        "executionStartTime": 1683935157787,
        "executionStopTime": 1683935217614
      },
      "source": [
        "edge_w = pd.DataFrame(g['edge_feat'])\n",
        "edge_w = edge_w.add_suffix('_weight')\n",
        "edge_list_df = pd.concat([edge_list_df, edge_w], axis=1)\n",
        "#edge_list_df.head()\n",
        "# w0 = edge_w[j]\n",
        "# edge_list_df['weight'] = w0\n",
        "# edge_list_df.head()\n",
        "# # merge in labels for training nodes on a user's connections\n",
        "relevant_edges_tmp = edge_list_df.merge(y_train, left_on = 'dst', right_on='node_id', how = 'left')\n",
        "relevant_edges_tmp.head()"
      ],
      "execution_count": 6,
      "outputs": [
        {
          "output_type": "execute_result",
          "data": {
            "text/plain": "     src     dst  0_weight  1_weight  2_weight  ...   21   22   23   24  node_id\n0      1   96401     0.501     0.001     0.001  ...  NaN  NaN  NaN  NaN      NaN\n1  96401       1     0.501     0.001     0.001  ...  0.0  0.0  0.0  0.0      1.0\n2      1   68343     0.501     0.001     0.001  ...  0.0  0.0  0.0  0.0  68343.0\n3  68343       1     0.501     0.001     0.001  ...  0.0  0.0  0.0  0.0      1.0\n4      1  125069     0.501     0.001     0.001  ...  NaN  NaN  NaN  NaN      NaN\n\n[5 rows x 36 columns]",
            "text/html": "<div>\n<style scoped>\n    .dataframe tbody tr th:only-of-type {\n        vertical-align: middle;\n    }\n\n    .dataframe tbody tr th {\n        vertical-align: top;\n    }\n\n    .dataframe thead th {\n        text-align: right;\n    }\n</style>\n<table border=\"1\" class=\"dataframe\">\n  <thead>\n    <tr style=\"text-align: right;\">\n      <th></th>\n      <th>src</th>\n      <th>dst</th>\n      <th>0_weight</th>\n      <th>1_weight</th>\n      <th>2_weight</th>\n      <th>3_weight</th>\n      <th>4_weight</th>\n      <th>5_weight</th>\n      <th>6_weight</th>\n      <th>7_weight</th>\n      <th>0</th>\n      <th>1</th>\n      <th>2</th>\n      <th>3</th>\n      <th>4</th>\n      <th>5</th>\n      <th>6</th>\n      <th>7</th>\n      <th>8</th>\n      <th>9</th>\n      <th>10</th>\n      <th>11</th>\n      <th>12</th>\n      <th>13</th>\n      <th>14</th>\n      <th>15</th>\n      <th>16</th>\n      <th>17</th>\n      <th>18</th>\n      <th>19</th>\n      <th>20</th>\n      <th>21</th>\n      <th>22</th>\n      <th>23</th>\n      <th>24</th>\n      <th>node_id</th>\n    </tr>\n  </thead>\n  <tbody>\n    <tr>\n      <th>0</th>\n      <td>1</td>\n      <td>96401</td>\n      <td>0.501</td>\n      <td>0.001</td>\n      <td>0.001</td>\n      <td>0.001</td>\n      <td>0.001</td>\n      <td>0.001</td>\n      <td>0.001</td>\n      <td>0.001</td>\n      <td>NaN</td>\n      <td>NaN</td>\n      <td>NaN</td>\n      <td>NaN</td>\n      <td>NaN</td>\n      <td>NaN</td>\n      <td>NaN</td>\n      <td>NaN</td>\n      <td>NaN</td>\n      <td>NaN</td>\n      <td>NaN</td>\n      <td>NaN</td>\n      <td>NaN</td>\n      <td>NaN</td>\n      <td>NaN</td>\n      <td>NaN</td>\n      <td>NaN</td>\n      <td>NaN</td>\n      <td>NaN</td>\n      <td>NaN</td>\n      <td>NaN</td>\n      <td>NaN</td>\n      <td>NaN</td>\n      <td>NaN</td>\n      <td>NaN</td>\n      <td>NaN</td>\n    </tr>\n    <tr>\n      <th>1</th>\n      <td>96401</td>\n      <td>1</td>\n      <td>0.501</td>\n      <td>0.001</td>\n      <td>0.001</td>\n      <td>0.001</td>\n      <td>0.001</td>\n      <td>0.001</td>\n      <td>0.001</td>\n      <td>0.001</td>\n      <td>1.0</td>\n      <td>1.0</td>\n      <td>0.0</td>\n      <td>1.0</td>\n      <td>1.0</td>\n      <td>0.0</td>\n      <td>1.0</td>\n      <td>0.0</td>\n      <td>1.0</td>\n      <td>0.0</td>\n      <td>1.0</td>\n      <td>0.0</td>\n      <td>1.0</td>\n      <td>0.0</td>\n      <td>1.0</td>\n      <td>0.0</td>\n      <td>0.0</td>\n      <td>0.0</td>\n      <td>0.0</td>\n      <td>0.0</td>\n      <td>0.0</td>\n      <td>0.0</td>\n      <td>0.0</td>\n      <td>0.0</td>\n      <td>0.0</td>\n      <td>1.0</td>\n    </tr>\n    <tr>\n      <th>2</th>\n      <td>1</td>\n      <td>68343</td>\n      <td>0.501</td>\n      <td>0.001</td>\n      <td>0.001</td>\n      <td>0.001</td>\n      <td>0.001</td>\n      <td>0.001</td>\n      <td>0.001</td>\n      <td>0.001</td>\n      <td>1.0</td>\n      <td>1.0</td>\n      <td>0.0</td>\n      <td>1.0</td>\n      <td>1.0</td>\n      <td>0.0</td>\n      <td>1.0</td>\n      <td>0.0</td>\n      <td>1.0</td>\n      <td>0.0</td>\n      <td>1.0</td>\n      <td>0.0</td>\n      <td>1.0</td>\n      <td>0.0</td>\n      <td>0.0</td>\n      <td>0.0</td>\n      <td>0.0</td>\n      <td>0.0</td>\n      <td>0.0</td>\n      <td>0.0</td>\n      <td>0.0</td>\n      <td>0.0</td>\n      <td>0.0</td>\n      <td>0.0</td>\n      <td>0.0</td>\n      <td>68343.0</td>\n    </tr>\n    <tr>\n      <th>3</th>\n      <td>68343</td>\n      <td>1</td>\n      <td>0.501</td>\n      <td>0.001</td>\n      <td>0.001</td>\n      <td>0.001</td>\n      <td>0.001</td>\n      <td>0.001</td>\n      <td>0.001</td>\n      <td>0.001</td>\n      <td>1.0</td>\n      <td>1.0</td>\n      <td>0.0</td>\n      <td>1.0</td>\n      <td>1.0</td>\n      <td>0.0</td>\n      <td>1.0</td>\n      <td>0.0</td>\n      <td>1.0</td>\n      <td>0.0</td>\n      <td>1.0</td>\n      <td>0.0</td>\n      <td>1.0</td>\n      <td>0.0</td>\n      <td>1.0</td>\n      <td>0.0</td>\n      <td>0.0</td>\n      <td>0.0</td>\n      <td>0.0</td>\n      <td>0.0</td>\n      <td>0.0</td>\n      <td>0.0</td>\n      <td>0.0</td>\n      <td>0.0</td>\n      <td>0.0</td>\n      <td>1.0</td>\n    </tr>\n    <tr>\n      <th>4</th>\n      <td>1</td>\n      <td>125069</td>\n      <td>0.501</td>\n      <td>0.001</td>\n      <td>0.001</td>\n      <td>0.001</td>\n      <td>0.001</td>\n      <td>0.001</td>\n      <td>0.001</td>\n      <td>0.001</td>\n      <td>NaN</td>\n      <td>NaN</td>\n      <td>NaN</td>\n      <td>NaN</td>\n      <td>NaN</td>\n      <td>NaN</td>\n      <td>NaN</td>\n      <td>NaN</td>\n      <td>NaN</td>\n      <td>NaN</td>\n      <td>NaN</td>\n      <td>NaN</td>\n      <td>NaN</td>\n      <td>NaN</td>\n      <td>NaN</td>\n      <td>NaN</td>\n      <td>NaN</td>\n      <td>NaN</td>\n      <td>NaN</td>\n      <td>NaN</td>\n      <td>NaN</td>\n      <td>NaN</td>\n      <td>NaN</td>\n      <td>NaN</td>\n      <td>NaN</td>\n      <td>NaN</td>\n    </tr>\n  </tbody>\n</table>\n</div>",
            "application/vnd.dataresource+json": {
              "schema": {
                "fields": [
                  {
                    "name": "index",
                    "type": "integer"
                  },
                  {
                    "name": "src",
                    "type": "integer"
                  },
                  {
                    "name": "dst",
                    "type": "integer"
                  },
                  {
                    "name": "0_weight",
                    "type": "number"
                  },
                  {
                    "name": "1_weight",
                    "type": "number"
                  },
                  {
                    "name": "2_weight",
                    "type": "number"
                  },
                  {
                    "name": "3_weight",
                    "type": "number"
                  },
                  {
                    "name": "4_weight",
                    "type": "number"
                  },
                  {
                    "name": "5_weight",
                    "type": "number"
                  },
                  {
                    "name": "6_weight",
                    "type": "number"
                  },
                  {
                    "name": "7_weight",
                    "type": "number"
                  },
                  {
                    "name": 0,
                    "type": "number"
                  },
                  {
                    "name": 1,
                    "type": "number"
                  },
                  {
                    "name": 2,
                    "type": "number"
                  },
                  {
                    "name": 3,
                    "type": "number"
                  },
                  {
                    "name": 4,
                    "type": "number"
                  },
                  {
                    "name": 5,
                    "type": "number"
                  },
                  {
                    "name": 6,
                    "type": "number"
                  },
                  {
                    "name": 7,
                    "type": "number"
                  },
                  {
                    "name": 8,
                    "type": "number"
                  },
                  {
                    "name": 9,
                    "type": "number"
                  },
                  {
                    "name": 10,
                    "type": "number"
                  },
                  {
                    "name": 11,
                    "type": "number"
                  },
                  {
                    "name": 12,
                    "type": "number"
                  },
                  {
                    "name": 13,
                    "type": "number"
                  },
                  {
                    "name": 14,
                    "type": "number"
                  },
                  {
                    "name": 15,
                    "type": "number"
                  },
                  {
                    "name": 16,
                    "type": "number"
                  },
                  {
                    "name": 17,
                    "type": "number"
                  },
                  {
                    "name": 18,
                    "type": "number"
                  },
                  {
                    "name": 19,
                    "type": "number"
                  },
                  {
                    "name": 20,
                    "type": "number"
                  },
                  {
                    "name": 21,
                    "type": "number"
                  },
                  {
                    "name": 22,
                    "type": "number"
                  },
                  {
                    "name": 23,
                    "type": "number"
                  },
                  {
                    "name": 24,
                    "type": "number"
                  },
                  {
                    "name": "node_id",
                    "type": "number"
                  }
                ],
                "primaryKey": [
                  "index"
                ],
                "pandas_version": "0.20.0"
              },
              "data": [
                {
                  "0": null,
                  "1": null,
                  "2": null,
                  "3": null,
                  "4": null,
                  "5": null,
                  "6": null,
                  "7": null,
                  "8": null,
                  "9": null,
                  "10": null,
                  "11": null,
                  "12": null,
                  "13": null,
                  "14": null,
                  "15": null,
                  "16": null,
                  "17": null,
                  "18": null,
                  "19": null,
                  "20": null,
                  "21": null,
                  "22": null,
                  "23": null,
                  "24": null,
                  "index": 0,
                  "src": 1,
                  "dst": 96401,
                  "0_weight": 0.5009999871,
                  "1_weight": 0.001,
                  "2_weight": 0.001,
                  "3_weight": 0.001,
                  "4_weight": 0.001,
                  "5_weight": 0.001,
                  "6_weight": 0.001,
                  "7_weight": 0.001,
                  "node_id": null
                },
                {
                  "0": 1,
                  "1": 1,
                  "2": 0,
                  "3": 1,
                  "4": 1,
                  "5": 0,
                  "6": 1,
                  "7": 0,
                  "8": 1,
                  "9": 0,
                  "10": 1,
                  "11": 0,
                  "12": 1,
                  "13": 0,
                  "14": 1,
                  "15": 0,
                  "16": 0,
                  "17": 0,
                  "18": 0,
                  "19": 0,
                  "20": 0,
                  "21": 0,
                  "22": 0,
                  "23": 0,
                  "24": 0,
                  "index": 1,
                  "src": 96401,
                  "dst": 1,
                  "0_weight": 0.5009999871,
                  "1_weight": 0.001,
                  "2_weight": 0.001,
                  "3_weight": 0.001,
                  "4_weight": 0.001,
                  "5_weight": 0.001,
                  "6_weight": 0.001,
                  "7_weight": 0.001,
                  "node_id": 1
                },
                {
                  "0": 1,
                  "1": 1,
                  "2": 0,
                  "3": 1,
                  "4": 1,
                  "5": 0,
                  "6": 1,
                  "7": 0,
                  "8": 1,
                  "9": 0,
                  "10": 1,
                  "11": 0,
                  "12": 1,
                  "13": 0,
                  "14": 0,
                  "15": 0,
                  "16": 0,
                  "17": 0,
                  "18": 0,
                  "19": 0,
                  "20": 0,
                  "21": 0,
                  "22": 0,
                  "23": 0,
                  "24": 0,
                  "index": 2,
                  "src": 1,
                  "dst": 68343,
                  "0_weight": 0.5009999871,
                  "1_weight": 0.001,
                  "2_weight": 0.001,
                  "3_weight": 0.001,
                  "4_weight": 0.001,
                  "5_weight": 0.001,
                  "6_weight": 0.001,
                  "7_weight": 0.001,
                  "node_id": 68343
                },
                {
                  "0": 1,
                  "1": 1,
                  "2": 0,
                  "3": 1,
                  "4": 1,
                  "5": 0,
                  "6": 1,
                  "7": 0,
                  "8": 1,
                  "9": 0,
                  "10": 1,
                  "11": 0,
                  "12": 1,
                  "13": 0,
                  "14": 1,
                  "15": 0,
                  "16": 0,
                  "17": 0,
                  "18": 0,
                  "19": 0,
                  "20": 0,
                  "21": 0,
                  "22": 0,
                  "23": 0,
                  "24": 0,
                  "index": 3,
                  "src": 68343,
                  "dst": 1,
                  "0_weight": 0.5009999871,
                  "1_weight": 0.001,
                  "2_weight": 0.001,
                  "3_weight": 0.001,
                  "4_weight": 0.001,
                  "5_weight": 0.001,
                  "6_weight": 0.001,
                  "7_weight": 0.001,
                  "node_id": 1
                },
                {
                  "0": null,
                  "1": null,
                  "2": null,
                  "3": null,
                  "4": null,
                  "5": null,
                  "6": null,
                  "7": null,
                  "8": null,
                  "9": null,
                  "10": null,
                  "11": null,
                  "12": null,
                  "13": null,
                  "14": null,
                  "15": null,
                  "16": null,
                  "17": null,
                  "18": null,
                  "19": null,
                  "20": null,
                  "21": null,
                  "22": null,
                  "23": null,
                  "24": null,
                  "index": 4,
                  "src": 1,
                  "dst": 125069,
                  "0_weight": 0.5009999871,
                  "1_weight": 0.001,
                  "2_weight": 0.001,
                  "3_weight": 0.001,
                  "4_weight": 0.001,
                  "5_weight": 0.001,
                  "6_weight": 0.001,
                  "7_weight": 0.001,
                  "node_id": null
                }
              ]
            }
          },
          "metadata": {
            "bento_obj_id": "140551867457248"
          },
          "execution_count": 6
        }
      ]
    },
    {
      "cell_type": "code",
      "metadata": {
        "originalKey": "0ff20e74-1f92-4105-83d6-c31b3d847787",
        "showInput": true,
        "customInput": null,
        "collapsed": false,
        "requestMsgId": "79039b34-44bc-46c1-926b-fe31a44f8d5f",
        "executionStartTime": 1683935217727,
        "executionStopTime": 1683935217734
      },
      "source": [
        ""
      ],
      "execution_count": 6,
      "outputs": []
    },
    {
      "cell_type": "code",
      "metadata": {
        "originalKey": "0f00233d-dd81-4606-bca2-54483c4b39c5",
        "showInput": true,
        "customInput": null,
        "collapsed": false,
        "requestMsgId": "8e56bd42-102b-4969-a5c1-da480b8eba17",
        "executionStartTime": 1683935217991,
        "executionStopTime": 1683948632308,
        "customOutput": null
      },
      "source": [
        "from sklearn.ensemble import RandomForestClassifier\n",
        "\n",
        "# set-up loop\n",
        "rocauc_v0_ud_w = []\n",
        "# rocauc_v2_ud_w = []\n",
        "# rocauc_ud_uw = []\n",
        "\n",
        "\n",
        "for i in range(0, 25):  # loop through outcomes\n",
        "    # for i in range(25,50):\n",
        "    # for i in range(50, 112):\n",
        "    print(i)\n",
        "    # i = 0 # testing only right now\n",
        "\n",
        "    two_hop_v0_dict = {}\n",
        "    for j in range(8):  # loop through edge weights\n",
        "        # print(j)\n",
        "\n",
        "        # edge weights\n",
        "        # edge_w = pd.DataFrame(g['edge_feat'])\n",
        "        # #w0 = np.mean(edge_w,1) # average edge weight\n",
        "        # w0 = edge_w[j]\n",
        "        # edge_list_df['weight'] = w0\n",
        "        # edge_list_df.head()\n",
        "        # # merge in labels for training nodes on a user's connections\n",
        "        # relevant_edges_tmp = edge_list_df.merge(y_train, left_on = 'dst', right_on='node_id', how = 'left')\n",
        "        relevant_edges = relevant_edges_tmp[\n",
        "            [\"src\", \"dst\", str(j) + \"_weight\", \"node_id\", i]\n",
        "        ]\n",
        "        relevant_edges.columns = [\"src\", \"dst\", \"weight\", \"node_id\", \"y\"]\n",
        "        label1 = relevant_edges.groupby([\"src\"])[\"y\"].sum().reset_index()\n",
        "        labeltotal = relevant_edges.groupby([\"src\"])[\"y\"].count().reset_index()\n",
        "        relevant_edgelist = labeltotal.merge(label1, on=\"src\")\n",
        "        relevant_edgelist[\"label_0\"] = (\n",
        "            relevant_edgelist[\"y_x\"] - relevant_edgelist[\"y_y\"]\n",
        "        )\n",
        "        relevant_edgelist.rename(columns={\"y_y\": \"label_1\"}, inplace=True)\n",
        "        relevant_edgelist.drop([\"y_x\"], axis=1, inplace=True)\n",
        "\n",
        "        ## v0 - linear combination of single layers\n",
        "        normalizer = pd.DataFrame(\n",
        "            y_train[i].value_counts(normalize=True, ascending=True)\n",
        "        )\n",
        "\n",
        "        # step 1 - one hop scores\n",
        "        step1_one_hop_scores = pd.DataFrame(\n",
        "            {\n",
        "                \"src\": relevant_edgelist.src,\n",
        "                \"frac\": np.log(\n",
        "                    (relevant_edgelist[\"label_1\"] + 1)\n",
        "                    / (relevant_edgelist[\"label_0\"] + 1)\n",
        "                )\n",
        "                * list((normalizer.iloc[0]) / (normalizer.iloc[1]))[0],\n",
        "            }\n",
        "        )\n",
        "\n",
        "        # step 2 - two hop scores\n",
        "        two_hop_stg = relevant_edges.merge(\n",
        "            step1_one_hop_scores, left_on=\"dst\", right_on=\"src\", how=\"inner\"\n",
        "        )\n",
        "\n",
        "        # print(np.shape(two_hop_stg))\n",
        "        interval = pd.DataFrame(\n",
        "            two_hop_stg.weight.quantile([0.25, 0.5, 0.75])\n",
        "        ).reset_index()\n",
        "        interval.columns = [\"interval\", \"weight\"]\n",
        "        # print(interval)\n",
        "        # print(np.unique(interval.weight))\n",
        "        if len(np.unique(interval.weight)) == 1:\n",
        "            interval = pd.DataFrame(two_hop_stg.weight.quantile([0.5])).reset_index()\n",
        "            interval.columns = [\"interval\", \"weight\"]\n",
        "\n",
        "            two_0 = (\n",
        "                two_hop_stg[two_hop_stg.weight <= interval.weight[0]]\n",
        "                .groupby([\"src_x\"])[\"frac\"]\n",
        "                .sum()\n",
        "                .reset_index()\n",
        "            )\n",
        "\n",
        "            two_1 = (\n",
        "                two_hop_stg[(two_hop_stg.weight > interval.weight[0])]\n",
        "                .groupby([\"src_x\"])[\"frac\"]\n",
        "                .sum()\n",
        "                .reset_index()\n",
        "            )\n",
        "\n",
        "            two_hop_v0 = two_0.merge(two_1, how=\"outer\", on=\"src_x\").fillna(0)\n",
        "            two_hop_v0.columns = [\n",
        "                \"src_x\",\n",
        "                \"frac1_\" + str(j),\n",
        "                \"frac2_\" + str(j),\n",
        "            ]\n",
        "\n",
        "        if len(np.unique(interval.weight)) == 2:\n",
        "            interval = pd.DataFrame(\n",
        "                two_hop_stg.weight.quantile([0.25, 0.75])\n",
        "            ).reset_index()\n",
        "            interval.columns = [\"interval\", \"weight\"]\n",
        "            two_0 = (\n",
        "                two_hop_stg[two_hop_stg.weight <= interval.weight[0]]\n",
        "                .groupby([\"src_x\"])[\"frac\"]\n",
        "                .sum()\n",
        "                .reset_index()\n",
        "            )\n",
        "            two_1 = (\n",
        "                two_hop_stg[\n",
        "                    (two_hop_stg.weight > interval.weight[0])\n",
        "                    & (two_hop_stg.weight <= interval.weight[1])\n",
        "                ]\n",
        "                .groupby([\"src_x\"])[\"frac\"]\n",
        "                .sum()\n",
        "                .reset_index()\n",
        "            )\n",
        "            two_2 = (\n",
        "                two_hop_stg[(two_hop_stg.weight > interval.weight[1])]\n",
        "                .groupby([\"src_x\"])[\"frac\"]\n",
        "                .sum()\n",
        "                .reset_index()\n",
        "            )\n",
        "\n",
        "        else:\n",
        "            interval = pd.DataFrame(\n",
        "                two_hop_stg.weight.quantile([0.25, 0.5, 0.75])\n",
        "            ).reset_index()\n",
        "            interval.columns = [\"interval\", \"weight\"]\n",
        "\n",
        "            two_0 = (\n",
        "                two_hop_stg[two_hop_stg.weight <= interval.weight[0]]\n",
        "                .groupby([\"src_x\"])[\"frac\"]\n",
        "                .sum()\n",
        "                .reset_index()\n",
        "            )\n",
        "            two_1 = (\n",
        "                two_hop_stg[\n",
        "                    (two_hop_stg.weight > interval.weight[0])\n",
        "                    & (two_hop_stg.weight <= interval.weight[1])\n",
        "                ]\n",
        "                .groupby([\"src_x\"])[\"frac\"]\n",
        "                .sum()\n",
        "                .reset_index()\n",
        "            )\n",
        "            two_2 = (\n",
        "                two_hop_stg[\n",
        "                    (two_hop_stg.weight > interval.weight[1])\n",
        "                    & (two_hop_stg.weight <= interval.weight[2])\n",
        "                ]\n",
        "                .groupby([\"src_x\"])[\"frac\"]\n",
        "                .sum()\n",
        "                .reset_index()\n",
        "            )\n",
        "            two_3 = (\n",
        "                two_hop_stg[(two_hop_stg.weight > interval.weight[2])]\n",
        "                .groupby([\"src_x\"])[\"frac\"]\n",
        "                .sum()\n",
        "                .reset_index()\n",
        "            )\n",
        "\n",
        "            two_hop_v0 = two_0.merge(two_1, how=\"outer\", on=\"src_x\").fillna(0)\n",
        "            two_hop_v0 = two_hop_v0.merge(two_2, how=\"outer\", on=\"src_x\").fillna(0)\n",
        "            two_hop_v0 = two_hop_v0.merge(two_3, how=\"outer\", on=\"src_x\").fillna(0)\n",
        "            two_hop_v0.columns = [\n",
        "                \"src_x\",\n",
        "                \"frac1_\" + str(j),\n",
        "                \"frac2_\" + str(j),\n",
        "                \"frac3_\" + str(j),\n",
        "                \"frac4_\" + str(j),\n",
        "            ]\n",
        "        # two_hop_v0_valid = two_hop_v0.merge(\n",
        "        #     y_valid, left_on=\"src_x\", right_on=\"node_id\", how=\"right\"\n",
        "        # )\n",
        "\n",
        "        two_hop_v0.head()\n",
        "        two_hop_v0_dict[j] = two_hop_v0\n",
        "\n",
        "    # rename columns -- do multiple joins\n",
        "    two_hop_v0_merge = two_hop_v0_dict[0].merge(\n",
        "        two_hop_v0_dict[1], on=\"src_x\", how=\"outer\"\n",
        "    )\n",
        "    two_hop_v0_valid = two_hop_v0_merge.merge(\n",
        "        y_valid, left_on=\"src_x\", right_on=\"node_id\", how=\"right\"\n",
        "    )\n",
        "\n",
        "    two_hop_v0_merge = two_hop_v0_dict[0].merge(\n",
        "        two_hop_v0_dict[1], on=\"src_x\", how=\"outer\"\n",
        "    )\n",
        "    for k in range(2, 7):\n",
        "        # print(k)\n",
        "        two_hop_v0_merge = two_hop_v0_merge.merge(\n",
        "            two_hop_v0_dict[k + 1], on=\"src_x\", how=\"outer\"\n",
        "        )\n",
        "\n",
        "    two_hop_v0_valid = two_hop_v0_merge.merge(\n",
        "        y_valid, left_on=\"src_x\", right_on=\"node_id\", how=\"right\"\n",
        "    )\n",
        "    clf = LogisticRegression(random_state=0).fit(\n",
        "        two_hop_v0_valid[\n",
        "            [\n",
        "                \"frac1_0\",\n",
        "                \"frac2_0\",\n",
        "                \"frac3_0\",\n",
        "                \"frac4_0\",\n",
        "                \"frac1_1\",\n",
        "                \"frac2_1\",\n",
        "                \"frac3_1\",\n",
        "                \"frac4_1\",\n",
        "                \"frac1_3_x\",\n",
        "                \"frac2_3_x\",\n",
        "                \"frac3_3_x\",\n",
        "                \"frac4_3_x\",\n",
        "                \"frac1_3_y\",\n",
        "                \"frac2_3_y\",\n",
        "                \"frac3_3_y\",\n",
        "                \"frac4_3_y\",\n",
        "                \"frac1_3\",\n",
        "                \"frac2_3\",\n",
        "                \"frac3_3\",\n",
        "                \"frac4_3\",\n",
        "                \"frac1_6\",\n",
        "                \"frac2_6\",\n",
        "                \"frac3_6\",\n",
        "                \"frac4_6\",\n",
        "                \"frac1_7\",\n",
        "                \"frac2_7\",\n",
        "                \"frac3_7\",\n",
        "                \"frac4_7\",\n",
        "            ]\n",
        "        ],\n",
        "        two_hop_v0_valid[i],\n",
        "    )\n",
        "\n",
        "    pred_v0 = y_test.merge(\n",
        "        two_hop_v0_merge, right_on=\"src_x\", left_on=\"node_id\", how=\"left\"\n",
        "    )\n",
        "    print(\n",
        "        \"roc-auc, v1: \",\n",
        "        roc_auc_score(\n",
        "            pred_v0[i],\n",
        "            clf.predict_proba(\n",
        "                pred_v0[\n",
        "                    [\n",
        "                        \"frac1_0\",\n",
        "                        \"frac2_0\",\n",
        "                        \"frac3_0\",\n",
        "                        \"frac4_0\",\n",
        "                        \"frac1_1\",\n",
        "                        \"frac2_1\",\n",
        "                        \"frac3_1\",\n",
        "                        \"frac4_1\",\n",
        "                        \"frac1_3_x\",\n",
        "                        \"frac2_3_x\",\n",
        "                        \"frac3_3_x\",\n",
        "                        \"frac4_3_x\",\n",
        "                        \"frac1_3_y\",\n",
        "                        \"frac2_3_y\",\n",
        "                        \"frac3_3_y\",\n",
        "                        \"frac4_3_y\",\n",
        "                        \"frac1_3\",\n",
        "                        \"frac2_3\",\n",
        "                        \"frac3_3\",\n",
        "                        \"frac4_3\",\n",
        "                        \"frac1_6\",\n",
        "                        \"frac2_6\",\n",
        "                        \"frac3_6\",\n",
        "                        \"frac4_6\",\n",
        "                        \"frac1_7\",\n",
        "                        \"frac2_7\",\n",
        "                        \"frac3_7\",\n",
        "                        \"frac4_7\",\n",
        "                    ]\n",
        "                ]\n",
        "            )[:, 1],\n",
        "        ),\n",
        "    )\n",
        "\n",
        "\n",
        "    rocauc_v0_ud_w.append(\n",
        "        roc_auc_score(\n",
        "            pred_v0[i],\n",
        "            clf.predict_proba(\n",
        "                pred_v0[\n",
        "                    [\n",
        "                        \"frac1_0\",\n",
        "                        \"frac2_0\",\n",
        "                        \"frac3_0\",\n",
        "                        \"frac4_0\",\n",
        "                        \"frac1_1\",\n",
        "                        \"frac2_1\",\n",
        "                        \"frac3_1\",\n",
        "                        \"frac4_1\",\n",
        "                        \"frac1_3_x\",\n",
        "                        \"frac2_3_x\",\n",
        "                        \"frac3_3_x\",\n",
        "                        \"frac4_3_x\",\n",
        "                        \"frac1_3_y\",\n",
        "                        \"frac2_3_y\",\n",
        "                        \"frac3_3_y\",\n",
        "                        \"frac4_3_y\",\n",
        "                        \"frac1_3\",\n",
        "                        \"frac2_3\",\n",
        "                        \"frac3_3\",\n",
        "                        \"frac4_3\",\n",
        "                        \"frac1_6\",\n",
        "                        \"frac2_6\",\n",
        "                        \"frac3_6\",\n",
        "                        \"frac4_6\",\n",
        "                        \"frac1_7\",\n",
        "                        \"frac2_7\",\n",
        "                        \"frac3_7\",\n",
        "                        \"frac4_7\",\n",
        "                    ]\n",
        "                ]\n",
        "            )[:, 1],\n",
        "        ),\n",
        "    )"
      ],
      "execution_count": 7,
      "outputs": [
        {
          "output_type": "stream",
          "name": "stdout",
          "text": [
            "0\n"
          ]
        },
        {
          "output_type": "stream",
          "name": "stdout",
          "text": [
            "roc-auc, v1:  0.6739778390676242\n1\n"
          ]
        },
        {
          "output_type": "stream",
          "name": "stdout",
          "text": [
            "roc-auc, v1:  0.6910432415330964\n2\n"
          ]
        },
        {
          "output_type": "stream",
          "name": "stdout",
          "text": [
            "roc-auc, v1:  0.7159274001719268\n3\n"
          ]
        },
        {
          "output_type": "stream",
          "name": "stdout",
          "text": [
            "roc-auc, v1:  0.714285794146535\n4\n"
          ]
        },
        {
          "output_type": "stream",
          "name": "stdout",
          "text": [
            "roc-auc, v1:  0.7148488419263002\n5\n"
          ]
        },
        {
          "output_type": "stream",
          "name": "stdout",
          "text": [
            "roc-auc, v1:  0.6467341953826101\n6\n"
          ]
        },
        {
          "output_type": "stream",
          "name": "stdout",
          "text": [
            "roc-auc, v1:  0.7014602105587572\n7\n"
          ]
        },
        {
          "output_type": "stream",
          "name": "stdout",
          "text": [
            "roc-auc, v1:  0.6270698022017095\n8\n"
          ]
        },
        {
          "output_type": "stream",
          "name": "stdout",
          "text": [
            "roc-auc, v1:  0.693192629644568\n9\n"
          ]
        },
        {
          "output_type": "stream",
          "name": "stdout",
          "text": [
            "roc-auc, v1:  0.5598289796362721\n10\n"
          ]
        },
        {
          "output_type": "stream",
          "name": "stdout",
          "text": [
            "roc-auc, v1:  0.6584713616665234\n11\n"
          ]
        },
        {
          "output_type": "stream",
          "name": "stdout",
          "text": [
            "roc-auc, v1:  0.565545537190522\n12\n"
          ]
        },
        {
          "output_type": "stream",
          "name": "stdout",
          "text": [
            "roc-auc, v1:  0.6891139765046529\n13\n"
          ]
        },
        {
          "output_type": "stream",
          "name": "stdout",
          "text": [
            "roc-auc, v1:  0.7002636425982642\n14\n"
          ]
        },
        {
          "output_type": "stream",
          "name": "stdout",
          "text": [
            "roc-auc, v1:  0.5417283150811418\n15\n"
          ]
        },
        {
          "output_type": "stream",
          "name": "stdout",
          "text": [
            "roc-auc, v1:  0.6345198039496339\n16\n"
          ]
        },
        {
          "output_type": "stream",
          "name": "stdout",
          "text": [
            "roc-auc, v1:  0.657313776844372\n17\n"
          ]
        },
        {
          "output_type": "stream",
          "name": "stdout",
          "text": [
            "roc-auc, v1:  0.4964687347677738\n18\n"
          ]
        },
        {
          "output_type": "stream",
          "name": "stdout",
          "text": [
            "roc-auc, v1:  0.6663329102069406\n19\n"
          ]
        },
        {
          "output_type": "stream",
          "name": "stdout",
          "text": [
            "roc-auc, v1:  0.4992899790504574\n20\n"
          ]
        },
        {
          "output_type": "stream",
          "name": "stdout",
          "text": [
            "roc-auc, v1:  0.6678818971108063\n21\n"
          ]
        },
        {
          "output_type": "stream",
          "name": "stdout",
          "text": [
            "roc-auc, v1:  0.6694793059249238\n22\n"
          ]
        },
        {
          "output_type": "stream",
          "name": "stdout",
          "text": [
            "roc-auc, v1:  0.6741173695564645\n23\n"
          ]
        },
        {
          "output_type": "stream",
          "name": "stdout",
          "text": [
            "roc-auc, v1:  0.6729465369221092\n24\n"
          ]
        },
        {
          "output_type": "stream",
          "name": "stdout",
          "text": [
            "roc-auc, v1:  0.5073166392294994\n"
          ]
        }
      ]
    },
    {
      "cell_type": "code",
      "metadata": {
        "originalKey": "9510c994-e65c-424a-aab0-701949bff26e",
        "showInput": true,
        "customInput": null
      },
      "source": [
        ""
      ],
      "execution_count": null,
      "outputs": []
    },
    {
      "cell_type": "code",
      "metadata": {
        "originalKey": "d29e2b9c-ca1c-4ba7-8284-e9a63d3ffef1",
        "showInput": true,
        "customInput": null,
        "collapsed": false,
        "requestMsgId": "d29e2b9c-ca1c-4ba7-8284-e9a63d3ffef1",
        "executionStartTime": 1680911758038,
        "executionStopTime": 1680911758062
      },
      "source": [
        "# with open('rocauc_v0_ud_w_part1_multilayer.npy', 'wb') as f:\n",
        "# with open('rocauc_v0_ud_w_part2_multilayer.npy', 'wb') as f:\n",
        "with open(\"rocauc_v0_ud_w_part3_multilayer.npy\", \"wb\") as f:\n",
        "    np.save(f, rocauc_v0_ud_w)"
      ],
      "execution_count": 10,
      "outputs": []
    },
    {
      "cell_type": "code",
      "metadata": {
        "originalKey": "c69cc570-2fa4-4b13-b69d-0ee02b38ca75",
        "showInput": true,
        "customInput": null
      },
      "source": [
        ""
      ],
      "execution_count": null,
      "outputs": []
    },
    {
      "cell_type": "code",
      "metadata": {
        "originalKey": "371df966-b2f0-4d0b-bd05-4ae363f499aa",
        "showInput": true,
        "customInput": null,
        "collapsed": false,
        "requestMsgId": "371df966-b2f0-4d0b-bd05-4ae363f499aa",
        "executionStartTime": 1680625683366,
        "executionStopTime": 1680625683374
      },
      "source": [
        ""
      ],
      "execution_count": 149,
      "outputs": []
    }
  ]
}
