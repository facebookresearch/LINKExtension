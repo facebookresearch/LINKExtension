{
  "metadata": {
    "dataExplorerConfig": {},
    "bento_stylesheets": {
      "bento/extensions/flow/main.css": true,
      "bento/extensions/kernel_selector/main.css": true,
      "bento/extensions/kernel_ui/main.css": true,
      "bento/extensions/new_kernel/main.css": true,
      "bento/extensions/system_usage/main.css": true,
      "bento/extensions/theme/main.css": true
    },
    "kernelspec": {
      "display_name": "pytorch",
      "language": "python",
      "name": "bento_kernel_pytorch",
      "cinder_runtime": false,
      "ipyflow_runtime": false,
      "metadata": {
        "kernel_name": "bento_kernel_pytorch",
        "nightly_builds": true,
        "fbpkg_supported": true,
        "cinder_runtime": false,
        "ipyflow_runtime": false,
        "is_prebuilt": true
      }
    },
    "language_info": {
      "codemirror_mode": {
        "name": "ipython",
        "version": 3
      },
      "file_extension": ".py",
      "mimetype": "text/x-python",
      "name": "python",
      "nbconvert_exporter": "python",
      "pygments_lexer": "ipython3"
    },
    "last_server_session_id": "48177876-c7c3-47bf-a99e-32c9c320a8ce",
    "last_kernel_id": "fcd567e2-e0a4-4528-b886-b16d2e7faa65",
    "last_base_url": "https://devvm1422.ash0.facebook.com:8090/",
    "last_msg_id": "669d9f3f-0072600271cc7dcbcf34febd_52",
    "outputWidgetContext": {}
  },
  "nbformat": 4,
  "nbformat_minor": 2,
  "cells": [
    {
      "cell_type": "code",
      "metadata": {
        "collapsed": false,
        "originalKey": "0631dfe0-a02d-4069-b630-301504b9b9ee",
        "requestMsgId": "0631dfe0-a02d-4069-b630-301504b9b9ee",
        "executionStartTime": 1681355773592,
        "executionStopTime": 1681355776025
      },
      "source": [
        "# 4/9/23\n",
        "# KM Altenburger\n",
        "\n",
        "# steps for downloading repo internally; run w/ \"pytorch kernel\"\n",
        "# sudo feature install ttls_fwdproxy\n",
        "# mgt import --src-type pypi sdist\n",
        "# mgt import --src-type pypi nvidia-cublas-cu11==11.10.3.66\n",
        "# mgt import --src-type pypi ogb\n",
        "\n",
        "import sys\n",
        "sys.path.insert(0, \"/home/kaltenburger/fbsource/ogb\")\n",
        "import matplotlib.pyplot as plt\n",
        "import networkx as nx\n",
        "import numpy as np\n",
        "import ogb\n",
        "import pandas as pd\n",
        "import torch\n",
        "\n",
        "# import torch_geometric\n",
        "from ogb.nodeproppred import NodePropPredDataset\n",
        "from sklearn.linear_model import LogisticRegression\n",
        "from sklearn.metrics import auc, precision_recall_curve, roc_auc_score\n",
        "from sklearn.model_selection import train_test_split"
      ],
      "execution_count": 2,
      "outputs": [
        {
          "output_type": "stream",
          "name": "stderr",
          "text": [
            "\nBad key \"axes.color_cycle\" on line 214 in\n/home/kaltenburger/.matplotlib/matplotlibrc.\nYou probably need to get an updated matplotlibrc file from\nhttps://github.com/matplotlib/matplotlib/blob/v3.1.3/matplotlibrc.template\nor from the matplotlib source distribution\n"
          ]
        },
        {
          "output_type": "stream",
          "name": "stderr",
          "text": [
            "I0412 201613.909 _utils_internal.py:187] NCCL_DEBUG env var is set to None\n"
          ]
        },
        {
          "output_type": "stream",
          "name": "stderr",
          "text": [
            "I0412 201613.910 _utils_internal.py:205] NCCL_DEBUG is forced to WARN from None\n"
          ]
        }
      ]
    },
    {
      "cell_type": "markdown",
      "metadata": {
        "originalKey": "0eb50079-caca-4391-bdb5-32bf6d7eaabc",
        "showInput": false,
        "customInput": null
      },
      "source": [
        "### read & set-up dataset\n",
        ""
      ]
    },
    {
      "cell_type": "code",
      "metadata": {
        "originalKey": "9c8ad4ba-a41f-4817-82bc-b7054baa25c0",
        "showInput": true,
        "customInput": null,
        "collapsed": false,
        "requestMsgId": "9c8ad4ba-a41f-4817-82bc-b7054baa25c0",
        "executionStartTime": 1681355776143,
        "executionStopTime": 1681355794910
      },
      "source": [
        "dataset = NodePropPredDataset(name='ogbn-proteins')\n",
        "g = dataset.graph # get edgelist and graph metadata\n",
        "y = dataset.labels # outcomes\n",
        "node_species_df = pd.DataFrame({'node_id':range(len(g['node_species'].flatten())), 'node_species': g['node_species'].flatten()})\n",
        "node_species_df.head()"
      ],
      "execution_count": 3,
      "outputs": [
        {
          "output_type": "execute_result",
          "data": {
            "text/plain": "   node_id  node_species\n0        0          3702\n1        1          3702\n2        2          3702\n3        3          3702\n4        4          3702",
            "text/html": "<div>\n<style scoped>\n    .dataframe tbody tr th:only-of-type {\n        vertical-align: middle;\n    }\n\n    .dataframe tbody tr th {\n        vertical-align: top;\n    }\n\n    .dataframe thead th {\n        text-align: right;\n    }\n</style>\n<table border=\"1\" class=\"dataframe\">\n  <thead>\n    <tr style=\"text-align: right;\">\n      <th></th>\n      <th>node_id</th>\n      <th>node_species</th>\n    </tr>\n  </thead>\n  <tbody>\n    <tr>\n      <th>0</th>\n      <td>0</td>\n      <td>3702</td>\n    </tr>\n    <tr>\n      <th>1</th>\n      <td>1</td>\n      <td>3702</td>\n    </tr>\n    <tr>\n      <th>2</th>\n      <td>2</td>\n      <td>3702</td>\n    </tr>\n    <tr>\n      <th>3</th>\n      <td>3</td>\n      <td>3702</td>\n    </tr>\n    <tr>\n      <th>4</th>\n      <td>4</td>\n      <td>3702</td>\n    </tr>\n  </tbody>\n</table>\n</div>",
            "application/vnd.dataresource+json": {
              "schema": {
                "fields": [
                  {
                    "name": "index",
                    "type": "integer"
                  },
                  {
                    "name": "node_id",
                    "type": "integer"
                  },
                  {
                    "name": "node_species",
                    "type": "integer"
                  }
                ],
                "primaryKey": [
                  "index"
                ],
                "pandas_version": "0.20.0"
              },
              "data": [
                {
                  "index": 0,
                  "node_id": 0,
                  "node_species": 3702
                },
                {
                  "index": 1,
                  "node_id": 1,
                  "node_species": 3702
                },
                {
                  "index": 2,
                  "node_id": 2,
                  "node_species": 3702
                },
                {
                  "index": 3,
                  "node_id": 3,
                  "node_species": 3702
                },
                {
                  "index": 4,
                  "node_id": 4,
                  "node_species": 3702
                }
              ]
            }
          },
          "metadata": {
            "bento_obj_id": "140034323954752"
          },
          "execution_count": 3
        }
      ]
    },
    {
      "cell_type": "code",
      "metadata": {
        "originalKey": "bc2d712f-1579-4ebc-9ec8-7fed3a80a84c",
        "showInput": true,
        "customInput": null,
        "collapsed": false,
        "requestMsgId": "bc2d712f-1579-4ebc-9ec8-7fed3a80a84c",
        "executionStartTime": 1681355794949,
        "executionStopTime": 1681355795051
      },
      "source": [
        "# create edgelist\n",
        "edge_list_df = pd.DataFrame(g[\"edge_index\"].T)\n",
        "edge_list_df.columns = ['src','dst']\n",
        "edge_list_df.head()"
      ],
      "execution_count": 4,
      "outputs": [
        {
          "output_type": "execute_result",
          "data": {
            "text/plain": "     src     dst\n0      1   96401\n1  96401       1\n2      1   68343\n3  68343       1\n4      1  125069",
            "text/html": "<div>\n<style scoped>\n    .dataframe tbody tr th:only-of-type {\n        vertical-align: middle;\n    }\n\n    .dataframe tbody tr th {\n        vertical-align: top;\n    }\n\n    .dataframe thead th {\n        text-align: right;\n    }\n</style>\n<table border=\"1\" class=\"dataframe\">\n  <thead>\n    <tr style=\"text-align: right;\">\n      <th></th>\n      <th>src</th>\n      <th>dst</th>\n    </tr>\n  </thead>\n  <tbody>\n    <tr>\n      <th>0</th>\n      <td>1</td>\n      <td>96401</td>\n    </tr>\n    <tr>\n      <th>1</th>\n      <td>96401</td>\n      <td>1</td>\n    </tr>\n    <tr>\n      <th>2</th>\n      <td>1</td>\n      <td>68343</td>\n    </tr>\n    <tr>\n      <th>3</th>\n      <td>68343</td>\n      <td>1</td>\n    </tr>\n    <tr>\n      <th>4</th>\n      <td>1</td>\n      <td>125069</td>\n    </tr>\n  </tbody>\n</table>\n</div>",
            "application/vnd.dataresource+json": {
              "schema": {
                "fields": [
                  {
                    "name": "index",
                    "type": "integer"
                  },
                  {
                    "name": "src",
                    "type": "integer"
                  },
                  {
                    "name": "dst",
                    "type": "integer"
                  }
                ],
                "primaryKey": [
                  "index"
                ],
                "pandas_version": "0.20.0"
              },
              "data": [
                {
                  "index": 0,
                  "src": 1,
                  "dst": 96401
                },
                {
                  "index": 1,
                  "src": 96401,
                  "dst": 1
                },
                {
                  "index": 2,
                  "src": 1,
                  "dst": 68343
                },
                {
                  "index": 3,
                  "src": 68343,
                  "dst": 1
                },
                {
                  "index": 4,
                  "src": 1,
                  "dst": 125069
                }
              ]
            }
          },
          "metadata": {
            "bento_obj_id": "140034355126864"
          },
          "execution_count": 4
        }
      ]
    },
    {
      "cell_type": "code",
      "metadata": {
        "originalKey": "ee7176e4-2c63-432e-a6c9-045fc43da36f",
        "showInput": true,
        "customInput": null,
        "collapsed": false,
        "requestMsgId": "ee7176e4-2c63-432e-a6c9-045fc43da36f",
        "executionStartTime": 1681355795137,
        "executionStopTime": 1681355841632
      },
      "source": [
        "# sanity check on inter-species connections\n",
        "edge_list_df_check = edge_list_df.merge(node_species_df, how = 'left', left_on = 'src', right_on = 'node_id')\n",
        "edge_list_df_check.drop('node_id', axis = 1, inplace=True)\n",
        "edge_list_df_check = edge_list_df_check.merge(node_species_df, how = 'left', left_on = 'dst', right_on = 'node_id')\n",
        "edge_list_df_check.drop('node_id', axis = 1, inplace=True)\n",
        "#edge_list_df_check.head()\n",
        "print(np.mean(edge_list_df_check['node_species_x']==edge_list_df_check['node_species_y']))\n",
        "print(np.mean(edge_list_df_check['node_species_x']!=edge_list_df_check['node_species_y']))"
      ],
      "execution_count": 5,
      "outputs": [
        {
          "output_type": "stream",
          "name": "stdout",
          "text": [
            "0.8059610954678583\n"
          ]
        },
        {
          "output_type": "stream",
          "name": "stdout",
          "text": [
            "0.1940389045321417\n"
          ]
        }
      ]
    },
    {
      "cell_type": "code",
      "metadata": {
        "originalKey": "f7354455-4eb7-454e-a5a7-42c9e6ef5cbc",
        "showInput": true,
        "customInput": null,
        "collapsed": false,
        "requestMsgId": "f7354455-4eb7-454e-a5a7-42c9e6ef5cbc",
        "executionStartTime": 1681355841652,
        "executionStopTime": 1681355841706
      },
      "source": [
        "y0 = pd.DataFrame(y)\n",
        "y0 = y0.iloc[:,0:25] # part I\n",
        "#y0 = y0.iloc[:,25:50] # part II\n",
        "#y0 = y0.iloc[:,50:112] # part II\n",
        "y0['node_id'] = range(len(y0[0])) # change here for each part\n",
        "    \n",
        "split_idx = dataset.get_idx_split()\n",
        "train_idx, valid_idx, test_idx = split_idx[\"train\"], split_idx[\"valid\"], split_idx[\"test\"]\n",
        "\n",
        "X_train = y0['node_id'].iloc[train_idx]\n",
        "y_train = y0.iloc[train_idx]\n",
        "\n",
        "X_valid = y0['node_id'].iloc[valid_idx]\n",
        "X_test = y0['node_id'].iloc[test_idx]\n",
        "y_valid = y0.iloc[valid_idx]\n",
        "y_test = y0.iloc[test_idx]\n",
        "\n",
        ""
      ],
      "execution_count": 6,
      "outputs": []
    },
    {
      "cell_type": "code",
      "metadata": {
        "originalKey": "402e0a48-c03e-4c5f-ba83-4815f9da577e",
        "showInput": true,
        "customInput": null,
        "collapsed": false,
        "requestMsgId": "402e0a48-c03e-4c5f-ba83-4815f9da577e",
        "executionStartTime": 1681355841745,
        "executionStopTime": 1681355888636
      },
      "source": [
        "edge_w = pd.DataFrame(g['edge_feat'])\n",
        "edge_w = edge_w.add_suffix('_weight')\n",
        "edge_list_df = pd.concat([edge_list_df, edge_w], axis=1)\n",
        "#edge_list_df.head()\n",
        "# w0 = edge_w[j]\n",
        "# edge_list_df['weight'] = w0\n",
        "# edge_list_df.head()\n",
        "# # merge in labels for training nodes on a user's connections\n",
        "relevant_edges_tmp = edge_list_df.merge(y_train, left_on = 'dst', right_on='node_id', how = 'left')\n",
        "relevant_edges_tmp.head()"
      ],
      "execution_count": 7,
      "outputs": [
        {
          "output_type": "execute_result",
          "data": {
            "text/plain": "     src     dst  0_weight  1_weight  2_weight  ...   21   22   23   24  node_id\n0      1   96401     0.501     0.001     0.001  ...  NaN  NaN  NaN  NaN      NaN\n1  96401       1     0.501     0.001     0.001  ...  0.0  0.0  0.0  0.0      1.0\n2      1   68343     0.501     0.001     0.001  ...  0.0  0.0  0.0  0.0  68343.0\n3  68343       1     0.501     0.001     0.001  ...  0.0  0.0  0.0  0.0      1.0\n4      1  125069     0.501     0.001     0.001  ...  NaN  NaN  NaN  NaN      NaN\n\n[5 rows x 36 columns]",
            "text/html": "<div>\n<style scoped>\n    .dataframe tbody tr th:only-of-type {\n        vertical-align: middle;\n    }\n\n    .dataframe tbody tr th {\n        vertical-align: top;\n    }\n\n    .dataframe thead th {\n        text-align: right;\n    }\n</style>\n<table border=\"1\" class=\"dataframe\">\n  <thead>\n    <tr style=\"text-align: right;\">\n      <th></th>\n      <th>src</th>\n      <th>dst</th>\n      <th>0_weight</th>\n      <th>1_weight</th>\n      <th>2_weight</th>\n      <th>3_weight</th>\n      <th>4_weight</th>\n      <th>5_weight</th>\n      <th>6_weight</th>\n      <th>7_weight</th>\n      <th>0</th>\n      <th>1</th>\n      <th>2</th>\n      <th>3</th>\n      <th>4</th>\n      <th>5</th>\n      <th>6</th>\n      <th>7</th>\n      <th>8</th>\n      <th>9</th>\n      <th>10</th>\n      <th>11</th>\n      <th>12</th>\n      <th>13</th>\n      <th>14</th>\n      <th>15</th>\n      <th>16</th>\n      <th>17</th>\n      <th>18</th>\n      <th>19</th>\n      <th>20</th>\n      <th>21</th>\n      <th>22</th>\n      <th>23</th>\n      <th>24</th>\n      <th>node_id</th>\n    </tr>\n  </thead>\n  <tbody>\n    <tr>\n      <th>0</th>\n      <td>1</td>\n      <td>96401</td>\n      <td>0.501</td>\n      <td>0.001</td>\n      <td>0.001</td>\n      <td>0.001</td>\n      <td>0.001</td>\n      <td>0.001</td>\n      <td>0.001</td>\n      <td>0.001</td>\n      <td>NaN</td>\n      <td>NaN</td>\n      <td>NaN</td>\n      <td>NaN</td>\n      <td>NaN</td>\n      <td>NaN</td>\n      <td>NaN</td>\n      <td>NaN</td>\n      <td>NaN</td>\n      <td>NaN</td>\n      <td>NaN</td>\n      <td>NaN</td>\n      <td>NaN</td>\n      <td>NaN</td>\n      <td>NaN</td>\n      <td>NaN</td>\n      <td>NaN</td>\n      <td>NaN</td>\n      <td>NaN</td>\n      <td>NaN</td>\n      <td>NaN</td>\n      <td>NaN</td>\n      <td>NaN</td>\n      <td>NaN</td>\n      <td>NaN</td>\n      <td>NaN</td>\n    </tr>\n    <tr>\n      <th>1</th>\n      <td>96401</td>\n      <td>1</td>\n      <td>0.501</td>\n      <td>0.001</td>\n      <td>0.001</td>\n      <td>0.001</td>\n      <td>0.001</td>\n      <td>0.001</td>\n      <td>0.001</td>\n      <td>0.001</td>\n      <td>1.0</td>\n      <td>1.0</td>\n      <td>0.0</td>\n      <td>1.0</td>\n      <td>1.0</td>\n      <td>0.0</td>\n      <td>1.0</td>\n      <td>0.0</td>\n      <td>1.0</td>\n      <td>0.0</td>\n      <td>1.0</td>\n      <td>0.0</td>\n      <td>1.0</td>\n      <td>0.0</td>\n      <td>1.0</td>\n      <td>0.0</td>\n      <td>0.0</td>\n      <td>0.0</td>\n      <td>0.0</td>\n      <td>0.0</td>\n      <td>0.0</td>\n      <td>0.0</td>\n      <td>0.0</td>\n      <td>0.0</td>\n      <td>0.0</td>\n      <td>1.0</td>\n    </tr>\n    <tr>\n      <th>2</th>\n      <td>1</td>\n      <td>68343</td>\n      <td>0.501</td>\n      <td>0.001</td>\n      <td>0.001</td>\n      <td>0.001</td>\n      <td>0.001</td>\n      <td>0.001</td>\n      <td>0.001</td>\n      <td>0.001</td>\n      <td>1.0</td>\n      <td>1.0</td>\n      <td>0.0</td>\n      <td>1.0</td>\n      <td>1.0</td>\n      <td>0.0</td>\n      <td>1.0</td>\n      <td>0.0</td>\n      <td>1.0</td>\n      <td>0.0</td>\n      <td>1.0</td>\n      <td>0.0</td>\n      <td>1.0</td>\n      <td>0.0</td>\n      <td>0.0</td>\n      <td>0.0</td>\n      <td>0.0</td>\n      <td>0.0</td>\n      <td>0.0</td>\n      <td>0.0</td>\n      <td>0.0</td>\n      <td>0.0</td>\n      <td>0.0</td>\n      <td>0.0</td>\n      <td>0.0</td>\n      <td>68343.0</td>\n    </tr>\n    <tr>\n      <th>3</th>\n      <td>68343</td>\n      <td>1</td>\n      <td>0.501</td>\n      <td>0.001</td>\n      <td>0.001</td>\n      <td>0.001</td>\n      <td>0.001</td>\n      <td>0.001</td>\n      <td>0.001</td>\n      <td>0.001</td>\n      <td>1.0</td>\n      <td>1.0</td>\n      <td>0.0</td>\n      <td>1.0</td>\n      <td>1.0</td>\n      <td>0.0</td>\n      <td>1.0</td>\n      <td>0.0</td>\n      <td>1.0</td>\n      <td>0.0</td>\n      <td>1.0</td>\n      <td>0.0</td>\n      <td>1.0</td>\n      <td>0.0</td>\n      <td>1.0</td>\n      <td>0.0</td>\n      <td>0.0</td>\n      <td>0.0</td>\n      <td>0.0</td>\n      <td>0.0</td>\n      <td>0.0</td>\n      <td>0.0</td>\n      <td>0.0</td>\n      <td>0.0</td>\n      <td>0.0</td>\n      <td>1.0</td>\n    </tr>\n    <tr>\n      <th>4</th>\n      <td>1</td>\n      <td>125069</td>\n      <td>0.501</td>\n      <td>0.001</td>\n      <td>0.001</td>\n      <td>0.001</td>\n      <td>0.001</td>\n      <td>0.001</td>\n      <td>0.001</td>\n      <td>0.001</td>\n      <td>NaN</td>\n      <td>NaN</td>\n      <td>NaN</td>\n      <td>NaN</td>\n      <td>NaN</td>\n      <td>NaN</td>\n      <td>NaN</td>\n      <td>NaN</td>\n      <td>NaN</td>\n      <td>NaN</td>\n      <td>NaN</td>\n      <td>NaN</td>\n      <td>NaN</td>\n      <td>NaN</td>\n      <td>NaN</td>\n      <td>NaN</td>\n      <td>NaN</td>\n      <td>NaN</td>\n      <td>NaN</td>\n      <td>NaN</td>\n      <td>NaN</td>\n      <td>NaN</td>\n      <td>NaN</td>\n      <td>NaN</td>\n      <td>NaN</td>\n      <td>NaN</td>\n    </tr>\n  </tbody>\n</table>\n</div>",
            "application/vnd.dataresource+json": {
              "schema": {
                "fields": [
                  {
                    "name": "index",
                    "type": "integer"
                  },
                  {
                    "name": "src",
                    "type": "integer"
                  },
                  {
                    "name": "dst",
                    "type": "integer"
                  },
                  {
                    "name": "0_weight",
                    "type": "number"
                  },
                  {
                    "name": "1_weight",
                    "type": "number"
                  },
                  {
                    "name": "2_weight",
                    "type": "number"
                  },
                  {
                    "name": "3_weight",
                    "type": "number"
                  },
                  {
                    "name": "4_weight",
                    "type": "number"
                  },
                  {
                    "name": "5_weight",
                    "type": "number"
                  },
                  {
                    "name": "6_weight",
                    "type": "number"
                  },
                  {
                    "name": "7_weight",
                    "type": "number"
                  },
                  {
                    "name": 0,
                    "type": "number"
                  },
                  {
                    "name": 1,
                    "type": "number"
                  },
                  {
                    "name": 2,
                    "type": "number"
                  },
                  {
                    "name": 3,
                    "type": "number"
                  },
                  {
                    "name": 4,
                    "type": "number"
                  },
                  {
                    "name": 5,
                    "type": "number"
                  },
                  {
                    "name": 6,
                    "type": "number"
                  },
                  {
                    "name": 7,
                    "type": "number"
                  },
                  {
                    "name": 8,
                    "type": "number"
                  },
                  {
                    "name": 9,
                    "type": "number"
                  },
                  {
                    "name": 10,
                    "type": "number"
                  },
                  {
                    "name": 11,
                    "type": "number"
                  },
                  {
                    "name": 12,
                    "type": "number"
                  },
                  {
                    "name": 13,
                    "type": "number"
                  },
                  {
                    "name": 14,
                    "type": "number"
                  },
                  {
                    "name": 15,
                    "type": "number"
                  },
                  {
                    "name": 16,
                    "type": "number"
                  },
                  {
                    "name": 17,
                    "type": "number"
                  },
                  {
                    "name": 18,
                    "type": "number"
                  },
                  {
                    "name": 19,
                    "type": "number"
                  },
                  {
                    "name": 20,
                    "type": "number"
                  },
                  {
                    "name": 21,
                    "type": "number"
                  },
                  {
                    "name": 22,
                    "type": "number"
                  },
                  {
                    "name": 23,
                    "type": "number"
                  },
                  {
                    "name": 24,
                    "type": "number"
                  },
                  {
                    "name": "node_id",
                    "type": "number"
                  }
                ],
                "primaryKey": [
                  "index"
                ],
                "pandas_version": "0.20.0"
              },
              "data": [
                {
                  "0": null,
                  "1": null,
                  "2": null,
                  "3": null,
                  "4": null,
                  "5": null,
                  "6": null,
                  "7": null,
                  "8": null,
                  "9": null,
                  "10": null,
                  "11": null,
                  "12": null,
                  "13": null,
                  "14": null,
                  "15": null,
                  "16": null,
                  "17": null,
                  "18": null,
                  "19": null,
                  "20": null,
                  "21": null,
                  "22": null,
                  "23": null,
                  "24": null,
                  "index": 0,
                  "src": 1,
                  "dst": 96401,
                  "0_weight": 0.5009999871,
                  "1_weight": 0.001,
                  "2_weight": 0.001,
                  "3_weight": 0.001,
                  "4_weight": 0.001,
                  "5_weight": 0.001,
                  "6_weight": 0.001,
                  "7_weight": 0.001,
                  "node_id": null
                },
                {
                  "0": 1,
                  "1": 1,
                  "2": 0,
                  "3": 1,
                  "4": 1,
                  "5": 0,
                  "6": 1,
                  "7": 0,
                  "8": 1,
                  "9": 0,
                  "10": 1,
                  "11": 0,
                  "12": 1,
                  "13": 0,
                  "14": 1,
                  "15": 0,
                  "16": 0,
                  "17": 0,
                  "18": 0,
                  "19": 0,
                  "20": 0,
                  "21": 0,
                  "22": 0,
                  "23": 0,
                  "24": 0,
                  "index": 1,
                  "src": 96401,
                  "dst": 1,
                  "0_weight": 0.5009999871,
                  "1_weight": 0.001,
                  "2_weight": 0.001,
                  "3_weight": 0.001,
                  "4_weight": 0.001,
                  "5_weight": 0.001,
                  "6_weight": 0.001,
                  "7_weight": 0.001,
                  "node_id": 1
                },
                {
                  "0": 1,
                  "1": 1,
                  "2": 0,
                  "3": 1,
                  "4": 1,
                  "5": 0,
                  "6": 1,
                  "7": 0,
                  "8": 1,
                  "9": 0,
                  "10": 1,
                  "11": 0,
                  "12": 1,
                  "13": 0,
                  "14": 0,
                  "15": 0,
                  "16": 0,
                  "17": 0,
                  "18": 0,
                  "19": 0,
                  "20": 0,
                  "21": 0,
                  "22": 0,
                  "23": 0,
                  "24": 0,
                  "index": 2,
                  "src": 1,
                  "dst": 68343,
                  "0_weight": 0.5009999871,
                  "1_weight": 0.001,
                  "2_weight": 0.001,
                  "3_weight": 0.001,
                  "4_weight": 0.001,
                  "5_weight": 0.001,
                  "6_weight": 0.001,
                  "7_weight": 0.001,
                  "node_id": 68343
                },
                {
                  "0": 1,
                  "1": 1,
                  "2": 0,
                  "3": 1,
                  "4": 1,
                  "5": 0,
                  "6": 1,
                  "7": 0,
                  "8": 1,
                  "9": 0,
                  "10": 1,
                  "11": 0,
                  "12": 1,
                  "13": 0,
                  "14": 1,
                  "15": 0,
                  "16": 0,
                  "17": 0,
                  "18": 0,
                  "19": 0,
                  "20": 0,
                  "21": 0,
                  "22": 0,
                  "23": 0,
                  "24": 0,
                  "index": 3,
                  "src": 68343,
                  "dst": 1,
                  "0_weight": 0.5009999871,
                  "1_weight": 0.001,
                  "2_weight": 0.001,
                  "3_weight": 0.001,
                  "4_weight": 0.001,
                  "5_weight": 0.001,
                  "6_weight": 0.001,
                  "7_weight": 0.001,
                  "node_id": 1
                },
                {
                  "0": null,
                  "1": null,
                  "2": null,
                  "3": null,
                  "4": null,
                  "5": null,
                  "6": null,
                  "7": null,
                  "8": null,
                  "9": null,
                  "10": null,
                  "11": null,
                  "12": null,
                  "13": null,
                  "14": null,
                  "15": null,
                  "16": null,
                  "17": null,
                  "18": null,
                  "19": null,
                  "20": null,
                  "21": null,
                  "22": null,
                  "23": null,
                  "24": null,
                  "index": 4,
                  "src": 1,
                  "dst": 125069,
                  "0_weight": 0.5009999871,
                  "1_weight": 0.001,
                  "2_weight": 0.001,
                  "3_weight": 0.001,
                  "4_weight": 0.001,
                  "5_weight": 0.001,
                  "6_weight": 0.001,
                  "7_weight": 0.001,
                  "node_id": null
                }
              ]
            }
          },
          "metadata": {
            "bento_obj_id": "140033192839920"
          },
          "execution_count": 7
        }
      ]
    },
    {
      "cell_type": "code",
      "metadata": {
        "originalKey": "28c12fb5-5012-49a7-9acd-e60de917bf76",
        "showInput": true,
        "customInput": null,
        "collapsed": false,
        "requestMsgId": "28c12fb5-5012-49a7-9acd-e60de917bf76",
        "executionStartTime": 1681355892985,
        "executionStopTime": 1681355917166
      },
      "source": [
        "intervals_v1 = relevant_edges_tmp[['0_weight','1_weight', '2_weight', '3_weight','6_weight','4_weight', '5_weight', '7_weight']].quantile([0.75])"
      ],
      "execution_count": 8,
      "outputs": []
    },
    {
      "cell_type": "code",
      "metadata": {
        "originalKey": "ff0155b6-eeef-4b93-bd34-ec7d4ee02bd0",
        "showInput": true,
        "customInput": null,
        "collapsed": false,
        "requestMsgId": "ff0155b6-eeef-4b93-bd34-ec7d4ee02bd0",
        "executionStartTime": 1681355917259,
        "executionStopTime": 1681355917293
      },
      "source": [
        "np.array(intervals_v1.iloc[0])"
      ],
      "execution_count": 9,
      "outputs": [
        {
          "output_type": "execute_result",
          "data": {
            "text/plain": "array([0.001, 0.001, 0.001, 0.001, 0.001, 0.091, 0.115, 0.177])"
          },
          "metadata": {
            "bento_obj_id": "140033192414624"
          },
          "execution_count": 9
        }
      ]
    },
    {
      "cell_type": "code",
      "metadata": {
        "originalKey": "cc3180c6-6152-4b85-b970-4f9e081ccac9",
        "showInput": true,
        "customInput": null,
        "collapsed": false,
        "requestMsgId": "cc3180c6-6152-4b85-b970-4f9e081ccac9",
        "executionStartTime": 1681355917434,
        "executionStopTime": 1681355917454
      },
      "source": [
        ""
      ],
      "execution_count": 9,
      "outputs": []
    },
    {
      "cell_type": "code",
      "metadata": {
        "originalKey": "76a14b41-e79c-48cb-a171-4038ff321283",
        "showInput": true,
        "customInput": null,
        "collapsed": false,
        "requestMsgId": "76a14b41-e79c-48cb-a171-4038ff321283",
        "executionStartTime": 1681355917493,
        "executionStopTime": 1681355917625
      },
      "source": [
        ""
      ],
      "execution_count": 9,
      "outputs": []
    },
    {
      "cell_type": "code",
      "metadata": {
        "originalKey": "d567ad11-3239-40a8-8c0a-b879fa5b0e4f",
        "showInput": true,
        "customInput": null,
        "collapsed": false,
        "requestMsgId": "d567ad11-3239-40a8-8c0a-b879fa5b0e4f",
        "executionStartTime": 1681355917762,
        "executionStopTime": 1681356253147
      },
      "source": [
        "from sklearn.preprocessing import Binarizer\n",
        "k=0\n",
        "for j in range(8):\n",
        "    print(j)\n",
        "    transformer = Binarizer().fit(relevant_edges_tmp[[str(j)+'_weight']])\n",
        "    relevant_edges_tmp['bin_'+str(k)] = pd.DataFrame(transformer.transform((relevant_edges_tmp[[str(j)+'_weight']]<=np.array(intervals_v1.iloc[0])[j])+0).flatten())\n",
        "    print(relevant_edges_tmp.head())\n",
        "    k=k+1\n",
        "    relevant_edges_tmp['bin_'+str(k)] = pd.DataFrame(transformer.transform((relevant_edges_tmp[[str(j)+'_weight']]>np.array(intervals_v1.iloc[0])[j])+0).flatten())\n",
        "    k=k+1"
      ],
      "execution_count": 10,
      "outputs": [
        {
          "output_type": "stream",
          "name": "stdout",
          "text": [
            "0\n"
          ]
        },
        {
          "output_type": "stream",
          "name": "stdout",
          "text": [
            "     src     dst  0_weight  1_weight  2_weight  ...   22   23   24  node_id  bin_0\n0      1   96401     0.501     0.001     0.001  ...  NaN  NaN  NaN      NaN      0\n1  96401       1     0.501     0.001     0.001  ...  0.0  0.0  0.0      1.0      0\n2      1   68343     0.501     0.001     0.001  ...  0.0  0.0  0.0  68343.0      0\n3  68343       1     0.501     0.001     0.001  ...  0.0  0.0  0.0      1.0      0\n4      1  125069     0.501     0.001     0.001  ...  NaN  NaN  NaN      NaN      0\n\n[5 rows x 37 columns]\n"
          ]
        },
        {
          "output_type": "stream",
          "name": "stdout",
          "text": [
            "1\n"
          ]
        },
        {
          "output_type": "stream",
          "name": "stdout",
          "text": [
            "     src     dst  0_weight  1_weight  ...  node_id  bin_0  bin_1  bin_2\n0      1   96401     0.501     0.001  ...      NaN      0      1      1\n1  96401       1     0.501     0.001  ...      1.0      0      1      1\n2      1   68343     0.501     0.001  ...  68343.0      0      1      1\n3  68343       1     0.501     0.001  ...      1.0      0      1      1\n4      1  125069     0.501     0.001  ...      NaN      0      1      1\n\n[5 rows x 39 columns]\n"
          ]
        },
        {
          "output_type": "stream",
          "name": "stdout",
          "text": [
            "2\n"
          ]
        },
        {
          "output_type": "stream",
          "name": "stdout",
          "text": [
            "     src     dst  0_weight  1_weight  ...  bin_1  bin_2  bin_3  bin_4\n0      1   96401     0.501     0.001  ...      1      1      0      1\n1  96401       1     0.501     0.001  ...      1      1      0      1\n2      1   68343     0.501     0.001  ...      1      1      0      1\n3  68343       1     0.501     0.001  ...      1      1      0      1\n4      1  125069     0.501     0.001  ...      1      1      0      1\n\n[5 rows x 41 columns]\n"
          ]
        },
        {
          "output_type": "stream",
          "name": "stdout",
          "text": [
            "3\n"
          ]
        },
        {
          "output_type": "stream",
          "name": "stdout",
          "text": [
            "     src     dst  0_weight  1_weight  ...  bin_3  bin_4  bin_5  bin_6\n0      1   96401     0.501     0.001  ...      0      1      0      1\n1  96401       1     0.501     0.001  ...      0      1      0      1\n2      1   68343     0.501     0.001  ...      0      1      0      1\n3  68343       1     0.501     0.001  ...      0      1      0      1\n4      1  125069     0.501     0.001  ...      0      1      0      1\n\n[5 rows x 43 columns]\n"
          ]
        },
        {
          "output_type": "stream",
          "name": "stdout",
          "text": [
            "4\n"
          ]
        },
        {
          "output_type": "stream",
          "name": "stdout",
          "text": [
            "     src     dst  0_weight  1_weight  ...  bin_5  bin_6  bin_7  bin_8\n0      1   96401     0.501     0.001  ...      0      1      0      1\n1  96401       1     0.501     0.001  ...      0      1      0      1\n2      1   68343     0.501     0.001  ...      0      1      0      1\n3  68343       1     0.501     0.001  ...      0      1      0      1\n4      1  125069     0.501     0.001  ...      0      1      0      1\n\n[5 rows x 45 columns]\n"
          ]
        },
        {
          "output_type": "stream",
          "name": "stdout",
          "text": [
            "5\n"
          ]
        },
        {
          "output_type": "stream",
          "name": "stdout",
          "text": [
            "     src     dst  0_weight  1_weight  ...  bin_7  bin_8  bin_9  bin_10\n0      1   96401     0.501     0.001  ...      0      1      0       1\n1  96401       1     0.501     0.001  ...      0      1      0       1\n2      1   68343     0.501     0.001  ...      0      1      0       1\n3  68343       1     0.501     0.001  ...      0      1      0       1\n4      1  125069     0.501     0.001  ...      0      1      0       1\n\n[5 rows x 47 columns]\n"
          ]
        },
        {
          "output_type": "stream",
          "name": "stdout",
          "text": [
            "6\n"
          ]
        },
        {
          "output_type": "stream",
          "name": "stdout",
          "text": [
            "     src     dst  0_weight  1_weight  ...  bin_9  bin_10  bin_11  bin_12\n0      1   96401     0.501     0.001  ...      0       1       0       1\n1  96401       1     0.501     0.001  ...      0       1       0       1\n2      1   68343     0.501     0.001  ...      0       1       0       1\n3  68343       1     0.501     0.001  ...      0       1       0       1\n4      1  125069     0.501     0.001  ...      0       1       0       1\n\n[5 rows x 49 columns]\n"
          ]
        },
        {
          "output_type": "stream",
          "name": "stdout",
          "text": [
            "7\n"
          ]
        },
        {
          "output_type": "stream",
          "name": "stdout",
          "text": [
            "     src     dst  0_weight  1_weight  ...  bin_11  bin_12  bin_13  bin_14\n0      1   96401     0.501     0.001  ...       0       1       0       1\n1  96401       1     0.501     0.001  ...       0       1       0       1\n2      1   68343     0.501     0.001  ...       0       1       0       1\n3  68343       1     0.501     0.001  ...       0       1       0       1\n4      1  125069     0.501     0.001  ...       0       1       0       1\n\n[5 rows x 51 columns]\n"
          ]
        }
      ]
    },
    {
      "cell_type": "code",
      "metadata": {
        "originalKey": "327c77c0-844a-455a-a6e6-d1613bd37778",
        "showInput": true,
        "customInput": null,
        "collapsed": false,
        "requestMsgId": "327c77c0-844a-455a-a6e6-d1613bd37778",
        "executionStartTime": 1681356253218,
        "executionStopTime": 1681356253302
      },
      "source": [
        "print(relevant_edges_tmp.columns)"
      ],
      "execution_count": 11,
      "outputs": [
        {
          "output_type": "stream",
          "name": "stdout",
          "text": [
            "Index([     'src',      'dst', '0_weight', '1_weight', '2_weight', '3_weight',\n       '4_weight', '5_weight', '6_weight', '7_weight',          0,          1,\n                2,          3,          4,          5,          6,          7,\n                8,          9,         10,         11,         12,         13,\n               14,         15,         16,         17,         18,         19,\n               20,         21,         22,         23,         24,  'node_id',\n          'bin_0',    'bin_1',    'bin_2',    'bin_3',    'bin_4',    'bin_5',\n          'bin_6',    'bin_7',    'bin_8',    'bin_9',   'bin_10',   'bin_11',\n         'bin_12',   'bin_13',   'bin_14',   'bin_15'],\n      dtype='object')\n"
          ]
        }
      ]
    },
    {
      "cell_type": "code",
      "metadata": {
        "originalKey": "57005e5d-443a-4a34-8182-950e56690458",
        "showInput": true,
        "customInput": null,
        "collapsed": false,
        "requestMsgId": "57005e5d-443a-4a34-8182-950e56690458",
        "executionStartTime": 1681356253331,
        "executionStopTime": 1681356253347
      },
      "source": [
        ""
      ],
      "execution_count": 11,
      "outputs": []
    },
    {
      "cell_type": "code",
      "metadata": {
        "originalKey": "cc49dc3f-2461-43ad-8953-3ccefe99d9d5",
        "showInput": true,
        "customInput": null,
        "collapsed": false,
        "requestMsgId": "cc49dc3f-2461-43ad-8953-3ccefe99d9d5",
        "executionStartTime": 1681356253378,
        "executionStopTime": 1681356253487
      },
      "source": [
        "print('test')"
      ],
      "execution_count": 12,
      "outputs": [
        {
          "output_type": "stream",
          "name": "stdout",
          "text": [
            "test\n"
          ]
        }
      ]
    },
    {
      "cell_type": "code",
      "metadata": {
        "originalKey": "d21e2f8b-0ea6-4e40-888f-9ef1325acffc",
        "showInput": true,
        "customInput": null,
        "collapsed": false,
        "requestMsgId": "d21e2f8b-0ea6-4e40-888f-9ef1325acffc",
        "executionStopTime": 1681356339428,
        "executionStartTime": 1681356253516
      },
      "source": [
        "tmp = pd.DataFrame(relevant_edges_tmp[['bin_0',    'bin_1',    'bin_2',    'bin_3',    'bin_4',    'bin_5',\n",
        "        'bin_6',    'bin_7',    'bin_8',    'bin_9',   'bin_10',   'bin_11',\n",
        "        'bin_12',   'bin_13', 'bin_14',   'bin_15' ]].drop_duplicates())"
      ],
      "execution_count": 13,
      "outputs": []
    },
    {
      "cell_type": "code",
      "metadata": {
        "originalKey": "509bec63-3d23-41a7-8646-e558548b34cd",
        "showInput": true,
        "customInput": null,
        "collapsed": false,
        "requestMsgId": "509bec63-3d23-41a7-8646-e558548b34cd",
        "executionStartTime": 1681356339640,
        "executionStopTime": 1681356339735
      },
      "source": [
        "tmp.reset_index(inplace=True,drop=True)\n",
        "tmp.head()"
      ],
      "execution_count": 14,
      "outputs": [
        {
          "output_type": "execute_result",
          "data": {
            "text/plain": "   bin_0  bin_1  bin_2  bin_3  bin_4  ...  bin_11  bin_12  bin_13  bin_14  bin_15\n0      0      1      1      0      1  ...       0       1       0       1       0\n1      1      0      1      0      1  ...       0       1       0       1       0\n2      1      0      1      0      1  ...       0       1       0       0       1\n3      1      0      1      0      1  ...       1       1       0       1       0\n4      1      0      1      0      1  ...       0       1       0       1       0\n\n[5 rows x 16 columns]",
            "text/html": "<div>\n<style scoped>\n    .dataframe tbody tr th:only-of-type {\n        vertical-align: middle;\n    }\n\n    .dataframe tbody tr th {\n        vertical-align: top;\n    }\n\n    .dataframe thead th {\n        text-align: right;\n    }\n</style>\n<table border=\"1\" class=\"dataframe\">\n  <thead>\n    <tr style=\"text-align: right;\">\n      <th></th>\n      <th>bin_0</th>\n      <th>bin_1</th>\n      <th>bin_2</th>\n      <th>bin_3</th>\n      <th>bin_4</th>\n      <th>bin_5</th>\n      <th>bin_6</th>\n      <th>bin_7</th>\n      <th>bin_8</th>\n      <th>bin_9</th>\n      <th>bin_10</th>\n      <th>bin_11</th>\n      <th>bin_12</th>\n      <th>bin_13</th>\n      <th>bin_14</th>\n      <th>bin_15</th>\n    </tr>\n  </thead>\n  <tbody>\n    <tr>\n      <th>0</th>\n      <td>0</td>\n      <td>1</td>\n      <td>1</td>\n      <td>0</td>\n      <td>1</td>\n      <td>0</td>\n      <td>1</td>\n      <td>0</td>\n      <td>1</td>\n      <td>0</td>\n      <td>1</td>\n      <td>0</td>\n      <td>1</td>\n      <td>0</td>\n      <td>1</td>\n      <td>0</td>\n    </tr>\n    <tr>\n      <th>1</th>\n      <td>1</td>\n      <td>0</td>\n      <td>1</td>\n      <td>0</td>\n      <td>1</td>\n      <td>0</td>\n      <td>1</td>\n      <td>0</td>\n      <td>0</td>\n      <td>1</td>\n      <td>1</td>\n      <td>0</td>\n      <td>1</td>\n      <td>0</td>\n      <td>1</td>\n      <td>0</td>\n    </tr>\n    <tr>\n      <th>2</th>\n      <td>1</td>\n      <td>0</td>\n      <td>1</td>\n      <td>0</td>\n      <td>1</td>\n      <td>0</td>\n      <td>1</td>\n      <td>0</td>\n      <td>1</td>\n      <td>0</td>\n      <td>1</td>\n      <td>0</td>\n      <td>1</td>\n      <td>0</td>\n      <td>0</td>\n      <td>1</td>\n    </tr>\n    <tr>\n      <th>3</th>\n      <td>1</td>\n      <td>0</td>\n      <td>1</td>\n      <td>0</td>\n      <td>1</td>\n      <td>0</td>\n      <td>1</td>\n      <td>0</td>\n      <td>1</td>\n      <td>0</td>\n      <td>0</td>\n      <td>1</td>\n      <td>1</td>\n      <td>0</td>\n      <td>1</td>\n      <td>0</td>\n    </tr>\n    <tr>\n      <th>4</th>\n      <td>1</td>\n      <td>0</td>\n      <td>1</td>\n      <td>0</td>\n      <td>1</td>\n      <td>0</td>\n      <td>1</td>\n      <td>0</td>\n      <td>1</td>\n      <td>0</td>\n      <td>1</td>\n      <td>0</td>\n      <td>1</td>\n      <td>0</td>\n      <td>1</td>\n      <td>0</td>\n    </tr>\n  </tbody>\n</table>\n</div>",
            "application/vnd.dataresource+json": {
              "schema": {
                "fields": [
                  {
                    "name": "index",
                    "type": "integer"
                  },
                  {
                    "name": "bin_0",
                    "type": "integer"
                  },
                  {
                    "name": "bin_1",
                    "type": "integer"
                  },
                  {
                    "name": "bin_2",
                    "type": "integer"
                  },
                  {
                    "name": "bin_3",
                    "type": "integer"
                  },
                  {
                    "name": "bin_4",
                    "type": "integer"
                  },
                  {
                    "name": "bin_5",
                    "type": "integer"
                  },
                  {
                    "name": "bin_6",
                    "type": "integer"
                  },
                  {
                    "name": "bin_7",
                    "type": "integer"
                  },
                  {
                    "name": "bin_8",
                    "type": "integer"
                  },
                  {
                    "name": "bin_9",
                    "type": "integer"
                  },
                  {
                    "name": "bin_10",
                    "type": "integer"
                  },
                  {
                    "name": "bin_11",
                    "type": "integer"
                  },
                  {
                    "name": "bin_12",
                    "type": "integer"
                  },
                  {
                    "name": "bin_13",
                    "type": "integer"
                  },
                  {
                    "name": "bin_14",
                    "type": "integer"
                  },
                  {
                    "name": "bin_15",
                    "type": "integer"
                  }
                ],
                "primaryKey": [
                  "index"
                ],
                "pandas_version": "0.20.0"
              },
              "data": [
                {
                  "index": 0,
                  "bin_0": 0,
                  "bin_1": 1,
                  "bin_2": 1,
                  "bin_3": 0,
                  "bin_4": 1,
                  "bin_5": 0,
                  "bin_6": 1,
                  "bin_7": 0,
                  "bin_8": 1,
                  "bin_9": 0,
                  "bin_10": 1,
                  "bin_11": 0,
                  "bin_12": 1,
                  "bin_13": 0,
                  "bin_14": 1,
                  "bin_15": 0
                },
                {
                  "index": 1,
                  "bin_0": 1,
                  "bin_1": 0,
                  "bin_2": 1,
                  "bin_3": 0,
                  "bin_4": 1,
                  "bin_5": 0,
                  "bin_6": 1,
                  "bin_7": 0,
                  "bin_8": 0,
                  "bin_9": 1,
                  "bin_10": 1,
                  "bin_11": 0,
                  "bin_12": 1,
                  "bin_13": 0,
                  "bin_14": 1,
                  "bin_15": 0
                },
                {
                  "index": 2,
                  "bin_0": 1,
                  "bin_1": 0,
                  "bin_2": 1,
                  "bin_3": 0,
                  "bin_4": 1,
                  "bin_5": 0,
                  "bin_6": 1,
                  "bin_7": 0,
                  "bin_8": 1,
                  "bin_9": 0,
                  "bin_10": 1,
                  "bin_11": 0,
                  "bin_12": 1,
                  "bin_13": 0,
                  "bin_14": 0,
                  "bin_15": 1
                },
                {
                  "index": 3,
                  "bin_0": 1,
                  "bin_1": 0,
                  "bin_2": 1,
                  "bin_3": 0,
                  "bin_4": 1,
                  "bin_5": 0,
                  "bin_6": 1,
                  "bin_7": 0,
                  "bin_8": 1,
                  "bin_9": 0,
                  "bin_10": 0,
                  "bin_11": 1,
                  "bin_12": 1,
                  "bin_13": 0,
                  "bin_14": 1,
                  "bin_15": 0
                },
                {
                  "index": 4,
                  "bin_0": 1,
                  "bin_1": 0,
                  "bin_2": 1,
                  "bin_3": 0,
                  "bin_4": 1,
                  "bin_5": 0,
                  "bin_6": 1,
                  "bin_7": 0,
                  "bin_8": 1,
                  "bin_9": 0,
                  "bin_10": 1,
                  "bin_11": 0,
                  "bin_12": 1,
                  "bin_13": 0,
                  "bin_14": 1,
                  "bin_15": 0
                }
              ]
            }
          },
          "metadata": {
            "bento_obj_id": "140033191950272"
          },
          "execution_count": 14
        }
      ]
    },
    {
      "cell_type": "code",
      "metadata": {
        "originalKey": "f9852448-a7d8-4b61-93a1-2cb926918c51",
        "showInput": true,
        "customInput": null,
        "collapsed": false,
        "requestMsgId": "f9852448-a7d8-4b61-93a1-2cb926918c51",
        "executionStartTime": 1681356339768,
        "executionStopTime": 1681356339864
      },
      "source": [
        "tmp['edge_bin'] = 0\n",
        "tmp['edge_bin'] = pd.DataFrame(range(np.shape(tmp)[0]))"
      ],
      "execution_count": 15,
      "outputs": []
    },
    {
      "cell_type": "code",
      "metadata": {
        "originalKey": "f9be1614-e1b2-47de-a6f8-e03b3c3062df",
        "showInput": true,
        "customInput": null,
        "collapsed": false,
        "requestMsgId": "f9be1614-e1b2-47de-a6f8-e03b3c3062df",
        "executionStartTime": 1681356339899,
        "executionStopTime": 1681357183650
      },
      "source": [
        "relevant_edges_tmp['edge_bin']=0\n",
        "for k in np.array(tmp.edge_bin):\n",
        "    print(k)\n",
        "    relevant_edges_tmp['edge_bin'][(relevant_edges_tmp.bin_0==tmp.bin_0[k]) & \\\n",
        "(relevant_edges_tmp.bin_1==tmp.bin_1[k]) & \\\n",
        "(relevant_edges_tmp.bin_2==tmp.bin_2[k]) & \\\n",
        "(relevant_edges_tmp.bin_3==tmp.bin_3[k]) & \\\n",
        "(relevant_edges_tmp.bin_4==tmp.bin_4[k]) & \\\n",
        "(relevant_edges_tmp.bin_5==tmp.bin_5[k]) & \\\n",
        "(relevant_edges_tmp.bin_6==tmp.bin_6[k]) & \\\n",
        "(relevant_edges_tmp.bin_7==tmp.bin_7[k]) & \\\n",
        "(relevant_edges_tmp.bin_8==tmp.bin_8[k]) & \\\n",
        "(relevant_edges_tmp.bin_9==tmp.bin_9[k]) & \\\n",
        "(relevant_edges_tmp.bin_10==tmp.bin_10[k]) & \\\n",
        "(relevant_edges_tmp.bin_11==tmp.bin_11[k]) & \\\n",
        "(relevant_edges_tmp.bin_12==tmp.bin_12[k]) & \\\n",
        "(relevant_edges_tmp.bin_13==tmp.bin_13[k]) & \\\n",
        "(relevant_edges_tmp.bin_14==tmp.bin_14[k]) & \\\n",
        "(relevant_edges_tmp.bin_15==tmp.bin_15[k]) ] = tmp.edge_bin[k]"
      ],
      "execution_count": 16,
      "outputs": [
        {
          "output_type": "stream",
          "name": "stdout",
          "text": [
            "0\n"
          ]
        },
        {
          "output_type": "stream",
          "name": "stderr",
          "text": [
            "<ipython-input-16-5d312f104b87>:4: SettingWithCopyWarning:\n\n\nA value is trying to be set on a copy of a slice from a DataFrame\n\nSee the caveats in the documentation: https://pandas.pydata.org/pandas-docs/stable/user_guide/indexing.html#returning-a-view-versus-a-copy\n\n"
          ]
        },
        {
          "output_type": "stream",
          "name": "stdout",
          "text": [
            "1\n"
          ]
        },
        {
          "output_type": "stream",
          "name": "stdout",
          "text": [
            "2\n"
          ]
        },
        {
          "output_type": "stream",
          "name": "stdout",
          "text": [
            "3\n"
          ]
        },
        {
          "output_type": "stream",
          "name": "stdout",
          "text": [
            "4\n"
          ]
        },
        {
          "output_type": "stream",
          "name": "stdout",
          "text": [
            "5\n"
          ]
        },
        {
          "output_type": "stream",
          "name": "stdout",
          "text": [
            "6\n"
          ]
        },
        {
          "output_type": "stream",
          "name": "stdout",
          "text": [
            "7\n"
          ]
        },
        {
          "output_type": "stream",
          "name": "stdout",
          "text": [
            "8\n"
          ]
        },
        {
          "output_type": "stream",
          "name": "stdout",
          "text": [
            "9\n"
          ]
        },
        {
          "output_type": "stream",
          "name": "stdout",
          "text": [
            "10\n"
          ]
        },
        {
          "output_type": "stream",
          "name": "stdout",
          "text": [
            "11\n"
          ]
        },
        {
          "output_type": "stream",
          "name": "stdout",
          "text": [
            "12\n"
          ]
        },
        {
          "output_type": "stream",
          "name": "stdout",
          "text": [
            "13\n"
          ]
        },
        {
          "output_type": "stream",
          "name": "stdout",
          "text": [
            "14\n"
          ]
        },
        {
          "output_type": "stream",
          "name": "stdout",
          "text": [
            "15\n"
          ]
        },
        {
          "output_type": "stream",
          "name": "stdout",
          "text": [
            "16\n"
          ]
        },
        {
          "output_type": "stream",
          "name": "stdout",
          "text": [
            "17\n"
          ]
        },
        {
          "output_type": "stream",
          "name": "stdout",
          "text": [
            "18\n"
          ]
        },
        {
          "output_type": "stream",
          "name": "stdout",
          "text": [
            "19\n"
          ]
        },
        {
          "output_type": "stream",
          "name": "stdout",
          "text": [
            "20\n"
          ]
        },
        {
          "output_type": "stream",
          "name": "stdout",
          "text": [
            "21\n"
          ]
        },
        {
          "output_type": "stream",
          "name": "stdout",
          "text": [
            "22\n"
          ]
        },
        {
          "output_type": "stream",
          "name": "stdout",
          "text": [
            "23\n"
          ]
        },
        {
          "output_type": "stream",
          "name": "stdout",
          "text": [
            "24\n"
          ]
        },
        {
          "output_type": "stream",
          "name": "stdout",
          "text": [
            "25\n"
          ]
        },
        {
          "output_type": "stream",
          "name": "stdout",
          "text": [
            "26\n"
          ]
        },
        {
          "output_type": "stream",
          "name": "stdout",
          "text": [
            "27\n"
          ]
        },
        {
          "output_type": "stream",
          "name": "stdout",
          "text": [
            "28\n"
          ]
        },
        {
          "output_type": "stream",
          "name": "stdout",
          "text": [
            "29\n"
          ]
        },
        {
          "output_type": "stream",
          "name": "stdout",
          "text": [
            "30\n"
          ]
        },
        {
          "output_type": "stream",
          "name": "stdout",
          "text": [
            "31\n"
          ]
        },
        {
          "output_type": "stream",
          "name": "stdout",
          "text": [
            "32\n"
          ]
        },
        {
          "output_type": "stream",
          "name": "stdout",
          "text": [
            "33\n"
          ]
        },
        {
          "output_type": "stream",
          "name": "stdout",
          "text": [
            "34\n"
          ]
        },
        {
          "output_type": "stream",
          "name": "stdout",
          "text": [
            "35\n"
          ]
        },
        {
          "output_type": "stream",
          "name": "stdout",
          "text": [
            "36\n"
          ]
        },
        {
          "output_type": "stream",
          "name": "stdout",
          "text": [
            "37\n"
          ]
        },
        {
          "output_type": "stream",
          "name": "stdout",
          "text": [
            "38\n"
          ]
        },
        {
          "output_type": "stream",
          "name": "stdout",
          "text": [
            "39\n"
          ]
        },
        {
          "output_type": "stream",
          "name": "stdout",
          "text": [
            "40\n"
          ]
        },
        {
          "output_type": "stream",
          "name": "stdout",
          "text": [
            "41\n"
          ]
        },
        {
          "output_type": "stream",
          "name": "stdout",
          "text": [
            "42\n"
          ]
        },
        {
          "output_type": "stream",
          "name": "stdout",
          "text": [
            "43\n"
          ]
        },
        {
          "output_type": "stream",
          "name": "stdout",
          "text": [
            "44\n"
          ]
        },
        {
          "output_type": "stream",
          "name": "stdout",
          "text": [
            "45\n"
          ]
        },
        {
          "output_type": "stream",
          "name": "stdout",
          "text": [
            "46\n"
          ]
        },
        {
          "output_type": "stream",
          "name": "stdout",
          "text": [
            "47\n"
          ]
        },
        {
          "output_type": "stream",
          "name": "stdout",
          "text": [
            "48\n"
          ]
        },
        {
          "output_type": "stream",
          "name": "stdout",
          "text": [
            "49\n"
          ]
        },
        {
          "output_type": "stream",
          "name": "stdout",
          "text": [
            "50\n"
          ]
        },
        {
          "output_type": "stream",
          "name": "stdout",
          "text": [
            "51\n"
          ]
        },
        {
          "output_type": "stream",
          "name": "stdout",
          "text": [
            "52\n"
          ]
        },
        {
          "output_type": "stream",
          "name": "stdout",
          "text": [
            "53\n"
          ]
        },
        {
          "output_type": "stream",
          "name": "stdout",
          "text": [
            "54\n"
          ]
        },
        {
          "output_type": "stream",
          "name": "stdout",
          "text": [
            "55\n"
          ]
        },
        {
          "output_type": "stream",
          "name": "stdout",
          "text": [
            "56\n"
          ]
        },
        {
          "output_type": "stream",
          "name": "stdout",
          "text": [
            "57\n"
          ]
        },
        {
          "output_type": "stream",
          "name": "stdout",
          "text": [
            "58\n"
          ]
        },
        {
          "output_type": "stream",
          "name": "stdout",
          "text": [
            "59\n"
          ]
        },
        {
          "output_type": "stream",
          "name": "stdout",
          "text": [
            "60\n"
          ]
        },
        {
          "output_type": "stream",
          "name": "stdout",
          "text": [
            "61\n"
          ]
        },
        {
          "output_type": "stream",
          "name": "stdout",
          "text": [
            "62\n"
          ]
        },
        {
          "output_type": "stream",
          "name": "stdout",
          "text": [
            "63\n"
          ]
        },
        {
          "output_type": "stream",
          "name": "stdout",
          "text": [
            "64\n"
          ]
        },
        {
          "output_type": "stream",
          "name": "stdout",
          "text": [
            "65\n"
          ]
        },
        {
          "output_type": "stream",
          "name": "stdout",
          "text": [
            "66\n"
          ]
        },
        {
          "output_type": "stream",
          "name": "stdout",
          "text": [
            "67\n"
          ]
        },
        {
          "output_type": "stream",
          "name": "stdout",
          "text": [
            "68\n"
          ]
        },
        {
          "output_type": "stream",
          "name": "stdout",
          "text": [
            "69\n"
          ]
        },
        {
          "output_type": "stream",
          "name": "stdout",
          "text": [
            "70\n"
          ]
        },
        {
          "output_type": "stream",
          "name": "stdout",
          "text": [
            "71\n"
          ]
        },
        {
          "output_type": "stream",
          "name": "stdout",
          "text": [
            "72\n"
          ]
        },
        {
          "output_type": "stream",
          "name": "stdout",
          "text": [
            "73\n"
          ]
        },
        {
          "output_type": "stream",
          "name": "stdout",
          "text": [
            "74\n"
          ]
        },
        {
          "output_type": "stream",
          "name": "stdout",
          "text": [
            "75\n"
          ]
        },
        {
          "output_type": "stream",
          "name": "stdout",
          "text": [
            "76\n"
          ]
        },
        {
          "output_type": "stream",
          "name": "stdout",
          "text": [
            "77\n"
          ]
        },
        {
          "output_type": "stream",
          "name": "stdout",
          "text": [
            "78\n"
          ]
        },
        {
          "output_type": "stream",
          "name": "stdout",
          "text": [
            "79\n"
          ]
        },
        {
          "output_type": "stream",
          "name": "stdout",
          "text": [
            "80\n"
          ]
        },
        {
          "output_type": "stream",
          "name": "stdout",
          "text": [
            "81\n"
          ]
        },
        {
          "output_type": "stream",
          "name": "stdout",
          "text": [
            "82\n"
          ]
        },
        {
          "output_type": "stream",
          "name": "stdout",
          "text": [
            "83\n"
          ]
        },
        {
          "output_type": "stream",
          "name": "stdout",
          "text": [
            "84\n"
          ]
        },
        {
          "output_type": "stream",
          "name": "stdout",
          "text": [
            "85\n"
          ]
        },
        {
          "output_type": "stream",
          "name": "stdout",
          "text": [
            "86\n"
          ]
        },
        {
          "output_type": "stream",
          "name": "stdout",
          "text": [
            "87\n"
          ]
        },
        {
          "output_type": "stream",
          "name": "stdout",
          "text": [
            "88\n"
          ]
        },
        {
          "output_type": "stream",
          "name": "stdout",
          "text": [
            "89\n"
          ]
        },
        {
          "output_type": "stream",
          "name": "stdout",
          "text": [
            "90\n"
          ]
        },
        {
          "output_type": "stream",
          "name": "stdout",
          "text": [
            "91\n"
          ]
        },
        {
          "output_type": "stream",
          "name": "stdout",
          "text": [
            "92\n"
          ]
        },
        {
          "output_type": "stream",
          "name": "stdout",
          "text": [
            "93\n"
          ]
        },
        {
          "output_type": "stream",
          "name": "stdout",
          "text": [
            "94\n"
          ]
        },
        {
          "output_type": "stream",
          "name": "stdout",
          "text": [
            "95\n"
          ]
        },
        {
          "output_type": "stream",
          "name": "stdout",
          "text": [
            "96\n"
          ]
        },
        {
          "output_type": "stream",
          "name": "stdout",
          "text": [
            "97\n"
          ]
        },
        {
          "output_type": "stream",
          "name": "stdout",
          "text": [
            "98\n"
          ]
        },
        {
          "output_type": "stream",
          "name": "stdout",
          "text": [
            "99\n"
          ]
        },
        {
          "output_type": "stream",
          "name": "stdout",
          "text": [
            "100\n"
          ]
        },
        {
          "output_type": "stream",
          "name": "stdout",
          "text": [
            "101\n"
          ]
        },
        {
          "output_type": "stream",
          "name": "stdout",
          "text": [
            "102\n"
          ]
        },
        {
          "output_type": "stream",
          "name": "stdout",
          "text": [
            "103\n"
          ]
        },
        {
          "output_type": "stream",
          "name": "stdout",
          "text": [
            "104\n"
          ]
        },
        {
          "output_type": "stream",
          "name": "stdout",
          "text": [
            "105\n"
          ]
        },
        {
          "output_type": "stream",
          "name": "stdout",
          "text": [
            "106\n"
          ]
        },
        {
          "output_type": "stream",
          "name": "stdout",
          "text": [
            "107\n"
          ]
        },
        {
          "output_type": "stream",
          "name": "stdout",
          "text": [
            "108\n"
          ]
        },
        {
          "output_type": "stream",
          "name": "stdout",
          "text": [
            "109\n"
          ]
        },
        {
          "output_type": "stream",
          "name": "stdout",
          "text": [
            "110\n"
          ]
        },
        {
          "output_type": "stream",
          "name": "stdout",
          "text": [
            "111\n"
          ]
        },
        {
          "output_type": "stream",
          "name": "stdout",
          "text": [
            "112\n"
          ]
        },
        {
          "output_type": "stream",
          "name": "stdout",
          "text": [
            "113\n"
          ]
        },
        {
          "output_type": "stream",
          "name": "stdout",
          "text": [
            "114\n"
          ]
        },
        {
          "output_type": "stream",
          "name": "stdout",
          "text": [
            "115\n"
          ]
        },
        {
          "output_type": "stream",
          "name": "stdout",
          "text": [
            "116\n"
          ]
        },
        {
          "output_type": "stream",
          "name": "stdout",
          "text": [
            "117\n"
          ]
        },
        {
          "output_type": "stream",
          "name": "stdout",
          "text": [
            "118\n"
          ]
        },
        {
          "output_type": "stream",
          "name": "stdout",
          "text": [
            "119\n"
          ]
        },
        {
          "output_type": "stream",
          "name": "stdout",
          "text": [
            "120\n"
          ]
        },
        {
          "output_type": "stream",
          "name": "stdout",
          "text": [
            "121\n"
          ]
        },
        {
          "output_type": "stream",
          "name": "stdout",
          "text": [
            "122\n"
          ]
        },
        {
          "output_type": "stream",
          "name": "stdout",
          "text": [
            "123\n"
          ]
        },
        {
          "output_type": "stream",
          "name": "stdout",
          "text": [
            "124\n"
          ]
        },
        {
          "output_type": "stream",
          "name": "stdout",
          "text": [
            "125\n"
          ]
        },
        {
          "output_type": "stream",
          "name": "stdout",
          "text": [
            "126\n"
          ]
        },
        {
          "output_type": "stream",
          "name": "stdout",
          "text": [
            "127\n"
          ]
        }
      ]
    },
    {
      "cell_type": "code",
      "metadata": {
        "originalKey": "acd4e797-0043-4cce-9bda-0930843b8b01",
        "showInput": true,
        "customInput": null
      },
      "source": [
        ""
      ],
      "execution_count": null,
      "outputs": []
    },
    {
      "cell_type": "code",
      "metadata": {
        "originalKey": "abcd2aef-5d0b-48bc-9728-b72c8b3df555",
        "showInput": true,
        "customInput": null
      },
      "source": [
        ""
      ],
      "execution_count": null,
      "outputs": []
    },
    {
      "cell_type": "code",
      "metadata": {
        "originalKey": "d72c2d16-0318-4c32-b14b-bb787e273f22",
        "showInput": true,
        "customInput": null,
        "collapsed": false,
        "requestMsgId": "d72c2d16-0318-4c32-b14b-bb787e273f22",
        "executionStartTime": 1681358107978,
        "executionStopTime": 1681358107985,
        "customOutput": null
      },
      "source": [
        "from sklearn.ensemble import RandomForestClassifier\n",
        "from sklearn.preprocessing import StandardScaler\n",
        "\n",
        "\n",
        "# set-up loop\n",
        "#rocauc_v1_ud_w = []\n",
        "rocauc_v2_ud_w_regularized = []\n",
        "rocauc_v2_ud_w = []\n",
        "#rocauc_ud_uw = []\n",
        "for i in range(0,25): # loop through outcomes part 1\n",
        "#for i in range(25,50):\n",
        "#for i in range(50,112):\n",
        "    print(i)\n",
        "    relevant_edges = relevant_edges_tmp[[\"src\", \"dst\", \"node_id\", i, 'edge_bin']]\n",
        "    relevant_edges.columns = [\"src\", \"dst\",  \"node_id\", \"y\", 'edge_bin']\n",
        "    label1 = relevant_edges.groupby([\"src\", 'edge_bin'])[\"y\"].sum().reset_index() # same by edgebin\n",
        "    labeltotal = relevant_edges.groupby([\"src\", 'edge_bin'])[\"y\"].count().reset_index()\n",
        "    relevant_edgelist = labeltotal.merge(label1, on=[\"src\", 'edge_bin'])\n",
        "    ## this is already by edge bin\n",
        "    relevant_edgelist[\"label_0\"] = relevant_edgelist[\"y_x\"] - relevant_edgelist[\"y_y\"]\n",
        "    relevant_edgelist.rename(columns={\"y_y\": \"label_1\"}, inplace=True)\n",
        "    relevant_edgelist.drop([\"y_x\"], axis=1, inplace=True)\n",
        "\n",
        "    ## v0 - linear combination of single layers\n",
        "    normalizer = pd.DataFrame(y_train[i].value_counts(normalize=True, ascending=True))\n",
        "\n",
        "    # step 1 - one hop scores\n",
        "    step1_one_hop_scores = pd.DataFrame(\n",
        "        {\n",
        "            \"src\": relevant_edgelist.src,\n",
        "            \"edge_bin\": relevant_edgelist.edge_bin,\n",
        "            \"frac\": np.log(\n",
        "                (relevant_edgelist[\"label_1\"] + 1) / (relevant_edgelist[\"label_0\"] + 1)\n",
        "            )\n",
        "            * list((normalizer.iloc[0]) / (normalizer.iloc[1]))[0],\n",
        "        }\n",
        "    )\n",
        "    two_hop_stg_v1_m = relevant_edges.loc[relevant_edges.edge_bin==0].merge(\n",
        "            step1_one_hop_scores, left_on=[\"dst\",], right_on=[\"src\",], how=\"inner\" # keep edge_bin and one-hop scores same\n",
        "        )\n",
        "    two_hop_stg_v1_m.rename(columns={'frac':'frac'+str(k)}, inplace=True)\n",
        "\n",
        "    two_hop_stg_v1_m = two_hop_stg_v1_m.groupby(['src_x','edge_bin_x','edge_bin_y'])['frac'+str(k)].sum().reset_index()\n",
        "\n",
        "    for m in np.unique(relevant_edges.edge_bin):\n",
        "        #print(m)\n",
        "        two_hop_stg_v1_m = relevant_edges.loc[relevant_edges.edge_bin==m].merge(\n",
        "            step1_one_hop_scores, left_on=[\"dst\",], right_on=[\"src\",], how=\"inner\" # keep edge_bin and one-hop scores same\n",
        "        )\n",
        "        two_hop_stg_v1_m.rename(columns={'frac':'frac'+str(m)}, inplace=True)\n",
        "        two_hop_stg_v1_m = two_hop_stg_v1_m.groupby(['src_x','edge_bin_x','edge_bin_y'])['frac'+str(m)].sum().reset_index()\n",
        "        if m == 0:\n",
        "            t0 = pd.pivot_table(two_hop_stg_v1_m, values = 'frac'+str(m), columns = 'edge_bin_y', index = 'src_x').reset_index().fillna(0)\n",
        "            t0 = t0.add_prefix(str(m)+'_')\n",
        "            t0.rename(columns={str(m)+'_src_x':'src_x'}, inplace=True)\n",
        "        if m>0:\n",
        "            t1 = pd.pivot_table(two_hop_stg_v1_m, values = 'frac'+str(m), columns = 'edge_bin_y', index = 'src_x').reset_index().fillna(0)\n",
        "            t1 = t1.add_prefix(str(m)+'_')\n",
        "            t1.rename(columns={str(m)+'_src_x':'src_x'}, inplace=True)\n",
        "            t0 = t0.merge(t1, how = 'outer', on = 'src_x') ## confirm how to do merge\n",
        "    \n",
        "\n",
        "        two_hop_v1_valid = t0.merge(\n",
        "                y_valid[['node_id',i]], left_on=\"src_x\", right_on=\"node_id\", how=\"right\"\n",
        "            )\n",
        "    #regularized model\n",
        "    clf = LogisticRegression(penalty='l2',\n",
        "            solver='lbfgs',\n",
        "            C=10e20).fit(\n",
        "            StandardScaler().fit(two_hop_v1_valid.drop(['src_x','node_id',i], axis=1).fillna(0)).transform(two_hop_v1_valid.drop(['src_x','node_id',i], axis=1).fillna(0)), two_hop_v1_valid[i]\n",
        "            )\n",
        "\n",
        "    pred_v0 = y_test[['node_id',i]].merge(t0, right_on=\"src_x\", left_on=\"node_id\", how=\"left\")\n",
        "    print(\n",
        "        \"roc-auc, v2*: \",\n",
        "        roc_auc_score(\n",
        "            pred_v0[i],\n",
        "            #clf.predict_proba(StandardScaler.fit(pred_v0.drop(['node_id','src_x',i],axis=1).fillna(0))[:,1]\n",
        "            clf.predict_proba(StandardScaler().fit(pred_v0.drop(['src_x','node_id',i], axis=1).fillna(0)).transform(pred_v0.drop(['src_x','node_id',i], axis=1).fillna(0)))[:,1]\n",
        "        ),\n",
        "    )\n",
        "    rocauc_v2_ud_w_regularized.append(roc_auc_score(\n",
        "            pred_v0[i],\n",
        "            #clf.predict_proba(StandardScaler.fit(pred_v0.drop(['node_id','src_x',i],axis=1).fillna(0))[:,1]\n",
        "            clf.predict_proba(pred_v0.drop(['src_x','node_id',i], axis=1).fillna(0))[:,1]\n",
        "        ))\n",
        "\n",
        ""
      ],
      "execution_count": 18,
      "outputs": [
        {
          "output_type": "stream",
          "name": "stdout",
          "text": [
            "0\n"
          ]
        },
        {
          "output_type": "stream",
          "name": "stdout",
          "text": [
            "roc-auc, v2*:  0.6804185506728198\n"
          ]
        },
        {
          "output_type": "stream",
          "name": "stdout",
          "text": [
            "roc-auc, v2*:  0.6757472780184115\n"
          ]
        },
        {
          "output_type": "stream",
          "name": "stdout",
          "text": [
            "1\n"
          ]
        },
        {
          "output_type": "stream",
          "name": "stdout",
          "text": [
            "roc-auc, v2*:  0.6886667361721668\n"
          ]
        },
        {
          "output_type": "stream",
          "name": "stdout",
          "text": [
            "roc-auc, v2*:  0.6750566798282112\n"
          ]
        },
        {
          "output_type": "stream",
          "name": "stdout",
          "text": [
            "2\n"
          ]
        },
        {
          "output_type": "stream",
          "name": "stdout",
          "text": [
            "roc-auc, v2*:  0.7242262529719724\n"
          ]
        },
        {
          "output_type": "stream",
          "name": "stdout",
          "text": [
            "roc-auc, v2*:  0.7067867149076975\n"
          ]
        },
        {
          "output_type": "stream",
          "name": "stdout",
          "text": [
            "3\n"
          ]
        },
        {
          "output_type": "stream",
          "name": "stdout",
          "text": [
            "roc-auc, v2*:  0.7445378047657277\n"
          ]
        },
        {
          "output_type": "stream",
          "name": "stdout",
          "text": [
            "roc-auc, v2*:  0.7242150734614222\n"
          ]
        },
        {
          "output_type": "stream",
          "name": "stdout",
          "text": [
            "4\n"
          ]
        },
        {
          "output_type": "stream",
          "name": "stdout",
          "text": [
            "roc-auc, v2*:  0.7493584559644847\n"
          ]
        },
        {
          "output_type": "stream",
          "name": "stdout",
          "text": [
            "roc-auc, v2*:  0.7322910772921741\n"
          ]
        },
        {
          "output_type": "stream",
          "name": "stdout",
          "text": [
            "5\n"
          ]
        }
      ]
    },
    {
      "cell_type": "code",
      "metadata": {
        "originalKey": "5af8207c-740f-4697-a8eb-527f19d5f72d",
        "showInput": true,
        "customInput": null,
        "collapsed": false,
        "requestMsgId": "5af8207c-740f-4697-a8eb-527f19d5f72d",
        "executionStartTime": 1681165018497,
        "executionStopTime": 1681165018512,
        "customOutput": null
      },
      "source": [
        "# ran .py scripts\n",
        "# with open('rocauc_v2_ud_w_part1_multilayer.npy', 'wb') as f:\n",
        "# with open('rocauc_v2_ud_w_part2_multilayer.npy', 'wb') as f:\n",
        "# with open('rocauc_v2_ud_w_part3_multilayer.npy', 'wb') as f:\n",
        "#    np.save(f, rocauc_v2_ud_w_regularized)"
      ],
      "execution_count": null,
      "outputs": []
    },
    {
      "cell_type": "code",
      "metadata": {
        "originalKey": "73424a30-daba-4704-8182-e170c8c82f32",
        "showInput": true,
        "customInput": null,
        "collapsed": false,
        "requestMsgId": "73424a30-daba-4704-8182-e170c8c82f32",
        "executionStartTime": 1680625683300,
        "executionStopTime": 1680625683348
      },
      "source": [
        ""
      ],
      "execution_count": 149,
      "outputs": []
    },
    {
      "cell_type": "code",
      "metadata": {
        "originalKey": "67d0789b-2f1f-49bc-8f7d-5afe5d52be59",
        "showInput": true,
        "customInput": null
      },
      "source": [
        ""
      ],
      "execution_count": null,
      "outputs": []
    },
    {
      "cell_type": "code",
      "metadata": {
        "originalKey": "371df966-b2f0-4d0b-bd05-4ae363f499aa",
        "showInput": true,
        "customInput": null,
        "collapsed": false,
        "requestMsgId": "371df966-b2f0-4d0b-bd05-4ae363f499aa",
        "executionStartTime": 1680625683366,
        "executionStopTime": 1680625683374
      },
      "source": [
        ""
      ],
      "execution_count": 149,
      "outputs": []
    }
  ]
}
