{
  "metadata": {
    "dataExplorerConfig": {},
    "bento_stylesheets": {
      "bento/extensions/flow/main.css": true,
      "bento/extensions/kernel_selector/main.css": true,
      "bento/extensions/kernel_ui/main.css": true,
      "bento/extensions/new_kernel/main.css": true,
      "bento/extensions/system_usage/main.css": true,
      "bento/extensions/theme/main.css": true
    },
    "kernelspec": {
      "display_name": "pytorch",
      "language": "python",
      "name": "bento_kernel_pytorch",
      "cinder_runtime": false,
      "ipyflow_runtime": false,
      "metadata": {
        "kernel_name": "bento_kernel_pytorch",
        "nightly_builds": true,
        "fbpkg_supported": true,
        "cinder_runtime": false,
        "ipyflow_runtime": false,
        "is_prebuilt": true
      }
    },
    "language_info": {
      "codemirror_mode": {
        "name": "ipython",
        "version": 3
      },
      "file_extension": ".py",
      "mimetype": "text/x-python",
      "name": "python",
      "nbconvert_exporter": "python",
      "pygments_lexer": "ipython3"
    },
    "last_server_session_id": "dd5bc35f-1a13-4c33-9ff7-6d39a4164981",
    "last_kernel_id": "63ed158f-cf1a-4bf1-aa27-c823cdc863d5",
    "last_base_url": "https://devvm1422.ash0.facebook.com:8090/",
    "last_msg_id": "d7722d49-75f3710d3c62253d24cb4ed6_54",
    "outputWidgetContext": {}
  },
  "nbformat": 4,
  "nbformat_minor": 2,
  "cells": [
    {
      "cell_type": "code",
      "metadata": {
        "collapsed": false,
        "originalKey": "0dcc8b02-9d70-4763-9bb4-853eedbf1a21",
        "requestMsgId": "0dcc8b02-9d70-4763-9bb4-853eedbf1a21",
        "executionStartTime": 1681156348849,
        "executionStopTime": 1681156351544
      },
      "source": [
        "# 4/9/23\n",
        "# KM Altenburger\n",
        "\n",
        "# steps for downloading repo internally; run w/ \"pytorch kernel\"\n",
        "# sudo feature install ttls_fwdproxy\n",
        "# mgt import --src-type pypi sdist\n",
        "# mgt import --src-type pypi nvidia-cublas-cu11==11.10.3.66\n",
        "# mgt import --src-type pypi ogb\n",
        "\n",
        "import sys\n",
        "sys.path.insert(0, \"/home/kaltenburger/fbsource/ogb\")\n",
        "import matplotlib.pyplot as plt\n",
        "import networkx as nx\n",
        "import numpy as np\n",
        "import ogb\n",
        "import pandas as pd\n",
        "import torch\n",
        "\n",
        "# import torch_geometric\n",
        "from ogb.nodeproppred import NodePropPredDataset\n",
        "from sklearn.linear_model import LogisticRegression\n",
        "from sklearn.metrics import auc, precision_recall_curve, roc_auc_score\n",
        "from sklearn.model_selection import train_test_split"
      ],
      "execution_count": 2,
      "outputs": [
        {
          "output_type": "stream",
          "name": "stderr",
          "text": [
            "\nBad key \"axes.color_cycle\" on line 214 in\n/home/kaltenburger/.matplotlib/matplotlibrc.\nYou probably need to get an updated matplotlibrc file from\nhttps://github.com/matplotlib/matplotlib/blob/v3.1.3/matplotlibrc.template\nor from the matplotlib source distribution\n"
          ]
        },
        {
          "output_type": "stream",
          "name": "stderr",
          "text": [
            "I0410 125229.574 _utils_internal.py:179] NCCL_DEBUG env var is set to None\n"
          ]
        },
        {
          "output_type": "stream",
          "name": "stderr",
          "text": [
            "I0410 125229.575 _utils_internal.py:197] NCCL_DEBUG is forced to WARN from None\n"
          ]
        }
      ]
    },
    {
      "cell_type": "markdown",
      "metadata": {
        "originalKey": "0eb50079-caca-4391-bdb5-32bf6d7eaabc",
        "showInput": false,
        "customInput": null
      },
      "source": [
        "### read & set-up dataset\n",
        ""
      ]
    },
    {
      "cell_type": "code",
      "metadata": {
        "originalKey": "5dea2348-0c03-423c-bbe0-62cf3518bca9",
        "showInput": true,
        "customInput": null,
        "collapsed": false,
        "requestMsgId": "5dea2348-0c03-423c-bbe0-62cf3518bca9",
        "executionStartTime": 1681156351643,
        "executionStopTime": 1681156369668
      },
      "source": [
        "dataset = NodePropPredDataset(name='ogbn-proteins')\n",
        "g = dataset.graph # get edgelist and graph metadata\n",
        "y = dataset.labels # outcomes\n",
        "node_species_df = pd.DataFrame({'node_id':range(len(g['node_species'].flatten())), 'node_species': g['node_species'].flatten()})\n",
        "node_species_df.head()"
      ],
      "execution_count": 3,
      "outputs": [
        {
          "output_type": "execute_result",
          "data": {
            "text/plain": "   node_id  node_species\n0        0          3702\n1        1          3702\n2        2          3702\n3        3          3702\n4        4          3702",
            "text/html": "<div>\n<style scoped>\n    .dataframe tbody tr th:only-of-type {\n        vertical-align: middle;\n    }\n\n    .dataframe tbody tr th {\n        vertical-align: top;\n    }\n\n    .dataframe thead th {\n        text-align: right;\n    }\n</style>\n<table border=\"1\" class=\"dataframe\">\n  <thead>\n    <tr style=\"text-align: right;\">\n      <th></th>\n      <th>node_id</th>\n      <th>node_species</th>\n    </tr>\n  </thead>\n  <tbody>\n    <tr>\n      <th>0</th>\n      <td>0</td>\n      <td>3702</td>\n    </tr>\n    <tr>\n      <th>1</th>\n      <td>1</td>\n      <td>3702</td>\n    </tr>\n    <tr>\n      <th>2</th>\n      <td>2</td>\n      <td>3702</td>\n    </tr>\n    <tr>\n      <th>3</th>\n      <td>3</td>\n      <td>3702</td>\n    </tr>\n    <tr>\n      <th>4</th>\n      <td>4</td>\n      <td>3702</td>\n    </tr>\n  </tbody>\n</table>\n</div>",
            "application/vnd.dataresource+json": {
              "schema": {
                "fields": [
                  {
                    "name": "index",
                    "type": "integer"
                  },
                  {
                    "name": "node_id",
                    "type": "integer"
                  },
                  {
                    "name": "node_species",
                    "type": "integer"
                  }
                ],
                "primaryKey": [
                  "index"
                ],
                "pandas_version": "0.20.0"
              },
              "data": [
                {
                  "index": 0,
                  "node_id": 0,
                  "node_species": 3702
                },
                {
                  "index": 1,
                  "node_id": 1,
                  "node_species": 3702
                },
                {
                  "index": 2,
                  "node_id": 2,
                  "node_species": 3702
                },
                {
                  "index": 3,
                  "node_id": 3,
                  "node_species": 3702
                },
                {
                  "index": 4,
                  "node_id": 4,
                  "node_species": 3702
                }
              ]
            }
          },
          "metadata": {
            "bento_obj_id": "140485697304944"
          },
          "execution_count": 3
        }
      ]
    },
    {
      "cell_type": "code",
      "metadata": {
        "originalKey": "9860c30c-0a2f-4a32-a721-4e917c07bf23",
        "showInput": true,
        "customInput": null,
        "collapsed": false,
        "requestMsgId": "9860c30c-0a2f-4a32-a721-4e917c07bf23",
        "executionStartTime": 1681156369704,
        "executionStopTime": 1681156369752
      },
      "source": [
        "# create edgelist\n",
        "edge_list_df = pd.DataFrame(g[\"edge_index\"].T)\n",
        "edge_list_df.columns = ['src','dst']\n",
        "edge_list_df.head()"
      ],
      "execution_count": 4,
      "outputs": [
        {
          "output_type": "execute_result",
          "data": {
            "text/plain": "     src     dst\n0      1   96401\n1  96401       1\n2      1   68343\n3  68343       1\n4      1  125069",
            "text/html": "<div>\n<style scoped>\n    .dataframe tbody tr th:only-of-type {\n        vertical-align: middle;\n    }\n\n    .dataframe tbody tr th {\n        vertical-align: top;\n    }\n\n    .dataframe thead th {\n        text-align: right;\n    }\n</style>\n<table border=\"1\" class=\"dataframe\">\n  <thead>\n    <tr style=\"text-align: right;\">\n      <th></th>\n      <th>src</th>\n      <th>dst</th>\n    </tr>\n  </thead>\n  <tbody>\n    <tr>\n      <th>0</th>\n      <td>1</td>\n      <td>96401</td>\n    </tr>\n    <tr>\n      <th>1</th>\n      <td>96401</td>\n      <td>1</td>\n    </tr>\n    <tr>\n      <th>2</th>\n      <td>1</td>\n      <td>68343</td>\n    </tr>\n    <tr>\n      <th>3</th>\n      <td>68343</td>\n      <td>1</td>\n    </tr>\n    <tr>\n      <th>4</th>\n      <td>1</td>\n      <td>125069</td>\n    </tr>\n  </tbody>\n</table>\n</div>",
            "application/vnd.dataresource+json": {
              "schema": {
                "fields": [
                  {
                    "name": "index",
                    "type": "integer"
                  },
                  {
                    "name": "src",
                    "type": "integer"
                  },
                  {
                    "name": "dst",
                    "type": "integer"
                  }
                ],
                "primaryKey": [
                  "index"
                ],
                "pandas_version": "0.20.0"
              },
              "data": [
                {
                  "index": 0,
                  "src": 1,
                  "dst": 96401
                },
                {
                  "index": 1,
                  "src": 96401,
                  "dst": 1
                },
                {
                  "index": 2,
                  "src": 1,
                  "dst": 68343
                },
                {
                  "index": 3,
                  "src": 68343,
                  "dst": 1
                },
                {
                  "index": 4,
                  "src": 1,
                  "dst": 125069
                }
              ]
            }
          },
          "metadata": {
            "bento_obj_id": "140485524884880"
          },
          "execution_count": 4
        }
      ]
    },
    {
      "cell_type": "code",
      "metadata": {
        "originalKey": "39c0e22e-adf9-4a78-8388-da0537548f20",
        "showInput": true,
        "customInput": null,
        "collapsed": false,
        "requestMsgId": "39c0e22e-adf9-4a78-8388-da0537548f20",
        "executionStartTime": 1681156369813,
        "executionStopTime": 1681156423739
      },
      "source": [
        "# sanity check on inter-species connections\n",
        "edge_list_df_check = edge_list_df.merge(node_species_df, how = 'left', left_on = 'src', right_on = 'node_id')\n",
        "edge_list_df_check.drop('node_id', axis = 1, inplace=True)\n",
        "edge_list_df_check = edge_list_df_check.merge(node_species_df, how = 'left', left_on = 'dst', right_on = 'node_id')\n",
        "edge_list_df_check.drop('node_id', axis = 1, inplace=True)\n",
        "#edge_list_df_check.head()\n",
        "print(np.mean(edge_list_df_check['node_species_x']==edge_list_df_check['node_species_y']))\n",
        "print(np.mean(edge_list_df_check['node_species_x']!=edge_list_df_check['node_species_y']))"
      ],
      "execution_count": 5,
      "outputs": [
        {
          "output_type": "stream",
          "name": "stdout",
          "text": [
            "0.8059610954678583\n"
          ]
        },
        {
          "output_type": "stream",
          "name": "stdout",
          "text": [
            "0.1940389045321417\n"
          ]
        }
      ]
    },
    {
      "cell_type": "code",
      "metadata": {
        "originalKey": "d9c4581d-59ce-4a41-8cd2-1a22e7e86a8e",
        "showInput": true,
        "customInput": null,
        "collapsed": false,
        "requestMsgId": "d9c4581d-59ce-4a41-8cd2-1a22e7e86a8e",
        "executionStartTime": 1681156423800,
        "executionStopTime": 1681156423854
      },
      "source": [
        "y0 = pd.DataFrame(y)\n",
        "#y0 = y0.iloc[:,0:25] # part I\n",
        "#y0 = y0.iloc[:,25:50] # part II\n",
        "y0 = y0.iloc[:,50:112] # part II\n",
        "y0['node_id'] = range(len(y0[50])) # change here for each part\n",
        "    \n",
        "split_idx = dataset.get_idx_split()\n",
        "train_idx, valid_idx, test_idx = split_idx[\"train\"], split_idx[\"valid\"], split_idx[\"test\"]\n",
        "\n",
        "X_train = y0['node_id'].iloc[train_idx]\n",
        "y_train = y0.iloc[train_idx]\n",
        "\n",
        "X_valid = y0['node_id'].iloc[valid_idx]\n",
        "X_test = y0['node_id'].iloc[test_idx]\n",
        "y_valid = y0.iloc[valid_idx]\n",
        "y_test = y0.iloc[test_idx]\n",
        "\n",
        ""
      ],
      "execution_count": 6,
      "outputs": []
    },
    {
      "cell_type": "code",
      "metadata": {
        "originalKey": "3cddc904-59ac-4d16-b7e2-1150e1e13827",
        "showInput": true,
        "customInput": null,
        "collapsed": false,
        "requestMsgId": "3cddc904-59ac-4d16-b7e2-1150e1e13827",
        "executionStartTime": 1681156424006,
        "executionStopTime": 1681156530228
      },
      "source": [
        "edge_w = pd.DataFrame(g['edge_feat'])\n",
        "edge_w = edge_w.add_suffix('_weight')\n",
        "edge_list_df = pd.concat([edge_list_df, edge_w], axis=1)\n",
        "#edge_list_df.head()\n",
        "# w0 = edge_w[j]\n",
        "# edge_list_df['weight'] = w0\n",
        "# edge_list_df.head()\n",
        "# # merge in labels for training nodes on a user's connections\n",
        "relevant_edges_tmp = edge_list_df.merge(y_train, left_on = 'dst', right_on='node_id', how = 'left')\n",
        "relevant_edges_tmp.head()"
      ],
      "execution_count": 7,
      "outputs": [
        {
          "output_type": "execute_result",
          "data": {
            "text/plain": "     src     dst  0_weight  1_weight  2_weight  ...  108  109  110  111  node_id\n0      1   96401     0.501     0.001     0.001  ...  NaN  NaN  NaN  NaN      NaN\n1  96401       1     0.501     0.001     0.001  ...  0.0  0.0  0.0  0.0      1.0\n2      1   68343     0.501     0.001     0.001  ...  0.0  0.0  0.0  0.0  68343.0\n3  68343       1     0.501     0.001     0.001  ...  0.0  0.0  0.0  0.0      1.0\n4      1  125069     0.501     0.001     0.001  ...  NaN  NaN  NaN  NaN      NaN\n\n[5 rows x 73 columns]",
            "text/html": "<div>\n<style scoped>\n    .dataframe tbody tr th:only-of-type {\n        vertical-align: middle;\n    }\n\n    .dataframe tbody tr th {\n        vertical-align: top;\n    }\n\n    .dataframe thead th {\n        text-align: right;\n    }\n</style>\n<table border=\"1\" class=\"dataframe\">\n  <thead>\n    <tr style=\"text-align: right;\">\n      <th></th>\n      <th>src</th>\n      <th>dst</th>\n      <th>0_weight</th>\n      <th>1_weight</th>\n      <th>2_weight</th>\n      <th>3_weight</th>\n      <th>4_weight</th>\n      <th>5_weight</th>\n      <th>6_weight</th>\n      <th>7_weight</th>\n      <th>50</th>\n      <th>51</th>\n      <th>52</th>\n      <th>53</th>\n      <th>54</th>\n      <th>55</th>\n      <th>56</th>\n      <th>57</th>\n      <th>58</th>\n      <th>59</th>\n      <th>60</th>\n      <th>61</th>\n      <th>62</th>\n      <th>63</th>\n      <th>64</th>\n      <th>65</th>\n      <th>66</th>\n      <th>67</th>\n      <th>68</th>\n      <th>69</th>\n      <th>70</th>\n      <th>71</th>\n      <th>72</th>\n      <th>73</th>\n      <th>74</th>\n      <th>75</th>\n      <th>76</th>\n      <th>77</th>\n      <th>78</th>\n      <th>79</th>\n      <th>80</th>\n      <th>81</th>\n      <th>82</th>\n      <th>83</th>\n      <th>84</th>\n      <th>85</th>\n      <th>86</th>\n      <th>87</th>\n      <th>88</th>\n      <th>89</th>\n      <th>90</th>\n      <th>91</th>\n      <th>92</th>\n      <th>93</th>\n      <th>94</th>\n      <th>95</th>\n      <th>96</th>\n      <th>97</th>\n      <th>98</th>\n      <th>99</th>\n      <th>100</th>\n      <th>101</th>\n      <th>102</th>\n      <th>103</th>\n      <th>104</th>\n      <th>105</th>\n      <th>106</th>\n      <th>107</th>\n      <th>108</th>\n      <th>109</th>\n      <th>110</th>\n      <th>111</th>\n      <th>node_id</th>\n    </tr>\n  </thead>\n  <tbody>\n    <tr>\n      <th>0</th>\n      <td>1</td>\n      <td>96401</td>\n      <td>0.501</td>\n      <td>0.001</td>\n      <td>0.001</td>\n      <td>0.001</td>\n      <td>0.001</td>\n      <td>0.001</td>\n      <td>0.001</td>\n      <td>0.001</td>\n      <td>NaN</td>\n      <td>NaN</td>\n      <td>NaN</td>\n      <td>NaN</td>\n      <td>NaN</td>\n      <td>NaN</td>\n      <td>NaN</td>\n      <td>NaN</td>\n      <td>NaN</td>\n      <td>NaN</td>\n      <td>NaN</td>\n      <td>NaN</td>\n      <td>NaN</td>\n      <td>NaN</td>\n      <td>NaN</td>\n      <td>NaN</td>\n      <td>NaN</td>\n      <td>NaN</td>\n      <td>NaN</td>\n      <td>NaN</td>\n      <td>NaN</td>\n      <td>NaN</td>\n      <td>NaN</td>\n      <td>NaN</td>\n      <td>NaN</td>\n      <td>NaN</td>\n      <td>NaN</td>\n      <td>NaN</td>\n      <td>NaN</td>\n      <td>NaN</td>\n      <td>NaN</td>\n      <td>NaN</td>\n      <td>NaN</td>\n      <td>NaN</td>\n      <td>NaN</td>\n      <td>NaN</td>\n      <td>NaN</td>\n      <td>NaN</td>\n      <td>NaN</td>\n      <td>NaN</td>\n      <td>NaN</td>\n      <td>NaN</td>\n      <td>NaN</td>\n      <td>NaN</td>\n      <td>NaN</td>\n      <td>NaN</td>\n      <td>NaN</td>\n      <td>NaN</td>\n      <td>NaN</td>\n      <td>NaN</td>\n      <td>NaN</td>\n      <td>NaN</td>\n      <td>NaN</td>\n      <td>NaN</td>\n      <td>NaN</td>\n      <td>NaN</td>\n      <td>NaN</td>\n      <td>NaN</td>\n      <td>NaN</td>\n      <td>NaN</td>\n      <td>NaN</td>\n      <td>NaN</td>\n      <td>NaN</td>\n    </tr>\n    <tr>\n      <th>1</th>\n      <td>96401</td>\n      <td>1</td>\n      <td>0.501</td>\n      <td>0.001</td>\n      <td>0.001</td>\n      <td>0.001</td>\n      <td>0.001</td>\n      <td>0.001</td>\n      <td>0.001</td>\n      <td>0.001</td>\n      <td>0.0</td>\n      <td>0.0</td>\n      <td>0.0</td>\n      <td>1.0</td>\n      <td>1.0</td>\n      <td>1.0</td>\n      <td>0.0</td>\n      <td>1.0</td>\n      <td>0.0</td>\n      <td>0.0</td>\n      <td>0.0</td>\n      <td>0.0</td>\n      <td>0.0</td>\n      <td>0.0</td>\n      <td>0.0</td>\n      <td>0.0</td>\n      <td>1.0</td>\n      <td>1.0</td>\n      <td>0.0</td>\n      <td>0.0</td>\n      <td>0.0</td>\n      <td>0.0</td>\n      <td>0.0</td>\n      <td>0.0</td>\n      <td>0.0</td>\n      <td>1.0</td>\n      <td>0.0</td>\n      <td>0.0</td>\n      <td>0.0</td>\n      <td>0.0</td>\n      <td>0.0</td>\n      <td>0.0</td>\n      <td>0.0</td>\n      <td>0.0</td>\n      <td>0.0</td>\n      <td>0.0</td>\n      <td>0.0</td>\n      <td>0.0</td>\n      <td>0.0</td>\n      <td>0.0</td>\n      <td>0.0</td>\n      <td>0.0</td>\n      <td>0.0</td>\n      <td>0.0</td>\n      <td>0.0</td>\n      <td>0.0</td>\n      <td>0.0</td>\n      <td>0.0</td>\n      <td>0.0</td>\n      <td>0.0</td>\n      <td>0.0</td>\n      <td>0.0</td>\n      <td>0.0</td>\n      <td>0.0</td>\n      <td>0.0</td>\n      <td>0.0</td>\n      <td>0.0</td>\n      <td>0.0</td>\n      <td>0.0</td>\n      <td>0.0</td>\n      <td>0.0</td>\n      <td>0.0</td>\n      <td>1.0</td>\n    </tr>\n    <tr>\n      <th>2</th>\n      <td>1</td>\n      <td>68343</td>\n      <td>0.501</td>\n      <td>0.001</td>\n      <td>0.001</td>\n      <td>0.001</td>\n      <td>0.001</td>\n      <td>0.001</td>\n      <td>0.001</td>\n      <td>0.001</td>\n      <td>0.0</td>\n      <td>0.0</td>\n      <td>0.0</td>\n      <td>1.0</td>\n      <td>0.0</td>\n      <td>1.0</td>\n      <td>0.0</td>\n      <td>0.0</td>\n      <td>0.0</td>\n      <td>0.0</td>\n      <td>0.0</td>\n      <td>0.0</td>\n      <td>0.0</td>\n      <td>0.0</td>\n      <td>0.0</td>\n      <td>0.0</td>\n      <td>1.0</td>\n      <td>1.0</td>\n      <td>0.0</td>\n      <td>0.0</td>\n      <td>0.0</td>\n      <td>0.0</td>\n      <td>0.0</td>\n      <td>0.0</td>\n      <td>0.0</td>\n      <td>1.0</td>\n      <td>0.0</td>\n      <td>0.0</td>\n      <td>0.0</td>\n      <td>0.0</td>\n      <td>0.0</td>\n      <td>0.0</td>\n      <td>0.0</td>\n      <td>0.0</td>\n      <td>0.0</td>\n      <td>0.0</td>\n      <td>0.0</td>\n      <td>0.0</td>\n      <td>0.0</td>\n      <td>0.0</td>\n      <td>0.0</td>\n      <td>0.0</td>\n      <td>0.0</td>\n      <td>0.0</td>\n      <td>0.0</td>\n      <td>0.0</td>\n      <td>0.0</td>\n      <td>0.0</td>\n      <td>0.0</td>\n      <td>0.0</td>\n      <td>0.0</td>\n      <td>0.0</td>\n      <td>0.0</td>\n      <td>0.0</td>\n      <td>0.0</td>\n      <td>0.0</td>\n      <td>0.0</td>\n      <td>0.0</td>\n      <td>0.0</td>\n      <td>0.0</td>\n      <td>0.0</td>\n      <td>0.0</td>\n      <td>68343.0</td>\n    </tr>\n    <tr>\n      <th>3</th>\n      <td>68343</td>\n      <td>1</td>\n      <td>0.501</td>\n      <td>0.001</td>\n      <td>0.001</td>\n      <td>0.001</td>\n      <td>0.001</td>\n      <td>0.001</td>\n      <td>0.001</td>\n      <td>0.001</td>\n      <td>0.0</td>\n      <td>0.0</td>\n      <td>0.0</td>\n      <td>1.0</td>\n      <td>1.0</td>\n      <td>1.0</td>\n      <td>0.0</td>\n      <td>1.0</td>\n      <td>0.0</td>\n      <td>0.0</td>\n      <td>0.0</td>\n      <td>0.0</td>\n      <td>0.0</td>\n      <td>0.0</td>\n      <td>0.0</td>\n      <td>0.0</td>\n      <td>1.0</td>\n      <td>1.0</td>\n      <td>0.0</td>\n      <td>0.0</td>\n      <td>0.0</td>\n      <td>0.0</td>\n      <td>0.0</td>\n      <td>0.0</td>\n      <td>0.0</td>\n      <td>1.0</td>\n      <td>0.0</td>\n      <td>0.0</td>\n      <td>0.0</td>\n      <td>0.0</td>\n      <td>0.0</td>\n      <td>0.0</td>\n      <td>0.0</td>\n      <td>0.0</td>\n      <td>0.0</td>\n      <td>0.0</td>\n      <td>0.0</td>\n      <td>0.0</td>\n      <td>0.0</td>\n      <td>0.0</td>\n      <td>0.0</td>\n      <td>0.0</td>\n      <td>0.0</td>\n      <td>0.0</td>\n      <td>0.0</td>\n      <td>0.0</td>\n      <td>0.0</td>\n      <td>0.0</td>\n      <td>0.0</td>\n      <td>0.0</td>\n      <td>0.0</td>\n      <td>0.0</td>\n      <td>0.0</td>\n      <td>0.0</td>\n      <td>0.0</td>\n      <td>0.0</td>\n      <td>0.0</td>\n      <td>0.0</td>\n      <td>0.0</td>\n      <td>0.0</td>\n      <td>0.0</td>\n      <td>0.0</td>\n      <td>1.0</td>\n    </tr>\n    <tr>\n      <th>4</th>\n      <td>1</td>\n      <td>125069</td>\n      <td>0.501</td>\n      <td>0.001</td>\n      <td>0.001</td>\n      <td>0.001</td>\n      <td>0.001</td>\n      <td>0.001</td>\n      <td>0.001</td>\n      <td>0.001</td>\n      <td>NaN</td>\n      <td>NaN</td>\n      <td>NaN</td>\n      <td>NaN</td>\n      <td>NaN</td>\n      <td>NaN</td>\n      <td>NaN</td>\n      <td>NaN</td>\n      <td>NaN</td>\n      <td>NaN</td>\n      <td>NaN</td>\n      <td>NaN</td>\n      <td>NaN</td>\n      <td>NaN</td>\n      <td>NaN</td>\n      <td>NaN</td>\n      <td>NaN</td>\n      <td>NaN</td>\n      <td>NaN</td>\n      <td>NaN</td>\n      <td>NaN</td>\n      <td>NaN</td>\n      <td>NaN</td>\n      <td>NaN</td>\n      <td>NaN</td>\n      <td>NaN</td>\n      <td>NaN</td>\n      <td>NaN</td>\n      <td>NaN</td>\n      <td>NaN</td>\n      <td>NaN</td>\n      <td>NaN</td>\n      <td>NaN</td>\n      <td>NaN</td>\n      <td>NaN</td>\n      <td>NaN</td>\n      <td>NaN</td>\n      <td>NaN</td>\n      <td>NaN</td>\n      <td>NaN</td>\n      <td>NaN</td>\n      <td>NaN</td>\n      <td>NaN</td>\n      <td>NaN</td>\n      <td>NaN</td>\n      <td>NaN</td>\n      <td>NaN</td>\n      <td>NaN</td>\n      <td>NaN</td>\n      <td>NaN</td>\n      <td>NaN</td>\n      <td>NaN</td>\n      <td>NaN</td>\n      <td>NaN</td>\n      <td>NaN</td>\n      <td>NaN</td>\n      <td>NaN</td>\n      <td>NaN</td>\n      <td>NaN</td>\n      <td>NaN</td>\n      <td>NaN</td>\n      <td>NaN</td>\n      <td>NaN</td>\n    </tr>\n  </tbody>\n</table>\n</div>",
            "application/vnd.dataresource+json": {
              "schema": {
                "fields": [
                  {
                    "name": "index",
                    "type": "integer"
                  },
                  {
                    "name": "src",
                    "type": "integer"
                  },
                  {
                    "name": "dst",
                    "type": "integer"
                  },
                  {
                    "name": "0_weight",
                    "type": "number"
                  },
                  {
                    "name": "1_weight",
                    "type": "number"
                  },
                  {
                    "name": "2_weight",
                    "type": "number"
                  },
                  {
                    "name": "3_weight",
                    "type": "number"
                  },
                  {
                    "name": "4_weight",
                    "type": "number"
                  },
                  {
                    "name": "5_weight",
                    "type": "number"
                  },
                  {
                    "name": "6_weight",
                    "type": "number"
                  },
                  {
                    "name": "7_weight",
                    "type": "number"
                  },
                  {
                    "name": 50,
                    "type": "number"
                  },
                  {
                    "name": 51,
                    "type": "number"
                  },
                  {
                    "name": 52,
                    "type": "number"
                  },
                  {
                    "name": 53,
                    "type": "number"
                  },
                  {
                    "name": 54,
                    "type": "number"
                  },
                  {
                    "name": 55,
                    "type": "number"
                  },
                  {
                    "name": 56,
                    "type": "number"
                  },
                  {
                    "name": 57,
                    "type": "number"
                  },
                  {
                    "name": 58,
                    "type": "number"
                  },
                  {
                    "name": 59,
                    "type": "number"
                  },
                  {
                    "name": 60,
                    "type": "number"
                  },
                  {
                    "name": 61,
                    "type": "number"
                  },
                  {
                    "name": 62,
                    "type": "number"
                  },
                  {
                    "name": 63,
                    "type": "number"
                  },
                  {
                    "name": 64,
                    "type": "number"
                  },
                  {
                    "name": 65,
                    "type": "number"
                  },
                  {
                    "name": 66,
                    "type": "number"
                  },
                  {
                    "name": 67,
                    "type": "number"
                  },
                  {
                    "name": 68,
                    "type": "number"
                  },
                  {
                    "name": 69,
                    "type": "number"
                  },
                  {
                    "name": 70,
                    "type": "number"
                  },
                  {
                    "name": 71,
                    "type": "number"
                  },
                  {
                    "name": 72,
                    "type": "number"
                  },
                  {
                    "name": 73,
                    "type": "number"
                  },
                  {
                    "name": 74,
                    "type": "number"
                  },
                  {
                    "name": 75,
                    "type": "number"
                  },
                  {
                    "name": 76,
                    "type": "number"
                  },
                  {
                    "name": 77,
                    "type": "number"
                  },
                  {
                    "name": 78,
                    "type": "number"
                  },
                  {
                    "name": 79,
                    "type": "number"
                  },
                  {
                    "name": 80,
                    "type": "number"
                  },
                  {
                    "name": 81,
                    "type": "number"
                  },
                  {
                    "name": 82,
                    "type": "number"
                  },
                  {
                    "name": 83,
                    "type": "number"
                  },
                  {
                    "name": 84,
                    "type": "number"
                  },
                  {
                    "name": 85,
                    "type": "number"
                  },
                  {
                    "name": 86,
                    "type": "number"
                  },
                  {
                    "name": 87,
                    "type": "number"
                  },
                  {
                    "name": 88,
                    "type": "number"
                  },
                  {
                    "name": 89,
                    "type": "number"
                  },
                  {
                    "name": 90,
                    "type": "number"
                  },
                  {
                    "name": 91,
                    "type": "number"
                  },
                  {
                    "name": 92,
                    "type": "number"
                  },
                  {
                    "name": 93,
                    "type": "number"
                  },
                  {
                    "name": 94,
                    "type": "number"
                  },
                  {
                    "name": 95,
                    "type": "number"
                  },
                  {
                    "name": 96,
                    "type": "number"
                  },
                  {
                    "name": 97,
                    "type": "number"
                  },
                  {
                    "name": 98,
                    "type": "number"
                  },
                  {
                    "name": 99,
                    "type": "number"
                  },
                  {
                    "name": 100,
                    "type": "number"
                  },
                  {
                    "name": 101,
                    "type": "number"
                  },
                  {
                    "name": 102,
                    "type": "number"
                  },
                  {
                    "name": 103,
                    "type": "number"
                  },
                  {
                    "name": 104,
                    "type": "number"
                  },
                  {
                    "name": 105,
                    "type": "number"
                  },
                  {
                    "name": 106,
                    "type": "number"
                  },
                  {
                    "name": 107,
                    "type": "number"
                  },
                  {
                    "name": 108,
                    "type": "number"
                  },
                  {
                    "name": 109,
                    "type": "number"
                  },
                  {
                    "name": 110,
                    "type": "number"
                  },
                  {
                    "name": 111,
                    "type": "number"
                  },
                  {
                    "name": "node_id",
                    "type": "number"
                  }
                ],
                "primaryKey": [
                  "index"
                ],
                "pandas_version": "0.20.0"
              },
              "data": [
                {
                  "50": null,
                  "51": null,
                  "52": null,
                  "53": null,
                  "54": null,
                  "55": null,
                  "56": null,
                  "57": null,
                  "58": null,
                  "59": null,
                  "60": null,
                  "61": null,
                  "62": null,
                  "63": null,
                  "64": null,
                  "65": null,
                  "66": null,
                  "67": null,
                  "68": null,
                  "69": null,
                  "70": null,
                  "71": null,
                  "72": null,
                  "73": null,
                  "74": null,
                  "75": null,
                  "76": null,
                  "77": null,
                  "78": null,
                  "79": null,
                  "80": null,
                  "81": null,
                  "82": null,
                  "83": null,
                  "84": null,
                  "85": null,
                  "86": null,
                  "87": null,
                  "88": null,
                  "89": null,
                  "90": null,
                  "91": null,
                  "92": null,
                  "93": null,
                  "94": null,
                  "95": null,
                  "96": null,
                  "97": null,
                  "98": null,
                  "99": null,
                  "100": null,
                  "101": null,
                  "102": null,
                  "103": null,
                  "104": null,
                  "105": null,
                  "106": null,
                  "107": null,
                  "108": null,
                  "109": null,
                  "110": null,
                  "111": null,
                  "index": 0,
                  "src": 1,
                  "dst": 96401,
                  "0_weight": 0.5009999871,
                  "1_weight": 0.001,
                  "2_weight": 0.001,
                  "3_weight": 0.001,
                  "4_weight": 0.001,
                  "5_weight": 0.001,
                  "6_weight": 0.001,
                  "7_weight": 0.001,
                  "node_id": null
                },
                {
                  "50": 0,
                  "51": 0,
                  "52": 0,
                  "53": 1,
                  "54": 1,
                  "55": 1,
                  "56": 0,
                  "57": 1,
                  "58": 0,
                  "59": 0,
                  "60": 0,
                  "61": 0,
                  "62": 0,
                  "63": 0,
                  "64": 0,
                  "65": 0,
                  "66": 1,
                  "67": 1,
                  "68": 0,
                  "69": 0,
                  "70": 0,
                  "71": 0,
                  "72": 0,
                  "73": 0,
                  "74": 0,
                  "75": 1,
                  "76": 0,
                  "77": 0,
                  "78": 0,
                  "79": 0,
                  "80": 0,
                  "81": 0,
                  "82": 0,
                  "83": 0,
                  "84": 0,
                  "85": 0,
                  "86": 0,
                  "87": 0,
                  "88": 0,
                  "89": 0,
                  "90": 0,
                  "91": 0,
                  "92": 0,
                  "93": 0,
                  "94": 0,
                  "95": 0,
                  "96": 0,
                  "97": 0,
                  "98": 0,
                  "99": 0,
                  "100": 0,
                  "101": 0,
                  "102": 0,
                  "103": 0,
                  "104": 0,
                  "105": 0,
                  "106": 0,
                  "107": 0,
                  "108": 0,
                  "109": 0,
                  "110": 0,
                  "111": 0,
                  "index": 1,
                  "src": 96401,
                  "dst": 1,
                  "0_weight": 0.5009999871,
                  "1_weight": 0.001,
                  "2_weight": 0.001,
                  "3_weight": 0.001,
                  "4_weight": 0.001,
                  "5_weight": 0.001,
                  "6_weight": 0.001,
                  "7_weight": 0.001,
                  "node_id": 1
                },
                {
                  "50": 0,
                  "51": 0,
                  "52": 0,
                  "53": 1,
                  "54": 0,
                  "55": 1,
                  "56": 0,
                  "57": 0,
                  "58": 0,
                  "59": 0,
                  "60": 0,
                  "61": 0,
                  "62": 0,
                  "63": 0,
                  "64": 0,
                  "65": 0,
                  "66": 1,
                  "67": 1,
                  "68": 0,
                  "69": 0,
                  "70": 0,
                  "71": 0,
                  "72": 0,
                  "73": 0,
                  "74": 0,
                  "75": 1,
                  "76": 0,
                  "77": 0,
                  "78": 0,
                  "79": 0,
                  "80": 0,
                  "81": 0,
                  "82": 0,
                  "83": 0,
                  "84": 0,
                  "85": 0,
                  "86": 0,
                  "87": 0,
                  "88": 0,
                  "89": 0,
                  "90": 0,
                  "91": 0,
                  "92": 0,
                  "93": 0,
                  "94": 0,
                  "95": 0,
                  "96": 0,
                  "97": 0,
                  "98": 0,
                  "99": 0,
                  "100": 0,
                  "101": 0,
                  "102": 0,
                  "103": 0,
                  "104": 0,
                  "105": 0,
                  "106": 0,
                  "107": 0,
                  "108": 0,
                  "109": 0,
                  "110": 0,
                  "111": 0,
                  "index": 2,
                  "src": 1,
                  "dst": 68343,
                  "0_weight": 0.5009999871,
                  "1_weight": 0.001,
                  "2_weight": 0.001,
                  "3_weight": 0.001,
                  "4_weight": 0.001,
                  "5_weight": 0.001,
                  "6_weight": 0.001,
                  "7_weight": 0.001,
                  "node_id": 68343
                },
                {
                  "50": 0,
                  "51": 0,
                  "52": 0,
                  "53": 1,
                  "54": 1,
                  "55": 1,
                  "56": 0,
                  "57": 1,
                  "58": 0,
                  "59": 0,
                  "60": 0,
                  "61": 0,
                  "62": 0,
                  "63": 0,
                  "64": 0,
                  "65": 0,
                  "66": 1,
                  "67": 1,
                  "68": 0,
                  "69": 0,
                  "70": 0,
                  "71": 0,
                  "72": 0,
                  "73": 0,
                  "74": 0,
                  "75": 1,
                  "76": 0,
                  "77": 0,
                  "78": 0,
                  "79": 0,
                  "80": 0,
                  "81": 0,
                  "82": 0,
                  "83": 0,
                  "84": 0,
                  "85": 0,
                  "86": 0,
                  "87": 0,
                  "88": 0,
                  "89": 0,
                  "90": 0,
                  "91": 0,
                  "92": 0,
                  "93": 0,
                  "94": 0,
                  "95": 0,
                  "96": 0,
                  "97": 0,
                  "98": 0,
                  "99": 0,
                  "100": 0,
                  "101": 0,
                  "102": 0,
                  "103": 0,
                  "104": 0,
                  "105": 0,
                  "106": 0,
                  "107": 0,
                  "108": 0,
                  "109": 0,
                  "110": 0,
                  "111": 0,
                  "index": 3,
                  "src": 68343,
                  "dst": 1,
                  "0_weight": 0.5009999871,
                  "1_weight": 0.001,
                  "2_weight": 0.001,
                  "3_weight": 0.001,
                  "4_weight": 0.001,
                  "5_weight": 0.001,
                  "6_weight": 0.001,
                  "7_weight": 0.001,
                  "node_id": 1
                },
                {
                  "50": null,
                  "51": null,
                  "52": null,
                  "53": null,
                  "54": null,
                  "55": null,
                  "56": null,
                  "57": null,
                  "58": null,
                  "59": null,
                  "60": null,
                  "61": null,
                  "62": null,
                  "63": null,
                  "64": null,
                  "65": null,
                  "66": null,
                  "67": null,
                  "68": null,
                  "69": null,
                  "70": null,
                  "71": null,
                  "72": null,
                  "73": null,
                  "74": null,
                  "75": null,
                  "76": null,
                  "77": null,
                  "78": null,
                  "79": null,
                  "80": null,
                  "81": null,
                  "82": null,
                  "83": null,
                  "84": null,
                  "85": null,
                  "86": null,
                  "87": null,
                  "88": null,
                  "89": null,
                  "90": null,
                  "91": null,
                  "92": null,
                  "93": null,
                  "94": null,
                  "95": null,
                  "96": null,
                  "97": null,
                  "98": null,
                  "99": null,
                  "100": null,
                  "101": null,
                  "102": null,
                  "103": null,
                  "104": null,
                  "105": null,
                  "106": null,
                  "107": null,
                  "108": null,
                  "109": null,
                  "110": null,
                  "111": null,
                  "index": 4,
                  "src": 1,
                  "dst": 125069,
                  "0_weight": 0.5009999871,
                  "1_weight": 0.001,
                  "2_weight": 0.001,
                  "3_weight": 0.001,
                  "4_weight": 0.001,
                  "5_weight": 0.001,
                  "6_weight": 0.001,
                  "7_weight": 0.001,
                  "node_id": null
                }
              ]
            }
          },
          "metadata": {
            "bento_obj_id": "140485525077584"
          },
          "execution_count": 7
        }
      ]
    },
    {
      "cell_type": "code",
      "metadata": {
        "originalKey": "2b022dd8-06d2-4e86-8707-1b1ef4763054",
        "showInput": true,
        "customInput": null,
        "collapsed": false,
        "requestMsgId": "2b022dd8-06d2-4e86-8707-1b1ef4763054",
        "executionStartTime": 1681156561568,
        "executionStopTime": 1681156583201
      },
      "source": [
        "intervals_v1 = relevant_edges_tmp[['0_weight','1_weight', '2_weight', '3_weight','6_weight','4_weight', '5_weight', '7_weight']].quantile([0.75])"
      ],
      "execution_count": 8,
      "outputs": []
    },
    {
      "cell_type": "code",
      "metadata": {
        "originalKey": "990d0117-8fcf-4c78-a6a5-81bc63e75a30",
        "showInput": true,
        "customInput": null,
        "collapsed": false,
        "requestMsgId": "990d0117-8fcf-4c78-a6a5-81bc63e75a30",
        "executionStartTime": 1681156583225,
        "executionStopTime": 1681156583280
      },
      "source": [
        "np.array(intervals_v1.iloc[0])"
      ],
      "execution_count": 9,
      "outputs": [
        {
          "output_type": "execute_result",
          "data": {
            "text/plain": "array([0.001, 0.001, 0.001, 0.001, 0.001, 0.091, 0.115, 0.177])"
          },
          "metadata": {
            "bento_obj_id": "140485563538288"
          },
          "execution_count": 9
        }
      ]
    },
    {
      "cell_type": "code",
      "metadata": {
        "originalKey": "479f627b-2d87-4589-9aca-d9a5ad5b9fd5",
        "showInput": true,
        "customInput": null,
        "collapsed": false,
        "requestMsgId": "479f627b-2d87-4589-9aca-d9a5ad5b9fd5",
        "executionStartTime": 1681156586621,
        "executionStopTime": 1681156586643
      },
      "source": [
        ""
      ],
      "execution_count": 9,
      "outputs": []
    },
    {
      "cell_type": "code",
      "metadata": {
        "originalKey": "bcff5c8d-4bc0-44ef-8cc6-7f86b2cee9b2",
        "showInput": true,
        "customInput": null,
        "collapsed": false,
        "requestMsgId": "bcff5c8d-4bc0-44ef-8cc6-7f86b2cee9b2",
        "executionStartTime": 1681156587260,
        "executionStopTime": 1681156587278
      },
      "source": [
        ""
      ],
      "execution_count": 9,
      "outputs": []
    },
    {
      "cell_type": "code",
      "metadata": {
        "originalKey": "c7639a96-3cce-452e-b430-b4b4a946d2c4",
        "showInput": true,
        "customInput": null,
        "collapsed": false,
        "requestMsgId": "c7639a96-3cce-452e-b430-b4b4a946d2c4",
        "executionStartTime": 1681156588175,
        "executionStopTime": 1681156921104
      },
      "source": [
        "from sklearn.preprocessing import Binarizer\n",
        "k=0\n",
        "for j in range(8):\n",
        "    print(j)\n",
        "    transformer = Binarizer().fit(relevant_edges_tmp[[str(j)+'_weight']])\n",
        "    relevant_edges_tmp['bin_'+str(k)] = pd.DataFrame(transformer.transform((relevant_edges_tmp[[str(j)+'_weight']]<=np.array(intervals_v1.iloc[0])[j])+0).flatten())\n",
        "    print(relevant_edges_tmp.head())\n",
        "    k=k+1\n",
        "    relevant_edges_tmp['bin_'+str(k)] = pd.DataFrame(transformer.transform((relevant_edges_tmp[[str(j)+'_weight']]>np.array(intervals_v1.iloc[0])[j])+0).flatten())\n",
        "    k=k+1"
      ],
      "execution_count": 10,
      "outputs": [
        {
          "output_type": "stream",
          "name": "stdout",
          "text": [
            "0\n"
          ]
        },
        {
          "output_type": "stream",
          "name": "stdout",
          "text": [
            "     src     dst  0_weight  1_weight  2_weight  ...  109  110  111  node_id  bin_0\n0      1   96401     0.501     0.001     0.001  ...  NaN  NaN  NaN      NaN      0\n1  96401       1     0.501     0.001     0.001  ...  0.0  0.0  0.0      1.0      0\n2      1   68343     0.501     0.001     0.001  ...  0.0  0.0  0.0  68343.0      0\n3  68343       1     0.501     0.001     0.001  ...  0.0  0.0  0.0      1.0      0\n4      1  125069     0.501     0.001     0.001  ...  NaN  NaN  NaN      NaN      0\n\n[5 rows x 74 columns]\n"
          ]
        },
        {
          "output_type": "stream",
          "name": "stdout",
          "text": [
            "1\n"
          ]
        },
        {
          "output_type": "stream",
          "name": "stdout",
          "text": [
            "     src     dst  0_weight  1_weight  ...  node_id  bin_0  bin_1  bin_2\n0      1   96401     0.501     0.001  ...      NaN      0      1      1\n1  96401       1     0.501     0.001  ...      1.0      0      1      1\n2      1   68343     0.501     0.001  ...  68343.0      0      1      1\n3  68343       1     0.501     0.001  ...      1.0      0      1      1\n4      1  125069     0.501     0.001  ...      NaN      0      1      1\n\n[5 rows x 76 columns]\n"
          ]
        },
        {
          "output_type": "stream",
          "name": "stdout",
          "text": [
            "2\n"
          ]
        },
        {
          "output_type": "stream",
          "name": "stdout",
          "text": [
            "     src     dst  0_weight  1_weight  ...  bin_1  bin_2  bin_3  bin_4\n0      1   96401     0.501     0.001  ...      1      1      0      1\n1  96401       1     0.501     0.001  ...      1      1      0      1\n2      1   68343     0.501     0.001  ...      1      1      0      1\n3  68343       1     0.501     0.001  ...      1      1      0      1\n4      1  125069     0.501     0.001  ...      1      1      0      1\n\n[5 rows x 78 columns]\n"
          ]
        },
        {
          "output_type": "stream",
          "name": "stdout",
          "text": [
            "3\n"
          ]
        },
        {
          "output_type": "stream",
          "name": "stdout",
          "text": [
            "     src     dst  0_weight  1_weight  ...  bin_3  bin_4  bin_5  bin_6\n0      1   96401     0.501     0.001  ...      0      1      0      1\n1  96401       1     0.501     0.001  ...      0      1      0      1\n2      1   68343     0.501     0.001  ...      0      1      0      1\n3  68343       1     0.501     0.001  ...      0      1      0      1\n4      1  125069     0.501     0.001  ...      0      1      0      1\n\n[5 rows x 80 columns]\n"
          ]
        },
        {
          "output_type": "stream",
          "name": "stdout",
          "text": [
            "4\n"
          ]
        },
        {
          "output_type": "stream",
          "name": "stdout",
          "text": [
            "     src     dst  0_weight  1_weight  ...  bin_5  bin_6  bin_7  bin_8\n0      1   96401     0.501     0.001  ...      0      1      0      1\n1  96401       1     0.501     0.001  ...      0      1      0      1\n2      1   68343     0.501     0.001  ...      0      1      0      1\n3  68343       1     0.501     0.001  ...      0      1      0      1\n4      1  125069     0.501     0.001  ...      0      1      0      1\n\n[5 rows x 82 columns]\n"
          ]
        },
        {
          "output_type": "stream",
          "name": "stdout",
          "text": [
            "5\n"
          ]
        },
        {
          "output_type": "stream",
          "name": "stdout",
          "text": [
            "     src     dst  0_weight  1_weight  ...  bin_7  bin_8  bin_9  bin_10\n0      1   96401     0.501     0.001  ...      0      1      0       1\n1  96401       1     0.501     0.001  ...      0      1      0       1\n2      1   68343     0.501     0.001  ...      0      1      0       1\n3  68343       1     0.501     0.001  ...      0      1      0       1\n4      1  125069     0.501     0.001  ...      0      1      0       1\n\n[5 rows x 84 columns]\n"
          ]
        },
        {
          "output_type": "stream",
          "name": "stdout",
          "text": [
            "6\n"
          ]
        },
        {
          "output_type": "stream",
          "name": "stdout",
          "text": [
            "     src     dst  0_weight  1_weight  ...  bin_9  bin_10  bin_11  bin_12\n0      1   96401     0.501     0.001  ...      0       1       0       1\n1  96401       1     0.501     0.001  ...      0       1       0       1\n2      1   68343     0.501     0.001  ...      0       1       0       1\n3  68343       1     0.501     0.001  ...      0       1       0       1\n4      1  125069     0.501     0.001  ...      0       1       0       1\n\n[5 rows x 86 columns]\n"
          ]
        },
        {
          "output_type": "stream",
          "name": "stdout",
          "text": [
            "7\n"
          ]
        },
        {
          "output_type": "stream",
          "name": "stdout",
          "text": [
            "     src     dst  0_weight  1_weight  ...  bin_11  bin_12  bin_13  bin_14\n0      1   96401     0.501     0.001  ...       0       1       0       1\n1  96401       1     0.501     0.001  ...       0       1       0       1\n2      1   68343     0.501     0.001  ...       0       1       0       1\n3  68343       1     0.501     0.001  ...       0       1       0       1\n4      1  125069     0.501     0.001  ...       0       1       0       1\n\n[5 rows x 88 columns]\n"
          ]
        }
      ]
    },
    {
      "cell_type": "code",
      "metadata": {
        "originalKey": "7a4a8122-5785-491b-9a6f-c5ea8dd250b5",
        "showInput": true,
        "customInput": null,
        "collapsed": false,
        "requestMsgId": "7a4a8122-5785-491b-9a6f-c5ea8dd250b5",
        "executionStartTime": 1681156921184,
        "executionStopTime": 1681156921220
      },
      "source": [
        "print(relevant_edges_tmp.columns)"
      ],
      "execution_count": 11,
      "outputs": [
        {
          "output_type": "stream",
          "name": "stdout",
          "text": [
            "Index([     'src',      'dst', '0_weight', '1_weight', '2_weight', '3_weight',\n       '4_weight', '5_weight', '6_weight', '7_weight',         50,         51,\n               52,         53,         54,         55,         56,         57,\n               58,         59,         60,         61,         62,         63,\n               64,         65,         66,         67,         68,         69,\n               70,         71,         72,         73,         74,         75,\n               76,         77,         78,         79,         80,         81,\n               82,         83,         84,         85,         86,         87,\n               88,         89,         90,         91,         92,         93,\n               94,         95,         96,         97,         98,         99,\n              100,        101,        102,        103,        104,        105,\n              106,        107,        108,        109,        110,        111,\n        'node_id',    'bin_0',    'bin_1',    'bin_2',    'bin_3',    'bin_4',\n          'bin_5',    'bin_6',    'bin_7',    'bin_8',    'bin_9',   'bin_10',\n         'bin_11',   'bin_12',   'bin_13',   'bin_14',   'bin_15'],\n      dtype='object')\n"
          ]
        }
      ]
    },
    {
      "cell_type": "code",
      "metadata": {
        "originalKey": "41489001-97a5-4f59-8b91-8e841faa51d0",
        "showInput": true,
        "customInput": null,
        "collapsed": false,
        "requestMsgId": "41489001-97a5-4f59-8b91-8e841faa51d0",
        "executionStartTime": 1681150937679,
        "executionStopTime": 1681150937698
      },
      "source": [
        ""
      ],
      "execution_count": 10,
      "outputs": []
    },
    {
      "cell_type": "code",
      "metadata": {
        "originalKey": "87dc5554-1993-4762-96d7-8dc414b1f9cd",
        "showInput": true,
        "customInput": null,
        "collapsed": false,
        "requestMsgId": "87dc5554-1993-4762-96d7-8dc414b1f9cd",
        "executionStopTime": 1681157005659,
        "executionStartTime": 1681156921391
      },
      "source": [
        "tmp = pd.DataFrame(relevant_edges_tmp[['bin_0',    'bin_1',    'bin_2',    'bin_3',    'bin_4',    'bin_5',\n",
        "        'bin_6',    'bin_7',    'bin_8',    'bin_9',   'bin_10',   'bin_11',\n",
        "        'bin_12',   'bin_13', 'bin_14',   'bin_15' ]].drop_duplicates())"
      ],
      "execution_count": 13,
      "outputs": []
    },
    {
      "cell_type": "code",
      "metadata": {
        "originalKey": "1bed115e-cd0d-4e4b-828a-985565d60b32",
        "showInput": true,
        "customInput": null,
        "collapsed": false,
        "requestMsgId": "1bed115e-cd0d-4e4b-828a-985565d60b32",
        "executionStartTime": 1681157005856,
        "executionStopTime": 1681157005921
      },
      "source": [
        "tmp.reset_index(inplace=True,drop=True)\n",
        "tmp.head()"
      ],
      "execution_count": 14,
      "outputs": [
        {
          "output_type": "execute_result",
          "data": {
            "text/plain": "   bin_0  bin_1  bin_2  bin_3  bin_4  ...  bin_11  bin_12  bin_13  bin_14  bin_15\n0      0      1      1      0      1  ...       0       1       0       1       0\n1      1      0      1      0      1  ...       0       1       0       1       0\n2      1      0      1      0      1  ...       0       1       0       0       1\n3      1      0      1      0      1  ...       1       1       0       1       0\n4      1      0      1      0      1  ...       0       1       0       1       0\n\n[5 rows x 16 columns]",
            "text/html": "<div>\n<style scoped>\n    .dataframe tbody tr th:only-of-type {\n        vertical-align: middle;\n    }\n\n    .dataframe tbody tr th {\n        vertical-align: top;\n    }\n\n    .dataframe thead th {\n        text-align: right;\n    }\n</style>\n<table border=\"1\" class=\"dataframe\">\n  <thead>\n    <tr style=\"text-align: right;\">\n      <th></th>\n      <th>bin_0</th>\n      <th>bin_1</th>\n      <th>bin_2</th>\n      <th>bin_3</th>\n      <th>bin_4</th>\n      <th>bin_5</th>\n      <th>bin_6</th>\n      <th>bin_7</th>\n      <th>bin_8</th>\n      <th>bin_9</th>\n      <th>bin_10</th>\n      <th>bin_11</th>\n      <th>bin_12</th>\n      <th>bin_13</th>\n      <th>bin_14</th>\n      <th>bin_15</th>\n    </tr>\n  </thead>\n  <tbody>\n    <tr>\n      <th>0</th>\n      <td>0</td>\n      <td>1</td>\n      <td>1</td>\n      <td>0</td>\n      <td>1</td>\n      <td>0</td>\n      <td>1</td>\n      <td>0</td>\n      <td>1</td>\n      <td>0</td>\n      <td>1</td>\n      <td>0</td>\n      <td>1</td>\n      <td>0</td>\n      <td>1</td>\n      <td>0</td>\n    </tr>\n    <tr>\n      <th>1</th>\n      <td>1</td>\n      <td>0</td>\n      <td>1</td>\n      <td>0</td>\n      <td>1</td>\n      <td>0</td>\n      <td>1</td>\n      <td>0</td>\n      <td>0</td>\n      <td>1</td>\n      <td>1</td>\n      <td>0</td>\n      <td>1</td>\n      <td>0</td>\n      <td>1</td>\n      <td>0</td>\n    </tr>\n    <tr>\n      <th>2</th>\n      <td>1</td>\n      <td>0</td>\n      <td>1</td>\n      <td>0</td>\n      <td>1</td>\n      <td>0</td>\n      <td>1</td>\n      <td>0</td>\n      <td>1</td>\n      <td>0</td>\n      <td>1</td>\n      <td>0</td>\n      <td>1</td>\n      <td>0</td>\n      <td>0</td>\n      <td>1</td>\n    </tr>\n    <tr>\n      <th>3</th>\n      <td>1</td>\n      <td>0</td>\n      <td>1</td>\n      <td>0</td>\n      <td>1</td>\n      <td>0</td>\n      <td>1</td>\n      <td>0</td>\n      <td>1</td>\n      <td>0</td>\n      <td>0</td>\n      <td>1</td>\n      <td>1</td>\n      <td>0</td>\n      <td>1</td>\n      <td>0</td>\n    </tr>\n    <tr>\n      <th>4</th>\n      <td>1</td>\n      <td>0</td>\n      <td>1</td>\n      <td>0</td>\n      <td>1</td>\n      <td>0</td>\n      <td>1</td>\n      <td>0</td>\n      <td>1</td>\n      <td>0</td>\n      <td>1</td>\n      <td>0</td>\n      <td>1</td>\n      <td>0</td>\n      <td>1</td>\n      <td>0</td>\n    </tr>\n  </tbody>\n</table>\n</div>",
            "application/vnd.dataresource+json": {
              "schema": {
                "fields": [
                  {
                    "name": "index",
                    "type": "integer"
                  },
                  {
                    "name": "bin_0",
                    "type": "integer"
                  },
                  {
                    "name": "bin_1",
                    "type": "integer"
                  },
                  {
                    "name": "bin_2",
                    "type": "integer"
                  },
                  {
                    "name": "bin_3",
                    "type": "integer"
                  },
                  {
                    "name": "bin_4",
                    "type": "integer"
                  },
                  {
                    "name": "bin_5",
                    "type": "integer"
                  },
                  {
                    "name": "bin_6",
                    "type": "integer"
                  },
                  {
                    "name": "bin_7",
                    "type": "integer"
                  },
                  {
                    "name": "bin_8",
                    "type": "integer"
                  },
                  {
                    "name": "bin_9",
                    "type": "integer"
                  },
                  {
                    "name": "bin_10",
                    "type": "integer"
                  },
                  {
                    "name": "bin_11",
                    "type": "integer"
                  },
                  {
                    "name": "bin_12",
                    "type": "integer"
                  },
                  {
                    "name": "bin_13",
                    "type": "integer"
                  },
                  {
                    "name": "bin_14",
                    "type": "integer"
                  },
                  {
                    "name": "bin_15",
                    "type": "integer"
                  }
                ],
                "primaryKey": [
                  "index"
                ],
                "pandas_version": "0.20.0"
              },
              "data": [
                {
                  "index": 0,
                  "bin_0": 0,
                  "bin_1": 1,
                  "bin_2": 1,
                  "bin_3": 0,
                  "bin_4": 1,
                  "bin_5": 0,
                  "bin_6": 1,
                  "bin_7": 0,
                  "bin_8": 1,
                  "bin_9": 0,
                  "bin_10": 1,
                  "bin_11": 0,
                  "bin_12": 1,
                  "bin_13": 0,
                  "bin_14": 1,
                  "bin_15": 0
                },
                {
                  "index": 1,
                  "bin_0": 1,
                  "bin_1": 0,
                  "bin_2": 1,
                  "bin_3": 0,
                  "bin_4": 1,
                  "bin_5": 0,
                  "bin_6": 1,
                  "bin_7": 0,
                  "bin_8": 0,
                  "bin_9": 1,
                  "bin_10": 1,
                  "bin_11": 0,
                  "bin_12": 1,
                  "bin_13": 0,
                  "bin_14": 1,
                  "bin_15": 0
                },
                {
                  "index": 2,
                  "bin_0": 1,
                  "bin_1": 0,
                  "bin_2": 1,
                  "bin_3": 0,
                  "bin_4": 1,
                  "bin_5": 0,
                  "bin_6": 1,
                  "bin_7": 0,
                  "bin_8": 1,
                  "bin_9": 0,
                  "bin_10": 1,
                  "bin_11": 0,
                  "bin_12": 1,
                  "bin_13": 0,
                  "bin_14": 0,
                  "bin_15": 1
                },
                {
                  "index": 3,
                  "bin_0": 1,
                  "bin_1": 0,
                  "bin_2": 1,
                  "bin_3": 0,
                  "bin_4": 1,
                  "bin_5": 0,
                  "bin_6": 1,
                  "bin_7": 0,
                  "bin_8": 1,
                  "bin_9": 0,
                  "bin_10": 0,
                  "bin_11": 1,
                  "bin_12": 1,
                  "bin_13": 0,
                  "bin_14": 1,
                  "bin_15": 0
                },
                {
                  "index": 4,
                  "bin_0": 1,
                  "bin_1": 0,
                  "bin_2": 1,
                  "bin_3": 0,
                  "bin_4": 1,
                  "bin_5": 0,
                  "bin_6": 1,
                  "bin_7": 0,
                  "bin_8": 1,
                  "bin_9": 0,
                  "bin_10": 1,
                  "bin_11": 0,
                  "bin_12": 1,
                  "bin_13": 0,
                  "bin_14": 1,
                  "bin_15": 0
                }
              ]
            }
          },
          "metadata": {
            "bento_obj_id": "140485524054560"
          },
          "execution_count": 14
        }
      ]
    },
    {
      "cell_type": "code",
      "metadata": {
        "originalKey": "8011c9b8-d047-4be9-90da-f463da7df547",
        "showInput": true,
        "customInput": null,
        "collapsed": false,
        "requestMsgId": "8011c9b8-d047-4be9-90da-f463da7df547",
        "executionStartTime": 1681157006068,
        "executionStopTime": 1681157006097
      },
      "source": [
        "tmp['edge_bin'] = 0\n",
        "tmp['edge_bin'] = pd.DataFrame(range(np.shape(tmp)[0]))"
      ],
      "execution_count": 15,
      "outputs": []
    },
    {
      "cell_type": "code",
      "metadata": {
        "originalKey": "c3f2f929-db1b-4235-acf3-0ba9cb42113a",
        "showInput": true,
        "customInput": null,
        "collapsed": false,
        "requestMsgId": "c3f2f929-db1b-4235-acf3-0ba9cb42113a",
        "executionStartTime": 1681157006143,
        "executionStopTime": 1681157845132
      },
      "source": [
        "relevant_edges_tmp['edge_bin']=0\n",
        "for k in np.array(tmp.edge_bin):\n",
        "    print(k)\n",
        "    relevant_edges_tmp['edge_bin'][(relevant_edges_tmp.bin_0==tmp.bin_0[k]) & \\\n",
        "(relevant_edges_tmp.bin_1==tmp.bin_1[k]) & \\\n",
        "(relevant_edges_tmp.bin_2==tmp.bin_2[k]) & \\\n",
        "(relevant_edges_tmp.bin_3==tmp.bin_3[k]) & \\\n",
        "(relevant_edges_tmp.bin_4==tmp.bin_4[k]) & \\\n",
        "(relevant_edges_tmp.bin_5==tmp.bin_5[k]) & \\\n",
        "(relevant_edges_tmp.bin_6==tmp.bin_6[k]) & \\\n",
        "(relevant_edges_tmp.bin_7==tmp.bin_7[k]) & \\\n",
        "(relevant_edges_tmp.bin_8==tmp.bin_8[k]) & \\\n",
        "(relevant_edges_tmp.bin_9==tmp.bin_9[k]) & \\\n",
        "(relevant_edges_tmp.bin_10==tmp.bin_10[k]) & \\\n",
        "(relevant_edges_tmp.bin_11==tmp.bin_11[k]) & \\\n",
        "(relevant_edges_tmp.bin_12==tmp.bin_12[k]) & \\\n",
        "(relevant_edges_tmp.bin_13==tmp.bin_13[k]) & \\\n",
        "(relevant_edges_tmp.bin_14==tmp.bin_14[k]) & \\\n",
        "(relevant_edges_tmp.bin_15==tmp.bin_15[k]) ] = tmp.edge_bin[k]"
      ],
      "execution_count": 16,
      "outputs": [
        {
          "output_type": "stream",
          "name": "stdout",
          "text": [
            "0\n"
          ]
        },
        {
          "output_type": "stream",
          "name": "stderr",
          "text": [
            "<ipython-input-16-5d312f104b87>:4: SettingWithCopyWarning:\n\n\nA value is trying to be set on a copy of a slice from a DataFrame\n\nSee the caveats in the documentation: https://pandas.pydata.org/pandas-docs/stable/user_guide/indexing.html#returning-a-view-versus-a-copy\n\n"
          ]
        },
        {
          "output_type": "stream",
          "name": "stdout",
          "text": [
            "1\n"
          ]
        },
        {
          "output_type": "stream",
          "name": "stdout",
          "text": [
            "2\n"
          ]
        },
        {
          "output_type": "stream",
          "name": "stdout",
          "text": [
            "3\n"
          ]
        },
        {
          "output_type": "stream",
          "name": "stdout",
          "text": [
            "4\n"
          ]
        },
        {
          "output_type": "stream",
          "name": "stdout",
          "text": [
            "5\n"
          ]
        },
        {
          "output_type": "stream",
          "name": "stdout",
          "text": [
            "6\n"
          ]
        },
        {
          "output_type": "stream",
          "name": "stdout",
          "text": [
            "7\n"
          ]
        },
        {
          "output_type": "stream",
          "name": "stdout",
          "text": [
            "8\n"
          ]
        },
        {
          "output_type": "stream",
          "name": "stdout",
          "text": [
            "9\n"
          ]
        },
        {
          "output_type": "stream",
          "name": "stdout",
          "text": [
            "10\n"
          ]
        },
        {
          "output_type": "stream",
          "name": "stdout",
          "text": [
            "11\n"
          ]
        },
        {
          "output_type": "stream",
          "name": "stdout",
          "text": [
            "12\n"
          ]
        },
        {
          "output_type": "stream",
          "name": "stdout",
          "text": [
            "13\n"
          ]
        },
        {
          "output_type": "stream",
          "name": "stdout",
          "text": [
            "14\n"
          ]
        },
        {
          "output_type": "stream",
          "name": "stdout",
          "text": [
            "15\n"
          ]
        },
        {
          "output_type": "stream",
          "name": "stdout",
          "text": [
            "16\n"
          ]
        },
        {
          "output_type": "stream",
          "name": "stdout",
          "text": [
            "17\n"
          ]
        },
        {
          "output_type": "stream",
          "name": "stdout",
          "text": [
            "18\n"
          ]
        },
        {
          "output_type": "stream",
          "name": "stdout",
          "text": [
            "19\n"
          ]
        },
        {
          "output_type": "stream",
          "name": "stdout",
          "text": [
            "20\n"
          ]
        },
        {
          "output_type": "stream",
          "name": "stdout",
          "text": [
            "21\n"
          ]
        },
        {
          "output_type": "stream",
          "name": "stdout",
          "text": [
            "22\n"
          ]
        },
        {
          "output_type": "stream",
          "name": "stdout",
          "text": [
            "23\n"
          ]
        },
        {
          "output_type": "stream",
          "name": "stdout",
          "text": [
            "24\n"
          ]
        },
        {
          "output_type": "stream",
          "name": "stdout",
          "text": [
            "25\n"
          ]
        },
        {
          "output_type": "stream",
          "name": "stdout",
          "text": [
            "26\n"
          ]
        },
        {
          "output_type": "stream",
          "name": "stdout",
          "text": [
            "27\n"
          ]
        },
        {
          "output_type": "stream",
          "name": "stdout",
          "text": [
            "28\n"
          ]
        },
        {
          "output_type": "stream",
          "name": "stdout",
          "text": [
            "29\n"
          ]
        },
        {
          "output_type": "stream",
          "name": "stdout",
          "text": [
            "30\n"
          ]
        },
        {
          "output_type": "stream",
          "name": "stdout",
          "text": [
            "31\n"
          ]
        },
        {
          "output_type": "stream",
          "name": "stdout",
          "text": [
            "32\n"
          ]
        },
        {
          "output_type": "stream",
          "name": "stdout",
          "text": [
            "33\n"
          ]
        },
        {
          "output_type": "stream",
          "name": "stdout",
          "text": [
            "34\n"
          ]
        },
        {
          "output_type": "stream",
          "name": "stdout",
          "text": [
            "35\n"
          ]
        },
        {
          "output_type": "stream",
          "name": "stdout",
          "text": [
            "36\n"
          ]
        },
        {
          "output_type": "stream",
          "name": "stdout",
          "text": [
            "37\n"
          ]
        },
        {
          "output_type": "stream",
          "name": "stdout",
          "text": [
            "38\n"
          ]
        },
        {
          "output_type": "stream",
          "name": "stdout",
          "text": [
            "39\n"
          ]
        },
        {
          "output_type": "stream",
          "name": "stdout",
          "text": [
            "40\n"
          ]
        },
        {
          "output_type": "stream",
          "name": "stdout",
          "text": [
            "41\n"
          ]
        },
        {
          "output_type": "stream",
          "name": "stdout",
          "text": [
            "42\n"
          ]
        },
        {
          "output_type": "stream",
          "name": "stdout",
          "text": [
            "43\n"
          ]
        },
        {
          "output_type": "stream",
          "name": "stdout",
          "text": [
            "44\n"
          ]
        },
        {
          "output_type": "stream",
          "name": "stdout",
          "text": [
            "45\n"
          ]
        },
        {
          "output_type": "stream",
          "name": "stdout",
          "text": [
            "46\n"
          ]
        },
        {
          "output_type": "stream",
          "name": "stdout",
          "text": [
            "47\n"
          ]
        },
        {
          "output_type": "stream",
          "name": "stdout",
          "text": [
            "48\n"
          ]
        },
        {
          "output_type": "stream",
          "name": "stdout",
          "text": [
            "49\n"
          ]
        },
        {
          "output_type": "stream",
          "name": "stdout",
          "text": [
            "50\n"
          ]
        },
        {
          "output_type": "stream",
          "name": "stdout",
          "text": [
            "51\n"
          ]
        },
        {
          "output_type": "stream",
          "name": "stdout",
          "text": [
            "52\n"
          ]
        },
        {
          "output_type": "stream",
          "name": "stdout",
          "text": [
            "53\n"
          ]
        },
        {
          "output_type": "stream",
          "name": "stdout",
          "text": [
            "54\n"
          ]
        },
        {
          "output_type": "stream",
          "name": "stdout",
          "text": [
            "55\n"
          ]
        },
        {
          "output_type": "stream",
          "name": "stdout",
          "text": [
            "56\n"
          ]
        },
        {
          "output_type": "stream",
          "name": "stdout",
          "text": [
            "57\n"
          ]
        },
        {
          "output_type": "stream",
          "name": "stdout",
          "text": [
            "58\n"
          ]
        },
        {
          "output_type": "stream",
          "name": "stdout",
          "text": [
            "59\n"
          ]
        },
        {
          "output_type": "stream",
          "name": "stdout",
          "text": [
            "60\n"
          ]
        },
        {
          "output_type": "stream",
          "name": "stdout",
          "text": [
            "61\n"
          ]
        },
        {
          "output_type": "stream",
          "name": "stdout",
          "text": [
            "62\n"
          ]
        },
        {
          "output_type": "stream",
          "name": "stdout",
          "text": [
            "63\n"
          ]
        },
        {
          "output_type": "stream",
          "name": "stdout",
          "text": [
            "64\n"
          ]
        },
        {
          "output_type": "stream",
          "name": "stdout",
          "text": [
            "65\n"
          ]
        },
        {
          "output_type": "stream",
          "name": "stdout",
          "text": [
            "66\n"
          ]
        },
        {
          "output_type": "stream",
          "name": "stdout",
          "text": [
            "67\n"
          ]
        },
        {
          "output_type": "stream",
          "name": "stdout",
          "text": [
            "68\n"
          ]
        },
        {
          "output_type": "stream",
          "name": "stdout",
          "text": [
            "69\n"
          ]
        },
        {
          "output_type": "stream",
          "name": "stdout",
          "text": [
            "70\n"
          ]
        },
        {
          "output_type": "stream",
          "name": "stdout",
          "text": [
            "71\n"
          ]
        },
        {
          "output_type": "stream",
          "name": "stdout",
          "text": [
            "72\n"
          ]
        },
        {
          "output_type": "stream",
          "name": "stdout",
          "text": [
            "73\n"
          ]
        },
        {
          "output_type": "stream",
          "name": "stdout",
          "text": [
            "74\n"
          ]
        },
        {
          "output_type": "stream",
          "name": "stdout",
          "text": [
            "75\n"
          ]
        },
        {
          "output_type": "stream",
          "name": "stdout",
          "text": [
            "76\n"
          ]
        },
        {
          "output_type": "stream",
          "name": "stdout",
          "text": [
            "77\n"
          ]
        },
        {
          "output_type": "stream",
          "name": "stdout",
          "text": [
            "78\n"
          ]
        },
        {
          "output_type": "stream",
          "name": "stdout",
          "text": [
            "79\n"
          ]
        },
        {
          "output_type": "stream",
          "name": "stdout",
          "text": [
            "80\n"
          ]
        },
        {
          "output_type": "stream",
          "name": "stdout",
          "text": [
            "81\n"
          ]
        },
        {
          "output_type": "stream",
          "name": "stdout",
          "text": [
            "82\n"
          ]
        },
        {
          "output_type": "stream",
          "name": "stdout",
          "text": [
            "83\n"
          ]
        },
        {
          "output_type": "stream",
          "name": "stdout",
          "text": [
            "84\n"
          ]
        },
        {
          "output_type": "stream",
          "name": "stdout",
          "text": [
            "85\n"
          ]
        },
        {
          "output_type": "stream",
          "name": "stdout",
          "text": [
            "86\n"
          ]
        },
        {
          "output_type": "stream",
          "name": "stdout",
          "text": [
            "87\n"
          ]
        },
        {
          "output_type": "stream",
          "name": "stdout",
          "text": [
            "88\n"
          ]
        },
        {
          "output_type": "stream",
          "name": "stdout",
          "text": [
            "89\n"
          ]
        },
        {
          "output_type": "stream",
          "name": "stdout",
          "text": [
            "90\n"
          ]
        },
        {
          "output_type": "stream",
          "name": "stdout",
          "text": [
            "91\n"
          ]
        },
        {
          "output_type": "stream",
          "name": "stdout",
          "text": [
            "92\n"
          ]
        },
        {
          "output_type": "stream",
          "name": "stdout",
          "text": [
            "93\n"
          ]
        },
        {
          "output_type": "stream",
          "name": "stdout",
          "text": [
            "94\n"
          ]
        },
        {
          "output_type": "stream",
          "name": "stdout",
          "text": [
            "95\n"
          ]
        },
        {
          "output_type": "stream",
          "name": "stdout",
          "text": [
            "96\n"
          ]
        },
        {
          "output_type": "stream",
          "name": "stdout",
          "text": [
            "97\n"
          ]
        },
        {
          "output_type": "stream",
          "name": "stdout",
          "text": [
            "98\n"
          ]
        },
        {
          "output_type": "stream",
          "name": "stdout",
          "text": [
            "99\n"
          ]
        },
        {
          "output_type": "stream",
          "name": "stdout",
          "text": [
            "100\n"
          ]
        },
        {
          "output_type": "stream",
          "name": "stdout",
          "text": [
            "101\n"
          ]
        },
        {
          "output_type": "stream",
          "name": "stdout",
          "text": [
            "102\n"
          ]
        },
        {
          "output_type": "stream",
          "name": "stdout",
          "text": [
            "103\n"
          ]
        },
        {
          "output_type": "stream",
          "name": "stdout",
          "text": [
            "104\n"
          ]
        },
        {
          "output_type": "stream",
          "name": "stdout",
          "text": [
            "105\n"
          ]
        },
        {
          "output_type": "stream",
          "name": "stdout",
          "text": [
            "106\n"
          ]
        },
        {
          "output_type": "stream",
          "name": "stdout",
          "text": [
            "107\n"
          ]
        },
        {
          "output_type": "stream",
          "name": "stdout",
          "text": [
            "108\n"
          ]
        },
        {
          "output_type": "stream",
          "name": "stdout",
          "text": [
            "109\n"
          ]
        },
        {
          "output_type": "stream",
          "name": "stdout",
          "text": [
            "110\n"
          ]
        },
        {
          "output_type": "stream",
          "name": "stdout",
          "text": [
            "111\n"
          ]
        },
        {
          "output_type": "stream",
          "name": "stdout",
          "text": [
            "112\n"
          ]
        },
        {
          "output_type": "stream",
          "name": "stdout",
          "text": [
            "113\n"
          ]
        },
        {
          "output_type": "stream",
          "name": "stdout",
          "text": [
            "114\n"
          ]
        },
        {
          "output_type": "stream",
          "name": "stdout",
          "text": [
            "115\n"
          ]
        },
        {
          "output_type": "stream",
          "name": "stdout",
          "text": [
            "116\n"
          ]
        },
        {
          "output_type": "stream",
          "name": "stdout",
          "text": [
            "117\n"
          ]
        },
        {
          "output_type": "stream",
          "name": "stdout",
          "text": [
            "118\n"
          ]
        },
        {
          "output_type": "stream",
          "name": "stdout",
          "text": [
            "119\n"
          ]
        },
        {
          "output_type": "stream",
          "name": "stdout",
          "text": [
            "120\n"
          ]
        },
        {
          "output_type": "stream",
          "name": "stdout",
          "text": [
            "121\n"
          ]
        },
        {
          "output_type": "stream",
          "name": "stdout",
          "text": [
            "122\n"
          ]
        },
        {
          "output_type": "stream",
          "name": "stdout",
          "text": [
            "123\n"
          ]
        },
        {
          "output_type": "stream",
          "name": "stdout",
          "text": [
            "124\n"
          ]
        },
        {
          "output_type": "stream",
          "name": "stdout",
          "text": [
            "125\n"
          ]
        },
        {
          "output_type": "stream",
          "name": "stdout",
          "text": [
            "126\n"
          ]
        },
        {
          "output_type": "stream",
          "name": "stdout",
          "text": [
            "127\n"
          ]
        }
      ]
    },
    {
      "cell_type": "code",
      "metadata": {
        "originalKey": "66c08290-c3ef-4d06-ad8b-d18ebb5d7d02",
        "showInput": true,
        "customInput": null,
        "collapsed": false,
        "requestMsgId": "66c08290-c3ef-4d06-ad8b-d18ebb5d7d02",
        "executionStartTime": 1681157845517,
        "executionStopTime": 1681157845610
      },
      "source": [
        "print('test')"
      ],
      "execution_count": 17,
      "outputs": [
        {
          "output_type": "stream",
          "name": "stdout",
          "text": [
            "test\n"
          ]
        }
      ]
    },
    {
      "cell_type": "code",
      "metadata": {
        "originalKey": "1ec84e02-9cc9-4a0d-b4d4-6cbd7bdb4c4d",
        "showInput": true,
        "customInput": null
      },
      "source": [
        ""
      ],
      "execution_count": null,
      "outputs": []
    },
    {
      "cell_type": "code",
      "metadata": {
        "originalKey": "212936de-0c4c-4446-8e9d-c5d529c66634",
        "showInput": true,
        "customInput": null
      },
      "source": [
        ""
      ],
      "execution_count": null,
      "outputs": []
    },
    {
      "cell_type": "code",
      "metadata": {
        "originalKey": "67a691f9-bc81-4c39-bad2-41d596caa4ac",
        "showInput": true,
        "customInput": null,
        "collapsed": false,
        "requestMsgId": "67a691f9-bc81-4c39-bad2-41d596caa4ac",
        "executionStartTime": 1681158165524,
        "executionStopTime": 1681165018204,
        "customOutput": null
      },
      "source": [
        "from sklearn.ensemble import RandomForestClassifier\n",
        "\n",
        "# set-up loop\n",
        "#rocauc_v1_ud_w = []\n",
        "rocauc_v2_ud_w = []\n",
        "#rocauc_ud_uw = []\n",
        "\n",
        "baseline_prop = []\n",
        "\n",
        "#for i in range(0,25): # loop through outcomes part 1\n",
        "#for i in range(25,50):\n",
        "for i in range(50,112):\n",
        "    print(i)\n",
        "\n",
        "    relevant_edges = relevant_edges_tmp[[\"src\", \"dst\", \"node_id\", i, 'edge_bin']]\n",
        "    relevant_edges.columns = [\"src\", \"dst\",  \"node_id\", \"y\", 'edge_bin']\n",
        "    label1 = relevant_edges.groupby([\"src\", 'edge_bin'])[\"y\"].sum().reset_index() # same by edgebin\n",
        "    labeltotal = relevant_edges.groupby([\"src\", 'edge_bin'])[\"y\"].count().reset_index()\n",
        "    relevant_edgelist = labeltotal.merge(label1, on=[\"src\", 'edge_bin'])\n",
        "\n",
        "    ## this is already by edge bin\n",
        "    relevant_edgelist[\"label_0\"] = relevant_edgelist[\"y_x\"] - relevant_edgelist[\"y_y\"]\n",
        "    relevant_edgelist.rename(columns={\"y_y\": \"label_1\"}, inplace=True)\n",
        "    relevant_edgelist.drop([\"y_x\"], axis=1, inplace=True)\n",
        "\n",
        "    ## v0 - linear combination of single layers\n",
        "    normalizer = pd.DataFrame(y_train[i].value_counts(normalize=True, ascending=True))\n",
        "\n",
        "    # step 1 - one hop scores\n",
        "    step1_one_hop_scores = pd.DataFrame(\n",
        "        {\n",
        "            \"src\": relevant_edgelist.src,\n",
        "            \"edge_bin\": relevant_edgelist.edge_bin,\n",
        "            \"frac\": np.log(\n",
        "                (relevant_edgelist[\"label_1\"] + 1) / (relevant_edgelist[\"label_0\"] + 1)\n",
        "            )\n",
        "            * list((normalizer.iloc[0]) / (normalizer.iloc[1]))[0],\n",
        "        }\n",
        "    )\n",
        "\n",
        "    two_hop_stg_v2 = relevant_edges.merge(\n",
        "            step1_one_hop_scores, left_on=[\"dst\",\"edge_bin\"], right_on=[\"src\",\"edge_bin\"], how=\"inner\" # keep edge_bin and one-hop scores same\n",
        "        )\n",
        "\n",
        "    two_hop_stg = two_hop_stg_v2.groupby(['src_x','edge_bin'])['frac'].sum().reset_index()\n",
        "    two_hop_v2 = pd.pivot_table(two_hop_stg, values = 'frac', columns = 'edge_bin', index = 'src_x').reset_index().fillna(0)\n",
        "    two_hop_v2 = two_hop_v2.add_prefix('score_')\n",
        "\n",
        "    two_hop_v2_valid = two_hop_v2.merge(\n",
        "            y_valid, left_on=\"score_src_x\", right_on=\"node_id\", how=\"right\"\n",
        "        )\n",
        "    clf = LogisticRegression(random_state=0).fit(\n",
        "        two_hop_v2_valid[['score_0', 'score_1', 'score_2', 'score_3',\n",
        "       'score_4', 'score_5', 'score_6', 'score_7', 'score_8', 'score_9',\n",
        "       'score_10', 'score_11', 'score_12', 'score_13', 'score_14',\n",
        "       'score_15', 'score_16', 'score_17', 'score_18', 'score_19',\n",
        "       'score_20', 'score_21', 'score_22', 'score_23', 'score_24',\n",
        "       'score_25', 'score_26', 'score_27', 'score_28', 'score_29',\n",
        "       'score_30', 'score_31', 'score_32', 'score_33', 'score_34',\n",
        "       'score_35', 'score_36', 'score_37', 'score_38', 'score_39',\n",
        "       'score_40', 'score_41', 'score_42', 'score_43', 'score_44',\n",
        "       'score_45', 'score_46', 'score_47', 'score_48', 'score_49',\n",
        "       'score_50', 'score_51', 'score_52', 'score_53', 'score_54',\n",
        "       'score_55', 'score_56', 'score_57', 'score_58', 'score_59',\n",
        "       'score_60', 'score_61', 'score_62', 'score_63', 'score_64',\n",
        "       'score_65', 'score_66', 'score_67', 'score_68', 'score_69',\n",
        "       'score_70', 'score_71', 'score_72', 'score_73', 'score_74',\n",
        "       'score_75', 'score_76', 'score_77', 'score_78', 'score_79',\n",
        "       'score_80', 'score_81', 'score_82', 'score_83', 'score_84',\n",
        "       'score_85', 'score_86', 'score_87', 'score_88', 'score_89',\n",
        "       'score_90', 'score_91', 'score_92', 'score_93', 'score_94',\n",
        "       'score_95', 'score_96', 'score_97', 'score_98', 'score_99',\n",
        "       'score_100', 'score_101', 'score_102', 'score_103', 'score_104',\n",
        "       'score_105', 'score_106', 'score_107', 'score_108', 'score_109',\n",
        "       'score_110', 'score_111', 'score_112', 'score_113', 'score_114',\n",
        "       'score_115', 'score_116', 'score_117', 'score_118', 'score_119',\n",
        "       'score_120', 'score_121', 'score_122', 'score_123', 'score_124',\n",
        "       'score_125', 'score_126', 'score_127']], two_hop_v2_valid[i]\n",
        "    )\n",
        "\n",
        "\n",
        "    pred_v2 = y_test.merge(two_hop_v2, right_on=\"score_src_x\", left_on=\"node_id\", how=\"left\")\n",
        "    print(\n",
        "        \"roc-auc, v1: \",\n",
        "        roc_auc_score(\n",
        "            pred_v2[i],\n",
        "            clf.predict_proba(pred_v2[['score_0', 'score_1', 'score_2', 'score_3',\n",
        "       'score_4', 'score_5', 'score_6', 'score_7', 'score_8', 'score_9',\n",
        "       'score_10', 'score_11', 'score_12', 'score_13', 'score_14',\n",
        "       'score_15', 'score_16', 'score_17', 'score_18', 'score_19',\n",
        "       'score_20', 'score_21', 'score_22', 'score_23', 'score_24',\n",
        "       'score_25', 'score_26', 'score_27', 'score_28', 'score_29',\n",
        "       'score_30', 'score_31', 'score_32', 'score_33', 'score_34',\n",
        "       'score_35', 'score_36', 'score_37', 'score_38', 'score_39',\n",
        "       'score_40', 'score_41', 'score_42', 'score_43', 'score_44',\n",
        "       'score_45', 'score_46', 'score_47', 'score_48', 'score_49',\n",
        "       'score_50', 'score_51', 'score_52', 'score_53', 'score_54',\n",
        "       'score_55', 'score_56', 'score_57', 'score_58', 'score_59',\n",
        "       'score_60', 'score_61', 'score_62', 'score_63', 'score_64',\n",
        "       'score_65', 'score_66', 'score_67', 'score_68', 'score_69',\n",
        "       'score_70', 'score_71', 'score_72', 'score_73', 'score_74',\n",
        "       'score_75', 'score_76', 'score_77', 'score_78', 'score_79',\n",
        "       'score_80', 'score_81', 'score_82', 'score_83', 'score_84',\n",
        "       'score_85', 'score_86', 'score_87', 'score_88', 'score_89',\n",
        "       'score_90', 'score_91', 'score_92', 'score_93', 'score_94',\n",
        "       'score_95', 'score_96', 'score_97', 'score_98', 'score_99',\n",
        "       'score_100', 'score_101', 'score_102', 'score_103', 'score_104',\n",
        "       'score_105', 'score_106', 'score_107', 'score_108', 'score_109',\n",
        "       'score_110', 'score_111', 'score_112', 'score_113', 'score_114',\n",
        "       'score_115', 'score_116', 'score_117', 'score_118', 'score_119',\n",
        "       'score_120', 'score_121', 'score_122', 'score_123', 'score_124',\n",
        "       'score_125', 'score_126', 'score_127']])[:,1]\n",
        "        ),\n",
        "    )\n",
        "    rocauc_v2_ud_w.append(roc_auc_score(\n",
        "            pred_v2[i],\n",
        "            clf.predict_proba(pred_v2[['score_0', 'score_1', 'score_2', 'score_3',\n",
        "       'score_4', 'score_5', 'score_6', 'score_7', 'score_8', 'score_9',\n",
        "       'score_10', 'score_11', 'score_12', 'score_13', 'score_14',\n",
        "       'score_15', 'score_16', 'score_17', 'score_18', 'score_19',\n",
        "       'score_20', 'score_21', 'score_22', 'score_23', 'score_24',\n",
        "       'score_25', 'score_26', 'score_27', 'score_28', 'score_29',\n",
        "       'score_30', 'score_31', 'score_32', 'score_33', 'score_34',\n",
        "       'score_35', 'score_36', 'score_37', 'score_38', 'score_39',\n",
        "       'score_40', 'score_41', 'score_42', 'score_43', 'score_44',\n",
        "       'score_45', 'score_46', 'score_47', 'score_48', 'score_49',\n",
        "       'score_50', 'score_51', 'score_52', 'score_53', 'score_54',\n",
        "       'score_55', 'score_56', 'score_57', 'score_58', 'score_59',\n",
        "       'score_60', 'score_61', 'score_62', 'score_63', 'score_64',\n",
        "       'score_65', 'score_66', 'score_67', 'score_68', 'score_69',\n",
        "       'score_70', 'score_71', 'score_72', 'score_73', 'score_74',\n",
        "       'score_75', 'score_76', 'score_77', 'score_78', 'score_79',\n",
        "       'score_80', 'score_81', 'score_82', 'score_83', 'score_84',\n",
        "       'score_85', 'score_86', 'score_87', 'score_88', 'score_89',\n",
        "       'score_90', 'score_91', 'score_92', 'score_93', 'score_94',\n",
        "       'score_95', 'score_96', 'score_97', 'score_98', 'score_99',\n",
        "       'score_100', 'score_101', 'score_102', 'score_103', 'score_104',\n",
        "       'score_105', 'score_106', 'score_107', 'score_108', 'score_109',\n",
        "       'score_110', 'score_111', 'score_112', 'score_113', 'score_114',\n",
        "       'score_115', 'score_116', 'score_117', 'score_118', 'score_119',\n",
        "       'score_120', 'score_121', 'score_122', 'score_123', 'score_124',\n",
        "       'score_125', 'score_126', 'score_127']])[:,1]\n",
        "        ))\n",
        ""
      ],
      "execution_count": 20,
      "outputs": [
        {
          "output_type": "stream",
          "name": "stdout",
          "text": [
            "50\n"
          ]
        },
        {
          "output_type": "stream",
          "name": "stdout",
          "text": [
            "roc-auc, v1:  0.7064015627242928\n51\n"
          ]
        },
        {
          "output_type": "stream",
          "name": "stdout",
          "text": [
            "roc-auc, v1:  0.8012779258549222\n52\n"
          ]
        },
        {
          "output_type": "stream",
          "name": "stdout",
          "text": [
            "roc-auc, v1:  0.7271762243195503\n53\n"
          ]
        },
        {
          "output_type": "stream",
          "name": "stdout",
          "text": [
            "roc-auc, v1:  0.8823322485285049\n54\n"
          ]
        },
        {
          "output_type": "stream",
          "name": "stdout",
          "text": [
            "roc-auc, v1:  0.6282064329239881\n55\n"
          ]
        },
        {
          "output_type": "stream",
          "name": "stdout",
          "text": [
            "roc-auc, v1:  0.8251447720779066\n56\n"
          ]
        },
        {
          "output_type": "stream",
          "name": "stdout",
          "text": [
            "roc-auc, v1:  0.824260371193156\n57\n"
          ]
        },
        {
          "output_type": "stream",
          "name": "stdout",
          "text": [
            "roc-auc, v1:  0.6756640177194827\n58\n"
          ]
        },
        {
          "output_type": "stream",
          "name": "stdout",
          "text": [
            "roc-auc, v1:  0.8427143272622254\n59\n"
          ]
        },
        {
          "output_type": "stream",
          "name": "stdout",
          "text": [
            "roc-auc, v1:  0.672887895596129\n60\n"
          ]
        },
        {
          "output_type": "stream",
          "name": "stdout",
          "text": [
            "roc-auc, v1:  0.7693999177377332\n61\n"
          ]
        },
        {
          "output_type": "stream",
          "name": "stdout",
          "text": [
            "roc-auc, v1:  0.8463248031290251\n62\n"
          ]
        },
        {
          "output_type": "stream",
          "name": "stdout",
          "text": [
            "roc-auc, v1:  0.7728574609182424\n63\n"
          ]
        },
        {
          "output_type": "stream",
          "name": "stdout",
          "text": [
            "roc-auc, v1:  0.874113221387253\n64\n"
          ]
        },
        {
          "output_type": "stream",
          "name": "stdout",
          "text": [
            "roc-auc, v1:  0.7743101764819502\n65\n"
          ]
        },
        {
          "output_type": "stream",
          "name": "stdout",
          "text": [
            "roc-auc, v1:  0.773317084913637\n66\n"
          ]
        },
        {
          "output_type": "stream",
          "name": "stdout",
          "text": [
            "roc-auc, v1:  0.8218795192101478\n67\n"
          ]
        },
        {
          "output_type": "stream",
          "name": "stdout",
          "text": [
            "roc-auc, v1:  0.8218795192101478\n68\n"
          ]
        },
        {
          "output_type": "stream",
          "name": "stdout",
          "text": [
            "roc-auc, v1:  0.6562160552545597\n69\n"
          ]
        },
        {
          "output_type": "stream",
          "name": "stdout",
          "text": [
            "roc-auc, v1:  0.7761709795285899\n70\n"
          ]
        },
        {
          "output_type": "stream",
          "name": "stdout",
          "text": [
            "roc-auc, v1:  0.670065673114516\n71\n"
          ]
        },
        {
          "output_type": "stream",
          "name": "stdout",
          "text": [
            "roc-auc, v1:  0.8612966175381622\n72\n"
          ]
        },
        {
          "output_type": "stream",
          "name": "stdout",
          "text": [
            "roc-auc, v1:  0.6546963450432911\n73\n"
          ]
        },
        {
          "output_type": "stream",
          "name": "stdout",
          "text": [
            "roc-auc, v1:  0.8689516465541702\n74\n"
          ]
        },
        {
          "output_type": "stream",
          "name": "stdout",
          "text": [
            "roc-auc, v1:  0.6897898450269704\n75\n"
          ]
        },
        {
          "output_type": "stream",
          "name": "stdout",
          "text": [
            "roc-auc, v1:  0.8412483657451064\n76\n"
          ]
        },
        {
          "output_type": "stream",
          "name": "stdout",
          "text": [
            "roc-auc, v1:  0.8737871319868474\n77\n"
          ]
        },
        {
          "output_type": "stream",
          "name": "stdout",
          "text": [
            "roc-auc, v1:  0.8829059973154018\n78\n"
          ]
        },
        {
          "output_type": "stream",
          "name": "stdout",
          "text": [
            "roc-auc, v1:  0.8828054988383077\n79\n"
          ]
        },
        {
          "output_type": "stream",
          "name": "stdout",
          "text": [
            "roc-auc, v1:  0.7125322828348919\n80\n"
          ]
        },
        {
          "output_type": "stream",
          "name": "stdout",
          "text": [
            "roc-auc, v1:  0.7771132535975787\n81\n"
          ]
        },
        {
          "output_type": "stream",
          "name": "stdout",
          "text": [
            "roc-auc, v1:  0.8837756582592948\n82\n"
          ]
        },
        {
          "output_type": "stream",
          "name": "stdout",
          "text": [
            "roc-auc, v1:  0.887824275721841\n83\n"
          ]
        },
        {
          "output_type": "stream",
          "name": "stdout",
          "text": [
            "roc-auc, v1:  0.7809348041692397\n84\n"
          ]
        },
        {
          "output_type": "stream",
          "name": "stdout",
          "text": [
            "roc-auc, v1:  0.7818417373488364\n85\n"
          ]
        },
        {
          "output_type": "stream",
          "name": "stdout",
          "text": [
            "roc-auc, v1:  0.890238588406645\n86\n"
          ]
        },
        {
          "output_type": "stream",
          "name": "stdout",
          "text": [
            "roc-auc, v1:  0.7818469759663977\n87\n"
          ]
        },
        {
          "output_type": "stream",
          "name": "stdout",
          "text": [
            "roc-auc, v1:  0.8712704206466992\n88\n"
          ]
        },
        {
          "output_type": "stream",
          "name": "stdout",
          "text": [
            "roc-auc, v1:  0.7153484940439605\n89\n"
          ]
        },
        {
          "output_type": "stream",
          "name": "stdout",
          "text": [
            "roc-auc, v1:  0.7089660500401246\n90\n"
          ]
        },
        {
          "output_type": "stream",
          "name": "stdout",
          "text": [
            "roc-auc, v1:  0.6891318514879856\n91\n"
          ]
        },
        {
          "output_type": "stream",
          "name": "stdout",
          "text": [
            "roc-auc, v1:  0.6889463603636159\n92\n"
          ]
        },
        {
          "output_type": "stream",
          "name": "stdout",
          "text": [
            "roc-auc, v1:  0.7109203750378714\n93\n"
          ]
        },
        {
          "output_type": "stream",
          "name": "stdout",
          "text": [
            "roc-auc, v1:  0.8522283213796645\n94\n"
          ]
        },
        {
          "output_type": "stream",
          "name": "stdout",
          "text": [
            "roc-auc, v1:  0.5942605896613031\n95\n"
          ]
        },
        {
          "output_type": "stream",
          "name": "stdout",
          "text": [
            "roc-auc, v1:  0.6938011024224974\n96\n"
          ]
        },
        {
          "output_type": "stream",
          "name": "stdout",
          "text": [
            "roc-auc, v1:  0.81498080261821\n97\n"
          ]
        },
        {
          "output_type": "stream",
          "name": "stdout",
          "text": [
            "roc-auc, v1:  0.8611920910677455\n98\n"
          ]
        },
        {
          "output_type": "stream",
          "name": "stdout",
          "text": [
            "roc-auc, v1:  0.6028434376815077\n99\n"
          ]
        },
        {
          "output_type": "stream",
          "name": "stdout",
          "text": [
            "roc-auc, v1:  0.750622803505494\n100\n"
          ]
        },
        {
          "output_type": "stream",
          "name": "stdout",
          "text": [
            "roc-auc, v1:  0.6051171219869443\n101\n"
          ]
        },
        {
          "output_type": "stream",
          "name": "stdout",
          "text": [
            "roc-auc, v1:  0.9016980178331828\n102\n"
          ]
        },
        {
          "output_type": "stream",
          "name": "stdout",
          "text": [
            "roc-auc, v1:  0.8104125432766343\n103\n"
          ]
        },
        {
          "output_type": "stream",
          "name": "stdout",
          "text": [
            "roc-auc, v1:  0.8183798994572293\n104\n"
          ]
        },
        {
          "output_type": "stream",
          "name": "stdout",
          "text": [
            "roc-auc, v1:  0.6183752266620196\n105\n"
          ]
        },
        {
          "output_type": "stream",
          "name": "stdout",
          "text": [
            "roc-auc, v1:  0.585175418691529\n106\n"
          ]
        },
        {
          "output_type": "stream",
          "name": "stdout",
          "text": [
            "roc-auc, v1:  0.9178626107938048\n107\n"
          ]
        },
        {
          "output_type": "stream",
          "name": "stdout",
          "text": [
            "roc-auc, v1:  0.5478742695227947\n108\n"
          ]
        },
        {
          "output_type": "stream",
          "name": "stdout",
          "text": [
            "roc-auc, v1:  0.6056404993264509\n109\n"
          ]
        },
        {
          "output_type": "stream",
          "name": "stdout",
          "text": [
            "roc-auc, v1:  0.5415456256817017\n110\n"
          ]
        },
        {
          "output_type": "stream",
          "name": "stdout",
          "text": [
            "roc-auc, v1:  0.5205933701758766\n111\n"
          ]
        },
        {
          "output_type": "stream",
          "name": "stdout",
          "text": [
            "roc-auc, v1:  0.5372851441557243\n"
          ]
        }
      ]
    },
    {
      "cell_type": "code",
      "metadata": {
        "originalKey": "81a3764f-690c-4a91-83e2-f5c703b5d2aa",
        "showInput": true,
        "customInput": null,
        "collapsed": false,
        "requestMsgId": "81a3764f-690c-4a91-83e2-f5c703b5d2aa",
        "executionStartTime": 1681165018357,
        "executionStopTime": 1681165018403,
        "customOutput": null
      },
      "source": [
        "print(np.mean(rocauc_v2_ud_w))\n",
        ""
      ],
      "execution_count": 21,
      "outputs": [
        {
          "output_type": "stream",
          "name": "stdout",
          "text": [
            "0.7541719622735406\n"
          ]
        }
      ]
    },
    {
      "cell_type": "code",
      "metadata": {
        "originalKey": "0a791ce7-ee36-47d1-bfc0-7c115cea3509",
        "showInput": true,
        "customInput": null,
        "collapsed": false,
        "requestMsgId": "0a791ce7-ee36-47d1-bfc0-7c115cea3509",
        "executionStartTime": 1681165018497,
        "executionStopTime": 1681165018512,
        "customOutput": null
      },
      "source": [
        "#with open('rocauc_v2_ud_w_part1_multilayer_original.npy', 'wb') as f:\n",
        "#with open('rocauc_v2_ud_w_part2_multilayer_original.npy', 'wb') as f:\n",
        "with open('rocauc_v2_ud_w_part3_multilayer_original.npy', 'wb') as f:\n",
        "    np.save(f, rocauc_v2_ud_w)"
      ],
      "execution_count": 23,
      "outputs": []
    },
    {
      "cell_type": "code",
      "metadata": {
        "originalKey": "65637d88-62f5-43ef-a3de-e9531be22b15",
        "showInput": true,
        "customInput": null
      },
      "source": [
        ""
      ],
      "execution_count": null,
      "outputs": []
    },
    {
      "cell_type": "code",
      "metadata": {
        "originalKey": "371df966-b2f0-4d0b-bd05-4ae363f499aa",
        "showInput": true,
        "customInput": null,
        "collapsed": false,
        "requestMsgId": "371df966-b2f0-4d0b-bd05-4ae363f499aa",
        "executionStartTime": 1680625683366,
        "executionStopTime": 1680625683374
      },
      "source": [
        ""
      ],
      "execution_count": 149,
      "outputs": []
    }
  ]
}
