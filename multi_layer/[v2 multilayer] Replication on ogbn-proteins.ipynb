{
  "metadata": {
    "dataExplorerConfig": {},
    "bento_stylesheets": {
      "bento/extensions/flow/main.css": true,
      "bento/extensions/kernel_selector/main.css": true,
      "bento/extensions/kernel_ui/main.css": true,
      "bento/extensions/new_kernel/main.css": true,
      "bento/extensions/system_usage/main.css": true,
      "bento/extensions/theme/main.css": true
    },
    "kernelspec": {
      "display_name": "pytorch",
      "language": "python",
      "name": "bento_kernel_pytorch",
      "cinder_runtime": false,
      "ipyflow_runtime": false,
      "metadata": {
        "kernel_name": "bento_kernel_pytorch",
        "nightly_builds": true,
        "fbpkg_supported": true,
        "cinder_runtime": false,
        "ipyflow_runtime": false,
        "is_prebuilt": true
      }
    },
    "language_info": {
      "codemirror_mode": {
        "name": "ipython",
        "version": 3
      },
      "file_extension": ".py",
      "mimetype": "text/x-python",
      "name": "python",
      "nbconvert_exporter": "python",
      "pygments_lexer": "ipython3"
    },
    "last_server_session_id": "96198ef7-9be5-4d27-9abd-c8c6ade96f97",
    "last_kernel_id": "87ca1ed6-69a6-4b22-b12a-2d7046c2730c",
    "last_base_url": "https://devvm1422.ash0.facebook.com:8090/",
    "last_msg_id": "dc1e6b28-8357893e9a8b44e3ce80ca39_280",
    "outputWidgetContext": {}
  },
  "nbformat": 4,
  "nbformat_minor": 2,
  "cells": [
    {
      "cell_type": "code",
      "metadata": {
        "collapsed": false,
        "originalKey": "0dcc8b02-9d70-4763-9bb4-853eedbf1a21",
        "requestMsgId": "4f59a4b3-afcc-4f72-a70d-036e9822f06b",
        "executionStartTime": 1683992491135,
        "executionStopTime": 1683992502321
      },
      "source": [
        "# 4/9/23\n",
        "# KM Altenburger\n",
        "\n",
        "# steps for downloading repo internally; run w/ \"pytorch kernel\"\n",
        "# sudo feature install ttls_fwdproxy\n",
        "# mgt import --src-type pypi sdist\n",
        "# mgt import --src-type pypi nvidia-cublas-cu11==11.10.3.66\n",
        "# mgt import --src-type pypi ogb\n",
        "\n",
        "import sys\n",
        "sys.path.insert(0, \"/home/kaltenburger/fbsource/ogb\")\n",
        "import matplotlib.pyplot as plt\n",
        "import networkx as nx\n",
        "import numpy as np\n",
        "import ogb\n",
        "import pandas as pd\n",
        "import torch\n",
        "\n",
        "# import torch_geometric\n",
        "from ogb.nodeproppred import NodePropPredDataset\n",
        "from sklearn.linear_model import LogisticRegression\n",
        "from sklearn.metrics import auc, precision_recall_curve, roc_auc_score\n",
        "from sklearn.model_selection import train_test_split"
      ],
      "execution_count": 1,
      "outputs": [
        {
          "output_type": "stream",
          "name": "stderr",
          "text": [
            "\nBad key \"axes.color_cycle\" on line 214 in\n/home/kaltenburger/.matplotlib/matplotlibrc.\nYou probably need to get an updated matplotlibrc file from\nhttps://github.com/matplotlib/matplotlib/blob/v3.1.3/matplotlibrc.template\nor from the matplotlib source distribution\n"
          ]
        },
        {
          "output_type": "stream",
          "name": "stderr",
          "text": [
            "I0513 084137.673 _utils_internal.py:199] NCCL_DEBUG env var is set to None\n"
          ]
        },
        {
          "output_type": "stream",
          "name": "stderr",
          "text": [
            "I0513 084137.675 _utils_internal.py:217] NCCL_DEBUG is forced to WARN from None\n"
          ]
        }
      ]
    },
    {
      "cell_type": "markdown",
      "metadata": {
        "originalKey": "0eb50079-caca-4391-bdb5-32bf6d7eaabc",
        "showInput": false,
        "customInput": null
      },
      "source": [
        "### read & set-up dataset\n",
        ""
      ]
    },
    {
      "cell_type": "code",
      "metadata": {
        "originalKey": "5dea2348-0c03-423c-bbe0-62cf3518bca9",
        "showInput": true,
        "customInput": null,
        "collapsed": false,
        "requestMsgId": "b9a0b534-75fe-4e4f-9be5-f98bd6383d80",
        "executionStartTime": 1683992502405,
        "executionStopTime": 1683992519723
      },
      "source": [
        "dataset = NodePropPredDataset(name='ogbn-proteins')\n",
        "g = dataset.graph # get edgelist and graph metadata\n",
        "y = dataset.labels # outcomes\n",
        "node_species_df = pd.DataFrame({'node_id':range(len(g['node_species'].flatten())), 'node_species': g['node_species'].flatten()})\n",
        "node_species_df.head()"
      ],
      "execution_count": 2,
      "outputs": [
        {
          "output_type": "execute_result",
          "data": {
            "text/plain": "   node_id  node_species\n0        0          3702\n1        1          3702\n2        2          3702\n3        3          3702\n4        4          3702",
            "text/html": "<div>\n<style scoped>\n    .dataframe tbody tr th:only-of-type {\n        vertical-align: middle;\n    }\n\n    .dataframe tbody tr th {\n        vertical-align: top;\n    }\n\n    .dataframe thead th {\n        text-align: right;\n    }\n</style>\n<table border=\"1\" class=\"dataframe\">\n  <thead>\n    <tr style=\"text-align: right;\">\n      <th></th>\n      <th>node_id</th>\n      <th>node_species</th>\n    </tr>\n  </thead>\n  <tbody>\n    <tr>\n      <th>0</th>\n      <td>0</td>\n      <td>3702</td>\n    </tr>\n    <tr>\n      <th>1</th>\n      <td>1</td>\n      <td>3702</td>\n    </tr>\n    <tr>\n      <th>2</th>\n      <td>2</td>\n      <td>3702</td>\n    </tr>\n    <tr>\n      <th>3</th>\n      <td>3</td>\n      <td>3702</td>\n    </tr>\n    <tr>\n      <th>4</th>\n      <td>4</td>\n      <td>3702</td>\n    </tr>\n  </tbody>\n</table>\n</div>",
            "application/vnd.dataresource+json": {
              "schema": {
                "fields": [
                  {
                    "name": "index",
                    "type": "integer"
                  },
                  {
                    "name": "node_id",
                    "type": "integer"
                  },
                  {
                    "name": "node_species",
                    "type": "integer"
                  }
                ],
                "primaryKey": [
                  "index"
                ],
                "pandas_version": "0.20.0"
              },
              "data": [
                {
                  "index": 0,
                  "node_id": 0,
                  "node_species": 3702
                },
                {
                  "index": 1,
                  "node_id": 1,
                  "node_species": 3702
                },
                {
                  "index": 2,
                  "node_id": 2,
                  "node_species": 3702
                },
                {
                  "index": 3,
                  "node_id": 3,
                  "node_species": 3702
                },
                {
                  "index": 4,
                  "node_id": 4,
                  "node_species": 3702
                }
              ]
            }
          },
          "metadata": {
            "bento_obj_id": "140419784941376"
          },
          "execution_count": 2
        }
      ]
    },
    {
      "cell_type": "code",
      "metadata": {
        "originalKey": "9860c30c-0a2f-4a32-a721-4e917c07bf23",
        "showInput": true,
        "customInput": null,
        "collapsed": false,
        "requestMsgId": "816e5606-9e1e-44e2-a028-d724d3fbacb2",
        "executionStartTime": 1683992519785,
        "executionStopTime": 1683992519818
      },
      "source": [
        "# create edgelist\n",
        "edge_list_df = pd.DataFrame(g[\"edge_index\"].T)\n",
        "edge_list_df.columns = ['src','dst']\n",
        "edge_list_df.head()"
      ],
      "execution_count": 3,
      "outputs": [
        {
          "output_type": "execute_result",
          "data": {
            "text/plain": "     src     dst\n0      1   96401\n1  96401       1\n2      1   68343\n3  68343       1\n4      1  125069",
            "text/html": "<div>\n<style scoped>\n    .dataframe tbody tr th:only-of-type {\n        vertical-align: middle;\n    }\n\n    .dataframe tbody tr th {\n        vertical-align: top;\n    }\n\n    .dataframe thead th {\n        text-align: right;\n    }\n</style>\n<table border=\"1\" class=\"dataframe\">\n  <thead>\n    <tr style=\"text-align: right;\">\n      <th></th>\n      <th>src</th>\n      <th>dst</th>\n    </tr>\n  </thead>\n  <tbody>\n    <tr>\n      <th>0</th>\n      <td>1</td>\n      <td>96401</td>\n    </tr>\n    <tr>\n      <th>1</th>\n      <td>96401</td>\n      <td>1</td>\n    </tr>\n    <tr>\n      <th>2</th>\n      <td>1</td>\n      <td>68343</td>\n    </tr>\n    <tr>\n      <th>3</th>\n      <td>68343</td>\n      <td>1</td>\n    </tr>\n    <tr>\n      <th>4</th>\n      <td>1</td>\n      <td>125069</td>\n    </tr>\n  </tbody>\n</table>\n</div>",
            "application/vnd.dataresource+json": {
              "schema": {
                "fields": [
                  {
                    "name": "index",
                    "type": "integer"
                  },
                  {
                    "name": "src",
                    "type": "integer"
                  },
                  {
                    "name": "dst",
                    "type": "integer"
                  }
                ],
                "primaryKey": [
                  "index"
                ],
                "pandas_version": "0.20.0"
              },
              "data": [
                {
                  "index": 0,
                  "src": 1,
                  "dst": 96401
                },
                {
                  "index": 1,
                  "src": 96401,
                  "dst": 1
                },
                {
                  "index": 2,
                  "src": 1,
                  "dst": 68343
                },
                {
                  "index": 3,
                  "src": 68343,
                  "dst": 1
                },
                {
                  "index": 4,
                  "src": 1,
                  "dst": 125069
                }
              ]
            }
          },
          "metadata": {
            "bento_obj_id": "140419814451568"
          },
          "execution_count": 3
        }
      ]
    },
    {
      "cell_type": "code",
      "metadata": {
        "originalKey": "39c0e22e-adf9-4a78-8388-da0537548f20",
        "showInput": true,
        "customInput": null,
        "collapsed": false,
        "requestMsgId": "a108248f-78f3-49c6-a149-56e50570326f",
        "executionStartTime": 1683992519862,
        "executionStopTime": 1683992562729
      },
      "source": [
        "# sanity check on inter-species connections\n",
        "edge_list_df_check = edge_list_df.merge(node_species_df, how = 'left', left_on = 'src', right_on = 'node_id')\n",
        "edge_list_df_check.drop('node_id', axis = 1, inplace=True)\n",
        "edge_list_df_check = edge_list_df_check.merge(node_species_df, how = 'left', left_on = 'dst', right_on = 'node_id')\n",
        "edge_list_df_check.drop('node_id', axis = 1, inplace=True)\n",
        "#edge_list_df_check.head()\n",
        "print(np.mean(edge_list_df_check['node_species_x']==edge_list_df_check['node_species_y']))\n",
        "print(np.mean(edge_list_df_check['node_species_x']!=edge_list_df_check['node_species_y']))"
      ],
      "execution_count": 4,
      "outputs": [
        {
          "output_type": "stream",
          "name": "stdout",
          "text": [
            "0.8059610954678583\n"
          ]
        },
        {
          "output_type": "stream",
          "name": "stdout",
          "text": [
            "0.1940389045321417\n"
          ]
        }
      ]
    },
    {
      "cell_type": "code",
      "metadata": {
        "originalKey": "d9c4581d-59ce-4a41-8cd2-1a22e7e86a8e",
        "showInput": true,
        "customInput": null,
        "collapsed": false,
        "requestMsgId": "9712bcd3-2b5a-418b-a65f-5bb07b339c38",
        "executionStartTime": 1683992563051,
        "executionStopTime": 1683992563075
      },
      "source": [
        "y0 = pd.DataFrame(y)\n",
        "y0 = y0.iloc[:,0:25] # part I\n",
        "#y0 = y0.iloc[:,25:50] # part II\n",
        "#y0 = y0.iloc[:,50:112] # part II\n",
        "y0['node_id'] = range(len(y0[24])) # change here for each part\n",
        "    \n",
        "split_idx = dataset.get_idx_split()\n",
        "train_idx, valid_idx, test_idx = split_idx[\"train\"], split_idx[\"valid\"], split_idx[\"test\"]\n",
        "\n",
        "X_train = y0['node_id'].iloc[train_idx]\n",
        "y_train = y0.iloc[train_idx]\n",
        "\n",
        "X_valid = y0['node_id'].iloc[valid_idx]\n",
        "X_test = y0['node_id'].iloc[test_idx]\n",
        "y_valid = y0.iloc[valid_idx]\n",
        "y_test = y0.iloc[test_idx]\n",
        "\n",
        ""
      ],
      "execution_count": 5,
      "outputs": []
    },
    {
      "cell_type": "code",
      "metadata": {
        "originalKey": "3cddc904-59ac-4d16-b7e2-1150e1e13827",
        "showInput": true,
        "customInput": null,
        "collapsed": false,
        "requestMsgId": "e1a8818a-73d0-4eb0-8c33-81918cadab17",
        "executionStartTime": 1683992563112,
        "executionStopTime": 1683992611296
      },
      "source": [
        "edge_w = pd.DataFrame(g['edge_feat'])\n",
        "edge_w = edge_w.add_suffix('_weight')\n",
        "edge_list_df = pd.concat([edge_list_df, edge_w], axis=1)\n",
        "#edge_list_df.head()\n",
        "# w0 = edge_w[j]\n",
        "# edge_list_df['weight'] = w0\n",
        "# edge_list_df.head()\n",
        "# # merge in labels for training nodes on a user's connections\n",
        "relevant_edges_tmp = edge_list_df.merge(y_train, left_on = 'dst', right_on='node_id', how = 'left')\n",
        "relevant_edges_tmp.head()"
      ],
      "execution_count": 6,
      "outputs": [
        {
          "output_type": "execute_result",
          "data": {
            "text/plain": "     src     dst  0_weight  1_weight  2_weight  ...   21   22   23   24  node_id\n0      1   96401     0.501     0.001     0.001  ...  NaN  NaN  NaN  NaN      NaN\n1  96401       1     0.501     0.001     0.001  ...  0.0  0.0  0.0  0.0      1.0\n2      1   68343     0.501     0.001     0.001  ...  0.0  0.0  0.0  0.0  68343.0\n3  68343       1     0.501     0.001     0.001  ...  0.0  0.0  0.0  0.0      1.0\n4      1  125069     0.501     0.001     0.001  ...  NaN  NaN  NaN  NaN      NaN\n\n[5 rows x 36 columns]",
            "text/html": "<div>\n<style scoped>\n    .dataframe tbody tr th:only-of-type {\n        vertical-align: middle;\n    }\n\n    .dataframe tbody tr th {\n        vertical-align: top;\n    }\n\n    .dataframe thead th {\n        text-align: right;\n    }\n</style>\n<table border=\"1\" class=\"dataframe\">\n  <thead>\n    <tr style=\"text-align: right;\">\n      <th></th>\n      <th>src</th>\n      <th>dst</th>\n      <th>0_weight</th>\n      <th>1_weight</th>\n      <th>2_weight</th>\n      <th>3_weight</th>\n      <th>4_weight</th>\n      <th>5_weight</th>\n      <th>6_weight</th>\n      <th>7_weight</th>\n      <th>0</th>\n      <th>1</th>\n      <th>2</th>\n      <th>3</th>\n      <th>4</th>\n      <th>5</th>\n      <th>6</th>\n      <th>7</th>\n      <th>8</th>\n      <th>9</th>\n      <th>10</th>\n      <th>11</th>\n      <th>12</th>\n      <th>13</th>\n      <th>14</th>\n      <th>15</th>\n      <th>16</th>\n      <th>17</th>\n      <th>18</th>\n      <th>19</th>\n      <th>20</th>\n      <th>21</th>\n      <th>22</th>\n      <th>23</th>\n      <th>24</th>\n      <th>node_id</th>\n    </tr>\n  </thead>\n  <tbody>\n    <tr>\n      <th>0</th>\n      <td>1</td>\n      <td>96401</td>\n      <td>0.501</td>\n      <td>0.001</td>\n      <td>0.001</td>\n      <td>0.001</td>\n      <td>0.001</td>\n      <td>0.001</td>\n      <td>0.001</td>\n      <td>0.001</td>\n      <td>NaN</td>\n      <td>NaN</td>\n      <td>NaN</td>\n      <td>NaN</td>\n      <td>NaN</td>\n      <td>NaN</td>\n      <td>NaN</td>\n      <td>NaN</td>\n      <td>NaN</td>\n      <td>NaN</td>\n      <td>NaN</td>\n      <td>NaN</td>\n      <td>NaN</td>\n      <td>NaN</td>\n      <td>NaN</td>\n      <td>NaN</td>\n      <td>NaN</td>\n      <td>NaN</td>\n      <td>NaN</td>\n      <td>NaN</td>\n      <td>NaN</td>\n      <td>NaN</td>\n      <td>NaN</td>\n      <td>NaN</td>\n      <td>NaN</td>\n      <td>NaN</td>\n    </tr>\n    <tr>\n      <th>1</th>\n      <td>96401</td>\n      <td>1</td>\n      <td>0.501</td>\n      <td>0.001</td>\n      <td>0.001</td>\n      <td>0.001</td>\n      <td>0.001</td>\n      <td>0.001</td>\n      <td>0.001</td>\n      <td>0.001</td>\n      <td>1.0</td>\n      <td>1.0</td>\n      <td>0.0</td>\n      <td>1.0</td>\n      <td>1.0</td>\n      <td>0.0</td>\n      <td>1.0</td>\n      <td>0.0</td>\n      <td>1.0</td>\n      <td>0.0</td>\n      <td>1.0</td>\n      <td>0.0</td>\n      <td>1.0</td>\n      <td>0.0</td>\n      <td>1.0</td>\n      <td>0.0</td>\n      <td>0.0</td>\n      <td>0.0</td>\n      <td>0.0</td>\n      <td>0.0</td>\n      <td>0.0</td>\n      <td>0.0</td>\n      <td>0.0</td>\n      <td>0.0</td>\n      <td>0.0</td>\n      <td>1.0</td>\n    </tr>\n    <tr>\n      <th>2</th>\n      <td>1</td>\n      <td>68343</td>\n      <td>0.501</td>\n      <td>0.001</td>\n      <td>0.001</td>\n      <td>0.001</td>\n      <td>0.001</td>\n      <td>0.001</td>\n      <td>0.001</td>\n      <td>0.001</td>\n      <td>1.0</td>\n      <td>1.0</td>\n      <td>0.0</td>\n      <td>1.0</td>\n      <td>1.0</td>\n      <td>0.0</td>\n      <td>1.0</td>\n      <td>0.0</td>\n      <td>1.0</td>\n      <td>0.0</td>\n      <td>1.0</td>\n      <td>0.0</td>\n      <td>1.0</td>\n      <td>0.0</td>\n      <td>0.0</td>\n      <td>0.0</td>\n      <td>0.0</td>\n      <td>0.0</td>\n      <td>0.0</td>\n      <td>0.0</td>\n      <td>0.0</td>\n      <td>0.0</td>\n      <td>0.0</td>\n      <td>0.0</td>\n      <td>0.0</td>\n      <td>68343.0</td>\n    </tr>\n    <tr>\n      <th>3</th>\n      <td>68343</td>\n      <td>1</td>\n      <td>0.501</td>\n      <td>0.001</td>\n      <td>0.001</td>\n      <td>0.001</td>\n      <td>0.001</td>\n      <td>0.001</td>\n      <td>0.001</td>\n      <td>0.001</td>\n      <td>1.0</td>\n      <td>1.0</td>\n      <td>0.0</td>\n      <td>1.0</td>\n      <td>1.0</td>\n      <td>0.0</td>\n      <td>1.0</td>\n      <td>0.0</td>\n      <td>1.0</td>\n      <td>0.0</td>\n      <td>1.0</td>\n      <td>0.0</td>\n      <td>1.0</td>\n      <td>0.0</td>\n      <td>1.0</td>\n      <td>0.0</td>\n      <td>0.0</td>\n      <td>0.0</td>\n      <td>0.0</td>\n      <td>0.0</td>\n      <td>0.0</td>\n      <td>0.0</td>\n      <td>0.0</td>\n      <td>0.0</td>\n      <td>0.0</td>\n      <td>1.0</td>\n    </tr>\n    <tr>\n      <th>4</th>\n      <td>1</td>\n      <td>125069</td>\n      <td>0.501</td>\n      <td>0.001</td>\n      <td>0.001</td>\n      <td>0.001</td>\n      <td>0.001</td>\n      <td>0.001</td>\n      <td>0.001</td>\n      <td>0.001</td>\n      <td>NaN</td>\n      <td>NaN</td>\n      <td>NaN</td>\n      <td>NaN</td>\n      <td>NaN</td>\n      <td>NaN</td>\n      <td>NaN</td>\n      <td>NaN</td>\n      <td>NaN</td>\n      <td>NaN</td>\n      <td>NaN</td>\n      <td>NaN</td>\n      <td>NaN</td>\n      <td>NaN</td>\n      <td>NaN</td>\n      <td>NaN</td>\n      <td>NaN</td>\n      <td>NaN</td>\n      <td>NaN</td>\n      <td>NaN</td>\n      <td>NaN</td>\n      <td>NaN</td>\n      <td>NaN</td>\n      <td>NaN</td>\n      <td>NaN</td>\n      <td>NaN</td>\n    </tr>\n  </tbody>\n</table>\n</div>",
            "application/vnd.dataresource+json": {
              "schema": {
                "fields": [
                  {
                    "name": "index",
                    "type": "integer"
                  },
                  {
                    "name": "src",
                    "type": "integer"
                  },
                  {
                    "name": "dst",
                    "type": "integer"
                  },
                  {
                    "name": "0_weight",
                    "type": "number"
                  },
                  {
                    "name": "1_weight",
                    "type": "number"
                  },
                  {
                    "name": "2_weight",
                    "type": "number"
                  },
                  {
                    "name": "3_weight",
                    "type": "number"
                  },
                  {
                    "name": "4_weight",
                    "type": "number"
                  },
                  {
                    "name": "5_weight",
                    "type": "number"
                  },
                  {
                    "name": "6_weight",
                    "type": "number"
                  },
                  {
                    "name": "7_weight",
                    "type": "number"
                  },
                  {
                    "name": 0,
                    "type": "number"
                  },
                  {
                    "name": 1,
                    "type": "number"
                  },
                  {
                    "name": 2,
                    "type": "number"
                  },
                  {
                    "name": 3,
                    "type": "number"
                  },
                  {
                    "name": 4,
                    "type": "number"
                  },
                  {
                    "name": 5,
                    "type": "number"
                  },
                  {
                    "name": 6,
                    "type": "number"
                  },
                  {
                    "name": 7,
                    "type": "number"
                  },
                  {
                    "name": 8,
                    "type": "number"
                  },
                  {
                    "name": 9,
                    "type": "number"
                  },
                  {
                    "name": 10,
                    "type": "number"
                  },
                  {
                    "name": 11,
                    "type": "number"
                  },
                  {
                    "name": 12,
                    "type": "number"
                  },
                  {
                    "name": 13,
                    "type": "number"
                  },
                  {
                    "name": 14,
                    "type": "number"
                  },
                  {
                    "name": 15,
                    "type": "number"
                  },
                  {
                    "name": 16,
                    "type": "number"
                  },
                  {
                    "name": 17,
                    "type": "number"
                  },
                  {
                    "name": 18,
                    "type": "number"
                  },
                  {
                    "name": 19,
                    "type": "number"
                  },
                  {
                    "name": 20,
                    "type": "number"
                  },
                  {
                    "name": 21,
                    "type": "number"
                  },
                  {
                    "name": 22,
                    "type": "number"
                  },
                  {
                    "name": 23,
                    "type": "number"
                  },
                  {
                    "name": 24,
                    "type": "number"
                  },
                  {
                    "name": "node_id",
                    "type": "number"
                  }
                ],
                "primaryKey": [
                  "index"
                ],
                "pandas_version": "0.20.0"
              },
              "data": [
                {
                  "0": null,
                  "1": null,
                  "2": null,
                  "3": null,
                  "4": null,
                  "5": null,
                  "6": null,
                  "7": null,
                  "8": null,
                  "9": null,
                  "10": null,
                  "11": null,
                  "12": null,
                  "13": null,
                  "14": null,
                  "15": null,
                  "16": null,
                  "17": null,
                  "18": null,
                  "19": null,
                  "20": null,
                  "21": null,
                  "22": null,
                  "23": null,
                  "24": null,
                  "index": 0,
                  "src": 1,
                  "dst": 96401,
                  "0_weight": 0.5009999871,
                  "1_weight": 0.001,
                  "2_weight": 0.001,
                  "3_weight": 0.001,
                  "4_weight": 0.001,
                  "5_weight": 0.001,
                  "6_weight": 0.001,
                  "7_weight": 0.001,
                  "node_id": null
                },
                {
                  "0": 1,
                  "1": 1,
                  "2": 0,
                  "3": 1,
                  "4": 1,
                  "5": 0,
                  "6": 1,
                  "7": 0,
                  "8": 1,
                  "9": 0,
                  "10": 1,
                  "11": 0,
                  "12": 1,
                  "13": 0,
                  "14": 1,
                  "15": 0,
                  "16": 0,
                  "17": 0,
                  "18": 0,
                  "19": 0,
                  "20": 0,
                  "21": 0,
                  "22": 0,
                  "23": 0,
                  "24": 0,
                  "index": 1,
                  "src": 96401,
                  "dst": 1,
                  "0_weight": 0.5009999871,
                  "1_weight": 0.001,
                  "2_weight": 0.001,
                  "3_weight": 0.001,
                  "4_weight": 0.001,
                  "5_weight": 0.001,
                  "6_weight": 0.001,
                  "7_weight": 0.001,
                  "node_id": 1
                },
                {
                  "0": 1,
                  "1": 1,
                  "2": 0,
                  "3": 1,
                  "4": 1,
                  "5": 0,
                  "6": 1,
                  "7": 0,
                  "8": 1,
                  "9": 0,
                  "10": 1,
                  "11": 0,
                  "12": 1,
                  "13": 0,
                  "14": 0,
                  "15": 0,
                  "16": 0,
                  "17": 0,
                  "18": 0,
                  "19": 0,
                  "20": 0,
                  "21": 0,
                  "22": 0,
                  "23": 0,
                  "24": 0,
                  "index": 2,
                  "src": 1,
                  "dst": 68343,
                  "0_weight": 0.5009999871,
                  "1_weight": 0.001,
                  "2_weight": 0.001,
                  "3_weight": 0.001,
                  "4_weight": 0.001,
                  "5_weight": 0.001,
                  "6_weight": 0.001,
                  "7_weight": 0.001,
                  "node_id": 68343
                },
                {
                  "0": 1,
                  "1": 1,
                  "2": 0,
                  "3": 1,
                  "4": 1,
                  "5": 0,
                  "6": 1,
                  "7": 0,
                  "8": 1,
                  "9": 0,
                  "10": 1,
                  "11": 0,
                  "12": 1,
                  "13": 0,
                  "14": 1,
                  "15": 0,
                  "16": 0,
                  "17": 0,
                  "18": 0,
                  "19": 0,
                  "20": 0,
                  "21": 0,
                  "22": 0,
                  "23": 0,
                  "24": 0,
                  "index": 3,
                  "src": 68343,
                  "dst": 1,
                  "0_weight": 0.5009999871,
                  "1_weight": 0.001,
                  "2_weight": 0.001,
                  "3_weight": 0.001,
                  "4_weight": 0.001,
                  "5_weight": 0.001,
                  "6_weight": 0.001,
                  "7_weight": 0.001,
                  "node_id": 1
                },
                {
                  "0": null,
                  "1": null,
                  "2": null,
                  "3": null,
                  "4": null,
                  "5": null,
                  "6": null,
                  "7": null,
                  "8": null,
                  "9": null,
                  "10": null,
                  "11": null,
                  "12": null,
                  "13": null,
                  "14": null,
                  "15": null,
                  "16": null,
                  "17": null,
                  "18": null,
                  "19": null,
                  "20": null,
                  "21": null,
                  "22": null,
                  "23": null,
                  "24": null,
                  "index": 4,
                  "src": 1,
                  "dst": 125069,
                  "0_weight": 0.5009999871,
                  "1_weight": 0.001,
                  "2_weight": 0.001,
                  "3_weight": 0.001,
                  "4_weight": 0.001,
                  "5_weight": 0.001,
                  "6_weight": 0.001,
                  "7_weight": 0.001,
                  "node_id": null
                }
              ]
            }
          },
          "metadata": {
            "bento_obj_id": "140419814452864"
          },
          "execution_count": 6
        }
      ]
    },
    {
      "cell_type": "code",
      "metadata": {
        "originalKey": "2b022dd8-06d2-4e86-8707-1b1ef4763054",
        "showInput": true,
        "customInput": null,
        "collapsed": false,
        "requestMsgId": "9c0c7f00-2a00-4d30-b27c-fb4a5c0c1c8e",
        "executionStartTime": 1683992615485,
        "executionStopTime": 1683992641568
      },
      "source": [
        "intervals_v1 = relevant_edges_tmp[['0_weight','1_weight', '2_weight', '3_weight','6_weight','4_weight', '5_weight', '7_weight']].quantile([0.75])"
      ],
      "execution_count": 7,
      "outputs": []
    },
    {
      "cell_type": "code",
      "metadata": {
        "originalKey": "990d0117-8fcf-4c78-a6a5-81bc63e75a30",
        "showInput": true,
        "customInput": null,
        "collapsed": false,
        "requestMsgId": "7aedc3c2-cb8e-4374-bce8-264d8f6fba07",
        "executionStartTime": 1683992641616,
        "executionStopTime": 1683992641632
      },
      "source": [
        "np.array(intervals_v1.iloc[0])"
      ],
      "execution_count": 8,
      "outputs": [
        {
          "output_type": "execute_result",
          "data": {
            "text/plain": "array([0.001, 0.001, 0.001, 0.001, 0.001, 0.091, 0.115, 0.177])"
          },
          "metadata": {
            "bento_obj_id": "140418490072880"
          },
          "execution_count": 8
        }
      ]
    },
    {
      "cell_type": "code",
      "metadata": {
        "originalKey": "479f627b-2d87-4589-9aca-d9a5ad5b9fd5",
        "showInput": true,
        "customInput": null,
        "collapsed": false,
        "requestMsgId": "479f627b-2d87-4589-9aca-d9a5ad5b9fd5",
        "executionStartTime": 1681156586621,
        "executionStopTime": 1681156586643
      },
      "source": [
        ""
      ],
      "execution_count": 9,
      "outputs": []
    },
    {
      "cell_type": "code",
      "metadata": {
        "originalKey": "bcff5c8d-4bc0-44ef-8cc6-7f86b2cee9b2",
        "showInput": true,
        "customInput": null,
        "collapsed": false,
        "requestMsgId": "bcff5c8d-4bc0-44ef-8cc6-7f86b2cee9b2",
        "executionStartTime": 1681156587260,
        "executionStopTime": 1681156587278
      },
      "source": [
        ""
      ],
      "execution_count": 9,
      "outputs": []
    },
    {
      "cell_type": "code",
      "metadata": {
        "originalKey": "c7639a96-3cce-452e-b430-b4b4a946d2c4",
        "showInput": true,
        "customInput": null,
        "collapsed": false,
        "requestMsgId": "1c08d007-ee52-4053-9c75-e932555d18c2",
        "executionStartTime": 1683992686297,
        "executionStopTime": 1683993011347
      },
      "source": [
        "from sklearn.preprocessing import Binarizer\n",
        "k=0\n",
        "for j in range(8):\n",
        "    #print(j)\n",
        "    transformer = Binarizer().fit(relevant_edges_tmp[[str(j)+'_weight']])\n",
        "    relevant_edges_tmp['bin_'+str(k)] = pd.DataFrame(transformer.transform((relevant_edges_tmp[[str(j)+'_weight']]<=np.array(intervals_v1.iloc[0])[j])+0).flatten())\n",
        "    #print(relevant_edges_tmp.head())\n",
        "    k=k+1\n",
        "    relevant_edges_tmp['bin_'+str(k)] = pd.DataFrame(transformer.transform((relevant_edges_tmp[[str(j)+'_weight']]>np.array(intervals_v1.iloc[0])[j])+0).flatten())\n",
        "    k=k+1"
      ],
      "execution_count": 10,
      "outputs": []
    },
    {
      "cell_type": "code",
      "metadata": {
        "originalKey": "87dc5554-1993-4762-96d7-8dc414b1f9cd",
        "showInput": true,
        "customInput": null,
        "collapsed": false,
        "requestMsgId": "b9bec8f9-8da0-4398-96bc-2a5bf3c4cd08",
        "executionStopTime": 1683993102652,
        "executionStartTime": 1683993011447
      },
      "source": [
        "tmp = pd.DataFrame(relevant_edges_tmp[['bin_0',    'bin_1',    'bin_2',    'bin_3',    'bin_4',    'bin_5',\n",
        "        'bin_6',    'bin_7',    'bin_8',    'bin_9',   'bin_10',   'bin_11',\n",
        "        'bin_12',   'bin_13', 'bin_14',   'bin_15' ]].drop_duplicates())"
      ],
      "execution_count": 11,
      "outputs": []
    },
    {
      "cell_type": "code",
      "metadata": {
        "originalKey": "1bed115e-cd0d-4e4b-828a-985565d60b32",
        "showInput": true,
        "customInput": null,
        "collapsed": false,
        "requestMsgId": "d81ae2af-9145-4865-8fc2-675dcd66bd10",
        "executionStartTime": 1683993102738,
        "executionStopTime": 1683993102917
      },
      "source": [
        "tmp.reset_index(inplace=True,drop=True)\n",
        "tmp.head()"
      ],
      "execution_count": 12,
      "outputs": [
        {
          "output_type": "execute_result",
          "data": {
            "text/plain": "   bin_0  bin_1  bin_2  bin_3  bin_4  ...  bin_11  bin_12  bin_13  bin_14  bin_15\n0      0      1      1      0      1  ...       0       1       0       1       0\n1      1      0      1      0      1  ...       0       1       0       1       0\n2      1      0      1      0      1  ...       0       1       0       0       1\n3      1      0      1      0      1  ...       1       1       0       1       0\n4      1      0      1      0      1  ...       0       1       0       1       0\n\n[5 rows x 16 columns]",
            "text/html": "<div>\n<style scoped>\n    .dataframe tbody tr th:only-of-type {\n        vertical-align: middle;\n    }\n\n    .dataframe tbody tr th {\n        vertical-align: top;\n    }\n\n    .dataframe thead th {\n        text-align: right;\n    }\n</style>\n<table border=\"1\" class=\"dataframe\">\n  <thead>\n    <tr style=\"text-align: right;\">\n      <th></th>\n      <th>bin_0</th>\n      <th>bin_1</th>\n      <th>bin_2</th>\n      <th>bin_3</th>\n      <th>bin_4</th>\n      <th>bin_5</th>\n      <th>bin_6</th>\n      <th>bin_7</th>\n      <th>bin_8</th>\n      <th>bin_9</th>\n      <th>bin_10</th>\n      <th>bin_11</th>\n      <th>bin_12</th>\n      <th>bin_13</th>\n      <th>bin_14</th>\n      <th>bin_15</th>\n    </tr>\n  </thead>\n  <tbody>\n    <tr>\n      <th>0</th>\n      <td>0</td>\n      <td>1</td>\n      <td>1</td>\n      <td>0</td>\n      <td>1</td>\n      <td>0</td>\n      <td>1</td>\n      <td>0</td>\n      <td>1</td>\n      <td>0</td>\n      <td>1</td>\n      <td>0</td>\n      <td>1</td>\n      <td>0</td>\n      <td>1</td>\n      <td>0</td>\n    </tr>\n    <tr>\n      <th>1</th>\n      <td>1</td>\n      <td>0</td>\n      <td>1</td>\n      <td>0</td>\n      <td>1</td>\n      <td>0</td>\n      <td>1</td>\n      <td>0</td>\n      <td>0</td>\n      <td>1</td>\n      <td>1</td>\n      <td>0</td>\n      <td>1</td>\n      <td>0</td>\n      <td>1</td>\n      <td>0</td>\n    </tr>\n    <tr>\n      <th>2</th>\n      <td>1</td>\n      <td>0</td>\n      <td>1</td>\n      <td>0</td>\n      <td>1</td>\n      <td>0</td>\n      <td>1</td>\n      <td>0</td>\n      <td>1</td>\n      <td>0</td>\n      <td>1</td>\n      <td>0</td>\n      <td>1</td>\n      <td>0</td>\n      <td>0</td>\n      <td>1</td>\n    </tr>\n    <tr>\n      <th>3</th>\n      <td>1</td>\n      <td>0</td>\n      <td>1</td>\n      <td>0</td>\n      <td>1</td>\n      <td>0</td>\n      <td>1</td>\n      <td>0</td>\n      <td>1</td>\n      <td>0</td>\n      <td>0</td>\n      <td>1</td>\n      <td>1</td>\n      <td>0</td>\n      <td>1</td>\n      <td>0</td>\n    </tr>\n    <tr>\n      <th>4</th>\n      <td>1</td>\n      <td>0</td>\n      <td>1</td>\n      <td>0</td>\n      <td>1</td>\n      <td>0</td>\n      <td>1</td>\n      <td>0</td>\n      <td>1</td>\n      <td>0</td>\n      <td>1</td>\n      <td>0</td>\n      <td>1</td>\n      <td>0</td>\n      <td>1</td>\n      <td>0</td>\n    </tr>\n  </tbody>\n</table>\n</div>",
            "application/vnd.dataresource+json": {
              "schema": {
                "fields": [
                  {
                    "name": "index",
                    "type": "integer"
                  },
                  {
                    "name": "bin_0",
                    "type": "integer"
                  },
                  {
                    "name": "bin_1",
                    "type": "integer"
                  },
                  {
                    "name": "bin_2",
                    "type": "integer"
                  },
                  {
                    "name": "bin_3",
                    "type": "integer"
                  },
                  {
                    "name": "bin_4",
                    "type": "integer"
                  },
                  {
                    "name": "bin_5",
                    "type": "integer"
                  },
                  {
                    "name": "bin_6",
                    "type": "integer"
                  },
                  {
                    "name": "bin_7",
                    "type": "integer"
                  },
                  {
                    "name": "bin_8",
                    "type": "integer"
                  },
                  {
                    "name": "bin_9",
                    "type": "integer"
                  },
                  {
                    "name": "bin_10",
                    "type": "integer"
                  },
                  {
                    "name": "bin_11",
                    "type": "integer"
                  },
                  {
                    "name": "bin_12",
                    "type": "integer"
                  },
                  {
                    "name": "bin_13",
                    "type": "integer"
                  },
                  {
                    "name": "bin_14",
                    "type": "integer"
                  },
                  {
                    "name": "bin_15",
                    "type": "integer"
                  }
                ],
                "primaryKey": [
                  "index"
                ],
                "pandas_version": "0.20.0"
              },
              "data": [
                {
                  "index": 0,
                  "bin_0": 0,
                  "bin_1": 1,
                  "bin_2": 1,
                  "bin_3": 0,
                  "bin_4": 1,
                  "bin_5": 0,
                  "bin_6": 1,
                  "bin_7": 0,
                  "bin_8": 1,
                  "bin_9": 0,
                  "bin_10": 1,
                  "bin_11": 0,
                  "bin_12": 1,
                  "bin_13": 0,
                  "bin_14": 1,
                  "bin_15": 0
                },
                {
                  "index": 1,
                  "bin_0": 1,
                  "bin_1": 0,
                  "bin_2": 1,
                  "bin_3": 0,
                  "bin_4": 1,
                  "bin_5": 0,
                  "bin_6": 1,
                  "bin_7": 0,
                  "bin_8": 0,
                  "bin_9": 1,
                  "bin_10": 1,
                  "bin_11": 0,
                  "bin_12": 1,
                  "bin_13": 0,
                  "bin_14": 1,
                  "bin_15": 0
                },
                {
                  "index": 2,
                  "bin_0": 1,
                  "bin_1": 0,
                  "bin_2": 1,
                  "bin_3": 0,
                  "bin_4": 1,
                  "bin_5": 0,
                  "bin_6": 1,
                  "bin_7": 0,
                  "bin_8": 1,
                  "bin_9": 0,
                  "bin_10": 1,
                  "bin_11": 0,
                  "bin_12": 1,
                  "bin_13": 0,
                  "bin_14": 0,
                  "bin_15": 1
                },
                {
                  "index": 3,
                  "bin_0": 1,
                  "bin_1": 0,
                  "bin_2": 1,
                  "bin_3": 0,
                  "bin_4": 1,
                  "bin_5": 0,
                  "bin_6": 1,
                  "bin_7": 0,
                  "bin_8": 1,
                  "bin_9": 0,
                  "bin_10": 0,
                  "bin_11": 1,
                  "bin_12": 1,
                  "bin_13": 0,
                  "bin_14": 1,
                  "bin_15": 0
                },
                {
                  "index": 4,
                  "bin_0": 1,
                  "bin_1": 0,
                  "bin_2": 1,
                  "bin_3": 0,
                  "bin_4": 1,
                  "bin_5": 0,
                  "bin_6": 1,
                  "bin_7": 0,
                  "bin_8": 1,
                  "bin_9": 0,
                  "bin_10": 1,
                  "bin_11": 0,
                  "bin_12": 1,
                  "bin_13": 0,
                  "bin_14": 1,
                  "bin_15": 0
                }
              ]
            }
          },
          "metadata": {
            "bento_obj_id": "140419796805136"
          },
          "execution_count": 12
        }
      ]
    },
    {
      "cell_type": "code",
      "metadata": {
        "originalKey": "8011c9b8-d047-4be9-90da-f463da7df547",
        "showInput": true,
        "customInput": null,
        "collapsed": false,
        "requestMsgId": "ddaa95a6-4bf9-4c80-90ed-57da5ec4063c",
        "executionStartTime": 1683993102932,
        "executionStopTime": 1683993102941
      },
      "source": [
        "tmp['edge_bin'] = 0\n",
        "tmp['edge_bin'] = pd.DataFrame(range(np.shape(tmp)[0]))"
      ],
      "execution_count": 13,
      "outputs": []
    },
    {
      "cell_type": "code",
      "metadata": {
        "originalKey": "c3f2f929-db1b-4235-acf3-0ba9cb42113a",
        "showInput": true,
        "customInput": null,
        "collapsed": false,
        "requestMsgId": "6a7e09a8-eb4d-4641-9c50-8e1075d7704b",
        "executionStartTime": 1683993103005,
        "executionStopTime": 1683993955329
      },
      "source": [
        "relevant_edges_tmp['edge_bin']=0\n",
        "for k in np.array(tmp.edge_bin):\n",
        "    #print(k)\n",
        "    relevant_edges_tmp['edge_bin'][(relevant_edges_tmp.bin_0==tmp.bin_0[k]) & \\\n",
        "(relevant_edges_tmp.bin_1==tmp.bin_1[k]) & \\\n",
        "(relevant_edges_tmp.bin_2==tmp.bin_2[k]) & \\\n",
        "(relevant_edges_tmp.bin_3==tmp.bin_3[k]) & \\\n",
        "(relevant_edges_tmp.bin_4==tmp.bin_4[k]) & \\\n",
        "(relevant_edges_tmp.bin_5==tmp.bin_5[k]) & \\\n",
        "(relevant_edges_tmp.bin_6==tmp.bin_6[k]) & \\\n",
        "(relevant_edges_tmp.bin_7==tmp.bin_7[k]) & \\\n",
        "(relevant_edges_tmp.bin_8==tmp.bin_8[k]) & \\\n",
        "(relevant_edges_tmp.bin_9==tmp.bin_9[k]) & \\\n",
        "(relevant_edges_tmp.bin_10==tmp.bin_10[k]) & \\\n",
        "(relevant_edges_tmp.bin_11==tmp.bin_11[k]) & \\\n",
        "(relevant_edges_tmp.bin_12==tmp.bin_12[k]) & \\\n",
        "(relevant_edges_tmp.bin_13==tmp.bin_13[k]) & \\\n",
        "(relevant_edges_tmp.bin_14==tmp.bin_14[k]) & \\\n",
        "(relevant_edges_tmp.bin_15==tmp.bin_15[k]) ] = tmp.edge_bin[k]"
      ],
      "execution_count": 14,
      "outputs": [
        {
          "output_type": "stream",
          "name": "stderr",
          "text": [
            "<ipython-input-14-4b1b563fe631>:4: SettingWithCopyWarning:\n\n\nA value is trying to be set on a copy of a slice from a DataFrame\n\nSee the caveats in the documentation: https://pandas.pydata.org/pandas-docs/stable/user_guide/indexing.html#returning-a-view-versus-a-copy\n\n"
          ]
        }
      ]
    },
    {
      "cell_type": "code",
      "metadata": {
        "originalKey": "212936de-0c4c-4446-8e9d-c5d529c66634",
        "showInput": true,
        "customInput": null,
        "collapsed": false,
        "requestMsgId": "10d5e3e0-9914-4009-a9e0-b7e697ef5e99",
        "executionStartTime": 1683993955421,
        "executionStopTime": 1683993955448
      },
      "source": [
        ""
      ],
      "execution_count": 14,
      "outputs": []
    },
    {
      "cell_type": "code",
      "metadata": {
        "originalKey": "67a691f9-bc81-4c39-bad2-41d596caa4ac",
        "showInput": true,
        "customInput": null,
        "collapsed": false,
        "requestMsgId": "566b09ff-3875-4f5b-8154-c16d2342538c",
        "executionStartTime": 1683993955543,
        "executionStopTime": 1683996517880,
        "customOutput": null
      },
      "source": [
        "from sklearn.ensemble import RandomForestClassifier\n",
        "\n",
        "# set-up loop\n",
        "rocauc_v2_ud_w = []\n",
        "\n",
        "\n",
        "for i in range(0,25): # loop through outcomes part 1\n",
        "#for i in range(25,50):\n",
        "#for i in range(50,112):\n",
        "    print(i)\n",
        "\n",
        "    relevant_edges = relevant_edges_tmp[[\"src\", \"dst\", \"node_id\", i, 'edge_bin']]\n",
        "    relevant_edges.columns = [\"src\", \"dst\",  \"node_id\", \"y\", 'edge_bin']\n",
        "    label1 = relevant_edges.groupby([\"src\", 'edge_bin'])[\"y\"].sum().reset_index() # same by edgebin\n",
        "    labeltotal = relevant_edges.groupby([\"src\", 'edge_bin'])[\"y\"].count().reset_index()\n",
        "    relevant_edgelist = labeltotal.merge(label1, on=[\"src\", 'edge_bin'])\n",
        "\n",
        "    ## this is already by edge bin\n",
        "    relevant_edgelist[\"label_0\"] = relevant_edgelist[\"y_x\"] - relevant_edgelist[\"y_y\"]\n",
        "    relevant_edgelist.rename(columns={\"y_y\": \"label_1\"}, inplace=True)\n",
        "    relevant_edgelist.drop([\"y_x\"], axis=1, inplace=True)\n",
        "\n",
        "    ## v0 - linear combination of single layers\n",
        "    normalizer = pd.DataFrame(y_train[i].value_counts(normalize=True, ascending=True))\n",
        "\n",
        "    # step 1 - one hop scores\n",
        "    step1_one_hop_scores = pd.DataFrame(\n",
        "        {\n",
        "            \"src\": relevant_edgelist.src,\n",
        "            \"edge_bin\": relevant_edgelist.edge_bin,\n",
        "            \"frac\": np.log(\n",
        "                (relevant_edgelist[\"label_1\"] + 1) / (relevant_edgelist[\"label_0\"] + 1)\n",
        "            )\n",
        "            * list((normalizer.iloc[0]) / (normalizer.iloc[1]))[0],\n",
        "        }\n",
        "    )\n",
        "\n",
        "    two_hop_stg_v2 = relevant_edges.merge(\n",
        "            step1_one_hop_scores, left_on=[\"dst\",\"edge_bin\"], right_on=[\"src\",\"edge_bin\"], how=\"inner\" # keep edge_bin and one-hop scores same\n",
        "        )\n",
        "\n",
        "    two_hop_stg = two_hop_stg_v2.groupby(['src_x','edge_bin'])['frac'].sum().reset_index()\n",
        "    two_hop_v2 = pd.pivot_table(two_hop_stg, values = 'frac', columns = 'edge_bin', index = 'src_x').reset_index().fillna(0)\n",
        "    two_hop_v2 = two_hop_v2.add_prefix('score_')\n",
        "\n",
        "    two_hop_v2_valid = two_hop_v2.merge(\n",
        "            y_valid, left_on=\"score_src_x\", right_on=\"node_id\", how=\"right\"\n",
        "        )\n",
        "    clf = LogisticRegression(random_state=0).fit(\n",
        "        two_hop_v2_valid[['score_0', 'score_1', 'score_2', 'score_3',\n",
        "       'score_4', 'score_5', 'score_6', 'score_7', 'score_8', 'score_9',\n",
        "       'score_10', 'score_11', 'score_12', 'score_13', 'score_14',\n",
        "       'score_15', 'score_16', 'score_17', 'score_18', 'score_19',\n",
        "       'score_20', 'score_21', 'score_22', 'score_23', 'score_24',\n",
        "       'score_25', 'score_26', 'score_27', 'score_28', 'score_29',\n",
        "       'score_30', 'score_31', 'score_32', 'score_33', 'score_34',\n",
        "       'score_35', 'score_36', 'score_37', 'score_38', 'score_39',\n",
        "       'score_40', 'score_41', 'score_42', 'score_43', 'score_44',\n",
        "       'score_45', 'score_46', 'score_47', 'score_48', 'score_49',\n",
        "       'score_50', 'score_51', 'score_52', 'score_53', 'score_54',\n",
        "       'score_55', 'score_56', 'score_57', 'score_58', 'score_59',\n",
        "       'score_60', 'score_61', 'score_62', 'score_63', 'score_64',\n",
        "       'score_65', 'score_66', 'score_67', 'score_68', 'score_69',\n",
        "       'score_70', 'score_71', 'score_72', 'score_73', 'score_74',\n",
        "       'score_75', 'score_76', 'score_77', 'score_78', 'score_79',\n",
        "       'score_80', 'score_81', 'score_82', 'score_83', 'score_84',\n",
        "       'score_85', 'score_86', 'score_87', 'score_88', 'score_89',\n",
        "       'score_90', 'score_91', 'score_92', 'score_93', 'score_94',\n",
        "       'score_95', 'score_96', 'score_97', 'score_98', 'score_99',\n",
        "       'score_100', 'score_101', 'score_102', 'score_103', 'score_104',\n",
        "       'score_105', 'score_106', 'score_107', 'score_108', 'score_109',\n",
        "       'score_110', 'score_111', 'score_112', 'score_113', 'score_114',\n",
        "       'score_115', 'score_116', 'score_117', 'score_118', 'score_119',\n",
        "       'score_120', 'score_121', 'score_122', 'score_123', 'score_124',\n",
        "       'score_125', 'score_126', 'score_127']], two_hop_v2_valid[i]\n",
        "    )\n",
        "\n",
        "\n",
        "    pred_v2 = y_test.merge(two_hop_v2, right_on=\"score_src_x\", left_on=\"node_id\", how=\"left\")\n",
        "    print(\n",
        "        \"roc-auc, v1: \",\n",
        "        roc_auc_score(\n",
        "            pred_v2[i],\n",
        "            clf.predict_proba(pred_v2[['score_0', 'score_1', 'score_2', 'score_3',\n",
        "       'score_4', 'score_5', 'score_6', 'score_7', 'score_8', 'score_9',\n",
        "       'score_10', 'score_11', 'score_12', 'score_13', 'score_14',\n",
        "       'score_15', 'score_16', 'score_17', 'score_18', 'score_19',\n",
        "       'score_20', 'score_21', 'score_22', 'score_23', 'score_24',\n",
        "       'score_25', 'score_26', 'score_27', 'score_28', 'score_29',\n",
        "       'score_30', 'score_31', 'score_32', 'score_33', 'score_34',\n",
        "       'score_35', 'score_36', 'score_37', 'score_38', 'score_39',\n",
        "       'score_40', 'score_41', 'score_42', 'score_43', 'score_44',\n",
        "       'score_45', 'score_46', 'score_47', 'score_48', 'score_49',\n",
        "       'score_50', 'score_51', 'score_52', 'score_53', 'score_54',\n",
        "       'score_55', 'score_56', 'score_57', 'score_58', 'score_59',\n",
        "       'score_60', 'score_61', 'score_62', 'score_63', 'score_64',\n",
        "       'score_65', 'score_66', 'score_67', 'score_68', 'score_69',\n",
        "       'score_70', 'score_71', 'score_72', 'score_73', 'score_74',\n",
        "       'score_75', 'score_76', 'score_77', 'score_78', 'score_79',\n",
        "       'score_80', 'score_81', 'score_82', 'score_83', 'score_84',\n",
        "       'score_85', 'score_86', 'score_87', 'score_88', 'score_89',\n",
        "       'score_90', 'score_91', 'score_92', 'score_93', 'score_94',\n",
        "       'score_95', 'score_96', 'score_97', 'score_98', 'score_99',\n",
        "       'score_100', 'score_101', 'score_102', 'score_103', 'score_104',\n",
        "       'score_105', 'score_106', 'score_107', 'score_108', 'score_109',\n",
        "       'score_110', 'score_111', 'score_112', 'score_113', 'score_114',\n",
        "       'score_115', 'score_116', 'score_117', 'score_118', 'score_119',\n",
        "       'score_120', 'score_121', 'score_122', 'score_123', 'score_124',\n",
        "       'score_125', 'score_126', 'score_127']])[:,1]\n",
        "        ),\n",
        "    )\n",
        "    rocauc_v2_ud_w.append(roc_auc_score(\n",
        "            pred_v2[i],\n",
        "            clf.predict_proba(pred_v2[['score_0', 'score_1', 'score_2', 'score_3',\n",
        "       'score_4', 'score_5', 'score_6', 'score_7', 'score_8', 'score_9',\n",
        "       'score_10', 'score_11', 'score_12', 'score_13', 'score_14',\n",
        "       'score_15', 'score_16', 'score_17', 'score_18', 'score_19',\n",
        "       'score_20', 'score_21', 'score_22', 'score_23', 'score_24',\n",
        "       'score_25', 'score_26', 'score_27', 'score_28', 'score_29',\n",
        "       'score_30', 'score_31', 'score_32', 'score_33', 'score_34',\n",
        "       'score_35', 'score_36', 'score_37', 'score_38', 'score_39',\n",
        "       'score_40', 'score_41', 'score_42', 'score_43', 'score_44',\n",
        "       'score_45', 'score_46', 'score_47', 'score_48', 'score_49',\n",
        "       'score_50', 'score_51', 'score_52', 'score_53', 'score_54',\n",
        "       'score_55', 'score_56', 'score_57', 'score_58', 'score_59',\n",
        "       'score_60', 'score_61', 'score_62', 'score_63', 'score_64',\n",
        "       'score_65', 'score_66', 'score_67', 'score_68', 'score_69',\n",
        "       'score_70', 'score_71', 'score_72', 'score_73', 'score_74',\n",
        "       'score_75', 'score_76', 'score_77', 'score_78', 'score_79',\n",
        "       'score_80', 'score_81', 'score_82', 'score_83', 'score_84',\n",
        "       'score_85', 'score_86', 'score_87', 'score_88', 'score_89',\n",
        "       'score_90', 'score_91', 'score_92', 'score_93', 'score_94',\n",
        "       'score_95', 'score_96', 'score_97', 'score_98', 'score_99',\n",
        "       'score_100', 'score_101', 'score_102', 'score_103', 'score_104',\n",
        "       'score_105', 'score_106', 'score_107', 'score_108', 'score_109',\n",
        "       'score_110', 'score_111', 'score_112', 'score_113', 'score_114',\n",
        "       'score_115', 'score_116', 'score_117', 'score_118', 'score_119',\n",
        "       'score_120', 'score_121', 'score_122', 'score_123', 'score_124',\n",
        "       'score_125', 'score_126', 'score_127']])[:,1]\n",
        "        ))\n",
        ""
      ],
      "execution_count": 15,
      "outputs": [
        {
          "output_type": "stream",
          "name": "stdout",
          "text": [
            "0\n"
          ]
        },
        {
          "output_type": "stream",
          "name": "stdout",
          "text": [
            "roc-auc, v1:  0.4722436779047938\n1\n"
          ]
        },
        {
          "output_type": "stream",
          "name": "stdout",
          "text": [
            "roc-auc, v1:  0.552788929384319\n2\n"
          ]
        },
        {
          "output_type": "stream",
          "name": "stdout",
          "text": [
            "roc-auc, v1:  0.6431188273226476\n3\n"
          ]
        },
        {
          "output_type": "stream",
          "name": "stdout",
          "text": [
            "roc-auc, v1:  0.697286455791277\n4\n"
          ]
        },
        {
          "output_type": "stream",
          "name": "stdout",
          "text": [
            "roc-auc, v1:  0.71291111458959\n5\n"
          ]
        },
        {
          "output_type": "stream",
          "name": "stdout",
          "text": [
            "roc-auc, v1:  0.6494776901120533\n6\n"
          ]
        },
        {
          "output_type": "stream",
          "name": "stdout",
          "text": [
            "roc-auc, v1:  0.7135847737056404\n7\n"
          ]
        },
        {
          "output_type": "stream",
          "name": "stdout",
          "text": [
            "roc-auc, v1:  0.6572375667787009\n8\n"
          ]
        },
        {
          "output_type": "stream",
          "name": "stdout",
          "text": [
            "roc-auc, v1:  0.7287075460040218\n9\n"
          ]
        },
        {
          "output_type": "stream",
          "name": "stdout",
          "text": [
            "roc-auc, v1:  0.7901506318065312\n10\n"
          ]
        },
        {
          "output_type": "stream",
          "name": "stdout",
          "text": [
            "roc-auc, v1:  0.745761984507436\n11\n"
          ]
        },
        {
          "output_type": "stream",
          "name": "stdout",
          "text": [
            "roc-auc, v1:  0.7929438269692604\n12\n"
          ]
        },
        {
          "output_type": "stream",
          "name": "stdout",
          "text": [
            "roc-auc, v1:  0.7945162124332469\n13\n"
          ]
        },
        {
          "output_type": "stream",
          "name": "stdout",
          "text": [
            "roc-auc, v1:  0.7826678552735045\n14\n"
          ]
        },
        {
          "output_type": "stream",
          "name": "stdout",
          "text": [
            "roc-auc, v1:  0.6387175477290654\n15\n"
          ]
        },
        {
          "output_type": "stream",
          "name": "stdout",
          "text": [
            "roc-auc, v1:  0.7649388684479732\n16\n"
          ]
        },
        {
          "output_type": "stream",
          "name": "stdout",
          "text": [
            "roc-auc, v1:  0.77170457604238\n17\n"
          ]
        },
        {
          "output_type": "stream",
          "name": "stdout",
          "text": [
            "roc-auc, v1:  0.7803410221680134\n18\n"
          ]
        },
        {
          "output_type": "stream",
          "name": "stdout",
          "text": [
            "roc-auc, v1:  0.777284104018817\n19\n"
          ]
        },
        {
          "output_type": "stream",
          "name": "stdout",
          "text": [
            "roc-auc, v1:  0.7685921664828401\n20\n"
          ]
        },
        {
          "output_type": "stream",
          "name": "stdout",
          "text": [
            "roc-auc, v1:  0.6980471935107773\n21\n"
          ]
        },
        {
          "output_type": "stream",
          "name": "stdout",
          "text": [
            "roc-auc, v1:  0.7797823106975246\n22\n"
          ]
        },
        {
          "output_type": "stream",
          "name": "stdout",
          "text": [
            "roc-auc, v1:  0.7705034846542953\n23\n"
          ]
        },
        {
          "output_type": "stream",
          "name": "stdout",
          "text": [
            "roc-auc, v1:  0.7715661920938138\n24\n"
          ]
        },
        {
          "output_type": "stream",
          "name": "stdout",
          "text": [
            "roc-auc, v1:  0.7740138873087041\n"
          ]
        }
      ]
    },
    {
      "cell_type": "code",
      "metadata": {
        "originalKey": "81a3764f-690c-4a91-83e2-f5c703b5d2aa",
        "showInput": true,
        "customInput": null,
        "collapsed": false,
        "requestMsgId": "8ca2902f-2ba4-49bf-8a5c-dcc2db521b40",
        "executionStartTime": 1683996518030,
        "executionStopTime": 1683996518046,
        "customOutput": null
      },
      "source": [
        "print(np.mean(rocauc_v2_ud_w))\n",
        ""
      ],
      "execution_count": 16,
      "outputs": [
        {
          "output_type": "stream",
          "name": "stdout",
          "text": [
            "0.721155537829489\n"
          ]
        }
      ]
    },
    {
      "cell_type": "code",
      "metadata": {
        "originalKey": "0a791ce7-ee36-47d1-bfc0-7c115cea3509",
        "showInput": true,
        "customInput": null,
        "collapsed": false,
        "requestMsgId": "0a791ce7-ee36-47d1-bfc0-7c115cea3509",
        "executionStartTime": 1681165018497,
        "executionStopTime": 1681165018512,
        "customOutput": null
      },
      "source": [
        "with open('rocauc_v2_ud_w_part1_multilayer_original.npy', 'wb') as f:\n",
        "#with open('rocauc_v2_ud_w_part2_multilayer_original.npy', 'wb') as f:\n",
        "#with open('rocauc_v2_ud_w_part3_multilayer_original.npy', 'wb') as f:\n",
        "    np.save(f, rocauc_v2_ud_w)"
      ],
      "execution_count": 23,
      "outputs": []
    },
    {
      "cell_type": "code",
      "metadata": {
        "originalKey": "65637d88-62f5-43ef-a3de-e9531be22b15",
        "showInput": true,
        "customInput": null
      },
      "source": [
        ""
      ],
      "execution_count": null,
      "outputs": []
    },
    {
      "cell_type": "code",
      "metadata": {
        "originalKey": "371df966-b2f0-4d0b-bd05-4ae363f499aa",
        "showInput": true,
        "customInput": null,
        "collapsed": false,
        "requestMsgId": "371df966-b2f0-4d0b-bd05-4ae363f499aa",
        "executionStartTime": 1680625683366,
        "executionStopTime": 1680625683374
      },
      "source": [
        ""
      ],
      "execution_count": 149,
      "outputs": []
    }
  ]
}
