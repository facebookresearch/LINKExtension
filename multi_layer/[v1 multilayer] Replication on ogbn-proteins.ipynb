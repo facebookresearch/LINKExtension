{
  "metadata": {
    "dataExplorerConfig": {},
    "bento_stylesheets": {
      "bento/extensions/flow/main.css": true,
      "bento/extensions/kernel_selector/main.css": true,
      "bento/extensions/kernel_ui/main.css": true,
      "bento/extensions/new_kernel/main.css": true,
      "bento/extensions/system_usage/main.css": true,
      "bento/extensions/theme/main.css": true
    },
    "kernelspec": {
      "display_name": "pytorch",
      "language": "python",
      "name": "bento_kernel_pytorch",
      "cinder_runtime": false,
      "ipyflow_runtime": false,
      "metadata": {
        "kernel_name": "bento_kernel_pytorch",
        "nightly_builds": true,
        "fbpkg_supported": true,
        "cinder_runtime": false,
        "ipyflow_runtime": false,
        "is_prebuilt": true
      }
    },
    "language_info": {
      "codemirror_mode": {
        "name": "ipython",
        "version": 3
      },
      "file_extension": ".py",
      "mimetype": "text/x-python",
      "name": "python",
      "nbconvert_exporter": "python",
      "pygments_lexer": "ipython3"
    },
    "last_server_session_id": "b8f0a15b-1740-48ff-8626-d761cd707d5d",
    "last_kernel_id": "2a38d80d-3454-4797-bc59-59aba42d27ca",
    "last_base_url": "https://devvm1422.ash0.facebook.com:8090/",
    "last_msg_id": "1de35834-44690d4595b94e65f9fca8da_189",
    "outputWidgetContext": {}
  },
  "nbformat": 4,
  "nbformat_minor": 2,
  "cells": [
    {
      "cell_type": "code",
      "metadata": {
        "collapsed": false,
        "originalKey": "37d01fd8-6c31-433e-ac31-bc37a2627722",
        "requestMsgId": "57a07cf7-6f2f-4244-8172-3721a13c6f99",
        "executionStartTime": 1683988134329,
        "executionStopTime": 1683988136831
      },
      "source": [
        "# 4/8/23\n",
        "# KM Altenburger\n",
        "\n",
        "# steps for downloading repo internally; run w/ \"pytorch kernel\"\n",
        "# sudo feature install ttls_fwdproxy\n",
        "# mgt import --src-type pypi sdist\n",
        "# mgt import --src-type pypi nvidia-cublas-cu11==11.10.3.66\n",
        "# mgt import --src-type pypi ogb\n",
        "\n",
        "import sys\n",
        "sys.path.insert(0, \"/home/kaltenburger/fbsource/ogb\")\n",
        "import matplotlib.pyplot as plt\n",
        "import networkx as nx\n",
        "import numpy as np\n",
        "import ogb\n",
        "import pandas as pd\n",
        "import torch\n",
        "\n",
        "# import torch_geometric\n",
        "from ogb.nodeproppred import NodePropPredDataset\n",
        "from sklearn.linear_model import LogisticRegression\n",
        "from sklearn.metrics import auc, precision_recall_curve, roc_auc_score\n",
        "from sklearn.model_selection import train_test_split"
      ],
      "execution_count": 1,
      "outputs": [
        {
          "output_type": "stream",
          "name": "stderr",
          "text": [
            "\nBad key \"axes.color_cycle\" on line 214 in\n/home/kaltenburger/.matplotlib/matplotlibrc.\nYou probably need to get an updated matplotlibrc file from\nhttps://github.com/matplotlib/matplotlib/blob/v3.1.3/matplotlibrc.template\nor from the matplotlib source distribution\n"
          ]
        },
        {
          "output_type": "stream",
          "name": "stderr",
          "text": [
            "I0513 072854.882 _utils_internal.py:199] NCCL_DEBUG env var is set to None\n"
          ]
        },
        {
          "output_type": "stream",
          "name": "stderr",
          "text": [
            "I0513 072854.883 _utils_internal.py:217] NCCL_DEBUG is forced to WARN from None\n"
          ]
        }
      ]
    },
    {
      "cell_type": "markdown",
      "metadata": {
        "originalKey": "0eb50079-caca-4391-bdb5-32bf6d7eaabc",
        "showInput": false,
        "customInput": null
      },
      "source": [
        "### read & set-up dataset\n",
        ""
      ]
    },
    {
      "cell_type": "code",
      "metadata": {
        "originalKey": "845992d5-24a0-4ddb-ba3d-0c6baf196319",
        "showInput": true,
        "customInput": null,
        "collapsed": false,
        "requestMsgId": "844511e6-1aad-4b2f-b86f-93b2a29808ac",
        "executionStartTime": 1683988136923,
        "executionStopTime": 1683988153203
      },
      "source": [
        "dataset = NodePropPredDataset(name='ogbn-proteins')\n",
        "g = dataset.graph # get edgelist and graph metadata\n",
        "y = dataset.labels # outcomes\n",
        "node_species_df = pd.DataFrame({'node_id':range(len(g['node_species'].flatten())), 'node_species': g['node_species'].flatten()})\n",
        "node_species_df.head()"
      ],
      "execution_count": 2,
      "outputs": [
        {
          "output_type": "execute_result",
          "data": {
            "text/plain": "   node_id  node_species\n0        0          3702\n1        1          3702\n2        2          3702\n3        3          3702\n4        4          3702",
            "text/html": "<div>\n<style scoped>\n    .dataframe tbody tr th:only-of-type {\n        vertical-align: middle;\n    }\n\n    .dataframe tbody tr th {\n        vertical-align: top;\n    }\n\n    .dataframe thead th {\n        text-align: right;\n    }\n</style>\n<table border=\"1\" class=\"dataframe\">\n  <thead>\n    <tr style=\"text-align: right;\">\n      <th></th>\n      <th>node_id</th>\n      <th>node_species</th>\n    </tr>\n  </thead>\n  <tbody>\n    <tr>\n      <th>0</th>\n      <td>0</td>\n      <td>3702</td>\n    </tr>\n    <tr>\n      <th>1</th>\n      <td>1</td>\n      <td>3702</td>\n    </tr>\n    <tr>\n      <th>2</th>\n      <td>2</td>\n      <td>3702</td>\n    </tr>\n    <tr>\n      <th>3</th>\n      <td>3</td>\n      <td>3702</td>\n    </tr>\n    <tr>\n      <th>4</th>\n      <td>4</td>\n      <td>3702</td>\n    </tr>\n  </tbody>\n</table>\n</div>",
            "application/vnd.dataresource+json": {
              "schema": {
                "fields": [
                  {
                    "name": "index",
                    "type": "integer"
                  },
                  {
                    "name": "node_id",
                    "type": "integer"
                  },
                  {
                    "name": "node_species",
                    "type": "integer"
                  }
                ],
                "primaryKey": [
                  "index"
                ],
                "pandas_version": "0.20.0"
              },
              "data": [
                {
                  "index": 0,
                  "node_id": 0,
                  "node_species": 3702
                },
                {
                  "index": 1,
                  "node_id": 1,
                  "node_species": 3702
                },
                {
                  "index": 2,
                  "node_id": 2,
                  "node_species": 3702
                },
                {
                  "index": 3,
                  "node_id": 3,
                  "node_species": 3702
                },
                {
                  "index": 4,
                  "node_id": 4,
                  "node_species": 3702
                }
              ]
            }
          },
          "metadata": {
            "bento_obj_id": "140473012629712"
          },
          "execution_count": 2
        }
      ]
    },
    {
      "cell_type": "code",
      "metadata": {
        "originalKey": "f73d8f94-ccd6-4420-b975-a65c5ca0be1b",
        "showInput": true,
        "customInput": null,
        "collapsed": false,
        "requestMsgId": "dfafdb22-5ae8-4d70-91b1-06f09e8f717e",
        "executionStartTime": 1683988153235,
        "executionStopTime": 1683988153267
      },
      "source": [
        "# create edgelist\n",
        "edge_list_df = pd.DataFrame(g[\"edge_index\"].T)\n",
        "edge_list_df.columns = ['src','dst']\n",
        "edge_list_df.head()"
      ],
      "execution_count": 3,
      "outputs": [
        {
          "output_type": "execute_result",
          "data": {
            "text/plain": "     src     dst\n0      1   96401\n1  96401       1\n2      1   68343\n3  68343       1\n4      1  125069",
            "text/html": "<div>\n<style scoped>\n    .dataframe tbody tr th:only-of-type {\n        vertical-align: middle;\n    }\n\n    .dataframe tbody tr th {\n        vertical-align: top;\n    }\n\n    .dataframe thead th {\n        text-align: right;\n    }\n</style>\n<table border=\"1\" class=\"dataframe\">\n  <thead>\n    <tr style=\"text-align: right;\">\n      <th></th>\n      <th>src</th>\n      <th>dst</th>\n    </tr>\n  </thead>\n  <tbody>\n    <tr>\n      <th>0</th>\n      <td>1</td>\n      <td>96401</td>\n    </tr>\n    <tr>\n      <th>1</th>\n      <td>96401</td>\n      <td>1</td>\n    </tr>\n    <tr>\n      <th>2</th>\n      <td>1</td>\n      <td>68343</td>\n    </tr>\n    <tr>\n      <th>3</th>\n      <td>68343</td>\n      <td>1</td>\n    </tr>\n    <tr>\n      <th>4</th>\n      <td>1</td>\n      <td>125069</td>\n    </tr>\n  </tbody>\n</table>\n</div>",
            "application/vnd.dataresource+json": {
              "schema": {
                "fields": [
                  {
                    "name": "index",
                    "type": "integer"
                  },
                  {
                    "name": "src",
                    "type": "integer"
                  },
                  {
                    "name": "dst",
                    "type": "integer"
                  }
                ],
                "primaryKey": [
                  "index"
                ],
                "pandas_version": "0.20.0"
              },
              "data": [
                {
                  "index": 0,
                  "src": 1,
                  "dst": 96401
                },
                {
                  "index": 1,
                  "src": 96401,
                  "dst": 1
                },
                {
                  "index": 2,
                  "src": 1,
                  "dst": 68343
                },
                {
                  "index": 3,
                  "src": 68343,
                  "dst": 1
                },
                {
                  "index": 4,
                  "src": 1,
                  "dst": 125069
                }
              ]
            }
          },
          "metadata": {
            "bento_obj_id": "140471687373728"
          },
          "execution_count": 3
        }
      ]
    },
    {
      "cell_type": "code",
      "metadata": {
        "originalKey": "ba7dfba7-c58c-4c43-8b8e-d3a42eb1c967",
        "showInput": true,
        "customInput": null,
        "collapsed": false,
        "requestMsgId": "0b21a841-4fd8-4cc3-a48b-6e9f8994fdfe",
        "executionStartTime": 1683988153289,
        "executionStopTime": 1683988210748
      },
      "source": [
        "# sanity check on inter-species connections\n",
        "edge_list_df_check = edge_list_df.merge(node_species_df, how = 'left', left_on = 'src', right_on = 'node_id')\n",
        "edge_list_df_check.drop('node_id', axis = 1, inplace=True)\n",
        "edge_list_df_check = edge_list_df_check.merge(node_species_df, how = 'left', left_on = 'dst', right_on = 'node_id')\n",
        "edge_list_df_check.drop('node_id', axis = 1, inplace=True)\n",
        "#edge_list_df_check.head()\n",
        "print(np.mean(edge_list_df_check['node_species_x']==edge_list_df_check['node_species_y']))\n",
        "print(np.mean(edge_list_df_check['node_species_x']!=edge_list_df_check['node_species_y']))"
      ],
      "execution_count": 4,
      "outputs": [
        {
          "output_type": "stream",
          "name": "stdout",
          "text": [
            "0.8059610954678583\n"
          ]
        },
        {
          "output_type": "stream",
          "name": "stdout",
          "text": [
            "0.1940389045321417\n"
          ]
        }
      ]
    },
    {
      "cell_type": "code",
      "metadata": {
        "originalKey": "be27d093-8be5-4954-8f4d-887995af3d8b",
        "showInput": true,
        "customInput": null,
        "collapsed": false,
        "requestMsgId": "c219298f-ec0c-44eb-bb0e-0750e917b858",
        "executionStartTime": 1683988210833,
        "executionStopTime": 1683988210859
      },
      "source": [
        "y0 = pd.DataFrame(y)\n",
        "y0 = y0.iloc[:,0:25] # part I\n",
        "#y0 = y0.iloc[:,25:50] # part II\n",
        "#y0 = y0.iloc[:,50:112] # part II\n",
        "y0['node_id'] = range(len(y0[24]))\n",
        "    \n",
        "split_idx = dataset.get_idx_split()\n",
        "train_idx, valid_idx, test_idx = split_idx[\"train\"], split_idx[\"valid\"], split_idx[\"test\"]\n",
        "\n",
        "X_train = y0['node_id'].iloc[train_idx]\n",
        "y_train = y0.iloc[train_idx]\n",
        "\n",
        "X_valid = y0['node_id'].iloc[valid_idx]\n",
        "X_test = y0['node_id'].iloc[test_idx]\n",
        "y_valid = y0.iloc[valid_idx]\n",
        "y_test = y0.iloc[test_idx]\n",
        "\n",
        ""
      ],
      "execution_count": 5,
      "outputs": []
    },
    {
      "cell_type": "code",
      "metadata": {
        "originalKey": "ff1769e1-5400-4086-84af-d3c25187a48b",
        "showInput": true,
        "customInput": null,
        "collapsed": false,
        "requestMsgId": "116b4b81-544c-42ad-8fd8-28dd03107147",
        "executionStartTime": 1683988210923,
        "executionStopTime": 1683988305354
      },
      "source": [
        "edge_w = pd.DataFrame(g['edge_feat'])\n",
        "edge_w = edge_w.add_suffix('_weight')\n",
        "edge_list_df = pd.concat([edge_list_df, edge_w], axis=1)\n",
        "#edge_list_df.head()\n",
        "# w0 = edge_w[j]\n",
        "# edge_list_df['weight'] = w0\n",
        "# edge_list_df.head()\n",
        "# # merge in labels for training nodes on a user's connections\n",
        "relevant_edges_tmp = edge_list_df.merge(y_train, left_on = 'dst', right_on='node_id', how = 'left')\n",
        "relevant_edges_tmp.head()"
      ],
      "execution_count": 6,
      "outputs": [
        {
          "output_type": "execute_result",
          "data": {
            "text/plain": "     src     dst  0_weight  1_weight  2_weight  ...   21   22   23   24  node_id\n0      1   96401     0.501     0.001     0.001  ...  NaN  NaN  NaN  NaN      NaN\n1  96401       1     0.501     0.001     0.001  ...  0.0  0.0  0.0  0.0      1.0\n2      1   68343     0.501     0.001     0.001  ...  0.0  0.0  0.0  0.0  68343.0\n3  68343       1     0.501     0.001     0.001  ...  0.0  0.0  0.0  0.0      1.0\n4      1  125069     0.501     0.001     0.001  ...  NaN  NaN  NaN  NaN      NaN\n\n[5 rows x 36 columns]",
            "text/html": "<div>\n<style scoped>\n    .dataframe tbody tr th:only-of-type {\n        vertical-align: middle;\n    }\n\n    .dataframe tbody tr th {\n        vertical-align: top;\n    }\n\n    .dataframe thead th {\n        text-align: right;\n    }\n</style>\n<table border=\"1\" class=\"dataframe\">\n  <thead>\n    <tr style=\"text-align: right;\">\n      <th></th>\n      <th>src</th>\n      <th>dst</th>\n      <th>0_weight</th>\n      <th>1_weight</th>\n      <th>2_weight</th>\n      <th>3_weight</th>\n      <th>4_weight</th>\n      <th>5_weight</th>\n      <th>6_weight</th>\n      <th>7_weight</th>\n      <th>0</th>\n      <th>1</th>\n      <th>2</th>\n      <th>3</th>\n      <th>4</th>\n      <th>5</th>\n      <th>6</th>\n      <th>7</th>\n      <th>8</th>\n      <th>9</th>\n      <th>10</th>\n      <th>11</th>\n      <th>12</th>\n      <th>13</th>\n      <th>14</th>\n      <th>15</th>\n      <th>16</th>\n      <th>17</th>\n      <th>18</th>\n      <th>19</th>\n      <th>20</th>\n      <th>21</th>\n      <th>22</th>\n      <th>23</th>\n      <th>24</th>\n      <th>node_id</th>\n    </tr>\n  </thead>\n  <tbody>\n    <tr>\n      <th>0</th>\n      <td>1</td>\n      <td>96401</td>\n      <td>0.501</td>\n      <td>0.001</td>\n      <td>0.001</td>\n      <td>0.001</td>\n      <td>0.001</td>\n      <td>0.001</td>\n      <td>0.001</td>\n      <td>0.001</td>\n      <td>NaN</td>\n      <td>NaN</td>\n      <td>NaN</td>\n      <td>NaN</td>\n      <td>NaN</td>\n      <td>NaN</td>\n      <td>NaN</td>\n      <td>NaN</td>\n      <td>NaN</td>\n      <td>NaN</td>\n      <td>NaN</td>\n      <td>NaN</td>\n      <td>NaN</td>\n      <td>NaN</td>\n      <td>NaN</td>\n      <td>NaN</td>\n      <td>NaN</td>\n      <td>NaN</td>\n      <td>NaN</td>\n      <td>NaN</td>\n      <td>NaN</td>\n      <td>NaN</td>\n      <td>NaN</td>\n      <td>NaN</td>\n      <td>NaN</td>\n      <td>NaN</td>\n    </tr>\n    <tr>\n      <th>1</th>\n      <td>96401</td>\n      <td>1</td>\n      <td>0.501</td>\n      <td>0.001</td>\n      <td>0.001</td>\n      <td>0.001</td>\n      <td>0.001</td>\n      <td>0.001</td>\n      <td>0.001</td>\n      <td>0.001</td>\n      <td>1.0</td>\n      <td>1.0</td>\n      <td>0.0</td>\n      <td>1.0</td>\n      <td>1.0</td>\n      <td>0.0</td>\n      <td>1.0</td>\n      <td>0.0</td>\n      <td>1.0</td>\n      <td>0.0</td>\n      <td>1.0</td>\n      <td>0.0</td>\n      <td>1.0</td>\n      <td>0.0</td>\n      <td>1.0</td>\n      <td>0.0</td>\n      <td>0.0</td>\n      <td>0.0</td>\n      <td>0.0</td>\n      <td>0.0</td>\n      <td>0.0</td>\n      <td>0.0</td>\n      <td>0.0</td>\n      <td>0.0</td>\n      <td>0.0</td>\n      <td>1.0</td>\n    </tr>\n    <tr>\n      <th>2</th>\n      <td>1</td>\n      <td>68343</td>\n      <td>0.501</td>\n      <td>0.001</td>\n      <td>0.001</td>\n      <td>0.001</td>\n      <td>0.001</td>\n      <td>0.001</td>\n      <td>0.001</td>\n      <td>0.001</td>\n      <td>1.0</td>\n      <td>1.0</td>\n      <td>0.0</td>\n      <td>1.0</td>\n      <td>1.0</td>\n      <td>0.0</td>\n      <td>1.0</td>\n      <td>0.0</td>\n      <td>1.0</td>\n      <td>0.0</td>\n      <td>1.0</td>\n      <td>0.0</td>\n      <td>1.0</td>\n      <td>0.0</td>\n      <td>0.0</td>\n      <td>0.0</td>\n      <td>0.0</td>\n      <td>0.0</td>\n      <td>0.0</td>\n      <td>0.0</td>\n      <td>0.0</td>\n      <td>0.0</td>\n      <td>0.0</td>\n      <td>0.0</td>\n      <td>0.0</td>\n      <td>68343.0</td>\n    </tr>\n    <tr>\n      <th>3</th>\n      <td>68343</td>\n      <td>1</td>\n      <td>0.501</td>\n      <td>0.001</td>\n      <td>0.001</td>\n      <td>0.001</td>\n      <td>0.001</td>\n      <td>0.001</td>\n      <td>0.001</td>\n      <td>0.001</td>\n      <td>1.0</td>\n      <td>1.0</td>\n      <td>0.0</td>\n      <td>1.0</td>\n      <td>1.0</td>\n      <td>0.0</td>\n      <td>1.0</td>\n      <td>0.0</td>\n      <td>1.0</td>\n      <td>0.0</td>\n      <td>1.0</td>\n      <td>0.0</td>\n      <td>1.0</td>\n      <td>0.0</td>\n      <td>1.0</td>\n      <td>0.0</td>\n      <td>0.0</td>\n      <td>0.0</td>\n      <td>0.0</td>\n      <td>0.0</td>\n      <td>0.0</td>\n      <td>0.0</td>\n      <td>0.0</td>\n      <td>0.0</td>\n      <td>0.0</td>\n      <td>1.0</td>\n    </tr>\n    <tr>\n      <th>4</th>\n      <td>1</td>\n      <td>125069</td>\n      <td>0.501</td>\n      <td>0.001</td>\n      <td>0.001</td>\n      <td>0.001</td>\n      <td>0.001</td>\n      <td>0.001</td>\n      <td>0.001</td>\n      <td>0.001</td>\n      <td>NaN</td>\n      <td>NaN</td>\n      <td>NaN</td>\n      <td>NaN</td>\n      <td>NaN</td>\n      <td>NaN</td>\n      <td>NaN</td>\n      <td>NaN</td>\n      <td>NaN</td>\n      <td>NaN</td>\n      <td>NaN</td>\n      <td>NaN</td>\n      <td>NaN</td>\n      <td>NaN</td>\n      <td>NaN</td>\n      <td>NaN</td>\n      <td>NaN</td>\n      <td>NaN</td>\n      <td>NaN</td>\n      <td>NaN</td>\n      <td>NaN</td>\n      <td>NaN</td>\n      <td>NaN</td>\n      <td>NaN</td>\n      <td>NaN</td>\n      <td>NaN</td>\n    </tr>\n  </tbody>\n</table>\n</div>",
            "application/vnd.dataresource+json": {
              "schema": {
                "fields": [
                  {
                    "name": "index",
                    "type": "integer"
                  },
                  {
                    "name": "src",
                    "type": "integer"
                  },
                  {
                    "name": "dst",
                    "type": "integer"
                  },
                  {
                    "name": "0_weight",
                    "type": "number"
                  },
                  {
                    "name": "1_weight",
                    "type": "number"
                  },
                  {
                    "name": "2_weight",
                    "type": "number"
                  },
                  {
                    "name": "3_weight",
                    "type": "number"
                  },
                  {
                    "name": "4_weight",
                    "type": "number"
                  },
                  {
                    "name": "5_weight",
                    "type": "number"
                  },
                  {
                    "name": "6_weight",
                    "type": "number"
                  },
                  {
                    "name": "7_weight",
                    "type": "number"
                  },
                  {
                    "name": 0,
                    "type": "number"
                  },
                  {
                    "name": 1,
                    "type": "number"
                  },
                  {
                    "name": 2,
                    "type": "number"
                  },
                  {
                    "name": 3,
                    "type": "number"
                  },
                  {
                    "name": 4,
                    "type": "number"
                  },
                  {
                    "name": 5,
                    "type": "number"
                  },
                  {
                    "name": 6,
                    "type": "number"
                  },
                  {
                    "name": 7,
                    "type": "number"
                  },
                  {
                    "name": 8,
                    "type": "number"
                  },
                  {
                    "name": 9,
                    "type": "number"
                  },
                  {
                    "name": 10,
                    "type": "number"
                  },
                  {
                    "name": 11,
                    "type": "number"
                  },
                  {
                    "name": 12,
                    "type": "number"
                  },
                  {
                    "name": 13,
                    "type": "number"
                  },
                  {
                    "name": 14,
                    "type": "number"
                  },
                  {
                    "name": 15,
                    "type": "number"
                  },
                  {
                    "name": 16,
                    "type": "number"
                  },
                  {
                    "name": 17,
                    "type": "number"
                  },
                  {
                    "name": 18,
                    "type": "number"
                  },
                  {
                    "name": 19,
                    "type": "number"
                  },
                  {
                    "name": 20,
                    "type": "number"
                  },
                  {
                    "name": 21,
                    "type": "number"
                  },
                  {
                    "name": 22,
                    "type": "number"
                  },
                  {
                    "name": 23,
                    "type": "number"
                  },
                  {
                    "name": 24,
                    "type": "number"
                  },
                  {
                    "name": "node_id",
                    "type": "number"
                  }
                ],
                "primaryKey": [
                  "index"
                ],
                "pandas_version": "0.20.0"
              },
              "data": [
                {
                  "0": null,
                  "1": null,
                  "2": null,
                  "3": null,
                  "4": null,
                  "5": null,
                  "6": null,
                  "7": null,
                  "8": null,
                  "9": null,
                  "10": null,
                  "11": null,
                  "12": null,
                  "13": null,
                  "14": null,
                  "15": null,
                  "16": null,
                  "17": null,
                  "18": null,
                  "19": null,
                  "20": null,
                  "21": null,
                  "22": null,
                  "23": null,
                  "24": null,
                  "index": 0,
                  "src": 1,
                  "dst": 96401,
                  "0_weight": 0.5009999871,
                  "1_weight": 0.001,
                  "2_weight": 0.001,
                  "3_weight": 0.001,
                  "4_weight": 0.001,
                  "5_weight": 0.001,
                  "6_weight": 0.001,
                  "7_weight": 0.001,
                  "node_id": null
                },
                {
                  "0": 1,
                  "1": 1,
                  "2": 0,
                  "3": 1,
                  "4": 1,
                  "5": 0,
                  "6": 1,
                  "7": 0,
                  "8": 1,
                  "9": 0,
                  "10": 1,
                  "11": 0,
                  "12": 1,
                  "13": 0,
                  "14": 1,
                  "15": 0,
                  "16": 0,
                  "17": 0,
                  "18": 0,
                  "19": 0,
                  "20": 0,
                  "21": 0,
                  "22": 0,
                  "23": 0,
                  "24": 0,
                  "index": 1,
                  "src": 96401,
                  "dst": 1,
                  "0_weight": 0.5009999871,
                  "1_weight": 0.001,
                  "2_weight": 0.001,
                  "3_weight": 0.001,
                  "4_weight": 0.001,
                  "5_weight": 0.001,
                  "6_weight": 0.001,
                  "7_weight": 0.001,
                  "node_id": 1
                },
                {
                  "0": 1,
                  "1": 1,
                  "2": 0,
                  "3": 1,
                  "4": 1,
                  "5": 0,
                  "6": 1,
                  "7": 0,
                  "8": 1,
                  "9": 0,
                  "10": 1,
                  "11": 0,
                  "12": 1,
                  "13": 0,
                  "14": 0,
                  "15": 0,
                  "16": 0,
                  "17": 0,
                  "18": 0,
                  "19": 0,
                  "20": 0,
                  "21": 0,
                  "22": 0,
                  "23": 0,
                  "24": 0,
                  "index": 2,
                  "src": 1,
                  "dst": 68343,
                  "0_weight": 0.5009999871,
                  "1_weight": 0.001,
                  "2_weight": 0.001,
                  "3_weight": 0.001,
                  "4_weight": 0.001,
                  "5_weight": 0.001,
                  "6_weight": 0.001,
                  "7_weight": 0.001,
                  "node_id": 68343
                },
                {
                  "0": 1,
                  "1": 1,
                  "2": 0,
                  "3": 1,
                  "4": 1,
                  "5": 0,
                  "6": 1,
                  "7": 0,
                  "8": 1,
                  "9": 0,
                  "10": 1,
                  "11": 0,
                  "12": 1,
                  "13": 0,
                  "14": 1,
                  "15": 0,
                  "16": 0,
                  "17": 0,
                  "18": 0,
                  "19": 0,
                  "20": 0,
                  "21": 0,
                  "22": 0,
                  "23": 0,
                  "24": 0,
                  "index": 3,
                  "src": 68343,
                  "dst": 1,
                  "0_weight": 0.5009999871,
                  "1_weight": 0.001,
                  "2_weight": 0.001,
                  "3_weight": 0.001,
                  "4_weight": 0.001,
                  "5_weight": 0.001,
                  "6_weight": 0.001,
                  "7_weight": 0.001,
                  "node_id": 1
                },
                {
                  "0": null,
                  "1": null,
                  "2": null,
                  "3": null,
                  "4": null,
                  "5": null,
                  "6": null,
                  "7": null,
                  "8": null,
                  "9": null,
                  "10": null,
                  "11": null,
                  "12": null,
                  "13": null,
                  "14": null,
                  "15": null,
                  "16": null,
                  "17": null,
                  "18": null,
                  "19": null,
                  "20": null,
                  "21": null,
                  "22": null,
                  "23": null,
                  "24": null,
                  "index": 4,
                  "src": 1,
                  "dst": 125069,
                  "0_weight": 0.5009999871,
                  "1_weight": 0.001,
                  "2_weight": 0.001,
                  "3_weight": 0.001,
                  "4_weight": 0.001,
                  "5_weight": 0.001,
                  "6_weight": 0.001,
                  "7_weight": 0.001,
                  "node_id": null
                }
              ]
            }
          },
          "metadata": {
            "bento_obj_id": "140471949278704"
          },
          "execution_count": 6
        }
      ]
    },
    {
      "cell_type": "code",
      "metadata": {
        "originalKey": "709afb10-d960-412f-8cca-f3566364ec8d",
        "showInput": true,
        "customInput": null,
        "collapsed": false,
        "requestMsgId": "a26d3812-7a46-4abd-8aac-34b9ffddc415",
        "executionStartTime": 1683988305469,
        "executionStopTime": 1683988351418
      },
      "source": [
        "intervals_v1 = relevant_edges_tmp[['0_weight','1_weight', '2_weight', '3_weight','6_weight','4_weight', '5_weight', '7_weight']].quantile([0.75])"
      ],
      "execution_count": 7,
      "outputs": []
    },
    {
      "cell_type": "code",
      "metadata": {
        "originalKey": "5ef2e84f-dd77-45e2-8a7c-01f2c2887571",
        "showInput": true,
        "customInput": null,
        "collapsed": false,
        "requestMsgId": "ef0a5653-8c0b-4172-8d08-dc982009b24f",
        "executionStartTime": 1683988351510,
        "executionStopTime": 1683988351553
      },
      "source": [
        "np.array(intervals_v1.iloc[0])"
      ],
      "execution_count": 8,
      "outputs": [
        {
          "output_type": "execute_result",
          "data": {
            "text/plain": "array([0.001, 0.001, 0.001, 0.001, 0.001, 0.091, 0.115, 0.177])"
          },
          "metadata": {
            "bento_obj_id": "140471687156160"
          },
          "execution_count": 8
        }
      ]
    },
    {
      "cell_type": "code",
      "metadata": {
        "originalKey": "a88147d7-bbb1-43dd-b0a3-a1650bf3dd3b",
        "showInput": true,
        "customInput": null,
        "collapsed": false,
        "requestMsgId": "a88147d7-bbb1-43dd-b0a3-a1650bf3dd3b",
        "executionStartTime": 1680991759814,
        "executionStopTime": 1680991759831
      },
      "source": [
        ""
      ],
      "execution_count": 8,
      "outputs": []
    },
    {
      "cell_type": "code",
      "metadata": {
        "originalKey": "09c80f89-57ea-4e06-8cd5-f6f57b710393",
        "showInput": true,
        "customInput": null
      },
      "source": [
        ""
      ],
      "execution_count": null,
      "outputs": []
    },
    {
      "cell_type": "code",
      "metadata": {
        "originalKey": "d6ef863f-a340-4192-97d7-5a9615af4fb3",
        "showInput": true,
        "customInput": null,
        "collapsed": false,
        "requestMsgId": "c442cc79-8be2-47cb-855f-392e7d02b3d3",
        "executionStartTime": 1683988364622,
        "executionStopTime": 1683988753125
      },
      "source": [
        "from sklearn.preprocessing import Binarizer\n",
        "k=0\n",
        "for j in range(8):\n",
        "    #print(j)\n",
        "    transformer = Binarizer().fit(relevant_edges_tmp[[str(j)+'_weight']])\n",
        "    relevant_edges_tmp['bin_'+str(k)] = pd.DataFrame(transformer.transform((relevant_edges_tmp[[str(j)+'_weight']]<=np.array(intervals_v1.iloc[0])[j])+0).flatten())\n",
        "    print(relevant_edges_tmp.head())\n",
        "    k=k+1\n",
        "    relevant_edges_tmp['bin_'+str(k)] = pd.DataFrame(transformer.transform((relevant_edges_tmp[[str(j)+'_weight']]>np.array(intervals_v1.iloc[0])[j])+0).flatten())\n",
        "    k=k+1"
      ],
      "execution_count": 9,
      "outputs": [
        {
          "output_type": "stream",
          "name": "stdout",
          "text": [
            "     src     dst  0_weight  1_weight  2_weight  ...   22   23   24  node_id  bin_0\n0      1   96401     0.501     0.001     0.001  ...  NaN  NaN  NaN      NaN      0\n1  96401       1     0.501     0.001     0.001  ...  0.0  0.0  0.0      1.0      0\n2      1   68343     0.501     0.001     0.001  ...  0.0  0.0  0.0  68343.0      0\n3  68343       1     0.501     0.001     0.001  ...  0.0  0.0  0.0      1.0      0\n4      1  125069     0.501     0.001     0.001  ...  NaN  NaN  NaN      NaN      0\n\n[5 rows x 37 columns]\n"
          ]
        },
        {
          "output_type": "stream",
          "name": "stdout",
          "text": [
            "     src     dst  0_weight  1_weight  ...  node_id  bin_0  bin_1  bin_2\n0      1   96401     0.501     0.001  ...      NaN      0      1      1\n1  96401       1     0.501     0.001  ...      1.0      0      1      1\n2      1   68343     0.501     0.001  ...  68343.0      0      1      1\n3  68343       1     0.501     0.001  ...      1.0      0      1      1\n4      1  125069     0.501     0.001  ...      NaN      0      1      1\n\n[5 rows x 39 columns]\n"
          ]
        },
        {
          "output_type": "stream",
          "name": "stdout",
          "text": [
            "     src     dst  0_weight  1_weight  ...  bin_1  bin_2  bin_3  bin_4\n0      1   96401     0.501     0.001  ...      1      1      0      1\n1  96401       1     0.501     0.001  ...      1      1      0      1\n2      1   68343     0.501     0.001  ...      1      1      0      1\n3  68343       1     0.501     0.001  ...      1      1      0      1\n4      1  125069     0.501     0.001  ...      1      1      0      1\n\n[5 rows x 41 columns]\n"
          ]
        },
        {
          "output_type": "stream",
          "name": "stdout",
          "text": [
            "     src     dst  0_weight  1_weight  ...  bin_3  bin_4  bin_5  bin_6\n0      1   96401     0.501     0.001  ...      0      1      0      1\n1  96401       1     0.501     0.001  ...      0      1      0      1\n2      1   68343     0.501     0.001  ...      0      1      0      1\n3  68343       1     0.501     0.001  ...      0      1      0      1\n4      1  125069     0.501     0.001  ...      0      1      0      1\n\n[5 rows x 43 columns]\n"
          ]
        },
        {
          "output_type": "stream",
          "name": "stdout",
          "text": [
            "     src     dst  0_weight  1_weight  ...  bin_5  bin_6  bin_7  bin_8\n0      1   96401     0.501     0.001  ...      0      1      0      1\n1  96401       1     0.501     0.001  ...      0      1      0      1\n2      1   68343     0.501     0.001  ...      0      1      0      1\n3  68343       1     0.501     0.001  ...      0      1      0      1\n4      1  125069     0.501     0.001  ...      0      1      0      1\n\n[5 rows x 45 columns]\n"
          ]
        },
        {
          "output_type": "stream",
          "name": "stdout",
          "text": [
            "     src     dst  0_weight  1_weight  ...  bin_7  bin_8  bin_9  bin_10\n0      1   96401     0.501     0.001  ...      0      1      0       1\n1  96401       1     0.501     0.001  ...      0      1      0       1\n2      1   68343     0.501     0.001  ...      0      1      0       1\n3  68343       1     0.501     0.001  ...      0      1      0       1\n4      1  125069     0.501     0.001  ...      0      1      0       1\n\n[5 rows x 47 columns]\n"
          ]
        },
        {
          "output_type": "stream",
          "name": "stdout",
          "text": [
            "     src     dst  0_weight  1_weight  ...  bin_9  bin_10  bin_11  bin_12\n0      1   96401     0.501     0.001  ...      0       1       0       1\n1  96401       1     0.501     0.001  ...      0       1       0       1\n2      1   68343     0.501     0.001  ...      0       1       0       1\n3  68343       1     0.501     0.001  ...      0       1       0       1\n4      1  125069     0.501     0.001  ...      0       1       0       1\n\n[5 rows x 49 columns]\n"
          ]
        },
        {
          "output_type": "stream",
          "name": "stdout",
          "text": [
            "     src     dst  0_weight  1_weight  ...  bin_11  bin_12  bin_13  bin_14\n0      1   96401     0.501     0.001  ...       0       1       0       1\n1  96401       1     0.501     0.001  ...       0       1       0       1\n2      1   68343     0.501     0.001  ...       0       1       0       1\n3  68343       1     0.501     0.001  ...       0       1       0       1\n4      1  125069     0.501     0.001  ...       0       1       0       1\n\n[5 rows x 51 columns]\n"
          ]
        }
      ]
    },
    {
      "cell_type": "code",
      "metadata": {
        "originalKey": "5a425308-79bd-4e04-aaec-cfb29e402693",
        "showInput": true,
        "customInput": null,
        "collapsed": false,
        "requestMsgId": "93e1dd9f-851a-4ed7-b429-b61f35283d09",
        "executionStopTime": 1683988862037,
        "executionStartTime": 1683988753221
      },
      "source": [
        "tmp = pd.DataFrame(relevant_edges_tmp[['bin_0',    'bin_1',    'bin_2',    'bin_3',    'bin_4',    'bin_5',\n",
        "        'bin_6',    'bin_7',    'bin_8',    'bin_9',   'bin_10',   'bin_11',\n",
        "        'bin_12',   'bin_13', 'bin_14',   'bin_15' ]].drop_duplicates())"
      ],
      "execution_count": 10,
      "outputs": []
    },
    {
      "cell_type": "code",
      "metadata": {
        "originalKey": "a49432e2-4ddb-41d8-8b19-c3b0e9896376",
        "showInput": true,
        "customInput": null,
        "collapsed": false,
        "requestMsgId": "c79b4d90-aa25-42f9-96b3-3f6cac7d9e80",
        "executionStartTime": 1683988862130,
        "executionStopTime": 1683988862267
      },
      "source": [
        "tmp.reset_index(inplace=True,drop=True)\n",
        "tmp.head()"
      ],
      "execution_count": 11,
      "outputs": [
        {
          "output_type": "execute_result",
          "data": {
            "text/plain": "   bin_0  bin_1  bin_2  bin_3  bin_4  ...  bin_11  bin_12  bin_13  bin_14  bin_15\n0      0      1      1      0      1  ...       0       1       0       1       0\n1      1      0      1      0      1  ...       0       1       0       1       0\n2      1      0      1      0      1  ...       0       1       0       0       1\n3      1      0      1      0      1  ...       1       1       0       1       0\n4      1      0      1      0      1  ...       0       1       0       1       0\n\n[5 rows x 16 columns]",
            "text/html": "<div>\n<style scoped>\n    .dataframe tbody tr th:only-of-type {\n        vertical-align: middle;\n    }\n\n    .dataframe tbody tr th {\n        vertical-align: top;\n    }\n\n    .dataframe thead th {\n        text-align: right;\n    }\n</style>\n<table border=\"1\" class=\"dataframe\">\n  <thead>\n    <tr style=\"text-align: right;\">\n      <th></th>\n      <th>bin_0</th>\n      <th>bin_1</th>\n      <th>bin_2</th>\n      <th>bin_3</th>\n      <th>bin_4</th>\n      <th>bin_5</th>\n      <th>bin_6</th>\n      <th>bin_7</th>\n      <th>bin_8</th>\n      <th>bin_9</th>\n      <th>bin_10</th>\n      <th>bin_11</th>\n      <th>bin_12</th>\n      <th>bin_13</th>\n      <th>bin_14</th>\n      <th>bin_15</th>\n    </tr>\n  </thead>\n  <tbody>\n    <tr>\n      <th>0</th>\n      <td>0</td>\n      <td>1</td>\n      <td>1</td>\n      <td>0</td>\n      <td>1</td>\n      <td>0</td>\n      <td>1</td>\n      <td>0</td>\n      <td>1</td>\n      <td>0</td>\n      <td>1</td>\n      <td>0</td>\n      <td>1</td>\n      <td>0</td>\n      <td>1</td>\n      <td>0</td>\n    </tr>\n    <tr>\n      <th>1</th>\n      <td>1</td>\n      <td>0</td>\n      <td>1</td>\n      <td>0</td>\n      <td>1</td>\n      <td>0</td>\n      <td>1</td>\n      <td>0</td>\n      <td>0</td>\n      <td>1</td>\n      <td>1</td>\n      <td>0</td>\n      <td>1</td>\n      <td>0</td>\n      <td>1</td>\n      <td>0</td>\n    </tr>\n    <tr>\n      <th>2</th>\n      <td>1</td>\n      <td>0</td>\n      <td>1</td>\n      <td>0</td>\n      <td>1</td>\n      <td>0</td>\n      <td>1</td>\n      <td>0</td>\n      <td>1</td>\n      <td>0</td>\n      <td>1</td>\n      <td>0</td>\n      <td>1</td>\n      <td>0</td>\n      <td>0</td>\n      <td>1</td>\n    </tr>\n    <tr>\n      <th>3</th>\n      <td>1</td>\n      <td>0</td>\n      <td>1</td>\n      <td>0</td>\n      <td>1</td>\n      <td>0</td>\n      <td>1</td>\n      <td>0</td>\n      <td>1</td>\n      <td>0</td>\n      <td>0</td>\n      <td>1</td>\n      <td>1</td>\n      <td>0</td>\n      <td>1</td>\n      <td>0</td>\n    </tr>\n    <tr>\n      <th>4</th>\n      <td>1</td>\n      <td>0</td>\n      <td>1</td>\n      <td>0</td>\n      <td>1</td>\n      <td>0</td>\n      <td>1</td>\n      <td>0</td>\n      <td>1</td>\n      <td>0</td>\n      <td>1</td>\n      <td>0</td>\n      <td>1</td>\n      <td>0</td>\n      <td>1</td>\n      <td>0</td>\n    </tr>\n  </tbody>\n</table>\n</div>",
            "application/vnd.dataresource+json": {
              "schema": {
                "fields": [
                  {
                    "name": "index",
                    "type": "integer"
                  },
                  {
                    "name": "bin_0",
                    "type": "integer"
                  },
                  {
                    "name": "bin_1",
                    "type": "integer"
                  },
                  {
                    "name": "bin_2",
                    "type": "integer"
                  },
                  {
                    "name": "bin_3",
                    "type": "integer"
                  },
                  {
                    "name": "bin_4",
                    "type": "integer"
                  },
                  {
                    "name": "bin_5",
                    "type": "integer"
                  },
                  {
                    "name": "bin_6",
                    "type": "integer"
                  },
                  {
                    "name": "bin_7",
                    "type": "integer"
                  },
                  {
                    "name": "bin_8",
                    "type": "integer"
                  },
                  {
                    "name": "bin_9",
                    "type": "integer"
                  },
                  {
                    "name": "bin_10",
                    "type": "integer"
                  },
                  {
                    "name": "bin_11",
                    "type": "integer"
                  },
                  {
                    "name": "bin_12",
                    "type": "integer"
                  },
                  {
                    "name": "bin_13",
                    "type": "integer"
                  },
                  {
                    "name": "bin_14",
                    "type": "integer"
                  },
                  {
                    "name": "bin_15",
                    "type": "integer"
                  }
                ],
                "primaryKey": [
                  "index"
                ],
                "pandas_version": "0.20.0"
              },
              "data": [
                {
                  "index": 0,
                  "bin_0": 0,
                  "bin_1": 1,
                  "bin_2": 1,
                  "bin_3": 0,
                  "bin_4": 1,
                  "bin_5": 0,
                  "bin_6": 1,
                  "bin_7": 0,
                  "bin_8": 1,
                  "bin_9": 0,
                  "bin_10": 1,
                  "bin_11": 0,
                  "bin_12": 1,
                  "bin_13": 0,
                  "bin_14": 1,
                  "bin_15": 0
                },
                {
                  "index": 1,
                  "bin_0": 1,
                  "bin_1": 0,
                  "bin_2": 1,
                  "bin_3": 0,
                  "bin_4": 1,
                  "bin_5": 0,
                  "bin_6": 1,
                  "bin_7": 0,
                  "bin_8": 0,
                  "bin_9": 1,
                  "bin_10": 1,
                  "bin_11": 0,
                  "bin_12": 1,
                  "bin_13": 0,
                  "bin_14": 1,
                  "bin_15": 0
                },
                {
                  "index": 2,
                  "bin_0": 1,
                  "bin_1": 0,
                  "bin_2": 1,
                  "bin_3": 0,
                  "bin_4": 1,
                  "bin_5": 0,
                  "bin_6": 1,
                  "bin_7": 0,
                  "bin_8": 1,
                  "bin_9": 0,
                  "bin_10": 1,
                  "bin_11": 0,
                  "bin_12": 1,
                  "bin_13": 0,
                  "bin_14": 0,
                  "bin_15": 1
                },
                {
                  "index": 3,
                  "bin_0": 1,
                  "bin_1": 0,
                  "bin_2": 1,
                  "bin_3": 0,
                  "bin_4": 1,
                  "bin_5": 0,
                  "bin_6": 1,
                  "bin_7": 0,
                  "bin_8": 1,
                  "bin_9": 0,
                  "bin_10": 0,
                  "bin_11": 1,
                  "bin_12": 1,
                  "bin_13": 0,
                  "bin_14": 1,
                  "bin_15": 0
                },
                {
                  "index": 4,
                  "bin_0": 1,
                  "bin_1": 0,
                  "bin_2": 1,
                  "bin_3": 0,
                  "bin_4": 1,
                  "bin_5": 0,
                  "bin_6": 1,
                  "bin_7": 0,
                  "bin_8": 1,
                  "bin_9": 0,
                  "bin_10": 1,
                  "bin_11": 0,
                  "bin_12": 1,
                  "bin_13": 0,
                  "bin_14": 1,
                  "bin_15": 0
                }
              ]
            }
          },
          "metadata": {
            "bento_obj_id": "140471677618208"
          },
          "execution_count": 11
        }
      ]
    },
    {
      "cell_type": "code",
      "metadata": {
        "originalKey": "2033fe7e-0531-4273-b6da-9629ae61ea42",
        "showInput": true,
        "customInput": null,
        "collapsed": false,
        "requestMsgId": "e5475dfc-a6c4-416b-ace6-3d09f5a398a0",
        "executionStartTime": 1683988862307,
        "executionStopTime": 1683988862314
      },
      "source": [
        "tmp['edge_bin'] = 0\n",
        "tmp['edge_bin'] = pd.DataFrame(range(np.shape(tmp)[0]))"
      ],
      "execution_count": 12,
      "outputs": []
    },
    {
      "cell_type": "code",
      "metadata": {
        "originalKey": "bda64841-bd4f-41ae-b2c4-35679c715878",
        "showInput": true,
        "customInput": null,
        "collapsed": false,
        "requestMsgId": "4cec8daf-9da3-44d3-a4f2-81042ffd339f",
        "executionStartTime": 1683988862351,
        "executionStopTime": 1683989737458
      },
      "source": [
        "relevant_edges_tmp['edge_bin']=0\n",
        "for k in np.array(tmp.edge_bin):\n",
        "    #print(k)\n",
        "    relevant_edges_tmp['edge_bin'][(relevant_edges_tmp.bin_0==tmp.bin_0[k]) & \\\n",
        "(relevant_edges_tmp.bin_1==tmp.bin_1[k]) & \\\n",
        "(relevant_edges_tmp.bin_2==tmp.bin_2[k]) & \\\n",
        "(relevant_edges_tmp.bin_3==tmp.bin_3[k]) & \\\n",
        "(relevant_edges_tmp.bin_4==tmp.bin_4[k]) & \\\n",
        "(relevant_edges_tmp.bin_5==tmp.bin_5[k]) & \\\n",
        "(relevant_edges_tmp.bin_6==tmp.bin_6[k]) & \\\n",
        "(relevant_edges_tmp.bin_7==tmp.bin_7[k]) & \\\n",
        "(relevant_edges_tmp.bin_8==tmp.bin_8[k]) & \\\n",
        "(relevant_edges_tmp.bin_9==tmp.bin_9[k]) & \\\n",
        "(relevant_edges_tmp.bin_10==tmp.bin_10[k]) & \\\n",
        "(relevant_edges_tmp.bin_11==tmp.bin_11[k]) & \\\n",
        "(relevant_edges_tmp.bin_12==tmp.bin_12[k]) & \\\n",
        "(relevant_edges_tmp.bin_13==tmp.bin_13[k]) & \\\n",
        "(relevant_edges_tmp.bin_14==tmp.bin_14[k]) & \\\n",
        "(relevant_edges_tmp.bin_15==tmp.bin_15[k]) ] = tmp.edge_bin[k]"
      ],
      "execution_count": 13,
      "outputs": [
        {
          "output_type": "stream",
          "name": "stderr",
          "text": [
            "<ipython-input-13-4b1b563fe631>:4: SettingWithCopyWarning:\n\n\nA value is trying to be set on a copy of a slice from a DataFrame\n\nSee the caveats in the documentation: https://pandas.pydata.org/pandas-docs/stable/user_guide/indexing.html#returning-a-view-versus-a-copy\n\n"
          ]
        }
      ]
    },
    {
      "cell_type": "code",
      "metadata": {
        "originalKey": "acd4e797-0043-4cce-9bda-0930843b8b01",
        "showInput": true,
        "customInput": null
      },
      "source": [
        ""
      ],
      "execution_count": null,
      "outputs": []
    },
    {
      "cell_type": "code",
      "metadata": {
        "originalKey": "66c26a29-9196-422a-8855-c10f490d0f7b",
        "showInput": true,
        "customInput": null,
        "collapsed": false,
        "requestMsgId": "afd25cfd-9e53-4c36-b29e-396d37ba3a5f",
        "executionStartTime": 1683989737643,
        "executionStopTime": 1683991830044,
        "customOutput": null
      },
      "source": [
        "from sklearn.ensemble import RandomForestClassifier\n",
        "\n",
        "# set-up loop\n",
        "rocauc_v1_ud_w = []\n",
        "#rocauc_v2_ud_w = []\n",
        "#rocauc_ud_uw = []\n",
        "\n",
        "\n",
        "for i in range(0,25): # loop through outcomes part 1\n",
        "#for i in range(25,50):\n",
        "#for i in range(50,112):\n",
        "    print(i)\n",
        "\n",
        "    relevant_edges = relevant_edges_tmp[[\"src\", \"dst\", \"node_id\", i, 'edge_bin']]\n",
        "    relevant_edges.columns = [\"src\", \"dst\",  \"node_id\", \"y\", 'edge_bin']\n",
        "    label1 = relevant_edges.groupby([\"src\"])[\"y\"].sum().reset_index()\n",
        "    labeltotal = relevant_edges.groupby([\"src\"])[\"y\"].count().reset_index()\n",
        "    relevant_edgelist = labeltotal.merge(label1, on=\"src\")\n",
        "    relevant_edgelist[\"label_0\"] = relevant_edgelist[\"y_x\"] - relevant_edgelist[\"y_y\"]\n",
        "    relevant_edgelist.rename(columns={\"y_y\": \"label_1\"}, inplace=True)\n",
        "    relevant_edgelist.drop([\"y_x\"], axis=1, inplace=True)\n",
        "\n",
        "    ## v0 - linear combination of single layers\n",
        "    normalizer = pd.DataFrame(y_train[i].value_counts(normalize=True, ascending=True))\n",
        "\n",
        "    # step 1 - one hop scores\n",
        "    step1_one_hop_scores = pd.DataFrame(\n",
        "        {\n",
        "            \"src\": relevant_edgelist.src,\n",
        "            \"frac\": np.log(\n",
        "                (relevant_edgelist[\"label_1\"] + 1) / (relevant_edgelist[\"label_0\"] + 1)\n",
        "            )\n",
        "            * list((normalizer.iloc[0]) / (normalizer.iloc[1]))[0],\n",
        "        }\n",
        "    )\n",
        "\n",
        "    two_hop_stg_v1 = relevant_edges.merge(\n",
        "        step1_one_hop_scores, left_on=\"dst\", right_on=\"src\", how=\"inner\"\n",
        "    )\n",
        "    two_hop_stg = two_hop_stg_v1.groupby(['src_x','edge_bin'])['frac'].sum().reset_index()\n",
        "\n",
        "    two_hop_v1 = pd.pivot_table(two_hop_stg, values = 'frac', columns = 'edge_bin', index = 'src_x').reset_index().fillna(0)\n",
        "\n",
        "    two_hop_v1 = two_hop_v1.add_prefix('score_')\n",
        "\n",
        "    # two_hop_v1.columns = ['src_x', 'score0', 'score1','score2','score3','score4','score5','score6','score7','score8','score9','score10','score11',\\\n",
        "    # 'score12','score13','score14','score15','score16',]\n",
        "\n",
        "    two_hop_v1_valid = two_hop_v1.merge(\n",
        "            y_valid, left_on=\"score_src_x\", right_on=\"node_id\", how=\"right\"\n",
        "        )\n",
        "\n",
        "    clf = LogisticRegression(random_state=0).fit(\n",
        "        two_hop_v1_valid[['score_0', 'score_1', 'score_2', 'score_3',\n",
        "       'score_4', 'score_5', 'score_6', 'score_7', 'score_8', 'score_9',\n",
        "       'score_10', 'score_11', 'score_12', 'score_13', 'score_14',\n",
        "       'score_15', 'score_16', 'score_17', 'score_18', 'score_19',\n",
        "       'score_20', 'score_21', 'score_22', 'score_23', 'score_24',\n",
        "       'score_25', 'score_26', 'score_27', 'score_28', 'score_29',\n",
        "       'score_30', 'score_31', 'score_32', 'score_33', 'score_34',\n",
        "       'score_35', 'score_36', 'score_37', 'score_38', 'score_39',\n",
        "       'score_40', 'score_41', 'score_42', 'score_43', 'score_44',\n",
        "       'score_45', 'score_46', 'score_47', 'score_48', 'score_49',\n",
        "       'score_50', 'score_51', 'score_52', 'score_53', 'score_54',\n",
        "       'score_55', 'score_56', 'score_57', 'score_58', 'score_59',\n",
        "       'score_60', 'score_61', 'score_62', 'score_63', 'score_64',\n",
        "       'score_65', 'score_66', 'score_67', 'score_68', 'score_69',\n",
        "       'score_70', 'score_71', 'score_72', 'score_73', 'score_74',\n",
        "       'score_75', 'score_76', 'score_77', 'score_78', 'score_79',\n",
        "       'score_80', 'score_81', 'score_82', 'score_83', 'score_84',\n",
        "       'score_85', 'score_86', 'score_87', 'score_88', 'score_89',\n",
        "       'score_90', 'score_91', 'score_92', 'score_93', 'score_94',\n",
        "       'score_95', 'score_96', 'score_97', 'score_98', 'score_99',\n",
        "       'score_100', 'score_101', 'score_102', 'score_103', 'score_104',\n",
        "       'score_105', 'score_106', 'score_107', 'score_108', 'score_109',\n",
        "       'score_110', 'score_111', 'score_112', 'score_113', 'score_114',\n",
        "       'score_115', 'score_116', 'score_117', 'score_118', 'score_119',\n",
        "       'score_120', 'score_121', 'score_122', 'score_123', 'score_124',\n",
        "       'score_125', 'score_126', 'score_127']], two_hop_v1_valid[i]\n",
        "    )\n",
        "\n",
        "\n",
        "    pred_v1 = y_test.merge(two_hop_v1, right_on=\"score_src_x\", left_on=\"node_id\", how=\"left\")\n",
        "    print(\n",
        "        \"roc-auc, v1: \",\n",
        "        roc_auc_score(\n",
        "            pred_v1[i],\n",
        "            clf.predict_proba(pred_v1[['score_0', 'score_1', 'score_2', 'score_3',\n",
        "       'score_4', 'score_5', 'score_6', 'score_7', 'score_8', 'score_9',\n",
        "       'score_10', 'score_11', 'score_12', 'score_13', 'score_14',\n",
        "       'score_15', 'score_16', 'score_17', 'score_18', 'score_19',\n",
        "       'score_20', 'score_21', 'score_22', 'score_23', 'score_24',\n",
        "       'score_25', 'score_26', 'score_27', 'score_28', 'score_29',\n",
        "       'score_30', 'score_31', 'score_32', 'score_33', 'score_34',\n",
        "       'score_35', 'score_36', 'score_37', 'score_38', 'score_39',\n",
        "       'score_40', 'score_41', 'score_42', 'score_43', 'score_44',\n",
        "       'score_45', 'score_46', 'score_47', 'score_48', 'score_49',\n",
        "       'score_50', 'score_51', 'score_52', 'score_53', 'score_54',\n",
        "       'score_55', 'score_56', 'score_57', 'score_58', 'score_59',\n",
        "       'score_60', 'score_61', 'score_62', 'score_63', 'score_64',\n",
        "       'score_65', 'score_66', 'score_67', 'score_68', 'score_69',\n",
        "       'score_70', 'score_71', 'score_72', 'score_73', 'score_74',\n",
        "       'score_75', 'score_76', 'score_77', 'score_78', 'score_79',\n",
        "       'score_80', 'score_81', 'score_82', 'score_83', 'score_84',\n",
        "       'score_85', 'score_86', 'score_87', 'score_88', 'score_89',\n",
        "       'score_90', 'score_91', 'score_92', 'score_93', 'score_94',\n",
        "       'score_95', 'score_96', 'score_97', 'score_98', 'score_99',\n",
        "       'score_100', 'score_101', 'score_102', 'score_103', 'score_104',\n",
        "       'score_105', 'score_106', 'score_107', 'score_108', 'score_109',\n",
        "       'score_110', 'score_111', 'score_112', 'score_113', 'score_114',\n",
        "       'score_115', 'score_116', 'score_117', 'score_118', 'score_119',\n",
        "       'score_120', 'score_121', 'score_122', 'score_123', 'score_124',\n",
        "       'score_125', 'score_126', 'score_127']])[:,1]\n",
        "        ),\n",
        "    )\n",
        "    rocauc_v1_ud_w.append(roc_auc_score(\n",
        "            pred_v1[i],\n",
        "            clf.predict_proba(pred_v1[['score_0', 'score_1', 'score_2', 'score_3',\n",
        "       'score_4', 'score_5', 'score_6', 'score_7', 'score_8', 'score_9',\n",
        "       'score_10', 'score_11', 'score_12', 'score_13', 'score_14',\n",
        "       'score_15', 'score_16', 'score_17', 'score_18', 'score_19',\n",
        "       'score_20', 'score_21', 'score_22', 'score_23', 'score_24',\n",
        "       'score_25', 'score_26', 'score_27', 'score_28', 'score_29',\n",
        "       'score_30', 'score_31', 'score_32', 'score_33', 'score_34',\n",
        "       'score_35', 'score_36', 'score_37', 'score_38', 'score_39',\n",
        "       'score_40', 'score_41', 'score_42', 'score_43', 'score_44',\n",
        "       'score_45', 'score_46', 'score_47', 'score_48', 'score_49',\n",
        "       'score_50', 'score_51', 'score_52', 'score_53', 'score_54',\n",
        "       'score_55', 'score_56', 'score_57', 'score_58', 'score_59',\n",
        "       'score_60', 'score_61', 'score_62', 'score_63', 'score_64',\n",
        "       'score_65', 'score_66', 'score_67', 'score_68', 'score_69',\n",
        "       'score_70', 'score_71', 'score_72', 'score_73', 'score_74',\n",
        "       'score_75', 'score_76', 'score_77', 'score_78', 'score_79',\n",
        "       'score_80', 'score_81', 'score_82', 'score_83', 'score_84',\n",
        "       'score_85', 'score_86', 'score_87', 'score_88', 'score_89',\n",
        "       'score_90', 'score_91', 'score_92', 'score_93', 'score_94',\n",
        "       'score_95', 'score_96', 'score_97', 'score_98', 'score_99',\n",
        "       'score_100', 'score_101', 'score_102', 'score_103', 'score_104',\n",
        "       'score_105', 'score_106', 'score_107', 'score_108', 'score_109',\n",
        "       'score_110', 'score_111', 'score_112', 'score_113', 'score_114',\n",
        "       'score_115', 'score_116', 'score_117', 'score_118', 'score_119',\n",
        "       'score_120', 'score_121', 'score_122', 'score_123', 'score_124',\n",
        "       'score_125', 'score_126', 'score_127']])[:,1]\n",
        "        ))\n",
        ""
      ],
      "execution_count": 14,
      "outputs": [
        {
          "output_type": "stream",
          "name": "stdout",
          "text": [
            "0\n"
          ]
        },
        {
          "output_type": "stream",
          "name": "stdout",
          "text": [
            "roc-auc, v1:  0.6758308390352166\n1\n"
          ]
        },
        {
          "output_type": "stream",
          "name": "stdout",
          "text": [
            "roc-auc, v1:  0.6823246029763188\n2\n"
          ]
        },
        {
          "output_type": "stream",
          "name": "stdout",
          "text": [
            "roc-auc, v1:  0.710602863959576\n3\n"
          ]
        },
        {
          "output_type": "stream",
          "name": "stdout",
          "text": [
            "roc-auc, v1:  0.7218688575157597\n4\n"
          ]
        },
        {
          "output_type": "stream",
          "name": "stdout",
          "text": [
            "roc-auc, v1:  0.7248730343326069\n5\n"
          ]
        },
        {
          "output_type": "stream",
          "name": "stdout",
          "text": [
            "roc-auc, v1:  0.6689683285626806\n6\n"
          ]
        },
        {
          "output_type": "stream",
          "name": "stdout",
          "text": [
            "roc-auc, v1:  0.7139101539580028\n7\n"
          ]
        },
        {
          "output_type": "stream",
          "name": "stdout",
          "text": [
            "roc-auc, v1:  0.6616592452798857\n8\n"
          ]
        },
        {
          "output_type": "stream",
          "name": "stdout",
          "text": [
            "roc-auc, v1:  0.7189846518573924\n9\n"
          ]
        },
        {
          "output_type": "stream",
          "name": "stdout",
          "text": [
            "roc-auc, v1:  0.6755069683982138\n10\n"
          ]
        },
        {
          "output_type": "stream",
          "name": "stdout",
          "text": [
            "roc-auc, v1:  0.6935068505874313\n11\n"
          ]
        },
        {
          "output_type": "stream",
          "name": "stdout",
          "text": [
            "roc-auc, v1:  0.6642452306304852\n12\n"
          ]
        },
        {
          "output_type": "stream",
          "name": "stdout",
          "text": [
            "roc-auc, v1:  0.6949289087618543\n13\n"
          ]
        },
        {
          "output_type": "stream",
          "name": "stdout",
          "text": [
            "roc-auc, v1:  0.7426757379697055\n14\n"
          ]
        },
        {
          "output_type": "stream",
          "name": "stdout",
          "text": [
            "roc-auc, v1:  0.6046978358977433\n15\n"
          ]
        },
        {
          "output_type": "stream",
          "name": "stdout",
          "text": [
            "roc-auc, v1:  0.6487401122332566\n16\n"
          ]
        },
        {
          "output_type": "stream",
          "name": "stdout",
          "text": [
            "roc-auc, v1:  0.7221831256198398\n17\n"
          ]
        },
        {
          "output_type": "stream",
          "name": "stdout",
          "text": [
            "roc-auc, v1:  0.6176518337073301\n18\n"
          ]
        },
        {
          "output_type": "stream",
          "name": "stdout",
          "text": [
            "roc-auc, v1:  0.7242997005712732\n19\n"
          ]
        },
        {
          "output_type": "stream",
          "name": "stdout",
          "text": [
            "roc-auc, v1:  0.604856835724779\n20\n"
          ]
        },
        {
          "output_type": "stream",
          "name": "stdout",
          "text": [
            "roc-auc, v1:  0.7016115205495594\n21\n"
          ]
        },
        {
          "output_type": "stream",
          "name": "stdout",
          "text": [
            "roc-auc, v1:  0.731084800959713\n22\n"
          ]
        },
        {
          "output_type": "stream",
          "name": "stdout",
          "text": [
            "roc-auc, v1:  0.7296461089483414\n23\n"
          ]
        },
        {
          "output_type": "stream",
          "name": "stdout",
          "text": [
            "roc-auc, v1:  0.7240633319296232\n24\n"
          ]
        },
        {
          "output_type": "stream",
          "name": "stdout",
          "text": [
            "roc-auc, v1:  0.6148181310529138\n"
          ]
        }
      ]
    },
    {
      "cell_type": "code",
      "metadata": {
        "originalKey": "fe21c9b0-eb3f-4fc4-878b-3bb4840ca719",
        "showInput": true,
        "customInput": null,
        "collapsed": false,
        "requestMsgId": "f7ce79df-4a63-4895-a2a4-93f0be714e50",
        "executionStartTime": 1683991830182,
        "executionStopTime": 1683991830193
      },
      "source": [
        "print(np.mean(rocauc_v1_ud_w))\n",
        ""
      ],
      "execution_count": 15,
      "outputs": [
        {
          "output_type": "stream",
          "name": "stdout",
          "text": [
            "0.6869415844407801\n"
          ]
        }
      ]
    },
    {
      "cell_type": "code",
      "metadata": {
        "originalKey": "1067b7a2-bff9-461e-92a2-8a9bb07f19f8",
        "showInput": true,
        "customInput": null,
        "collapsed": false,
        "requestMsgId": "1067b7a2-bff9-461e-92a2-8a9bb07f19f8",
        "executionStartTime": 1681017136884,
        "executionStopTime": 1681017136976
      },
      "source": [
        "with open(\"rocauc_v1_ud_w_part1_multilayer.npy\", \"wb\") as f:\n",
        "    # with open('rocauc_v1_ud_w_part2_multilayer.npy', 'wb') as f:\n",
        "    # with open('rocauc_v1_ud_w_part3_multilayer.npy', 'wb') as f:\n",
        "    np.save(f, rocauc_v1_ud_w)"
      ],
      "execution_count": 19,
      "outputs": []
    },
    {
      "cell_type": "code",
      "metadata": {
        "originalKey": "98181fba-81fd-4cea-a882-5967df41a14f",
        "showInput": true,
        "customInput": null
      },
      "source": [
        ""
      ],
      "execution_count": null,
      "outputs": []
    },
    {
      "cell_type": "code",
      "metadata": {
        "originalKey": "156d0ae6-2691-48b5-9cc1-57920675c7cf",
        "showInput": true,
        "customInput": null
      },
      "source": [
        ""
      ],
      "execution_count": null,
      "outputs": []
    },
    {
      "cell_type": "code",
      "metadata": {
        "originalKey": "65637d88-62f5-43ef-a3de-e9531be22b15",
        "showInput": true,
        "customInput": null
      },
      "source": [
        ""
      ],
      "execution_count": null,
      "outputs": []
    }
  ]
}
