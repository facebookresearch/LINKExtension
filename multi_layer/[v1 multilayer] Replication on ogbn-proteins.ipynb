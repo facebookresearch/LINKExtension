{
  "metadata": {
    "dataExplorerConfig": {},
    "bento_stylesheets": {
      "bento/extensions/flow/main.css": true,
      "bento/extensions/kernel_selector/main.css": true,
      "bento/extensions/kernel_ui/main.css": true,
      "bento/extensions/new_kernel/main.css": true,
      "bento/extensions/system_usage/main.css": true,
      "bento/extensions/theme/main.css": true
    },
    "kernelspec": {
      "display_name": "pytorch",
      "language": "python",
      "name": "bento_kernel_pytorch",
      "cinder_runtime": false,
      "ipyflow_runtime": false,
      "metadata": {
        "kernel_name": "bento_kernel_pytorch",
        "nightly_builds": true,
        "fbpkg_supported": true,
        "cinder_runtime": false,
        "ipyflow_runtime": false,
        "is_prebuilt": true
      }
    },
    "language_info": {
      "codemirror_mode": {
        "name": "ipython",
        "version": 3
      },
      "file_extension": ".py",
      "mimetype": "text/x-python",
      "name": "python",
      "nbconvert_exporter": "python",
      "pygments_lexer": "ipython3"
    },
    "last_server_session_id": "73228bf2-ab08-4051-875d-1747650fc4e7",
    "last_kernel_id": "e1c46f23-6414-4a8e-9090-3a2d8b5b3f34",
    "last_base_url": "https://devvm1422.ash0.facebook.com:8090/",
    "last_msg_id": "b6c39c54-662376a7bf23daf8017b2556_74",
    "outputWidgetContext": {}
  },
  "nbformat": 4,
  "nbformat_minor": 2,
  "cells": [
    {
      "cell_type": "code",
      "metadata": {
        "collapsed": false,
        "originalKey": "37d01fd8-6c31-433e-ac31-bc37a2627722",
        "requestMsgId": "37d01fd8-6c31-433e-ac31-bc37a2627722",
        "executionStartTime": 1681234114388,
        "executionStopTime": 1681234117324
      },
      "source": [
        "# 4/8/23\n",
        "# KM Altenburger\n",
        "\n",
        "# steps for downloading repo internally; run w/ \"pytorch kernel\"\n",
        "# sudo feature install ttls_fwdproxy\n",
        "# mgt import --src-type pypi sdist\n",
        "# mgt import --src-type pypi nvidia-cublas-cu11==11.10.3.66\n",
        "# mgt import --src-type pypi ogb\n",
        "\n",
        "import sys\n",
        "sys.path.insert(0, \"/home/kaltenburger/fbsource/ogb\")\n",
        "import matplotlib.pyplot as plt\n",
        "import networkx as nx\n",
        "import numpy as np\n",
        "import ogb\n",
        "import pandas as pd\n",
        "import torch\n",
        "\n",
        "# import torch_geometric\n",
        "from ogb.nodeproppred import NodePropPredDataset\n",
        "from sklearn.linear_model import LogisticRegression\n",
        "from sklearn.metrics import auc, precision_recall_curve, roc_auc_score\n",
        "from sklearn.model_selection import train_test_split"
      ],
      "execution_count": 1,
      "outputs": [
        {
          "output_type": "stream",
          "name": "stderr",
          "text": [
            "\nBad key \"axes.color_cycle\" on line 214 in\n/home/kaltenburger/.matplotlib/matplotlibrc.\nYou probably need to get an updated matplotlibrc file from\nhttps://github.com/matplotlib/matplotlib/blob/v3.1.3/matplotlibrc.template\nor from the matplotlib source distribution\n"
          ]
        },
        {
          "output_type": "stream",
          "name": "stderr",
          "text": [
            "I0411 102835.132 _utils_internal.py:179] NCCL_DEBUG env var is set to None\n"
          ]
        },
        {
          "output_type": "stream",
          "name": "stderr",
          "text": [
            "I0411 102835.133 _utils_internal.py:197] NCCL_DEBUG is forced to WARN from None\n"
          ]
        }
      ]
    },
    {
      "cell_type": "markdown",
      "metadata": {
        "originalKey": "0eb50079-caca-4391-bdb5-32bf6d7eaabc",
        "showInput": false,
        "customInput": null
      },
      "source": [
        "### read & set-up dataset\n",
        ""
      ]
    },
    {
      "cell_type": "code",
      "metadata": {
        "originalKey": "845992d5-24a0-4ddb-ba3d-0c6baf196319",
        "showInput": true,
        "customInput": null,
        "collapsed": false,
        "requestMsgId": "845992d5-24a0-4ddb-ba3d-0c6baf196319",
        "executionStartTime": 1681234117440,
        "executionStopTime": 1681234131187
      },
      "source": [
        "dataset = NodePropPredDataset(name='ogbn-proteins')\n",
        "g = dataset.graph # get edgelist and graph metadata\n",
        "y = dataset.labels # outcomes\n",
        "node_species_df = pd.DataFrame({'node_id':range(len(g['node_species'].flatten())), 'node_species': g['node_species'].flatten()})\n",
        "node_species_df.head()"
      ],
      "execution_count": 2,
      "outputs": [
        {
          "output_type": "execute_result",
          "data": {
            "text/plain": "   node_id  node_species\n0        0          3702\n1        1          3702\n2        2          3702\n3        3          3702\n4        4          3702",
            "text/html": "<div>\n<style scoped>\n    .dataframe tbody tr th:only-of-type {\n        vertical-align: middle;\n    }\n\n    .dataframe tbody tr th {\n        vertical-align: top;\n    }\n\n    .dataframe thead th {\n        text-align: right;\n    }\n</style>\n<table border=\"1\" class=\"dataframe\">\n  <thead>\n    <tr style=\"text-align: right;\">\n      <th></th>\n      <th>node_id</th>\n      <th>node_species</th>\n    </tr>\n  </thead>\n  <tbody>\n    <tr>\n      <th>0</th>\n      <td>0</td>\n      <td>3702</td>\n    </tr>\n    <tr>\n      <th>1</th>\n      <td>1</td>\n      <td>3702</td>\n    </tr>\n    <tr>\n      <th>2</th>\n      <td>2</td>\n      <td>3702</td>\n    </tr>\n    <tr>\n      <th>3</th>\n      <td>3</td>\n      <td>3702</td>\n    </tr>\n    <tr>\n      <th>4</th>\n      <td>4</td>\n      <td>3702</td>\n    </tr>\n  </tbody>\n</table>\n</div>",
            "application/vnd.dataresource+json": {
              "schema": {
                "fields": [
                  {
                    "name": "index",
                    "type": "integer"
                  },
                  {
                    "name": "node_id",
                    "type": "integer"
                  },
                  {
                    "name": "node_species",
                    "type": "integer"
                  }
                ],
                "primaryKey": [
                  "index"
                ],
                "pandas_version": "0.20.0"
              },
              "data": [
                {
                  "index": 0,
                  "node_id": 0,
                  "node_species": 3702
                },
                {
                  "index": 1,
                  "node_id": 1,
                  "node_species": 3702
                },
                {
                  "index": 2,
                  "node_id": 2,
                  "node_species": 3702
                },
                {
                  "index": 3,
                  "node_id": 3,
                  "node_species": 3702
                },
                {
                  "index": 4,
                  "node_id": 4,
                  "node_species": 3702
                }
              ]
            }
          },
          "metadata": {
            "bento_obj_id": "139859343208800"
          },
          "execution_count": 2
        }
      ]
    },
    {
      "cell_type": "code",
      "metadata": {
        "originalKey": "f73d8f94-ccd6-4420-b975-a65c5ca0be1b",
        "showInput": true,
        "customInput": null,
        "collapsed": false,
        "requestMsgId": "f73d8f94-ccd6-4420-b975-a65c5ca0be1b",
        "executionStartTime": 1681234131254,
        "executionStopTime": 1681234131313
      },
      "source": [
        "# create edgelist\n",
        "edge_list_df = pd.DataFrame(g[\"edge_index\"].T)\n",
        "edge_list_df.columns = ['src','dst']\n",
        "edge_list_df.head()"
      ],
      "execution_count": 3,
      "outputs": [
        {
          "output_type": "execute_result",
          "data": {
            "text/plain": "     src     dst\n0      1   96401\n1  96401       1\n2      1   68343\n3  68343       1\n4      1  125069",
            "text/html": "<div>\n<style scoped>\n    .dataframe tbody tr th:only-of-type {\n        vertical-align: middle;\n    }\n\n    .dataframe tbody tr th {\n        vertical-align: top;\n    }\n\n    .dataframe thead th {\n        text-align: right;\n    }\n</style>\n<table border=\"1\" class=\"dataframe\">\n  <thead>\n    <tr style=\"text-align: right;\">\n      <th></th>\n      <th>src</th>\n      <th>dst</th>\n    </tr>\n  </thead>\n  <tbody>\n    <tr>\n      <th>0</th>\n      <td>1</td>\n      <td>96401</td>\n    </tr>\n    <tr>\n      <th>1</th>\n      <td>96401</td>\n      <td>1</td>\n    </tr>\n    <tr>\n      <th>2</th>\n      <td>1</td>\n      <td>68343</td>\n    </tr>\n    <tr>\n      <th>3</th>\n      <td>68343</td>\n      <td>1</td>\n    </tr>\n    <tr>\n      <th>4</th>\n      <td>1</td>\n      <td>125069</td>\n    </tr>\n  </tbody>\n</table>\n</div>",
            "application/vnd.dataresource+json": {
              "schema": {
                "fields": [
                  {
                    "name": "index",
                    "type": "integer"
                  },
                  {
                    "name": "src",
                    "type": "integer"
                  },
                  {
                    "name": "dst",
                    "type": "integer"
                  }
                ],
                "primaryKey": [
                  "index"
                ],
                "pandas_version": "0.20.0"
              },
              "data": [
                {
                  "index": 0,
                  "src": 1,
                  "dst": 96401
                },
                {
                  "index": 1,
                  "src": 96401,
                  "dst": 1
                },
                {
                  "index": 2,
                  "src": 1,
                  "dst": 68343
                },
                {
                  "index": 3,
                  "src": 68343,
                  "dst": 1
                },
                {
                  "index": 4,
                  "src": 1,
                  "dst": 125069
                }
              ]
            }
          },
          "metadata": {
            "bento_obj_id": "139859327506992"
          },
          "execution_count": 3
        }
      ]
    },
    {
      "cell_type": "code",
      "metadata": {
        "originalKey": "ba7dfba7-c58c-4c43-8b8e-d3a42eb1c967",
        "showInput": true,
        "customInput": null,
        "collapsed": false,
        "requestMsgId": "ba7dfba7-c58c-4c43-8b8e-d3a42eb1c967",
        "executionStartTime": 1681234131347,
        "executionStopTime": 1681234131354
      },
      "source": [
        "# sanity check on inter-species connections\n",
        "edge_list_df_check = edge_list_df.merge(node_species_df, how = 'left', left_on = 'src', right_on = 'node_id')\n",
        "edge_list_df_check.drop('node_id', axis = 1, inplace=True)\n",
        "edge_list_df_check = edge_list_df_check.merge(node_species_df, how = 'left', left_on = 'dst', right_on = 'node_id')\n",
        "edge_list_df_check.drop('node_id', axis = 1, inplace=True)\n",
        "#edge_list_df_check.head()\n",
        "print(np.mean(edge_list_df_check['node_species_x']==edge_list_df_check['node_species_y']))\n",
        "print(np.mean(edge_list_df_check['node_species_x']!=edge_list_df_check['node_species_y']))"
      ],
      "execution_count": 4,
      "outputs": []
    },
    {
      "cell_type": "code",
      "metadata": {
        "originalKey": "be27d093-8be5-4954-8f4d-887995af3d8b",
        "showInput": true,
        "customInput": null,
        "collapsed": false,
        "requestMsgId": "be27d093-8be5-4954-8f4d-887995af3d8b",
        "executionStartTime": 1681010186192,
        "executionStopTime": 1681010186215
      },
      "source": [
        "y0 = pd.DataFrame(y)\n",
        "#y0 = y0.iloc[:,0:25] # part I\n",
        "#y0 = y0.iloc[:,25:50] # part II\n",
        "y0 = y0.iloc[:,50:112] # part II\n",
        "y0['node_id'] = range(len(y0[50]))\n",
        "    \n",
        "split_idx = dataset.get_idx_split()\n",
        "train_idx, valid_idx, test_idx = split_idx[\"train\"], split_idx[\"valid\"], split_idx[\"test\"]\n",
        "\n",
        "X_train = y0['node_id'].iloc[train_idx]\n",
        "y_train = y0.iloc[train_idx]\n",
        "\n",
        "X_valid = y0['node_id'].iloc[valid_idx]\n",
        "X_test = y0['node_id'].iloc[test_idx]\n",
        "y_valid = y0.iloc[valid_idx]\n",
        "y_test = y0.iloc[test_idx]\n",
        "\n",
        ""
      ],
      "execution_count": 5,
      "outputs": []
    },
    {
      "cell_type": "code",
      "metadata": {
        "originalKey": "ff1769e1-5400-4086-84af-d3c25187a48b",
        "showInput": true,
        "customInput": null,
        "collapsed": false,
        "requestMsgId": "ff1769e1-5400-4086-84af-d3c25187a48b",
        "executionStartTime": 1681010186355,
        "executionStopTime": 1681010362754
      },
      "source": [
        "edge_w = pd.DataFrame(g['edge_feat'])\n",
        "edge_w = edge_w.add_suffix('_weight')\n",
        "edge_list_df = pd.concat([edge_list_df, edge_w], axis=1)\n",
        "#edge_list_df.head()\n",
        "# w0 = edge_w[j]\n",
        "# edge_list_df['weight'] = w0\n",
        "# edge_list_df.head()\n",
        "# # merge in labels for training nodes on a user's connections\n",
        "relevant_edges_tmp = edge_list_df.merge(y_train, left_on = 'dst', right_on='node_id', how = 'left')\n",
        "relevant_edges_tmp.head()"
      ],
      "execution_count": 6,
      "outputs": [
        {
          "output_type": "execute_result",
          "data": {
            "text/plain": "     src     dst  0_weight  1_weight  2_weight  ...  108  109  110  111  node_id\n0      1   96401     0.501     0.001     0.001  ...  NaN  NaN  NaN  NaN      NaN\n1  96401       1     0.501     0.001     0.001  ...  0.0  0.0  0.0  0.0      1.0\n2      1   68343     0.501     0.001     0.001  ...  0.0  0.0  0.0  0.0  68343.0\n3  68343       1     0.501     0.001     0.001  ...  0.0  0.0  0.0  0.0      1.0\n4      1  125069     0.501     0.001     0.001  ...  NaN  NaN  NaN  NaN      NaN\n\n[5 rows x 73 columns]",
            "text/html": "<div>\n<style scoped>\n    .dataframe tbody tr th:only-of-type {\n        vertical-align: middle;\n    }\n\n    .dataframe tbody tr th {\n        vertical-align: top;\n    }\n\n    .dataframe thead th {\n        text-align: right;\n    }\n</style>\n<table border=\"1\" class=\"dataframe\">\n  <thead>\n    <tr style=\"text-align: right;\">\n      <th></th>\n      <th>src</th>\n      <th>dst</th>\n      <th>0_weight</th>\n      <th>1_weight</th>\n      <th>2_weight</th>\n      <th>3_weight</th>\n      <th>4_weight</th>\n      <th>5_weight</th>\n      <th>6_weight</th>\n      <th>7_weight</th>\n      <th>50</th>\n      <th>51</th>\n      <th>52</th>\n      <th>53</th>\n      <th>54</th>\n      <th>55</th>\n      <th>56</th>\n      <th>57</th>\n      <th>58</th>\n      <th>59</th>\n      <th>60</th>\n      <th>61</th>\n      <th>62</th>\n      <th>63</th>\n      <th>64</th>\n      <th>65</th>\n      <th>66</th>\n      <th>67</th>\n      <th>68</th>\n      <th>69</th>\n      <th>70</th>\n      <th>71</th>\n      <th>72</th>\n      <th>73</th>\n      <th>74</th>\n      <th>75</th>\n      <th>76</th>\n      <th>77</th>\n      <th>78</th>\n      <th>79</th>\n      <th>80</th>\n      <th>81</th>\n      <th>82</th>\n      <th>83</th>\n      <th>84</th>\n      <th>85</th>\n      <th>86</th>\n      <th>87</th>\n      <th>88</th>\n      <th>89</th>\n      <th>90</th>\n      <th>91</th>\n      <th>92</th>\n      <th>93</th>\n      <th>94</th>\n      <th>95</th>\n      <th>96</th>\n      <th>97</th>\n      <th>98</th>\n      <th>99</th>\n      <th>100</th>\n      <th>101</th>\n      <th>102</th>\n      <th>103</th>\n      <th>104</th>\n      <th>105</th>\n      <th>106</th>\n      <th>107</th>\n      <th>108</th>\n      <th>109</th>\n      <th>110</th>\n      <th>111</th>\n      <th>node_id</th>\n    </tr>\n  </thead>\n  <tbody>\n    <tr>\n      <th>0</th>\n      <td>1</td>\n      <td>96401</td>\n      <td>0.501</td>\n      <td>0.001</td>\n      <td>0.001</td>\n      <td>0.001</td>\n      <td>0.001</td>\n      <td>0.001</td>\n      <td>0.001</td>\n      <td>0.001</td>\n      <td>NaN</td>\n      <td>NaN</td>\n      <td>NaN</td>\n      <td>NaN</td>\n      <td>NaN</td>\n      <td>NaN</td>\n      <td>NaN</td>\n      <td>NaN</td>\n      <td>NaN</td>\n      <td>NaN</td>\n      <td>NaN</td>\n      <td>NaN</td>\n      <td>NaN</td>\n      <td>NaN</td>\n      <td>NaN</td>\n      <td>NaN</td>\n      <td>NaN</td>\n      <td>NaN</td>\n      <td>NaN</td>\n      <td>NaN</td>\n      <td>NaN</td>\n      <td>NaN</td>\n      <td>NaN</td>\n      <td>NaN</td>\n      <td>NaN</td>\n      <td>NaN</td>\n      <td>NaN</td>\n      <td>NaN</td>\n      <td>NaN</td>\n      <td>NaN</td>\n      <td>NaN</td>\n      <td>NaN</td>\n      <td>NaN</td>\n      <td>NaN</td>\n      <td>NaN</td>\n      <td>NaN</td>\n      <td>NaN</td>\n      <td>NaN</td>\n      <td>NaN</td>\n      <td>NaN</td>\n      <td>NaN</td>\n      <td>NaN</td>\n      <td>NaN</td>\n      <td>NaN</td>\n      <td>NaN</td>\n      <td>NaN</td>\n      <td>NaN</td>\n      <td>NaN</td>\n      <td>NaN</td>\n      <td>NaN</td>\n      <td>NaN</td>\n      <td>NaN</td>\n      <td>NaN</td>\n      <td>NaN</td>\n      <td>NaN</td>\n      <td>NaN</td>\n      <td>NaN</td>\n      <td>NaN</td>\n      <td>NaN</td>\n      <td>NaN</td>\n      <td>NaN</td>\n      <td>NaN</td>\n      <td>NaN</td>\n    </tr>\n    <tr>\n      <th>1</th>\n      <td>96401</td>\n      <td>1</td>\n      <td>0.501</td>\n      <td>0.001</td>\n      <td>0.001</td>\n      <td>0.001</td>\n      <td>0.001</td>\n      <td>0.001</td>\n      <td>0.001</td>\n      <td>0.001</td>\n      <td>0.0</td>\n      <td>0.0</td>\n      <td>0.0</td>\n      <td>1.0</td>\n      <td>1.0</td>\n      <td>1.0</td>\n      <td>0.0</td>\n      <td>1.0</td>\n      <td>0.0</td>\n      <td>0.0</td>\n      <td>0.0</td>\n      <td>0.0</td>\n      <td>0.0</td>\n      <td>0.0</td>\n      <td>0.0</td>\n      <td>0.0</td>\n      <td>1.0</td>\n      <td>1.0</td>\n      <td>0.0</td>\n      <td>0.0</td>\n      <td>0.0</td>\n      <td>0.0</td>\n      <td>0.0</td>\n      <td>0.0</td>\n      <td>0.0</td>\n      <td>1.0</td>\n      <td>0.0</td>\n      <td>0.0</td>\n      <td>0.0</td>\n      <td>0.0</td>\n      <td>0.0</td>\n      <td>0.0</td>\n      <td>0.0</td>\n      <td>0.0</td>\n      <td>0.0</td>\n      <td>0.0</td>\n      <td>0.0</td>\n      <td>0.0</td>\n      <td>0.0</td>\n      <td>0.0</td>\n      <td>0.0</td>\n      <td>0.0</td>\n      <td>0.0</td>\n      <td>0.0</td>\n      <td>0.0</td>\n      <td>0.0</td>\n      <td>0.0</td>\n      <td>0.0</td>\n      <td>0.0</td>\n      <td>0.0</td>\n      <td>0.0</td>\n      <td>0.0</td>\n      <td>0.0</td>\n      <td>0.0</td>\n      <td>0.0</td>\n      <td>0.0</td>\n      <td>0.0</td>\n      <td>0.0</td>\n      <td>0.0</td>\n      <td>0.0</td>\n      <td>0.0</td>\n      <td>0.0</td>\n      <td>1.0</td>\n    </tr>\n    <tr>\n      <th>2</th>\n      <td>1</td>\n      <td>68343</td>\n      <td>0.501</td>\n      <td>0.001</td>\n      <td>0.001</td>\n      <td>0.001</td>\n      <td>0.001</td>\n      <td>0.001</td>\n      <td>0.001</td>\n      <td>0.001</td>\n      <td>0.0</td>\n      <td>0.0</td>\n      <td>0.0</td>\n      <td>1.0</td>\n      <td>0.0</td>\n      <td>1.0</td>\n      <td>0.0</td>\n      <td>0.0</td>\n      <td>0.0</td>\n      <td>0.0</td>\n      <td>0.0</td>\n      <td>0.0</td>\n      <td>0.0</td>\n      <td>0.0</td>\n      <td>0.0</td>\n      <td>0.0</td>\n      <td>1.0</td>\n      <td>1.0</td>\n      <td>0.0</td>\n      <td>0.0</td>\n      <td>0.0</td>\n      <td>0.0</td>\n      <td>0.0</td>\n      <td>0.0</td>\n      <td>0.0</td>\n      <td>1.0</td>\n      <td>0.0</td>\n      <td>0.0</td>\n      <td>0.0</td>\n      <td>0.0</td>\n      <td>0.0</td>\n      <td>0.0</td>\n      <td>0.0</td>\n      <td>0.0</td>\n      <td>0.0</td>\n      <td>0.0</td>\n      <td>0.0</td>\n      <td>0.0</td>\n      <td>0.0</td>\n      <td>0.0</td>\n      <td>0.0</td>\n      <td>0.0</td>\n      <td>0.0</td>\n      <td>0.0</td>\n      <td>0.0</td>\n      <td>0.0</td>\n      <td>0.0</td>\n      <td>0.0</td>\n      <td>0.0</td>\n      <td>0.0</td>\n      <td>0.0</td>\n      <td>0.0</td>\n      <td>0.0</td>\n      <td>0.0</td>\n      <td>0.0</td>\n      <td>0.0</td>\n      <td>0.0</td>\n      <td>0.0</td>\n      <td>0.0</td>\n      <td>0.0</td>\n      <td>0.0</td>\n      <td>0.0</td>\n      <td>68343.0</td>\n    </tr>\n    <tr>\n      <th>3</th>\n      <td>68343</td>\n      <td>1</td>\n      <td>0.501</td>\n      <td>0.001</td>\n      <td>0.001</td>\n      <td>0.001</td>\n      <td>0.001</td>\n      <td>0.001</td>\n      <td>0.001</td>\n      <td>0.001</td>\n      <td>0.0</td>\n      <td>0.0</td>\n      <td>0.0</td>\n      <td>1.0</td>\n      <td>1.0</td>\n      <td>1.0</td>\n      <td>0.0</td>\n      <td>1.0</td>\n      <td>0.0</td>\n      <td>0.0</td>\n      <td>0.0</td>\n      <td>0.0</td>\n      <td>0.0</td>\n      <td>0.0</td>\n      <td>0.0</td>\n      <td>0.0</td>\n      <td>1.0</td>\n      <td>1.0</td>\n      <td>0.0</td>\n      <td>0.0</td>\n      <td>0.0</td>\n      <td>0.0</td>\n      <td>0.0</td>\n      <td>0.0</td>\n      <td>0.0</td>\n      <td>1.0</td>\n      <td>0.0</td>\n      <td>0.0</td>\n      <td>0.0</td>\n      <td>0.0</td>\n      <td>0.0</td>\n      <td>0.0</td>\n      <td>0.0</td>\n      <td>0.0</td>\n      <td>0.0</td>\n      <td>0.0</td>\n      <td>0.0</td>\n      <td>0.0</td>\n      <td>0.0</td>\n      <td>0.0</td>\n      <td>0.0</td>\n      <td>0.0</td>\n      <td>0.0</td>\n      <td>0.0</td>\n      <td>0.0</td>\n      <td>0.0</td>\n      <td>0.0</td>\n      <td>0.0</td>\n      <td>0.0</td>\n      <td>0.0</td>\n      <td>0.0</td>\n      <td>0.0</td>\n      <td>0.0</td>\n      <td>0.0</td>\n      <td>0.0</td>\n      <td>0.0</td>\n      <td>0.0</td>\n      <td>0.0</td>\n      <td>0.0</td>\n      <td>0.0</td>\n      <td>0.0</td>\n      <td>0.0</td>\n      <td>1.0</td>\n    </tr>\n    <tr>\n      <th>4</th>\n      <td>1</td>\n      <td>125069</td>\n      <td>0.501</td>\n      <td>0.001</td>\n      <td>0.001</td>\n      <td>0.001</td>\n      <td>0.001</td>\n      <td>0.001</td>\n      <td>0.001</td>\n      <td>0.001</td>\n      <td>NaN</td>\n      <td>NaN</td>\n      <td>NaN</td>\n      <td>NaN</td>\n      <td>NaN</td>\n      <td>NaN</td>\n      <td>NaN</td>\n      <td>NaN</td>\n      <td>NaN</td>\n      <td>NaN</td>\n      <td>NaN</td>\n      <td>NaN</td>\n      <td>NaN</td>\n      <td>NaN</td>\n      <td>NaN</td>\n      <td>NaN</td>\n      <td>NaN</td>\n      <td>NaN</td>\n      <td>NaN</td>\n      <td>NaN</td>\n      <td>NaN</td>\n      <td>NaN</td>\n      <td>NaN</td>\n      <td>NaN</td>\n      <td>NaN</td>\n      <td>NaN</td>\n      <td>NaN</td>\n      <td>NaN</td>\n      <td>NaN</td>\n      <td>NaN</td>\n      <td>NaN</td>\n      <td>NaN</td>\n      <td>NaN</td>\n      <td>NaN</td>\n      <td>NaN</td>\n      <td>NaN</td>\n      <td>NaN</td>\n      <td>NaN</td>\n      <td>NaN</td>\n      <td>NaN</td>\n      <td>NaN</td>\n      <td>NaN</td>\n      <td>NaN</td>\n      <td>NaN</td>\n      <td>NaN</td>\n      <td>NaN</td>\n      <td>NaN</td>\n      <td>NaN</td>\n      <td>NaN</td>\n      <td>NaN</td>\n      <td>NaN</td>\n      <td>NaN</td>\n      <td>NaN</td>\n      <td>NaN</td>\n      <td>NaN</td>\n      <td>NaN</td>\n      <td>NaN</td>\n      <td>NaN</td>\n      <td>NaN</td>\n      <td>NaN</td>\n      <td>NaN</td>\n      <td>NaN</td>\n      <td>NaN</td>\n    </tr>\n  </tbody>\n</table>\n</div>",
            "application/vnd.dataresource+json": {
              "schema": {
                "fields": [
                  {
                    "name": "index",
                    "type": "integer"
                  },
                  {
                    "name": "src",
                    "type": "integer"
                  },
                  {
                    "name": "dst",
                    "type": "integer"
                  },
                  {
                    "name": "0_weight",
                    "type": "number"
                  },
                  {
                    "name": "1_weight",
                    "type": "number"
                  },
                  {
                    "name": "2_weight",
                    "type": "number"
                  },
                  {
                    "name": "3_weight",
                    "type": "number"
                  },
                  {
                    "name": "4_weight",
                    "type": "number"
                  },
                  {
                    "name": "5_weight",
                    "type": "number"
                  },
                  {
                    "name": "6_weight",
                    "type": "number"
                  },
                  {
                    "name": "7_weight",
                    "type": "number"
                  },
                  {
                    "name": 50,
                    "type": "number"
                  },
                  {
                    "name": 51,
                    "type": "number"
                  },
                  {
                    "name": 52,
                    "type": "number"
                  },
                  {
                    "name": 53,
                    "type": "number"
                  },
                  {
                    "name": 54,
                    "type": "number"
                  },
                  {
                    "name": 55,
                    "type": "number"
                  },
                  {
                    "name": 56,
                    "type": "number"
                  },
                  {
                    "name": 57,
                    "type": "number"
                  },
                  {
                    "name": 58,
                    "type": "number"
                  },
                  {
                    "name": 59,
                    "type": "number"
                  },
                  {
                    "name": 60,
                    "type": "number"
                  },
                  {
                    "name": 61,
                    "type": "number"
                  },
                  {
                    "name": 62,
                    "type": "number"
                  },
                  {
                    "name": 63,
                    "type": "number"
                  },
                  {
                    "name": 64,
                    "type": "number"
                  },
                  {
                    "name": 65,
                    "type": "number"
                  },
                  {
                    "name": 66,
                    "type": "number"
                  },
                  {
                    "name": 67,
                    "type": "number"
                  },
                  {
                    "name": 68,
                    "type": "number"
                  },
                  {
                    "name": 69,
                    "type": "number"
                  },
                  {
                    "name": 70,
                    "type": "number"
                  },
                  {
                    "name": 71,
                    "type": "number"
                  },
                  {
                    "name": 72,
                    "type": "number"
                  },
                  {
                    "name": 73,
                    "type": "number"
                  },
                  {
                    "name": 74,
                    "type": "number"
                  },
                  {
                    "name": 75,
                    "type": "number"
                  },
                  {
                    "name": 76,
                    "type": "number"
                  },
                  {
                    "name": 77,
                    "type": "number"
                  },
                  {
                    "name": 78,
                    "type": "number"
                  },
                  {
                    "name": 79,
                    "type": "number"
                  },
                  {
                    "name": 80,
                    "type": "number"
                  },
                  {
                    "name": 81,
                    "type": "number"
                  },
                  {
                    "name": 82,
                    "type": "number"
                  },
                  {
                    "name": 83,
                    "type": "number"
                  },
                  {
                    "name": 84,
                    "type": "number"
                  },
                  {
                    "name": 85,
                    "type": "number"
                  },
                  {
                    "name": 86,
                    "type": "number"
                  },
                  {
                    "name": 87,
                    "type": "number"
                  },
                  {
                    "name": 88,
                    "type": "number"
                  },
                  {
                    "name": 89,
                    "type": "number"
                  },
                  {
                    "name": 90,
                    "type": "number"
                  },
                  {
                    "name": 91,
                    "type": "number"
                  },
                  {
                    "name": 92,
                    "type": "number"
                  },
                  {
                    "name": 93,
                    "type": "number"
                  },
                  {
                    "name": 94,
                    "type": "number"
                  },
                  {
                    "name": 95,
                    "type": "number"
                  },
                  {
                    "name": 96,
                    "type": "number"
                  },
                  {
                    "name": 97,
                    "type": "number"
                  },
                  {
                    "name": 98,
                    "type": "number"
                  },
                  {
                    "name": 99,
                    "type": "number"
                  },
                  {
                    "name": 100,
                    "type": "number"
                  },
                  {
                    "name": 101,
                    "type": "number"
                  },
                  {
                    "name": 102,
                    "type": "number"
                  },
                  {
                    "name": 103,
                    "type": "number"
                  },
                  {
                    "name": 104,
                    "type": "number"
                  },
                  {
                    "name": 105,
                    "type": "number"
                  },
                  {
                    "name": 106,
                    "type": "number"
                  },
                  {
                    "name": 107,
                    "type": "number"
                  },
                  {
                    "name": 108,
                    "type": "number"
                  },
                  {
                    "name": 109,
                    "type": "number"
                  },
                  {
                    "name": 110,
                    "type": "number"
                  },
                  {
                    "name": 111,
                    "type": "number"
                  },
                  {
                    "name": "node_id",
                    "type": "number"
                  }
                ],
                "primaryKey": [
                  "index"
                ],
                "pandas_version": "0.20.0"
              },
              "data": [
                {
                  "50": null,
                  "51": null,
                  "52": null,
                  "53": null,
                  "54": null,
                  "55": null,
                  "56": null,
                  "57": null,
                  "58": null,
                  "59": null,
                  "60": null,
                  "61": null,
                  "62": null,
                  "63": null,
                  "64": null,
                  "65": null,
                  "66": null,
                  "67": null,
                  "68": null,
                  "69": null,
                  "70": null,
                  "71": null,
                  "72": null,
                  "73": null,
                  "74": null,
                  "75": null,
                  "76": null,
                  "77": null,
                  "78": null,
                  "79": null,
                  "80": null,
                  "81": null,
                  "82": null,
                  "83": null,
                  "84": null,
                  "85": null,
                  "86": null,
                  "87": null,
                  "88": null,
                  "89": null,
                  "90": null,
                  "91": null,
                  "92": null,
                  "93": null,
                  "94": null,
                  "95": null,
                  "96": null,
                  "97": null,
                  "98": null,
                  "99": null,
                  "100": null,
                  "101": null,
                  "102": null,
                  "103": null,
                  "104": null,
                  "105": null,
                  "106": null,
                  "107": null,
                  "108": null,
                  "109": null,
                  "110": null,
                  "111": null,
                  "index": 0,
                  "src": 1,
                  "dst": 96401,
                  "0_weight": 0.5009999871,
                  "1_weight": 0.001,
                  "2_weight": 0.001,
                  "3_weight": 0.001,
                  "4_weight": 0.001,
                  "5_weight": 0.001,
                  "6_weight": 0.001,
                  "7_weight": 0.001,
                  "node_id": null
                },
                {
                  "50": 0,
                  "51": 0,
                  "52": 0,
                  "53": 1,
                  "54": 1,
                  "55": 1,
                  "56": 0,
                  "57": 1,
                  "58": 0,
                  "59": 0,
                  "60": 0,
                  "61": 0,
                  "62": 0,
                  "63": 0,
                  "64": 0,
                  "65": 0,
                  "66": 1,
                  "67": 1,
                  "68": 0,
                  "69": 0,
                  "70": 0,
                  "71": 0,
                  "72": 0,
                  "73": 0,
                  "74": 0,
                  "75": 1,
                  "76": 0,
                  "77": 0,
                  "78": 0,
                  "79": 0,
                  "80": 0,
                  "81": 0,
                  "82": 0,
                  "83": 0,
                  "84": 0,
                  "85": 0,
                  "86": 0,
                  "87": 0,
                  "88": 0,
                  "89": 0,
                  "90": 0,
                  "91": 0,
                  "92": 0,
                  "93": 0,
                  "94": 0,
                  "95": 0,
                  "96": 0,
                  "97": 0,
                  "98": 0,
                  "99": 0,
                  "100": 0,
                  "101": 0,
                  "102": 0,
                  "103": 0,
                  "104": 0,
                  "105": 0,
                  "106": 0,
                  "107": 0,
                  "108": 0,
                  "109": 0,
                  "110": 0,
                  "111": 0,
                  "index": 1,
                  "src": 96401,
                  "dst": 1,
                  "0_weight": 0.5009999871,
                  "1_weight": 0.001,
                  "2_weight": 0.001,
                  "3_weight": 0.001,
                  "4_weight": 0.001,
                  "5_weight": 0.001,
                  "6_weight": 0.001,
                  "7_weight": 0.001,
                  "node_id": 1
                },
                {
                  "50": 0,
                  "51": 0,
                  "52": 0,
                  "53": 1,
                  "54": 0,
                  "55": 1,
                  "56": 0,
                  "57": 0,
                  "58": 0,
                  "59": 0,
                  "60": 0,
                  "61": 0,
                  "62": 0,
                  "63": 0,
                  "64": 0,
                  "65": 0,
                  "66": 1,
                  "67": 1,
                  "68": 0,
                  "69": 0,
                  "70": 0,
                  "71": 0,
                  "72": 0,
                  "73": 0,
                  "74": 0,
                  "75": 1,
                  "76": 0,
                  "77": 0,
                  "78": 0,
                  "79": 0,
                  "80": 0,
                  "81": 0,
                  "82": 0,
                  "83": 0,
                  "84": 0,
                  "85": 0,
                  "86": 0,
                  "87": 0,
                  "88": 0,
                  "89": 0,
                  "90": 0,
                  "91": 0,
                  "92": 0,
                  "93": 0,
                  "94": 0,
                  "95": 0,
                  "96": 0,
                  "97": 0,
                  "98": 0,
                  "99": 0,
                  "100": 0,
                  "101": 0,
                  "102": 0,
                  "103": 0,
                  "104": 0,
                  "105": 0,
                  "106": 0,
                  "107": 0,
                  "108": 0,
                  "109": 0,
                  "110": 0,
                  "111": 0,
                  "index": 2,
                  "src": 1,
                  "dst": 68343,
                  "0_weight": 0.5009999871,
                  "1_weight": 0.001,
                  "2_weight": 0.001,
                  "3_weight": 0.001,
                  "4_weight": 0.001,
                  "5_weight": 0.001,
                  "6_weight": 0.001,
                  "7_weight": 0.001,
                  "node_id": 68343
                },
                {
                  "50": 0,
                  "51": 0,
                  "52": 0,
                  "53": 1,
                  "54": 1,
                  "55": 1,
                  "56": 0,
                  "57": 1,
                  "58": 0,
                  "59": 0,
                  "60": 0,
                  "61": 0,
                  "62": 0,
                  "63": 0,
                  "64": 0,
                  "65": 0,
                  "66": 1,
                  "67": 1,
                  "68": 0,
                  "69": 0,
                  "70": 0,
                  "71": 0,
                  "72": 0,
                  "73": 0,
                  "74": 0,
                  "75": 1,
                  "76": 0,
                  "77": 0,
                  "78": 0,
                  "79": 0,
                  "80": 0,
                  "81": 0,
                  "82": 0,
                  "83": 0,
                  "84": 0,
                  "85": 0,
                  "86": 0,
                  "87": 0,
                  "88": 0,
                  "89": 0,
                  "90": 0,
                  "91": 0,
                  "92": 0,
                  "93": 0,
                  "94": 0,
                  "95": 0,
                  "96": 0,
                  "97": 0,
                  "98": 0,
                  "99": 0,
                  "100": 0,
                  "101": 0,
                  "102": 0,
                  "103": 0,
                  "104": 0,
                  "105": 0,
                  "106": 0,
                  "107": 0,
                  "108": 0,
                  "109": 0,
                  "110": 0,
                  "111": 0,
                  "index": 3,
                  "src": 68343,
                  "dst": 1,
                  "0_weight": 0.5009999871,
                  "1_weight": 0.001,
                  "2_weight": 0.001,
                  "3_weight": 0.001,
                  "4_weight": 0.001,
                  "5_weight": 0.001,
                  "6_weight": 0.001,
                  "7_weight": 0.001,
                  "node_id": 1
                },
                {
                  "50": null,
                  "51": null,
                  "52": null,
                  "53": null,
                  "54": null,
                  "55": null,
                  "56": null,
                  "57": null,
                  "58": null,
                  "59": null,
                  "60": null,
                  "61": null,
                  "62": null,
                  "63": null,
                  "64": null,
                  "65": null,
                  "66": null,
                  "67": null,
                  "68": null,
                  "69": null,
                  "70": null,
                  "71": null,
                  "72": null,
                  "73": null,
                  "74": null,
                  "75": null,
                  "76": null,
                  "77": null,
                  "78": null,
                  "79": null,
                  "80": null,
                  "81": null,
                  "82": null,
                  "83": null,
                  "84": null,
                  "85": null,
                  "86": null,
                  "87": null,
                  "88": null,
                  "89": null,
                  "90": null,
                  "91": null,
                  "92": null,
                  "93": null,
                  "94": null,
                  "95": null,
                  "96": null,
                  "97": null,
                  "98": null,
                  "99": null,
                  "100": null,
                  "101": null,
                  "102": null,
                  "103": null,
                  "104": null,
                  "105": null,
                  "106": null,
                  "107": null,
                  "108": null,
                  "109": null,
                  "110": null,
                  "111": null,
                  "index": 4,
                  "src": 1,
                  "dst": 125069,
                  "0_weight": 0.5009999871,
                  "1_weight": 0.001,
                  "2_weight": 0.001,
                  "3_weight": 0.001,
                  "4_weight": 0.001,
                  "5_weight": 0.001,
                  "6_weight": 0.001,
                  "7_weight": 0.001,
                  "node_id": null
                }
              ]
            }
          },
          "metadata": {
            "bento_obj_id": "140639217645840"
          },
          "execution_count": 6
        }
      ]
    },
    {
      "cell_type": "code",
      "metadata": {
        "originalKey": "709afb10-d960-412f-8cca-f3566364ec8d",
        "showInput": true,
        "customInput": null,
        "collapsed": false,
        "requestMsgId": "709afb10-d960-412f-8cca-f3566364ec8d",
        "executionStartTime": 1681010400182,
        "executionStopTime": 1681010426932
      },
      "source": [
        "intervals_v1 = relevant_edges_tmp[['0_weight','1_weight', '2_weight', '3_weight','6_weight','4_weight', '5_weight', '7_weight']].quantile([0.75])"
      ],
      "execution_count": 7,
      "outputs": []
    },
    {
      "cell_type": "code",
      "metadata": {
        "originalKey": "5ef2e84f-dd77-45e2-8a7c-01f2c2887571",
        "showInput": true,
        "customInput": null,
        "collapsed": false,
        "requestMsgId": "5ef2e84f-dd77-45e2-8a7c-01f2c2887571",
        "executionStartTime": 1681010427075,
        "executionStopTime": 1681010427109
      },
      "source": [
        "np.array(intervals_v1.iloc[0])"
      ],
      "execution_count": 8,
      "outputs": [
        {
          "output_type": "execute_result",
          "data": {
            "text/plain": "array([0.001, 0.001, 0.001, 0.001, 0.001, 0.091, 0.115, 0.177])"
          },
          "metadata": {
            "bento_obj_id": "140639009963744"
          },
          "execution_count": 8
        }
      ]
    },
    {
      "cell_type": "code",
      "metadata": {
        "originalKey": "a88147d7-bbb1-43dd-b0a3-a1650bf3dd3b",
        "showInput": true,
        "customInput": null,
        "collapsed": false,
        "requestMsgId": "a88147d7-bbb1-43dd-b0a3-a1650bf3dd3b",
        "executionStartTime": 1680991759814,
        "executionStopTime": 1680991759831
      },
      "source": [
        ""
      ],
      "execution_count": 8,
      "outputs": []
    },
    {
      "cell_type": "code",
      "metadata": {
        "originalKey": "09c80f89-57ea-4e06-8cd5-f6f57b710393",
        "showInput": true,
        "customInput": null
      },
      "source": [
        ""
      ],
      "execution_count": null,
      "outputs": []
    },
    {
      "cell_type": "code",
      "metadata": {
        "originalKey": "d6ef863f-a340-4192-97d7-5a9615af4fb3",
        "showInput": true,
        "customInput": null,
        "collapsed": false,
        "requestMsgId": "d6ef863f-a340-4192-97d7-5a9615af4fb3",
        "executionStartTime": 1681010427382,
        "executionStopTime": 1681010827817
      },
      "source": [
        "from sklearn.preprocessing import Binarizer\n",
        "k=0\n",
        "for j in range(8):\n",
        "    print(j)\n",
        "    transformer = Binarizer().fit(relevant_edges_tmp[[str(j)+'_weight']])\n",
        "    relevant_edges_tmp['bin_'+str(k)] = pd.DataFrame(transformer.transform((relevant_edges_tmp[[str(j)+'_weight']]<=np.array(intervals_v1.iloc[0])[j])+0).flatten())\n",
        "    print(relevant_edges_tmp.head())\n",
        "    k=k+1\n",
        "    relevant_edges_tmp['bin_'+str(k)] = pd.DataFrame(transformer.transform((relevant_edges_tmp[[str(j)+'_weight']]>np.array(intervals_v1.iloc[0])[j])+0).flatten())\n",
        "    k=k+1"
      ],
      "execution_count": 9,
      "outputs": [
        {
          "output_type": "stream",
          "name": "stdout",
          "text": [
            "0\n"
          ]
        },
        {
          "output_type": "stream",
          "name": "stdout",
          "text": [
            "     src     dst  0_weight  1_weight  2_weight  ...  109  110  111  node_id  bin_0\n0      1   96401     0.501     0.001     0.001  ...  NaN  NaN  NaN      NaN      0\n1  96401       1     0.501     0.001     0.001  ...  0.0  0.0  0.0      1.0      0\n2      1   68343     0.501     0.001     0.001  ...  0.0  0.0  0.0  68343.0      0\n3  68343       1     0.501     0.001     0.001  ...  0.0  0.0  0.0      1.0      0\n4      1  125069     0.501     0.001     0.001  ...  NaN  NaN  NaN      NaN      0\n\n[5 rows x 74 columns]\n"
          ]
        },
        {
          "output_type": "stream",
          "name": "stdout",
          "text": [
            "1\n"
          ]
        },
        {
          "output_type": "stream",
          "name": "stdout",
          "text": [
            "     src     dst  0_weight  1_weight  ...  node_id  bin_0  bin_1  bin_2\n0      1   96401     0.501     0.001  ...      NaN      0      1      1\n1  96401       1     0.501     0.001  ...      1.0      0      1      1\n2      1   68343     0.501     0.001  ...  68343.0      0      1      1\n3  68343       1     0.501     0.001  ...      1.0      0      1      1\n4      1  125069     0.501     0.001  ...      NaN      0      1      1\n\n[5 rows x 76 columns]\n"
          ]
        },
        {
          "output_type": "stream",
          "name": "stdout",
          "text": [
            "2\n"
          ]
        },
        {
          "output_type": "stream",
          "name": "stdout",
          "text": [
            "     src     dst  0_weight  1_weight  ...  bin_1  bin_2  bin_3  bin_4\n0      1   96401     0.501     0.001  ...      1      1      0      1\n1  96401       1     0.501     0.001  ...      1      1      0      1\n2      1   68343     0.501     0.001  ...      1      1      0      1\n3  68343       1     0.501     0.001  ...      1      1      0      1\n4      1  125069     0.501     0.001  ...      1      1      0      1\n\n[5 rows x 78 columns]\n"
          ]
        },
        {
          "output_type": "stream",
          "name": "stdout",
          "text": [
            "3\n"
          ]
        },
        {
          "output_type": "stream",
          "name": "stdout",
          "text": [
            "     src     dst  0_weight  1_weight  ...  bin_3  bin_4  bin_5  bin_6\n0      1   96401     0.501     0.001  ...      0      1      0      1\n1  96401       1     0.501     0.001  ...      0      1      0      1\n2      1   68343     0.501     0.001  ...      0      1      0      1\n3  68343       1     0.501     0.001  ...      0      1      0      1\n4      1  125069     0.501     0.001  ...      0      1      0      1\n\n[5 rows x 80 columns]\n"
          ]
        },
        {
          "output_type": "stream",
          "name": "stdout",
          "text": [
            "4\n"
          ]
        },
        {
          "output_type": "stream",
          "name": "stdout",
          "text": [
            "     src     dst  0_weight  1_weight  ...  bin_5  bin_6  bin_7  bin_8\n0      1   96401     0.501     0.001  ...      0      1      0      1\n1  96401       1     0.501     0.001  ...      0      1      0      1\n2      1   68343     0.501     0.001  ...      0      1      0      1\n3  68343       1     0.501     0.001  ...      0      1      0      1\n4      1  125069     0.501     0.001  ...      0      1      0      1\n\n[5 rows x 82 columns]\n"
          ]
        },
        {
          "output_type": "stream",
          "name": "stdout",
          "text": [
            "5\n"
          ]
        },
        {
          "output_type": "stream",
          "name": "stdout",
          "text": [
            "     src     dst  0_weight  1_weight  ...  bin_7  bin_8  bin_9  bin_10\n0      1   96401     0.501     0.001  ...      0      1      0       1\n1  96401       1     0.501     0.001  ...      0      1      0       1\n2      1   68343     0.501     0.001  ...      0      1      0       1\n3  68343       1     0.501     0.001  ...      0      1      0       1\n4      1  125069     0.501     0.001  ...      0      1      0       1\n\n[5 rows x 84 columns]\n"
          ]
        },
        {
          "output_type": "stream",
          "name": "stdout",
          "text": [
            "6\n"
          ]
        },
        {
          "output_type": "stream",
          "name": "stdout",
          "text": [
            "     src     dst  0_weight  1_weight  ...  bin_9  bin_10  bin_11  bin_12\n0      1   96401     0.501     0.001  ...      0       1       0       1\n1  96401       1     0.501     0.001  ...      0       1       0       1\n2      1   68343     0.501     0.001  ...      0       1       0       1\n3  68343       1     0.501     0.001  ...      0       1       0       1\n4      1  125069     0.501     0.001  ...      0       1       0       1\n\n[5 rows x 86 columns]\n"
          ]
        },
        {
          "output_type": "stream",
          "name": "stdout",
          "text": [
            "7\n"
          ]
        },
        {
          "output_type": "stream",
          "name": "stdout",
          "text": [
            "     src     dst  0_weight  1_weight  ...  bin_11  bin_12  bin_13  bin_14\n0      1   96401     0.501     0.001  ...       0       1       0       1\n1  96401       1     0.501     0.001  ...       0       1       0       1\n2      1   68343     0.501     0.001  ...       0       1       0       1\n3  68343       1     0.501     0.001  ...       0       1       0       1\n4      1  125069     0.501     0.001  ...       0       1       0       1\n\n[5 rows x 88 columns]\n"
          ]
        }
      ]
    },
    {
      "cell_type": "code",
      "metadata": {
        "originalKey": "df9daf5e-4822-4199-b927-d2d04746d945",
        "showInput": true,
        "customInput": null,
        "collapsed": false,
        "requestMsgId": "df9daf5e-4822-4199-b927-d2d04746d945",
        "executionStartTime": 1681010828005,
        "executionStopTime": 1681010828110
      },
      "source": [
        "print(relevant_edges_tmp.columns)"
      ],
      "execution_count": 10,
      "outputs": [
        {
          "output_type": "stream",
          "name": "stdout",
          "text": [
            "Index([     'src',      'dst', '0_weight', '1_weight', '2_weight', '3_weight',\n       '4_weight', '5_weight', '6_weight', '7_weight',         50,         51,\n               52,         53,         54,         55,         56,         57,\n               58,         59,         60,         61,         62,         63,\n               64,         65,         66,         67,         68,         69,\n               70,         71,         72,         73,         74,         75,\n               76,         77,         78,         79,         80,         81,\n               82,         83,         84,         85,         86,         87,\n               88,         89,         90,         91,         92,         93,\n               94,         95,         96,         97,         98,         99,\n              100,        101,        102,        103,        104,        105,\n              106,        107,        108,        109,        110,        111,\n        'node_id',    'bin_0',    'bin_1',    'bin_2',    'bin_3',    'bin_4',\n          'bin_5',    'bin_6',    'bin_7',    'bin_8',    'bin_9',   'bin_10',\n         'bin_11',   'bin_12',   'bin_13',   'bin_14',   'bin_15'],\n      dtype='object')\n"
          ]
        }
      ]
    },
    {
      "cell_type": "code",
      "metadata": {
        "originalKey": "2947e43e-ea56-4ccf-9f0d-dc2e8c730a0b",
        "showInput": true,
        "customInput": null,
        "collapsed": false,
        "requestMsgId": "2947e43e-ea56-4ccf-9f0d-dc2e8c730a0b",
        "executionStartTime": 1681010828152,
        "executionStopTime": 1681010828173
      },
      "source": [
        ""
      ],
      "execution_count": 10,
      "outputs": []
    },
    {
      "cell_type": "code",
      "metadata": {
        "originalKey": "5bb75a14-88bc-4308-aebd-f9d31e0093cb",
        "showInput": true,
        "customInput": null,
        "collapsed": false,
        "requestMsgId": "5bb75a14-88bc-4308-aebd-f9d31e0093cb",
        "executionStartTime": 1681010828304,
        "executionStopTime": 1681010828351
      },
      "source": [
        "print('test')"
      ],
      "execution_count": 11,
      "outputs": [
        {
          "output_type": "stream",
          "name": "stdout",
          "text": [
            "test\n"
          ]
        }
      ]
    },
    {
      "cell_type": "code",
      "metadata": {
        "originalKey": "5a425308-79bd-4e04-aaec-cfb29e402693",
        "showInput": true,
        "customInput": null,
        "collapsed": false,
        "requestMsgId": "5a425308-79bd-4e04-aaec-cfb29e402693",
        "executionStopTime": 1681010913644,
        "executionStartTime": 1681010828364
      },
      "source": [
        "tmp = pd.DataFrame(relevant_edges_tmp[['bin_0',    'bin_1',    'bin_2',    'bin_3',    'bin_4',    'bin_5',\n",
        "        'bin_6',    'bin_7',    'bin_8',    'bin_9',   'bin_10',   'bin_11',\n",
        "        'bin_12',   'bin_13', 'bin_14',   'bin_15' ]].drop_duplicates())"
      ],
      "execution_count": 12,
      "outputs": []
    },
    {
      "cell_type": "code",
      "metadata": {
        "originalKey": "a49432e2-4ddb-41d8-8b19-c3b0e9896376",
        "showInput": true,
        "customInput": null,
        "collapsed": false,
        "requestMsgId": "a49432e2-4ddb-41d8-8b19-c3b0e9896376",
        "executionStartTime": 1681010913796,
        "executionStopTime": 1681010913978
      },
      "source": [
        "tmp.reset_index(inplace=True,drop=True)\n",
        "tmp.head()"
      ],
      "execution_count": 13,
      "outputs": [
        {
          "output_type": "execute_result",
          "data": {
            "text/plain": "   bin_0  bin_1  bin_2  bin_3  bin_4  ...  bin_11  bin_12  bin_13  bin_14  bin_15\n0      0      1      1      0      1  ...       0       1       0       1       0\n1      1      0      1      0      1  ...       0       1       0       1       0\n2      1      0      1      0      1  ...       0       1       0       0       1\n3      1      0      1      0      1  ...       1       1       0       1       0\n4      1      0      1      0      1  ...       0       1       0       1       0\n\n[5 rows x 16 columns]",
            "text/html": "<div>\n<style scoped>\n    .dataframe tbody tr th:only-of-type {\n        vertical-align: middle;\n    }\n\n    .dataframe tbody tr th {\n        vertical-align: top;\n    }\n\n    .dataframe thead th {\n        text-align: right;\n    }\n</style>\n<table border=\"1\" class=\"dataframe\">\n  <thead>\n    <tr style=\"text-align: right;\">\n      <th></th>\n      <th>bin_0</th>\n      <th>bin_1</th>\n      <th>bin_2</th>\n      <th>bin_3</th>\n      <th>bin_4</th>\n      <th>bin_5</th>\n      <th>bin_6</th>\n      <th>bin_7</th>\n      <th>bin_8</th>\n      <th>bin_9</th>\n      <th>bin_10</th>\n      <th>bin_11</th>\n      <th>bin_12</th>\n      <th>bin_13</th>\n      <th>bin_14</th>\n      <th>bin_15</th>\n    </tr>\n  </thead>\n  <tbody>\n    <tr>\n      <th>0</th>\n      <td>0</td>\n      <td>1</td>\n      <td>1</td>\n      <td>0</td>\n      <td>1</td>\n      <td>0</td>\n      <td>1</td>\n      <td>0</td>\n      <td>1</td>\n      <td>0</td>\n      <td>1</td>\n      <td>0</td>\n      <td>1</td>\n      <td>0</td>\n      <td>1</td>\n      <td>0</td>\n    </tr>\n    <tr>\n      <th>1</th>\n      <td>1</td>\n      <td>0</td>\n      <td>1</td>\n      <td>0</td>\n      <td>1</td>\n      <td>0</td>\n      <td>1</td>\n      <td>0</td>\n      <td>0</td>\n      <td>1</td>\n      <td>1</td>\n      <td>0</td>\n      <td>1</td>\n      <td>0</td>\n      <td>1</td>\n      <td>0</td>\n    </tr>\n    <tr>\n      <th>2</th>\n      <td>1</td>\n      <td>0</td>\n      <td>1</td>\n      <td>0</td>\n      <td>1</td>\n      <td>0</td>\n      <td>1</td>\n      <td>0</td>\n      <td>1</td>\n      <td>0</td>\n      <td>1</td>\n      <td>0</td>\n      <td>1</td>\n      <td>0</td>\n      <td>0</td>\n      <td>1</td>\n    </tr>\n    <tr>\n      <th>3</th>\n      <td>1</td>\n      <td>0</td>\n      <td>1</td>\n      <td>0</td>\n      <td>1</td>\n      <td>0</td>\n      <td>1</td>\n      <td>0</td>\n      <td>1</td>\n      <td>0</td>\n      <td>0</td>\n      <td>1</td>\n      <td>1</td>\n      <td>0</td>\n      <td>1</td>\n      <td>0</td>\n    </tr>\n    <tr>\n      <th>4</th>\n      <td>1</td>\n      <td>0</td>\n      <td>1</td>\n      <td>0</td>\n      <td>1</td>\n      <td>0</td>\n      <td>1</td>\n      <td>0</td>\n      <td>1</td>\n      <td>0</td>\n      <td>1</td>\n      <td>0</td>\n      <td>1</td>\n      <td>0</td>\n      <td>1</td>\n      <td>0</td>\n    </tr>\n  </tbody>\n</table>\n</div>",
            "application/vnd.dataresource+json": {
              "schema": {
                "fields": [
                  {
                    "name": "index",
                    "type": "integer"
                  },
                  {
                    "name": "bin_0",
                    "type": "integer"
                  },
                  {
                    "name": "bin_1",
                    "type": "integer"
                  },
                  {
                    "name": "bin_2",
                    "type": "integer"
                  },
                  {
                    "name": "bin_3",
                    "type": "integer"
                  },
                  {
                    "name": "bin_4",
                    "type": "integer"
                  },
                  {
                    "name": "bin_5",
                    "type": "integer"
                  },
                  {
                    "name": "bin_6",
                    "type": "integer"
                  },
                  {
                    "name": "bin_7",
                    "type": "integer"
                  },
                  {
                    "name": "bin_8",
                    "type": "integer"
                  },
                  {
                    "name": "bin_9",
                    "type": "integer"
                  },
                  {
                    "name": "bin_10",
                    "type": "integer"
                  },
                  {
                    "name": "bin_11",
                    "type": "integer"
                  },
                  {
                    "name": "bin_12",
                    "type": "integer"
                  },
                  {
                    "name": "bin_13",
                    "type": "integer"
                  },
                  {
                    "name": "bin_14",
                    "type": "integer"
                  },
                  {
                    "name": "bin_15",
                    "type": "integer"
                  }
                ],
                "primaryKey": [
                  "index"
                ],
                "pandas_version": "0.20.0"
              },
              "data": [
                {
                  "index": 0,
                  "bin_0": 0,
                  "bin_1": 1,
                  "bin_2": 1,
                  "bin_3": 0,
                  "bin_4": 1,
                  "bin_5": 0,
                  "bin_6": 1,
                  "bin_7": 0,
                  "bin_8": 1,
                  "bin_9": 0,
                  "bin_10": 1,
                  "bin_11": 0,
                  "bin_12": 1,
                  "bin_13": 0,
                  "bin_14": 1,
                  "bin_15": 0
                },
                {
                  "index": 1,
                  "bin_0": 1,
                  "bin_1": 0,
                  "bin_2": 1,
                  "bin_3": 0,
                  "bin_4": 1,
                  "bin_5": 0,
                  "bin_6": 1,
                  "bin_7": 0,
                  "bin_8": 0,
                  "bin_9": 1,
                  "bin_10": 1,
                  "bin_11": 0,
                  "bin_12": 1,
                  "bin_13": 0,
                  "bin_14": 1,
                  "bin_15": 0
                },
                {
                  "index": 2,
                  "bin_0": 1,
                  "bin_1": 0,
                  "bin_2": 1,
                  "bin_3": 0,
                  "bin_4": 1,
                  "bin_5": 0,
                  "bin_6": 1,
                  "bin_7": 0,
                  "bin_8": 1,
                  "bin_9": 0,
                  "bin_10": 1,
                  "bin_11": 0,
                  "bin_12": 1,
                  "bin_13": 0,
                  "bin_14": 0,
                  "bin_15": 1
                },
                {
                  "index": 3,
                  "bin_0": 1,
                  "bin_1": 0,
                  "bin_2": 1,
                  "bin_3": 0,
                  "bin_4": 1,
                  "bin_5": 0,
                  "bin_6": 1,
                  "bin_7": 0,
                  "bin_8": 1,
                  "bin_9": 0,
                  "bin_10": 0,
                  "bin_11": 1,
                  "bin_12": 1,
                  "bin_13": 0,
                  "bin_14": 1,
                  "bin_15": 0
                },
                {
                  "index": 4,
                  "bin_0": 1,
                  "bin_1": 0,
                  "bin_2": 1,
                  "bin_3": 0,
                  "bin_4": 1,
                  "bin_5": 0,
                  "bin_6": 1,
                  "bin_7": 0,
                  "bin_8": 1,
                  "bin_9": 0,
                  "bin_10": 1,
                  "bin_11": 0,
                  "bin_12": 1,
                  "bin_13": 0,
                  "bin_14": 1,
                  "bin_15": 0
                }
              ]
            }
          },
          "metadata": {
            "bento_obj_id": "140638961520704"
          },
          "execution_count": 13
        }
      ]
    },
    {
      "cell_type": "code",
      "metadata": {
        "originalKey": "2033fe7e-0531-4273-b6da-9629ae61ea42",
        "showInput": true,
        "customInput": null,
        "collapsed": false,
        "requestMsgId": "2033fe7e-0531-4273-b6da-9629ae61ea42",
        "executionStartTime": 1681010914017,
        "executionStopTime": 1681010914035
      },
      "source": [
        "tmp['edge_bin'] = 0\n",
        "tmp['edge_bin'] = pd.DataFrame(range(np.shape(tmp)[0]))"
      ],
      "execution_count": 14,
      "outputs": []
    },
    {
      "cell_type": "code",
      "metadata": {
        "originalKey": "841b6c6e-3311-45c2-86a6-e88d7fe6289a",
        "showInput": true,
        "customInput": null,
        "collapsed": false,
        "requestMsgId": "841b6c6e-3311-45c2-86a6-e88d7fe6289a",
        "executionStartTime": 1681010914168,
        "executionStopTime": 1681010914196
      },
      "source": [
        "tmp.edge_bin"
      ],
      "execution_count": 15,
      "outputs": [
        {
          "output_type": "execute_result",
          "data": {
            "text/plain": "0        0\n1        1\n2        2\n3        3\n4        4\n      ... \n123    123\n124    124\n125    125\n126    126\n127    127\nName: edge_bin, Length: 128, dtype: int64",
            "application/vnd.dataresource+json": {
              "schema": {
                "fields": [
                  {
                    "name": "index",
                    "type": "integer"
                  },
                  {
                    "name": "edge_bin",
                    "type": "integer"
                  }
                ],
                "primaryKey": [
                  "index"
                ],
                "pandas_version": "0.20.0"
              },
              "data": [
                {
                  "index": 0,
                  "edge_bin": 0
                },
                {
                  "index": 1,
                  "edge_bin": 1
                },
                {
                  "index": 2,
                  "edge_bin": 2
                },
                {
                  "index": 3,
                  "edge_bin": 3
                },
                {
                  "index": 4,
                  "edge_bin": 4
                },
                {
                  "index": 5,
                  "edge_bin": 5
                },
                {
                  "index": 6,
                  "edge_bin": 6
                },
                {
                  "index": 7,
                  "edge_bin": 7
                },
                {
                  "index": 8,
                  "edge_bin": 8
                },
                {
                  "index": 9,
                  "edge_bin": 9
                },
                {
                  "index": 10,
                  "edge_bin": 10
                },
                {
                  "index": 11,
                  "edge_bin": 11
                },
                {
                  "index": 12,
                  "edge_bin": 12
                },
                {
                  "index": 13,
                  "edge_bin": 13
                },
                {
                  "index": 14,
                  "edge_bin": 14
                },
                {
                  "index": 15,
                  "edge_bin": 15
                },
                {
                  "index": 16,
                  "edge_bin": 16
                },
                {
                  "index": 17,
                  "edge_bin": 17
                },
                {
                  "index": 18,
                  "edge_bin": 18
                },
                {
                  "index": 19,
                  "edge_bin": 19
                },
                {
                  "index": 20,
                  "edge_bin": 20
                },
                {
                  "index": 21,
                  "edge_bin": 21
                },
                {
                  "index": 22,
                  "edge_bin": 22
                },
                {
                  "index": 23,
                  "edge_bin": 23
                },
                {
                  "index": 24,
                  "edge_bin": 24
                },
                {
                  "index": 25,
                  "edge_bin": 25
                },
                {
                  "index": 26,
                  "edge_bin": 26
                },
                {
                  "index": 27,
                  "edge_bin": 27
                },
                {
                  "index": 28,
                  "edge_bin": 28
                },
                {
                  "index": 29,
                  "edge_bin": 29
                },
                {
                  "index": 30,
                  "edge_bin": 30
                },
                {
                  "index": 31,
                  "edge_bin": 31
                },
                {
                  "index": 32,
                  "edge_bin": 32
                },
                {
                  "index": 33,
                  "edge_bin": 33
                },
                {
                  "index": 34,
                  "edge_bin": 34
                },
                {
                  "index": 35,
                  "edge_bin": 35
                },
                {
                  "index": 36,
                  "edge_bin": 36
                },
                {
                  "index": 37,
                  "edge_bin": 37
                },
                {
                  "index": 38,
                  "edge_bin": 38
                },
                {
                  "index": 39,
                  "edge_bin": 39
                },
                {
                  "index": 40,
                  "edge_bin": 40
                },
                {
                  "index": 41,
                  "edge_bin": 41
                },
                {
                  "index": 42,
                  "edge_bin": 42
                },
                {
                  "index": 43,
                  "edge_bin": 43
                },
                {
                  "index": 44,
                  "edge_bin": 44
                },
                {
                  "index": 45,
                  "edge_bin": 45
                },
                {
                  "index": 46,
                  "edge_bin": 46
                },
                {
                  "index": 47,
                  "edge_bin": 47
                },
                {
                  "index": 48,
                  "edge_bin": 48
                },
                {
                  "index": 49,
                  "edge_bin": 49
                },
                {
                  "index": 50,
                  "edge_bin": 50
                },
                {
                  "index": 51,
                  "edge_bin": 51
                },
                {
                  "index": 52,
                  "edge_bin": 52
                },
                {
                  "index": 53,
                  "edge_bin": 53
                },
                {
                  "index": 54,
                  "edge_bin": 54
                },
                {
                  "index": 55,
                  "edge_bin": 55
                },
                {
                  "index": 56,
                  "edge_bin": 56
                },
                {
                  "index": 57,
                  "edge_bin": 57
                },
                {
                  "index": 58,
                  "edge_bin": 58
                },
                {
                  "index": 59,
                  "edge_bin": 59
                }
              ]
            }
          },
          "metadata": {
            "bento_obj_id": "140638961434384"
          },
          "execution_count": 15
        }
      ]
    },
    {
      "cell_type": "code",
      "metadata": {
        "originalKey": "bda64841-bd4f-41ae-b2c4-35679c715878",
        "showInput": true,
        "customInput": null,
        "collapsed": false,
        "requestMsgId": "bda64841-bd4f-41ae-b2c4-35679c715878",
        "executionStartTime": 1681010914231,
        "executionStopTime": 1681011747269
      },
      "source": [
        "relevant_edges_tmp['edge_bin']=0\n",
        "for k in np.array(tmp.edge_bin):\n",
        "    print(k)\n",
        "    relevant_edges_tmp['edge_bin'][(relevant_edges_tmp.bin_0==tmp.bin_0[k]) & \\\n",
        "(relevant_edges_tmp.bin_1==tmp.bin_1[k]) & \\\n",
        "(relevant_edges_tmp.bin_2==tmp.bin_2[k]) & \\\n",
        "(relevant_edges_tmp.bin_3==tmp.bin_3[k]) & \\\n",
        "(relevant_edges_tmp.bin_4==tmp.bin_4[k]) & \\\n",
        "(relevant_edges_tmp.bin_5==tmp.bin_5[k]) & \\\n",
        "(relevant_edges_tmp.bin_6==tmp.bin_6[k]) & \\\n",
        "(relevant_edges_tmp.bin_7==tmp.bin_7[k]) & \\\n",
        "(relevant_edges_tmp.bin_8==tmp.bin_8[k]) & \\\n",
        "(relevant_edges_tmp.bin_9==tmp.bin_9[k]) & \\\n",
        "(relevant_edges_tmp.bin_10==tmp.bin_10[k]) & \\\n",
        "(relevant_edges_tmp.bin_11==tmp.bin_11[k]) & \\\n",
        "(relevant_edges_tmp.bin_12==tmp.bin_12[k]) & \\\n",
        "(relevant_edges_tmp.bin_13==tmp.bin_13[k]) & \\\n",
        "(relevant_edges_tmp.bin_14==tmp.bin_14[k]) & \\\n",
        "(relevant_edges_tmp.bin_15==tmp.bin_15[k]) ] = tmp.edge_bin[k]"
      ],
      "execution_count": 16,
      "outputs": [
        {
          "output_type": "stream",
          "name": "stdout",
          "text": [
            "0\n"
          ]
        },
        {
          "output_type": "stream",
          "name": "stderr",
          "text": [
            "<ipython-input-16-5d312f104b87>:4: SettingWithCopyWarning:\n\n\nA value is trying to be set on a copy of a slice from a DataFrame\n\nSee the caveats in the documentation: https://pandas.pydata.org/pandas-docs/stable/user_guide/indexing.html#returning-a-view-versus-a-copy\n\n"
          ]
        },
        {
          "output_type": "stream",
          "name": "stdout",
          "text": [
            "1\n"
          ]
        },
        {
          "output_type": "stream",
          "name": "stdout",
          "text": [
            "2\n"
          ]
        },
        {
          "output_type": "stream",
          "name": "stdout",
          "text": [
            "3\n"
          ]
        },
        {
          "output_type": "stream",
          "name": "stdout",
          "text": [
            "4\n"
          ]
        },
        {
          "output_type": "stream",
          "name": "stdout",
          "text": [
            "5\n"
          ]
        },
        {
          "output_type": "stream",
          "name": "stdout",
          "text": [
            "6\n"
          ]
        },
        {
          "output_type": "stream",
          "name": "stdout",
          "text": [
            "7\n"
          ]
        },
        {
          "output_type": "stream",
          "name": "stdout",
          "text": [
            "8\n"
          ]
        },
        {
          "output_type": "stream",
          "name": "stdout",
          "text": [
            "9\n"
          ]
        },
        {
          "output_type": "stream",
          "name": "stdout",
          "text": [
            "10\n"
          ]
        },
        {
          "output_type": "stream",
          "name": "stdout",
          "text": [
            "11\n"
          ]
        },
        {
          "output_type": "stream",
          "name": "stdout",
          "text": [
            "12\n"
          ]
        },
        {
          "output_type": "stream",
          "name": "stdout",
          "text": [
            "13\n"
          ]
        },
        {
          "output_type": "stream",
          "name": "stdout",
          "text": [
            "14\n"
          ]
        },
        {
          "output_type": "stream",
          "name": "stdout",
          "text": [
            "15\n"
          ]
        },
        {
          "output_type": "stream",
          "name": "stdout",
          "text": [
            "16\n"
          ]
        },
        {
          "output_type": "stream",
          "name": "stdout",
          "text": [
            "17\n"
          ]
        },
        {
          "output_type": "stream",
          "name": "stdout",
          "text": [
            "18\n"
          ]
        },
        {
          "output_type": "stream",
          "name": "stdout",
          "text": [
            "19\n"
          ]
        },
        {
          "output_type": "stream",
          "name": "stdout",
          "text": [
            "20\n"
          ]
        },
        {
          "output_type": "stream",
          "name": "stdout",
          "text": [
            "21\n"
          ]
        },
        {
          "output_type": "stream",
          "name": "stdout",
          "text": [
            "22\n"
          ]
        },
        {
          "output_type": "stream",
          "name": "stdout",
          "text": [
            "23\n"
          ]
        },
        {
          "output_type": "stream",
          "name": "stdout",
          "text": [
            "24\n"
          ]
        },
        {
          "output_type": "stream",
          "name": "stdout",
          "text": [
            "25\n"
          ]
        },
        {
          "output_type": "stream",
          "name": "stdout",
          "text": [
            "26\n"
          ]
        },
        {
          "output_type": "stream",
          "name": "stdout",
          "text": [
            "27\n"
          ]
        },
        {
          "output_type": "stream",
          "name": "stdout",
          "text": [
            "28\n"
          ]
        },
        {
          "output_type": "stream",
          "name": "stdout",
          "text": [
            "29\n"
          ]
        },
        {
          "output_type": "stream",
          "name": "stdout",
          "text": [
            "30\n"
          ]
        },
        {
          "output_type": "stream",
          "name": "stdout",
          "text": [
            "31\n"
          ]
        },
        {
          "output_type": "stream",
          "name": "stdout",
          "text": [
            "32\n"
          ]
        },
        {
          "output_type": "stream",
          "name": "stdout",
          "text": [
            "33\n"
          ]
        },
        {
          "output_type": "stream",
          "name": "stdout",
          "text": [
            "34\n"
          ]
        },
        {
          "output_type": "stream",
          "name": "stdout",
          "text": [
            "35\n"
          ]
        },
        {
          "output_type": "stream",
          "name": "stdout",
          "text": [
            "36\n"
          ]
        },
        {
          "output_type": "stream",
          "name": "stdout",
          "text": [
            "37\n"
          ]
        },
        {
          "output_type": "stream",
          "name": "stdout",
          "text": [
            "38\n"
          ]
        },
        {
          "output_type": "stream",
          "name": "stdout",
          "text": [
            "39\n"
          ]
        },
        {
          "output_type": "stream",
          "name": "stdout",
          "text": [
            "40\n"
          ]
        },
        {
          "output_type": "stream",
          "name": "stdout",
          "text": [
            "41\n"
          ]
        },
        {
          "output_type": "stream",
          "name": "stdout",
          "text": [
            "42\n"
          ]
        },
        {
          "output_type": "stream",
          "name": "stdout",
          "text": [
            "43\n"
          ]
        },
        {
          "output_type": "stream",
          "name": "stdout",
          "text": [
            "44\n"
          ]
        },
        {
          "output_type": "stream",
          "name": "stdout",
          "text": [
            "45\n"
          ]
        },
        {
          "output_type": "stream",
          "name": "stdout",
          "text": [
            "46\n"
          ]
        },
        {
          "output_type": "stream",
          "name": "stdout",
          "text": [
            "47\n"
          ]
        },
        {
          "output_type": "stream",
          "name": "stdout",
          "text": [
            "48\n"
          ]
        },
        {
          "output_type": "stream",
          "name": "stdout",
          "text": [
            "49\n"
          ]
        },
        {
          "output_type": "stream",
          "name": "stdout",
          "text": [
            "50\n"
          ]
        },
        {
          "output_type": "stream",
          "name": "stdout",
          "text": [
            "51\n"
          ]
        },
        {
          "output_type": "stream",
          "name": "stdout",
          "text": [
            "52\n"
          ]
        },
        {
          "output_type": "stream",
          "name": "stdout",
          "text": [
            "53\n"
          ]
        },
        {
          "output_type": "stream",
          "name": "stdout",
          "text": [
            "54\n"
          ]
        },
        {
          "output_type": "stream",
          "name": "stdout",
          "text": [
            "55\n"
          ]
        },
        {
          "output_type": "stream",
          "name": "stdout",
          "text": [
            "56\n"
          ]
        },
        {
          "output_type": "stream",
          "name": "stdout",
          "text": [
            "57\n"
          ]
        },
        {
          "output_type": "stream",
          "name": "stdout",
          "text": [
            "58\n"
          ]
        },
        {
          "output_type": "stream",
          "name": "stdout",
          "text": [
            "59\n"
          ]
        },
        {
          "output_type": "stream",
          "name": "stdout",
          "text": [
            "60\n"
          ]
        },
        {
          "output_type": "stream",
          "name": "stdout",
          "text": [
            "61\n"
          ]
        },
        {
          "output_type": "stream",
          "name": "stdout",
          "text": [
            "62\n"
          ]
        },
        {
          "output_type": "stream",
          "name": "stdout",
          "text": [
            "63\n"
          ]
        },
        {
          "output_type": "stream",
          "name": "stdout",
          "text": [
            "64\n"
          ]
        },
        {
          "output_type": "stream",
          "name": "stdout",
          "text": [
            "65\n"
          ]
        },
        {
          "output_type": "stream",
          "name": "stdout",
          "text": [
            "66\n"
          ]
        },
        {
          "output_type": "stream",
          "name": "stdout",
          "text": [
            "67\n"
          ]
        },
        {
          "output_type": "stream",
          "name": "stdout",
          "text": [
            "68\n"
          ]
        },
        {
          "output_type": "stream",
          "name": "stdout",
          "text": [
            "69\n"
          ]
        },
        {
          "output_type": "stream",
          "name": "stdout",
          "text": [
            "70\n"
          ]
        },
        {
          "output_type": "stream",
          "name": "stdout",
          "text": [
            "71\n"
          ]
        },
        {
          "output_type": "stream",
          "name": "stdout",
          "text": [
            "72\n"
          ]
        },
        {
          "output_type": "stream",
          "name": "stdout",
          "text": [
            "73\n"
          ]
        },
        {
          "output_type": "stream",
          "name": "stdout",
          "text": [
            "74\n"
          ]
        },
        {
          "output_type": "stream",
          "name": "stdout",
          "text": [
            "75\n"
          ]
        },
        {
          "output_type": "stream",
          "name": "stdout",
          "text": [
            "76\n"
          ]
        },
        {
          "output_type": "stream",
          "name": "stdout",
          "text": [
            "77\n"
          ]
        },
        {
          "output_type": "stream",
          "name": "stdout",
          "text": [
            "78\n"
          ]
        },
        {
          "output_type": "stream",
          "name": "stdout",
          "text": [
            "79\n"
          ]
        },
        {
          "output_type": "stream",
          "name": "stdout",
          "text": [
            "80\n"
          ]
        },
        {
          "output_type": "stream",
          "name": "stdout",
          "text": [
            "81\n"
          ]
        },
        {
          "output_type": "stream",
          "name": "stdout",
          "text": [
            "82\n"
          ]
        },
        {
          "output_type": "stream",
          "name": "stdout",
          "text": [
            "83\n"
          ]
        },
        {
          "output_type": "stream",
          "name": "stdout",
          "text": [
            "84\n"
          ]
        },
        {
          "output_type": "stream",
          "name": "stdout",
          "text": [
            "85\n"
          ]
        },
        {
          "output_type": "stream",
          "name": "stdout",
          "text": [
            "86\n"
          ]
        },
        {
          "output_type": "stream",
          "name": "stdout",
          "text": [
            "87\n"
          ]
        },
        {
          "output_type": "stream",
          "name": "stdout",
          "text": [
            "88\n"
          ]
        },
        {
          "output_type": "stream",
          "name": "stdout",
          "text": [
            "89\n"
          ]
        },
        {
          "output_type": "stream",
          "name": "stdout",
          "text": [
            "90\n"
          ]
        },
        {
          "output_type": "stream",
          "name": "stdout",
          "text": [
            "91\n"
          ]
        },
        {
          "output_type": "stream",
          "name": "stdout",
          "text": [
            "92\n"
          ]
        },
        {
          "output_type": "stream",
          "name": "stdout",
          "text": [
            "93\n"
          ]
        },
        {
          "output_type": "stream",
          "name": "stdout",
          "text": [
            "94\n"
          ]
        },
        {
          "output_type": "stream",
          "name": "stdout",
          "text": [
            "95\n"
          ]
        },
        {
          "output_type": "stream",
          "name": "stdout",
          "text": [
            "96\n"
          ]
        },
        {
          "output_type": "stream",
          "name": "stdout",
          "text": [
            "97\n"
          ]
        },
        {
          "output_type": "stream",
          "name": "stdout",
          "text": [
            "98\n"
          ]
        },
        {
          "output_type": "stream",
          "name": "stdout",
          "text": [
            "99\n"
          ]
        },
        {
          "output_type": "stream",
          "name": "stdout",
          "text": [
            "100\n"
          ]
        },
        {
          "output_type": "stream",
          "name": "stdout",
          "text": [
            "101\n"
          ]
        },
        {
          "output_type": "stream",
          "name": "stdout",
          "text": [
            "102\n"
          ]
        },
        {
          "output_type": "stream",
          "name": "stdout",
          "text": [
            "103\n"
          ]
        },
        {
          "output_type": "stream",
          "name": "stdout",
          "text": [
            "104\n"
          ]
        },
        {
          "output_type": "stream",
          "name": "stdout",
          "text": [
            "105\n"
          ]
        },
        {
          "output_type": "stream",
          "name": "stdout",
          "text": [
            "106\n"
          ]
        },
        {
          "output_type": "stream",
          "name": "stdout",
          "text": [
            "107\n"
          ]
        },
        {
          "output_type": "stream",
          "name": "stdout",
          "text": [
            "108\n"
          ]
        },
        {
          "output_type": "stream",
          "name": "stdout",
          "text": [
            "109\n"
          ]
        },
        {
          "output_type": "stream",
          "name": "stdout",
          "text": [
            "110\n"
          ]
        },
        {
          "output_type": "stream",
          "name": "stdout",
          "text": [
            "111\n"
          ]
        },
        {
          "output_type": "stream",
          "name": "stdout",
          "text": [
            "112\n"
          ]
        },
        {
          "output_type": "stream",
          "name": "stdout",
          "text": [
            "113\n"
          ]
        },
        {
          "output_type": "stream",
          "name": "stdout",
          "text": [
            "114\n"
          ]
        },
        {
          "output_type": "stream",
          "name": "stdout",
          "text": [
            "115\n"
          ]
        },
        {
          "output_type": "stream",
          "name": "stdout",
          "text": [
            "116\n"
          ]
        },
        {
          "output_type": "stream",
          "name": "stdout",
          "text": [
            "117\n"
          ]
        },
        {
          "output_type": "stream",
          "name": "stdout",
          "text": [
            "118\n"
          ]
        },
        {
          "output_type": "stream",
          "name": "stdout",
          "text": [
            "119\n"
          ]
        },
        {
          "output_type": "stream",
          "name": "stdout",
          "text": [
            "120\n"
          ]
        },
        {
          "output_type": "stream",
          "name": "stdout",
          "text": [
            "121\n"
          ]
        },
        {
          "output_type": "stream",
          "name": "stdout",
          "text": [
            "122\n"
          ]
        },
        {
          "output_type": "stream",
          "name": "stdout",
          "text": [
            "123\n"
          ]
        },
        {
          "output_type": "stream",
          "name": "stdout",
          "text": [
            "124\n"
          ]
        },
        {
          "output_type": "stream",
          "name": "stdout",
          "text": [
            "125\n"
          ]
        },
        {
          "output_type": "stream",
          "name": "stdout",
          "text": [
            "126\n"
          ]
        },
        {
          "output_type": "stream",
          "name": "stdout",
          "text": [
            "127\n"
          ]
        }
      ]
    },
    {
      "cell_type": "code",
      "metadata": {
        "originalKey": "f5fb9d34-6517-4717-9bf4-5ff5af9bd98a",
        "showInput": true,
        "customInput": null,
        "collapsed": false,
        "requestMsgId": "f5fb9d34-6517-4717-9bf4-5ff5af9bd98a",
        "executionStartTime": 1681011747286,
        "executionStopTime": 1681011747308
      },
      "source": [
        ""
      ],
      "execution_count": 16,
      "outputs": []
    },
    {
      "cell_type": "code",
      "metadata": {
        "originalKey": "1ec84e02-9cc9-4a0d-b4d4-6cbd7bdb4c4d",
        "showInput": true,
        "customInput": null
      },
      "source": [
        ""
      ],
      "execution_count": null,
      "outputs": []
    },
    {
      "cell_type": "code",
      "metadata": {
        "originalKey": "212936de-0c4c-4446-8e9d-c5d529c66634",
        "showInput": true,
        "customInput": null
      },
      "source": [
        ""
      ],
      "execution_count": null,
      "outputs": []
    },
    {
      "cell_type": "code",
      "metadata": {
        "originalKey": "d6210995-1f38-416a-9b88-204c9785ff87",
        "showInput": true,
        "customInput": null,
        "collapsed": false,
        "requestMsgId": "d6210995-1f38-416a-9b88-204c9785ff87",
        "executionStopTime": 1680993533067,
        "executionStartTime": 1680993532908
      },
      "source": [
        "#skip to loop \n",
        "i=0"
      ],
      "execution_count": 21,
      "outputs": []
    },
    {
      "cell_type": "code",
      "metadata": {
        "originalKey": "b2a70c45-225f-417d-8466-486310af3257",
        "showInput": true,
        "customInput": null,
        "collapsed": false,
        "requestMsgId": "b2a70c45-225f-417d-8466-486310af3257",
        "executionStartTime": 1680993533674,
        "executionStopTime": 1680993537340
      },
      "source": [
        "np.unique(relevant_edges_tmp.edge_bin)"
      ],
      "execution_count": 22,
      "outputs": [
        {
          "output_type": "execute_result",
          "data": {
            "text/plain": "array([  0,   1,   2,   3,   4,   5,   6,   7,   8,   9,  10,  11,  12,\n        13,  14,  15,  16,  17,  18,  19,  20,  21,  22,  23,  24,  25,\n        26,  27,  28,  29,  30,  31,  32,  33,  34,  35,  36,  37,  38,\n        39,  40,  41,  42,  43,  44,  45,  46,  47,  48,  49,  50,  51,\n        52,  53,  54,  55,  56,  57,  58,  59,  60,  61,  62,  63,  64,\n        65,  66,  67,  68,  69,  70,  71,  72,  73,  74,  75,  76,  77,\n        78,  79,  80,  81,  82,  83,  84,  85,  86,  87,  88,  89,  90,\n        91,  92,  93,  94,  95,  96,  97,  98,  99, 100, 101, 102, 103,\n       104, 105, 106, 107, 108, 109, 110, 111, 112, 113, 114, 115, 116,\n       117, 118, 119, 120, 121, 122, 123, 124, 125, 126, 127], dtype=int64)"
          },
          "metadata": {
            "bento_obj_id": "140209724776656"
          },
          "execution_count": 22
        }
      ]
    },
    {
      "cell_type": "code",
      "metadata": {
        "originalKey": "83040cc7-375f-4e39-a546-0e33aa45ea01",
        "showInput": true,
        "customInput": null,
        "collapsed": false,
        "requestMsgId": "83040cc7-375f-4e39-a546-0e33aa45ea01",
        "executionStartTime": 1680993537603,
        "executionStopTime": 1680993537788
      },
      "source": [
        "relevant_edges_tmp.head()"
      ],
      "execution_count": 23,
      "outputs": [
        {
          "output_type": "execute_result",
          "data": {
            "text/plain": "     src     dst  0_weight  1_weight  ...  bin_13  bin_14  bin_15  edge_bin\n0      1   96401     0.501     0.001  ...       0       1       0         0\n1  96401       1     0.501     0.001  ...       0       1       0         0\n2      1   68343     0.501     0.001  ...       0       1       0         0\n3  68343       1     0.501     0.001  ...       0       1       0         0\n4      1  125069     0.501     0.001  ...       0       1       0         0\n\n[5 rows x 53 columns]",
            "text/html": "<div>\n<style scoped>\n    .dataframe tbody tr th:only-of-type {\n        vertical-align: middle;\n    }\n\n    .dataframe tbody tr th {\n        vertical-align: top;\n    }\n\n    .dataframe thead th {\n        text-align: right;\n    }\n</style>\n<table border=\"1\" class=\"dataframe\">\n  <thead>\n    <tr style=\"text-align: right;\">\n      <th></th>\n      <th>src</th>\n      <th>dst</th>\n      <th>0_weight</th>\n      <th>1_weight</th>\n      <th>2_weight</th>\n      <th>3_weight</th>\n      <th>4_weight</th>\n      <th>5_weight</th>\n      <th>6_weight</th>\n      <th>7_weight</th>\n      <th>0</th>\n      <th>1</th>\n      <th>2</th>\n      <th>3</th>\n      <th>4</th>\n      <th>5</th>\n      <th>6</th>\n      <th>7</th>\n      <th>8</th>\n      <th>9</th>\n      <th>10</th>\n      <th>11</th>\n      <th>12</th>\n      <th>13</th>\n      <th>14</th>\n      <th>15</th>\n      <th>16</th>\n      <th>17</th>\n      <th>18</th>\n      <th>19</th>\n      <th>20</th>\n      <th>21</th>\n      <th>22</th>\n      <th>23</th>\n      <th>24</th>\n      <th>node_id</th>\n      <th>bin_0</th>\n      <th>bin_1</th>\n      <th>bin_2</th>\n      <th>bin_3</th>\n      <th>bin_4</th>\n      <th>bin_5</th>\n      <th>bin_6</th>\n      <th>bin_7</th>\n      <th>bin_8</th>\n      <th>bin_9</th>\n      <th>bin_10</th>\n      <th>bin_11</th>\n      <th>bin_12</th>\n      <th>bin_13</th>\n      <th>bin_14</th>\n      <th>bin_15</th>\n      <th>edge_bin</th>\n    </tr>\n  </thead>\n  <tbody>\n    <tr>\n      <th>0</th>\n      <td>1</td>\n      <td>96401</td>\n      <td>0.501</td>\n      <td>0.001</td>\n      <td>0.001</td>\n      <td>0.001</td>\n      <td>0.001</td>\n      <td>0.001</td>\n      <td>0.001</td>\n      <td>0.001</td>\n      <td>NaN</td>\n      <td>NaN</td>\n      <td>NaN</td>\n      <td>NaN</td>\n      <td>NaN</td>\n      <td>NaN</td>\n      <td>NaN</td>\n      <td>NaN</td>\n      <td>NaN</td>\n      <td>NaN</td>\n      <td>NaN</td>\n      <td>NaN</td>\n      <td>NaN</td>\n      <td>NaN</td>\n      <td>NaN</td>\n      <td>NaN</td>\n      <td>NaN</td>\n      <td>NaN</td>\n      <td>NaN</td>\n      <td>NaN</td>\n      <td>NaN</td>\n      <td>NaN</td>\n      <td>NaN</td>\n      <td>NaN</td>\n      <td>NaN</td>\n      <td>NaN</td>\n      <td>0</td>\n      <td>1</td>\n      <td>1</td>\n      <td>0</td>\n      <td>1</td>\n      <td>0</td>\n      <td>1</td>\n      <td>0</td>\n      <td>1</td>\n      <td>0</td>\n      <td>1</td>\n      <td>0</td>\n      <td>1</td>\n      <td>0</td>\n      <td>1</td>\n      <td>0</td>\n      <td>0</td>\n    </tr>\n    <tr>\n      <th>1</th>\n      <td>96401</td>\n      <td>1</td>\n      <td>0.501</td>\n      <td>0.001</td>\n      <td>0.001</td>\n      <td>0.001</td>\n      <td>0.001</td>\n      <td>0.001</td>\n      <td>0.001</td>\n      <td>0.001</td>\n      <td>1.0</td>\n      <td>1.0</td>\n      <td>0.0</td>\n      <td>1.0</td>\n      <td>1.0</td>\n      <td>0.0</td>\n      <td>1.0</td>\n      <td>0.0</td>\n      <td>1.0</td>\n      <td>0.0</td>\n      <td>1.0</td>\n      <td>0.0</td>\n      <td>1.0</td>\n      <td>0.0</td>\n      <td>1.0</td>\n      <td>0.0</td>\n      <td>0.0</td>\n      <td>0.0</td>\n      <td>0.0</td>\n      <td>0.0</td>\n      <td>0.0</td>\n      <td>0.0</td>\n      <td>0.0</td>\n      <td>0.0</td>\n      <td>0.0</td>\n      <td>1.0</td>\n      <td>0</td>\n      <td>1</td>\n      <td>1</td>\n      <td>0</td>\n      <td>1</td>\n      <td>0</td>\n      <td>1</td>\n      <td>0</td>\n      <td>1</td>\n      <td>0</td>\n      <td>1</td>\n      <td>0</td>\n      <td>1</td>\n      <td>0</td>\n      <td>1</td>\n      <td>0</td>\n      <td>0</td>\n    </tr>\n    <tr>\n      <th>2</th>\n      <td>1</td>\n      <td>68343</td>\n      <td>0.501</td>\n      <td>0.001</td>\n      <td>0.001</td>\n      <td>0.001</td>\n      <td>0.001</td>\n      <td>0.001</td>\n      <td>0.001</td>\n      <td>0.001</td>\n      <td>1.0</td>\n      <td>1.0</td>\n      <td>0.0</td>\n      <td>1.0</td>\n      <td>1.0</td>\n      <td>0.0</td>\n      <td>1.0</td>\n      <td>0.0</td>\n      <td>1.0</td>\n      <td>0.0</td>\n      <td>1.0</td>\n      <td>0.0</td>\n      <td>1.0</td>\n      <td>0.0</td>\n      <td>0.0</td>\n      <td>0.0</td>\n      <td>0.0</td>\n      <td>0.0</td>\n      <td>0.0</td>\n      <td>0.0</td>\n      <td>0.0</td>\n      <td>0.0</td>\n      <td>0.0</td>\n      <td>0.0</td>\n      <td>0.0</td>\n      <td>68343.0</td>\n      <td>0</td>\n      <td>1</td>\n      <td>1</td>\n      <td>0</td>\n      <td>1</td>\n      <td>0</td>\n      <td>1</td>\n      <td>0</td>\n      <td>1</td>\n      <td>0</td>\n      <td>1</td>\n      <td>0</td>\n      <td>1</td>\n      <td>0</td>\n      <td>1</td>\n      <td>0</td>\n      <td>0</td>\n    </tr>\n    <tr>\n      <th>3</th>\n      <td>68343</td>\n      <td>1</td>\n      <td>0.501</td>\n      <td>0.001</td>\n      <td>0.001</td>\n      <td>0.001</td>\n      <td>0.001</td>\n      <td>0.001</td>\n      <td>0.001</td>\n      <td>0.001</td>\n      <td>1.0</td>\n      <td>1.0</td>\n      <td>0.0</td>\n      <td>1.0</td>\n      <td>1.0</td>\n      <td>0.0</td>\n      <td>1.0</td>\n      <td>0.0</td>\n      <td>1.0</td>\n      <td>0.0</td>\n      <td>1.0</td>\n      <td>0.0</td>\n      <td>1.0</td>\n      <td>0.0</td>\n      <td>1.0</td>\n      <td>0.0</td>\n      <td>0.0</td>\n      <td>0.0</td>\n      <td>0.0</td>\n      <td>0.0</td>\n      <td>0.0</td>\n      <td>0.0</td>\n      <td>0.0</td>\n      <td>0.0</td>\n      <td>0.0</td>\n      <td>1.0</td>\n      <td>0</td>\n      <td>1</td>\n      <td>1</td>\n      <td>0</td>\n      <td>1</td>\n      <td>0</td>\n      <td>1</td>\n      <td>0</td>\n      <td>1</td>\n      <td>0</td>\n      <td>1</td>\n      <td>0</td>\n      <td>1</td>\n      <td>0</td>\n      <td>1</td>\n      <td>0</td>\n      <td>0</td>\n    </tr>\n    <tr>\n      <th>4</th>\n      <td>1</td>\n      <td>125069</td>\n      <td>0.501</td>\n      <td>0.001</td>\n      <td>0.001</td>\n      <td>0.001</td>\n      <td>0.001</td>\n      <td>0.001</td>\n      <td>0.001</td>\n      <td>0.001</td>\n      <td>NaN</td>\n      <td>NaN</td>\n      <td>NaN</td>\n      <td>NaN</td>\n      <td>NaN</td>\n      <td>NaN</td>\n      <td>NaN</td>\n      <td>NaN</td>\n      <td>NaN</td>\n      <td>NaN</td>\n      <td>NaN</td>\n      <td>NaN</td>\n      <td>NaN</td>\n      <td>NaN</td>\n      <td>NaN</td>\n      <td>NaN</td>\n      <td>NaN</td>\n      <td>NaN</td>\n      <td>NaN</td>\n      <td>NaN</td>\n      <td>NaN</td>\n      <td>NaN</td>\n      <td>NaN</td>\n      <td>NaN</td>\n      <td>NaN</td>\n      <td>NaN</td>\n      <td>0</td>\n      <td>1</td>\n      <td>1</td>\n      <td>0</td>\n      <td>1</td>\n      <td>0</td>\n      <td>1</td>\n      <td>0</td>\n      <td>1</td>\n      <td>0</td>\n      <td>1</td>\n      <td>0</td>\n      <td>1</td>\n      <td>0</td>\n      <td>1</td>\n      <td>0</td>\n      <td>0</td>\n    </tr>\n  </tbody>\n</table>\n</div>",
            "application/vnd.dataresource+json": {
              "schema": {
                "fields": [
                  {
                    "name": "index",
                    "type": "integer"
                  },
                  {
                    "name": "src",
                    "type": "integer"
                  },
                  {
                    "name": "dst",
                    "type": "integer"
                  },
                  {
                    "name": "0_weight",
                    "type": "number"
                  },
                  {
                    "name": "1_weight",
                    "type": "number"
                  },
                  {
                    "name": "2_weight",
                    "type": "number"
                  },
                  {
                    "name": "3_weight",
                    "type": "number"
                  },
                  {
                    "name": "4_weight",
                    "type": "number"
                  },
                  {
                    "name": "5_weight",
                    "type": "number"
                  },
                  {
                    "name": "6_weight",
                    "type": "number"
                  },
                  {
                    "name": "7_weight",
                    "type": "number"
                  },
                  {
                    "name": 0,
                    "type": "number"
                  },
                  {
                    "name": 1,
                    "type": "number"
                  },
                  {
                    "name": 2,
                    "type": "number"
                  },
                  {
                    "name": 3,
                    "type": "number"
                  },
                  {
                    "name": 4,
                    "type": "number"
                  },
                  {
                    "name": 5,
                    "type": "number"
                  },
                  {
                    "name": 6,
                    "type": "number"
                  },
                  {
                    "name": 7,
                    "type": "number"
                  },
                  {
                    "name": 8,
                    "type": "number"
                  },
                  {
                    "name": 9,
                    "type": "number"
                  },
                  {
                    "name": 10,
                    "type": "number"
                  },
                  {
                    "name": 11,
                    "type": "number"
                  },
                  {
                    "name": 12,
                    "type": "number"
                  },
                  {
                    "name": 13,
                    "type": "number"
                  },
                  {
                    "name": 14,
                    "type": "number"
                  },
                  {
                    "name": 15,
                    "type": "number"
                  },
                  {
                    "name": 16,
                    "type": "number"
                  },
                  {
                    "name": 17,
                    "type": "number"
                  },
                  {
                    "name": 18,
                    "type": "number"
                  },
                  {
                    "name": 19,
                    "type": "number"
                  },
                  {
                    "name": 20,
                    "type": "number"
                  },
                  {
                    "name": 21,
                    "type": "number"
                  },
                  {
                    "name": 22,
                    "type": "number"
                  },
                  {
                    "name": 23,
                    "type": "number"
                  },
                  {
                    "name": 24,
                    "type": "number"
                  },
                  {
                    "name": "node_id",
                    "type": "number"
                  },
                  {
                    "name": "bin_0",
                    "type": "integer"
                  },
                  {
                    "name": "bin_1",
                    "type": "integer"
                  },
                  {
                    "name": "bin_2",
                    "type": "integer"
                  },
                  {
                    "name": "bin_3",
                    "type": "integer"
                  },
                  {
                    "name": "bin_4",
                    "type": "integer"
                  },
                  {
                    "name": "bin_5",
                    "type": "integer"
                  },
                  {
                    "name": "bin_6",
                    "type": "integer"
                  },
                  {
                    "name": "bin_7",
                    "type": "integer"
                  },
                  {
                    "name": "bin_8",
                    "type": "integer"
                  },
                  {
                    "name": "bin_9",
                    "type": "integer"
                  },
                  {
                    "name": "bin_10",
                    "type": "integer"
                  },
                  {
                    "name": "bin_11",
                    "type": "integer"
                  },
                  {
                    "name": "bin_12",
                    "type": "integer"
                  },
                  {
                    "name": "bin_13",
                    "type": "integer"
                  },
                  {
                    "name": "bin_14",
                    "type": "integer"
                  },
                  {
                    "name": "bin_15",
                    "type": "integer"
                  },
                  {
                    "name": "edge_bin",
                    "type": "integer"
                  }
                ],
                "primaryKey": [
                  "index"
                ],
                "pandas_version": "0.20.0"
              },
              "data": [
                {
                  "0": null,
                  "1": null,
                  "2": null,
                  "3": null,
                  "4": null,
                  "5": null,
                  "6": null,
                  "7": null,
                  "8": null,
                  "9": null,
                  "10": null,
                  "11": null,
                  "12": null,
                  "13": null,
                  "14": null,
                  "15": null,
                  "16": null,
                  "17": null,
                  "18": null,
                  "19": null,
                  "20": null,
                  "21": null,
                  "22": null,
                  "23": null,
                  "24": null,
                  "index": 0,
                  "src": 1,
                  "dst": 96401,
                  "0_weight": 0.5009999871,
                  "1_weight": 0.001,
                  "2_weight": 0.001,
                  "3_weight": 0.001,
                  "4_weight": 0.001,
                  "5_weight": 0.001,
                  "6_weight": 0.001,
                  "7_weight": 0.001,
                  "node_id": null,
                  "bin_0": 0,
                  "bin_1": 1,
                  "bin_2": 1,
                  "bin_3": 0,
                  "bin_4": 1,
                  "bin_5": 0,
                  "bin_6": 1,
                  "bin_7": 0,
                  "bin_8": 1,
                  "bin_9": 0,
                  "bin_10": 1,
                  "bin_11": 0,
                  "bin_12": 1,
                  "bin_13": 0,
                  "bin_14": 1,
                  "bin_15": 0,
                  "edge_bin": 0
                },
                {
                  "0": 1,
                  "1": 1,
                  "2": 0,
                  "3": 1,
                  "4": 1,
                  "5": 0,
                  "6": 1,
                  "7": 0,
                  "8": 1,
                  "9": 0,
                  "10": 1,
                  "11": 0,
                  "12": 1,
                  "13": 0,
                  "14": 1,
                  "15": 0,
                  "16": 0,
                  "17": 0,
                  "18": 0,
                  "19": 0,
                  "20": 0,
                  "21": 0,
                  "22": 0,
                  "23": 0,
                  "24": 0,
                  "index": 1,
                  "src": 96401,
                  "dst": 1,
                  "0_weight": 0.5009999871,
                  "1_weight": 0.001,
                  "2_weight": 0.001,
                  "3_weight": 0.001,
                  "4_weight": 0.001,
                  "5_weight": 0.001,
                  "6_weight": 0.001,
                  "7_weight": 0.001,
                  "node_id": 1,
                  "bin_0": 0,
                  "bin_1": 1,
                  "bin_2": 1,
                  "bin_3": 0,
                  "bin_4": 1,
                  "bin_5": 0,
                  "bin_6": 1,
                  "bin_7": 0,
                  "bin_8": 1,
                  "bin_9": 0,
                  "bin_10": 1,
                  "bin_11": 0,
                  "bin_12": 1,
                  "bin_13": 0,
                  "bin_14": 1,
                  "bin_15": 0,
                  "edge_bin": 0
                },
                {
                  "0": 1,
                  "1": 1,
                  "2": 0,
                  "3": 1,
                  "4": 1,
                  "5": 0,
                  "6": 1,
                  "7": 0,
                  "8": 1,
                  "9": 0,
                  "10": 1,
                  "11": 0,
                  "12": 1,
                  "13": 0,
                  "14": 0,
                  "15": 0,
                  "16": 0,
                  "17": 0,
                  "18": 0,
                  "19": 0,
                  "20": 0,
                  "21": 0,
                  "22": 0,
                  "23": 0,
                  "24": 0,
                  "index": 2,
                  "src": 1,
                  "dst": 68343,
                  "0_weight": 0.5009999871,
                  "1_weight": 0.001,
                  "2_weight": 0.001,
                  "3_weight": 0.001,
                  "4_weight": 0.001,
                  "5_weight": 0.001,
                  "6_weight": 0.001,
                  "7_weight": 0.001,
                  "node_id": 68343,
                  "bin_0": 0,
                  "bin_1": 1,
                  "bin_2": 1,
                  "bin_3": 0,
                  "bin_4": 1,
                  "bin_5": 0,
                  "bin_6": 1,
                  "bin_7": 0,
                  "bin_8": 1,
                  "bin_9": 0,
                  "bin_10": 1,
                  "bin_11": 0,
                  "bin_12": 1,
                  "bin_13": 0,
                  "bin_14": 1,
                  "bin_15": 0,
                  "edge_bin": 0
                },
                {
                  "0": 1,
                  "1": 1,
                  "2": 0,
                  "3": 1,
                  "4": 1,
                  "5": 0,
                  "6": 1,
                  "7": 0,
                  "8": 1,
                  "9": 0,
                  "10": 1,
                  "11": 0,
                  "12": 1,
                  "13": 0,
                  "14": 1,
                  "15": 0,
                  "16": 0,
                  "17": 0,
                  "18": 0,
                  "19": 0,
                  "20": 0,
                  "21": 0,
                  "22": 0,
                  "23": 0,
                  "24": 0,
                  "index": 3,
                  "src": 68343,
                  "dst": 1,
                  "0_weight": 0.5009999871,
                  "1_weight": 0.001,
                  "2_weight": 0.001,
                  "3_weight": 0.001,
                  "4_weight": 0.001,
                  "5_weight": 0.001,
                  "6_weight": 0.001,
                  "7_weight": 0.001,
                  "node_id": 1,
                  "bin_0": 0,
                  "bin_1": 1,
                  "bin_2": 1,
                  "bin_3": 0,
                  "bin_4": 1,
                  "bin_5": 0,
                  "bin_6": 1,
                  "bin_7": 0,
                  "bin_8": 1,
                  "bin_9": 0,
                  "bin_10": 1,
                  "bin_11": 0,
                  "bin_12": 1,
                  "bin_13": 0,
                  "bin_14": 1,
                  "bin_15": 0,
                  "edge_bin": 0
                },
                {
                  "0": null,
                  "1": null,
                  "2": null,
                  "3": null,
                  "4": null,
                  "5": null,
                  "6": null,
                  "7": null,
                  "8": null,
                  "9": null,
                  "10": null,
                  "11": null,
                  "12": null,
                  "13": null,
                  "14": null,
                  "15": null,
                  "16": null,
                  "17": null,
                  "18": null,
                  "19": null,
                  "20": null,
                  "21": null,
                  "22": null,
                  "23": null,
                  "24": null,
                  "index": 4,
                  "src": 1,
                  "dst": 125069,
                  "0_weight": 0.5009999871,
                  "1_weight": 0.001,
                  "2_weight": 0.001,
                  "3_weight": 0.001,
                  "4_weight": 0.001,
                  "5_weight": 0.001,
                  "6_weight": 0.001,
                  "7_weight": 0.001,
                  "node_id": null,
                  "bin_0": 0,
                  "bin_1": 1,
                  "bin_2": 1,
                  "bin_3": 0,
                  "bin_4": 1,
                  "bin_5": 0,
                  "bin_6": 1,
                  "bin_7": 0,
                  "bin_8": 1,
                  "bin_9": 0,
                  "bin_10": 1,
                  "bin_11": 0,
                  "bin_12": 1,
                  "bin_13": 0,
                  "bin_14": 1,
                  "bin_15": 0,
                  "edge_bin": 0
                }
              ]
            }
          },
          "metadata": {
            "bento_obj_id": "140209724843632"
          },
          "execution_count": 23
        }
      ]
    },
    {
      "cell_type": "code",
      "metadata": {
        "originalKey": "3c9017ad-36cd-435d-b79b-d166e940e8e1",
        "showInput": true,
        "customInput": null,
        "collapsed": false,
        "requestMsgId": "3c9017ad-36cd-435d-b79b-d166e940e8e1",
        "executionStartTime": 1680993546614,
        "executionStopTime": 1680993555854
      },
      "source": [
        "relevant_edges = relevant_edges_tmp[[\"src\", \"dst\", \"node_id\", i, 'edge_bin']]\n",
        "relevant_edges.columns = [\"src\", \"dst\",  \"node_id\", \"y\", 'edge_bin']\n",
        "label1 = relevant_edges.groupby([\"src\"])[\"y\"].sum().reset_index()\n",
        "labeltotal = relevant_edges.groupby([\"src\"])[\"y\"].count().reset_index()\n",
        "relevant_edgelist = labeltotal.merge(label1, on=\"src\")\n",
        "relevant_edgelist[\"label_0\"] = relevant_edgelist[\"y_x\"] - relevant_edgelist[\"y_y\"]\n",
        "relevant_edgelist.rename(columns={\"y_y\": \"label_1\"}, inplace=True)\n",
        "relevant_edgelist.drop([\"y_x\"], axis=1, inplace=True)\n",
        "\n",
        "## v0 - linear combination of single layers\n",
        "normalizer = pd.DataFrame(y_train[i].value_counts(normalize=True, ascending=True))\n",
        ""
      ],
      "execution_count": 24,
      "outputs": []
    },
    {
      "cell_type": "code",
      "metadata": {
        "originalKey": "ebe37e4c-feb9-49c9-9f05-94c997f8b2b4",
        "showInput": true,
        "customInput": null,
        "collapsed": false,
        "requestMsgId": "ebe37e4c-feb9-49c9-9f05-94c997f8b2b4",
        "executionStartTime": 1680993555980,
        "executionStopTime": 1680993556082
      },
      "source": [
        "# step 1 - one hop scores\n",
        "step1_one_hop_scores = pd.DataFrame(\n",
        "    {\n",
        "        \"src\": relevant_edgelist.src,\n",
        "        \"frac\": np.log(\n",
        "            (relevant_edgelist[\"label_1\"] + 1) / (relevant_edgelist[\"label_0\"] + 1)\n",
        "        )\n",
        "        * list((normalizer.iloc[0]) / (normalizer.iloc[1]))[0],\n",
        "    }\n",
        ")\n",
        "step1_one_hop_scores.head()"
      ],
      "execution_count": 25,
      "outputs": [
        {
          "output_type": "execute_result",
          "data": {
            "text/plain": "   src      frac\n0    0  0.207797\n1    1  0.294021\n2    2  0.131787\n3    3  0.166201\n4    4  0.185828",
            "text/html": "<div>\n<style scoped>\n    .dataframe tbody tr th:only-of-type {\n        vertical-align: middle;\n    }\n\n    .dataframe tbody tr th {\n        vertical-align: top;\n    }\n\n    .dataframe thead th {\n        text-align: right;\n    }\n</style>\n<table border=\"1\" class=\"dataframe\">\n  <thead>\n    <tr style=\"text-align: right;\">\n      <th></th>\n      <th>src</th>\n      <th>frac</th>\n    </tr>\n  </thead>\n  <tbody>\n    <tr>\n      <th>0</th>\n      <td>0</td>\n      <td>0.207797</td>\n    </tr>\n    <tr>\n      <th>1</th>\n      <td>1</td>\n      <td>0.294021</td>\n    </tr>\n    <tr>\n      <th>2</th>\n      <td>2</td>\n      <td>0.131787</td>\n    </tr>\n    <tr>\n      <th>3</th>\n      <td>3</td>\n      <td>0.166201</td>\n    </tr>\n    <tr>\n      <th>4</th>\n      <td>4</td>\n      <td>0.185828</td>\n    </tr>\n  </tbody>\n</table>\n</div>",
            "application/vnd.dataresource+json": {
              "schema": {
                "fields": [
                  {
                    "name": "index",
                    "type": "integer"
                  },
                  {
                    "name": "src",
                    "type": "integer"
                  },
                  {
                    "name": "frac",
                    "type": "number"
                  }
                ],
                "primaryKey": [
                  "index"
                ],
                "pandas_version": "0.20.0"
              },
              "data": [
                {
                  "index": 0,
                  "src": 0,
                  "frac": 0.2077971108
                },
                {
                  "index": 1,
                  "src": 1,
                  "frac": 0.2940205948
                },
                {
                  "index": 2,
                  "src": 2,
                  "frac": 0.1317873349
                },
                {
                  "index": 3,
                  "src": 3,
                  "frac": 0.1662006266
                },
                {
                  "index": 4,
                  "src": 4,
                  "frac": 0.1858284263
                }
              ]
            }
          },
          "metadata": {
            "bento_obj_id": "140209715208256"
          },
          "execution_count": 25
        }
      ]
    },
    {
      "cell_type": "code",
      "metadata": {
        "originalKey": "dd4c8cdd-ea3c-4203-a634-e88fbf74e8bb",
        "showInput": true,
        "customInput": null,
        "collapsed": false,
        "requestMsgId": "dd4c8cdd-ea3c-4203-a634-e88fbf74e8bb",
        "executionStartTime": 1680993556118,
        "executionStopTime": 1680993591003
      },
      "source": [
        "two_hop_stg_v1 = relevant_edges.merge(\n",
        "        step1_one_hop_scores, left_on=\"dst\", right_on=\"src\", how=\"inner\"\n",
        "    )\n",
        "# two_hop_stg_v2 = relevant_edges.merge(\n",
        "#         step1_one_hop_scores, left_on=\"dst\", right_on=\"src\", how=\"left\"\n",
        "#     )\n",
        "print(np.shape(two_hop_stg_v1))\n",
        "#print(np.shape(two_hop_stg_v2))"
      ],
      "execution_count": 26,
      "outputs": [
        {
          "output_type": "stream",
          "name": "stdout",
          "text": [
            "(79122504, 7)\n"
          ]
        }
      ]
    },
    {
      "cell_type": "code",
      "metadata": {
        "originalKey": "e9fb73aa-dd89-4ea3-a766-0a53b87038c7",
        "showInput": true,
        "customInput": null,
        "collapsed": false,
        "requestMsgId": "e9fb73aa-dd89-4ea3-a766-0a53b87038c7",
        "executionStartTime": 1680993591024,
        "executionStopTime": 1680993591106
      },
      "source": [
        "two_hop_stg_v1.head()"
      ],
      "execution_count": 27,
      "outputs": [
        {
          "output_type": "execute_result",
          "data": {
            "text/plain": "   src_x    dst  node_id   y  edge_bin  src_y      frac\n0      1  96401      NaN NaN         0  96401  1.275379\n1    284  96401      NaN NaN         0  96401  1.275379\n2    371  96401      NaN NaN         0  96401  1.275379\n3    487  96401      NaN NaN         0  96401  1.275379\n4   9133  96401      NaN NaN         0  96401  1.275379",
            "text/html": "<div>\n<style scoped>\n    .dataframe tbody tr th:only-of-type {\n        vertical-align: middle;\n    }\n\n    .dataframe tbody tr th {\n        vertical-align: top;\n    }\n\n    .dataframe thead th {\n        text-align: right;\n    }\n</style>\n<table border=\"1\" class=\"dataframe\">\n  <thead>\n    <tr style=\"text-align: right;\">\n      <th></th>\n      <th>src_x</th>\n      <th>dst</th>\n      <th>node_id</th>\n      <th>y</th>\n      <th>edge_bin</th>\n      <th>src_y</th>\n      <th>frac</th>\n    </tr>\n  </thead>\n  <tbody>\n    <tr>\n      <th>0</th>\n      <td>1</td>\n      <td>96401</td>\n      <td>NaN</td>\n      <td>NaN</td>\n      <td>0</td>\n      <td>96401</td>\n      <td>1.275379</td>\n    </tr>\n    <tr>\n      <th>1</th>\n      <td>284</td>\n      <td>96401</td>\n      <td>NaN</td>\n      <td>NaN</td>\n      <td>0</td>\n      <td>96401</td>\n      <td>1.275379</td>\n    </tr>\n    <tr>\n      <th>2</th>\n      <td>371</td>\n      <td>96401</td>\n      <td>NaN</td>\n      <td>NaN</td>\n      <td>0</td>\n      <td>96401</td>\n      <td>1.275379</td>\n    </tr>\n    <tr>\n      <th>3</th>\n      <td>487</td>\n      <td>96401</td>\n      <td>NaN</td>\n      <td>NaN</td>\n      <td>0</td>\n      <td>96401</td>\n      <td>1.275379</td>\n    </tr>\n    <tr>\n      <th>4</th>\n      <td>9133</td>\n      <td>96401</td>\n      <td>NaN</td>\n      <td>NaN</td>\n      <td>0</td>\n      <td>96401</td>\n      <td>1.275379</td>\n    </tr>\n  </tbody>\n</table>\n</div>",
            "application/vnd.dataresource+json": {
              "schema": {
                "fields": [
                  {
                    "name": "index",
                    "type": "integer"
                  },
                  {
                    "name": "src_x",
                    "type": "integer"
                  },
                  {
                    "name": "dst",
                    "type": "integer"
                  },
                  {
                    "name": "node_id",
                    "type": "number"
                  },
                  {
                    "name": "y",
                    "type": "number"
                  },
                  {
                    "name": "edge_bin",
                    "type": "integer"
                  },
                  {
                    "name": "src_y",
                    "type": "integer"
                  },
                  {
                    "name": "frac",
                    "type": "number"
                  }
                ],
                "primaryKey": [
                  "index"
                ],
                "pandas_version": "0.20.0"
              },
              "data": [
                {
                  "index": 0,
                  "src_x": 1,
                  "dst": 96401,
                  "node_id": null,
                  "y": null,
                  "edge_bin": 0,
                  "src_y": 96401,
                  "frac": 1.2753793347
                },
                {
                  "index": 1,
                  "src_x": 284,
                  "dst": 96401,
                  "node_id": null,
                  "y": null,
                  "edge_bin": 0,
                  "src_y": 96401,
                  "frac": 1.2753793347
                },
                {
                  "index": 2,
                  "src_x": 371,
                  "dst": 96401,
                  "node_id": null,
                  "y": null,
                  "edge_bin": 0,
                  "src_y": 96401,
                  "frac": 1.2753793347
                },
                {
                  "index": 3,
                  "src_x": 487,
                  "dst": 96401,
                  "node_id": null,
                  "y": null,
                  "edge_bin": 0,
                  "src_y": 96401,
                  "frac": 1.2753793347
                },
                {
                  "index": 4,
                  "src_x": 9133,
                  "dst": 96401,
                  "node_id": null,
                  "y": null,
                  "edge_bin": 0,
                  "src_y": 96401,
                  "frac": 1.2753793347
                }
              ]
            }
          },
          "metadata": {
            "bento_obj_id": "140209719459648"
          },
          "execution_count": 27
        }
      ]
    },
    {
      "cell_type": "code",
      "metadata": {
        "originalKey": "56a54944-af9a-43fb-aee0-081a0aa2e236",
        "showInput": true,
        "customInput": null,
        "collapsed": false,
        "requestMsgId": "56a54944-af9a-43fb-aee0-081a0aa2e236",
        "executionStartTime": 1680993591257,
        "executionStopTime": 1680993632042
      },
      "source": [
        "two_hop_stg = two_hop_stg_v1.groupby(['src_x','edge_bin'])['frac'].sum().reset_index()"
      ],
      "execution_count": 28,
      "outputs": []
    },
    {
      "cell_type": "code",
      "metadata": {
        "originalKey": "725c4cbf-7565-4041-a9a7-e956234a29b3",
        "showInput": true,
        "customInput": null,
        "collapsed": false,
        "requestMsgId": "725c4cbf-7565-4041-a9a7-e956234a29b3",
        "executionStartTime": 1680993632203,
        "executionStopTime": 1680993632291
      },
      "source": [
        "two_hop_stg.head()"
      ],
      "execution_count": 29,
      "outputs": [
        {
          "output_type": "execute_result",
          "data": {
            "text/plain": "   src_x  edge_bin       frac\n0      0         1  20.956694\n1      0         2  38.201311\n2      0         3   2.658399\n3      0         4  12.377579\n4      0         5   3.625885",
            "text/html": "<div>\n<style scoped>\n    .dataframe tbody tr th:only-of-type {\n        vertical-align: middle;\n    }\n\n    .dataframe tbody tr th {\n        vertical-align: top;\n    }\n\n    .dataframe thead th {\n        text-align: right;\n    }\n</style>\n<table border=\"1\" class=\"dataframe\">\n  <thead>\n    <tr style=\"text-align: right;\">\n      <th></th>\n      <th>src_x</th>\n      <th>edge_bin</th>\n      <th>frac</th>\n    </tr>\n  </thead>\n  <tbody>\n    <tr>\n      <th>0</th>\n      <td>0</td>\n      <td>1</td>\n      <td>20.956694</td>\n    </tr>\n    <tr>\n      <th>1</th>\n      <td>0</td>\n      <td>2</td>\n      <td>38.201311</td>\n    </tr>\n    <tr>\n      <th>2</th>\n      <td>0</td>\n      <td>3</td>\n      <td>2.658399</td>\n    </tr>\n    <tr>\n      <th>3</th>\n      <td>0</td>\n      <td>4</td>\n      <td>12.377579</td>\n    </tr>\n    <tr>\n      <th>4</th>\n      <td>0</td>\n      <td>5</td>\n      <td>3.625885</td>\n    </tr>\n  </tbody>\n</table>\n</div>",
            "application/vnd.dataresource+json": {
              "schema": {
                "fields": [
                  {
                    "name": "index",
                    "type": "integer"
                  },
                  {
                    "name": "src_x",
                    "type": "integer"
                  },
                  {
                    "name": "edge_bin",
                    "type": "integer"
                  },
                  {
                    "name": "frac",
                    "type": "number"
                  }
                ],
                "primaryKey": [
                  "index"
                ],
                "pandas_version": "0.20.0"
              },
              "data": [
                {
                  "index": 0,
                  "src_x": 0,
                  "edge_bin": 1,
                  "frac": 20.9566937776
                },
                {
                  "index": 1,
                  "src_x": 0,
                  "edge_bin": 2,
                  "frac": 38.2013114024
                },
                {
                  "index": 2,
                  "src_x": 0,
                  "edge_bin": 3,
                  "frac": 2.6583993306
                },
                {
                  "index": 3,
                  "src_x": 0,
                  "edge_bin": 4,
                  "frac": 12.3775787441
                },
                {
                  "index": 4,
                  "src_x": 0,
                  "edge_bin": 5,
                  "frac": 3.6258849888
                }
              ]
            }
          },
          "metadata": {
            "bento_obj_id": "140209706383296"
          },
          "execution_count": 29
        }
      ]
    },
    {
      "cell_type": "code",
      "metadata": {
        "originalKey": "3f24b613-b09a-4123-b3b1-b072cb293fc3",
        "showInput": true,
        "customInput": null,
        "collapsed": false,
        "requestMsgId": "3f24b613-b09a-4123-b3b1-b072cb293fc3",
        "executionStartTime": 1680993632385,
        "executionStopTime": 1680993634694
      },
      "source": [
        "two_hop_v1 = pd.pivot_table(two_hop_stg, values = 'frac', columns = 'edge_bin', index = 'src_x').reset_index().fillna(0)"
      ],
      "execution_count": 30,
      "outputs": []
    },
    {
      "cell_type": "code",
      "metadata": {
        "originalKey": "044f5dd5-cf28-4b5b-a403-e704767eb62e",
        "showInput": true,
        "customInput": null,
        "collapsed": false,
        "requestMsgId": "044f5dd5-cf28-4b5b-a403-e704767eb62e",
        "executionStartTime": 1680993634814,
        "executionStopTime": 1680993635001
      },
      "source": [
        "two_hop_v1.head()"
      ],
      "execution_count": 31,
      "outputs": [
        {
          "output_type": "execute_result",
          "data": {
            "text/plain": "edge_bin  src_x          0          1          2  ...  124  125  126  127\n0             0   0.000000  20.956694  38.201311  ...  0.0  0.0  0.0  0.0\n1             1  47.555294  61.555894  22.527569  ...  0.0  0.0  0.0  0.0\n2             2   0.000000   0.000000   0.808963  ...  0.0  0.0  0.0  0.0\n3             3   0.000000  23.217864  31.211781  ...  0.0  0.0  0.0  0.0\n4             4   5.218455  45.893028  52.656220  ...  0.0  0.0  0.0  0.0\n\n[5 rows x 129 columns]",
            "text/html": "<div>\n<style scoped>\n    .dataframe tbody tr th:only-of-type {\n        vertical-align: middle;\n    }\n\n    .dataframe tbody tr th {\n        vertical-align: top;\n    }\n\n    .dataframe thead th {\n        text-align: right;\n    }\n</style>\n<table border=\"1\" class=\"dataframe\">\n  <thead>\n    <tr style=\"text-align: right;\">\n      <th>edge_bin</th>\n      <th>src_x</th>\n      <th>0</th>\n      <th>1</th>\n      <th>2</th>\n      <th>3</th>\n      <th>4</th>\n      <th>5</th>\n      <th>6</th>\n      <th>7</th>\n      <th>8</th>\n      <th>9</th>\n      <th>10</th>\n      <th>11</th>\n      <th>12</th>\n      <th>13</th>\n      <th>14</th>\n      <th>15</th>\n      <th>16</th>\n      <th>17</th>\n      <th>18</th>\n      <th>19</th>\n      <th>20</th>\n      <th>21</th>\n      <th>22</th>\n      <th>23</th>\n      <th>24</th>\n      <th>25</th>\n      <th>26</th>\n      <th>27</th>\n      <th>28</th>\n      <th>29</th>\n      <th>30</th>\n      <th>31</th>\n      <th>32</th>\n      <th>33</th>\n      <th>34</th>\n      <th>35</th>\n      <th>36</th>\n      <th>37</th>\n      <th>38</th>\n      <th>...</th>\n      <th>88</th>\n      <th>89</th>\n      <th>90</th>\n      <th>91</th>\n      <th>92</th>\n      <th>93</th>\n      <th>94</th>\n      <th>95</th>\n      <th>96</th>\n      <th>97</th>\n      <th>98</th>\n      <th>99</th>\n      <th>100</th>\n      <th>101</th>\n      <th>102</th>\n      <th>103</th>\n      <th>104</th>\n      <th>105</th>\n      <th>106</th>\n      <th>107</th>\n      <th>108</th>\n      <th>109</th>\n      <th>110</th>\n      <th>111</th>\n      <th>112</th>\n      <th>113</th>\n      <th>114</th>\n      <th>115</th>\n      <th>116</th>\n      <th>117</th>\n      <th>118</th>\n      <th>119</th>\n      <th>120</th>\n      <th>121</th>\n      <th>122</th>\n      <th>123</th>\n      <th>124</th>\n      <th>125</th>\n      <th>126</th>\n      <th>127</th>\n    </tr>\n  </thead>\n  <tbody>\n    <tr>\n      <th>0</th>\n      <td>0</td>\n      <td>0.000000</td>\n      <td>20.956694</td>\n      <td>38.201311</td>\n      <td>2.658399</td>\n      <td>12.377579</td>\n      <td>3.625885</td>\n      <td>0.181446</td>\n      <td>0.496700</td>\n      <td>0.000000</td>\n      <td>0.0</td>\n      <td>0.0</td>\n      <td>0.000000</td>\n      <td>0.0</td>\n      <td>0.0</td>\n      <td>0.0</td>\n      <td>0.000000</td>\n      <td>0.0</td>\n      <td>0.0</td>\n      <td>0.000000</td>\n      <td>0.000000</td>\n      <td>0.000000</td>\n      <td>0.000000</td>\n      <td>0.000000</td>\n      <td>0.0</td>\n      <td>0.0</td>\n      <td>0.0</td>\n      <td>0.0</td>\n      <td>0.0</td>\n      <td>0.0</td>\n      <td>0.0</td>\n      <td>0.0</td>\n      <td>0.0</td>\n      <td>0.0</td>\n      <td>0.0</td>\n      <td>0.0</td>\n      <td>0.000000</td>\n      <td>0.0</td>\n      <td>0.000000</td>\n      <td>0.0</td>\n      <td>...</td>\n      <td>0.0</td>\n      <td>0.0</td>\n      <td>0.0</td>\n      <td>0.0</td>\n      <td>0.0</td>\n      <td>0.0</td>\n      <td>0.0</td>\n      <td>0.0</td>\n      <td>0.0</td>\n      <td>0.0</td>\n      <td>0.0</td>\n      <td>0.0</td>\n      <td>0.0</td>\n      <td>0.0</td>\n      <td>0.0</td>\n      <td>0.0</td>\n      <td>0.0</td>\n      <td>0.0</td>\n      <td>0.0</td>\n      <td>0.0</td>\n      <td>0.0</td>\n      <td>0.0</td>\n      <td>0.0</td>\n      <td>0.0</td>\n      <td>0.0</td>\n      <td>0.0</td>\n      <td>0.0</td>\n      <td>0.0</td>\n      <td>0.0</td>\n      <td>0.0</td>\n      <td>0.0</td>\n      <td>0.0</td>\n      <td>0.0</td>\n      <td>0.0</td>\n      <td>0.0</td>\n      <td>0.0</td>\n      <td>0.0</td>\n      <td>0.0</td>\n      <td>0.0</td>\n      <td>0.0</td>\n    </tr>\n    <tr>\n      <th>1</th>\n      <td>1</td>\n      <td>47.555294</td>\n      <td>61.555894</td>\n      <td>22.527569</td>\n      <td>16.083484</td>\n      <td>2.597964</td>\n      <td>4.975264</td>\n      <td>46.172649</td>\n      <td>13.541151</td>\n      <td>2.981349</td>\n      <td>0.0</td>\n      <td>0.0</td>\n      <td>1.960599</td>\n      <td>0.0</td>\n      <td>0.0</td>\n      <td>0.0</td>\n      <td>0.000000</td>\n      <td>0.0</td>\n      <td>0.0</td>\n      <td>0.000000</td>\n      <td>0.000000</td>\n      <td>0.000000</td>\n      <td>0.000000</td>\n      <td>0.000000</td>\n      <td>0.0</td>\n      <td>0.0</td>\n      <td>0.0</td>\n      <td>0.0</td>\n      <td>0.0</td>\n      <td>0.0</td>\n      <td>0.0</td>\n      <td>0.0</td>\n      <td>0.0</td>\n      <td>0.0</td>\n      <td>0.0</td>\n      <td>0.0</td>\n      <td>0.000000</td>\n      <td>0.0</td>\n      <td>0.000000</td>\n      <td>0.0</td>\n      <td>...</td>\n      <td>0.0</td>\n      <td>0.0</td>\n      <td>0.0</td>\n      <td>0.0</td>\n      <td>0.0</td>\n      <td>0.0</td>\n      <td>0.0</td>\n      <td>0.0</td>\n      <td>0.0</td>\n      <td>0.0</td>\n      <td>0.0</td>\n      <td>0.0</td>\n      <td>0.0</td>\n      <td>0.0</td>\n      <td>0.0</td>\n      <td>0.0</td>\n      <td>0.0</td>\n      <td>0.0</td>\n      <td>0.0</td>\n      <td>0.0</td>\n      <td>0.0</td>\n      <td>0.0</td>\n      <td>0.0</td>\n      <td>0.0</td>\n      <td>0.0</td>\n      <td>0.0</td>\n      <td>0.0</td>\n      <td>0.0</td>\n      <td>0.0</td>\n      <td>0.0</td>\n      <td>0.0</td>\n      <td>0.0</td>\n      <td>0.0</td>\n      <td>0.0</td>\n      <td>0.0</td>\n      <td>0.0</td>\n      <td>0.0</td>\n      <td>0.0</td>\n      <td>0.0</td>\n      <td>0.0</td>\n    </tr>\n    <tr>\n      <th>2</th>\n      <td>2</td>\n      <td>0.000000</td>\n      <td>0.000000</td>\n      <td>0.808963</td>\n      <td>0.000000</td>\n      <td>0.000000</td>\n      <td>0.000000</td>\n      <td>0.000000</td>\n      <td>0.000000</td>\n      <td>0.000000</td>\n      <td>0.0</td>\n      <td>0.0</td>\n      <td>0.000000</td>\n      <td>0.0</td>\n      <td>0.0</td>\n      <td>0.0</td>\n      <td>0.000000</td>\n      <td>0.0</td>\n      <td>0.0</td>\n      <td>0.000000</td>\n      <td>0.000000</td>\n      <td>0.000000</td>\n      <td>0.000000</td>\n      <td>0.000000</td>\n      <td>0.0</td>\n      <td>0.0</td>\n      <td>0.0</td>\n      <td>0.0</td>\n      <td>0.0</td>\n      <td>0.0</td>\n      <td>0.0</td>\n      <td>0.0</td>\n      <td>0.0</td>\n      <td>0.0</td>\n      <td>0.0</td>\n      <td>0.0</td>\n      <td>0.000000</td>\n      <td>0.0</td>\n      <td>0.000000</td>\n      <td>0.0</td>\n      <td>...</td>\n      <td>0.0</td>\n      <td>0.0</td>\n      <td>0.0</td>\n      <td>0.0</td>\n      <td>0.0</td>\n      <td>0.0</td>\n      <td>0.0</td>\n      <td>0.0</td>\n      <td>0.0</td>\n      <td>0.0</td>\n      <td>0.0</td>\n      <td>0.0</td>\n      <td>0.0</td>\n      <td>0.0</td>\n      <td>0.0</td>\n      <td>0.0</td>\n      <td>0.0</td>\n      <td>0.0</td>\n      <td>0.0</td>\n      <td>0.0</td>\n      <td>0.0</td>\n      <td>0.0</td>\n      <td>0.0</td>\n      <td>0.0</td>\n      <td>0.0</td>\n      <td>0.0</td>\n      <td>0.0</td>\n      <td>0.0</td>\n      <td>0.0</td>\n      <td>0.0</td>\n      <td>0.0</td>\n      <td>0.0</td>\n      <td>0.0</td>\n      <td>0.0</td>\n      <td>0.0</td>\n      <td>0.0</td>\n      <td>0.0</td>\n      <td>0.0</td>\n      <td>0.0</td>\n      <td>0.0</td>\n    </tr>\n    <tr>\n      <th>3</th>\n      <td>3</td>\n      <td>0.000000</td>\n      <td>23.217864</td>\n      <td>31.211781</td>\n      <td>1.522823</td>\n      <td>2.285386</td>\n      <td>0.000000</td>\n      <td>0.389828</td>\n      <td>0.000000</td>\n      <td>0.000000</td>\n      <td>0.0</td>\n      <td>0.0</td>\n      <td>0.000000</td>\n      <td>0.0</td>\n      <td>0.0</td>\n      <td>0.0</td>\n      <td>0.000000</td>\n      <td>0.0</td>\n      <td>0.0</td>\n      <td>0.000000</td>\n      <td>0.000000</td>\n      <td>0.408771</td>\n      <td>0.000000</td>\n      <td>0.000000</td>\n      <td>0.0</td>\n      <td>0.0</td>\n      <td>0.0</td>\n      <td>0.0</td>\n      <td>0.0</td>\n      <td>0.0</td>\n      <td>0.0</td>\n      <td>0.0</td>\n      <td>0.0</td>\n      <td>0.0</td>\n      <td>0.0</td>\n      <td>0.0</td>\n      <td>0.560364</td>\n      <td>0.0</td>\n      <td>0.000000</td>\n      <td>0.0</td>\n      <td>...</td>\n      <td>0.0</td>\n      <td>0.0</td>\n      <td>0.0</td>\n      <td>0.0</td>\n      <td>0.0</td>\n      <td>0.0</td>\n      <td>0.0</td>\n      <td>0.0</td>\n      <td>0.0</td>\n      <td>0.0</td>\n      <td>0.0</td>\n      <td>0.0</td>\n      <td>0.0</td>\n      <td>0.0</td>\n      <td>0.0</td>\n      <td>0.0</td>\n      <td>0.0</td>\n      <td>0.0</td>\n      <td>0.0</td>\n      <td>0.0</td>\n      <td>0.0</td>\n      <td>0.0</td>\n      <td>0.0</td>\n      <td>0.0</td>\n      <td>0.0</td>\n      <td>0.0</td>\n      <td>0.0</td>\n      <td>0.0</td>\n      <td>0.0</td>\n      <td>0.0</td>\n      <td>0.0</td>\n      <td>0.0</td>\n      <td>0.0</td>\n      <td>0.0</td>\n      <td>0.0</td>\n      <td>0.0</td>\n      <td>0.0</td>\n      <td>0.0</td>\n      <td>0.0</td>\n      <td>0.0</td>\n    </tr>\n    <tr>\n      <th>4</th>\n      <td>4</td>\n      <td>5.218455</td>\n      <td>45.893028</td>\n      <td>52.656220</td>\n      <td>11.893236</td>\n      <td>0.974204</td>\n      <td>9.954235</td>\n      <td>10.323941</td>\n      <td>4.488401</td>\n      <td>0.394630</td>\n      <td>0.0</td>\n      <td>0.0</td>\n      <td>0.000000</td>\n      <td>0.0</td>\n      <td>0.0</td>\n      <td>0.0</td>\n      <td>1.391052</td>\n      <td>0.0</td>\n      <td>0.0</td>\n      <td>7.620328</td>\n      <td>5.186014</td>\n      <td>0.000000</td>\n      <td>10.845732</td>\n      <td>24.930472</td>\n      <td>0.0</td>\n      <td>0.0</td>\n      <td>0.0</td>\n      <td>0.0</td>\n      <td>0.0</td>\n      <td>0.0</td>\n      <td>0.0</td>\n      <td>0.0</td>\n      <td>0.0</td>\n      <td>0.0</td>\n      <td>0.0</td>\n      <td>0.0</td>\n      <td>0.000000</td>\n      <td>0.0</td>\n      <td>9.354629</td>\n      <td>0.0</td>\n      <td>...</td>\n      <td>0.0</td>\n      <td>0.0</td>\n      <td>0.0</td>\n      <td>0.0</td>\n      <td>0.0</td>\n      <td>0.0</td>\n      <td>0.0</td>\n      <td>0.0</td>\n      <td>0.0</td>\n      <td>0.0</td>\n      <td>0.0</td>\n      <td>0.0</td>\n      <td>0.0</td>\n      <td>0.0</td>\n      <td>0.0</td>\n      <td>0.0</td>\n      <td>0.0</td>\n      <td>0.0</td>\n      <td>0.0</td>\n      <td>0.0</td>\n      <td>0.0</td>\n      <td>0.0</td>\n      <td>0.0</td>\n      <td>0.0</td>\n      <td>0.0</td>\n      <td>0.0</td>\n      <td>0.0</td>\n      <td>0.0</td>\n      <td>0.0</td>\n      <td>0.0</td>\n      <td>0.0</td>\n      <td>0.0</td>\n      <td>0.0</td>\n      <td>0.0</td>\n      <td>0.0</td>\n      <td>0.0</td>\n      <td>0.0</td>\n      <td>0.0</td>\n      <td>0.0</td>\n      <td>0.0</td>\n    </tr>\n  </tbody>\n</table>\n<p>5 rows × 129 columns</p>\n</div>",
            "application/vnd.dataresource+json": {
              "schema": {
                "fields": [
                  {
                    "name": "index",
                    "type": "integer"
                  },
                  {
                    "name": "src_x",
                    "type": "integer"
                  },
                  {
                    "name": 0,
                    "type": "number"
                  },
                  {
                    "name": 1,
                    "type": "number"
                  },
                  {
                    "name": 2,
                    "type": "number"
                  },
                  {
                    "name": 3,
                    "type": "number"
                  },
                  {
                    "name": 4,
                    "type": "number"
                  },
                  {
                    "name": 5,
                    "type": "number"
                  },
                  {
                    "name": 6,
                    "type": "number"
                  },
                  {
                    "name": 7,
                    "type": "number"
                  },
                  {
                    "name": 8,
                    "type": "number"
                  },
                  {
                    "name": 9,
                    "type": "number"
                  },
                  {
                    "name": 10,
                    "type": "number"
                  },
                  {
                    "name": 11,
                    "type": "number"
                  },
                  {
                    "name": 12,
                    "type": "number"
                  },
                  {
                    "name": 13,
                    "type": "number"
                  },
                  {
                    "name": 14,
                    "type": "number"
                  },
                  {
                    "name": 15,
                    "type": "number"
                  },
                  {
                    "name": 16,
                    "type": "number"
                  },
                  {
                    "name": 17,
                    "type": "number"
                  },
                  {
                    "name": 18,
                    "type": "number"
                  },
                  {
                    "name": 19,
                    "type": "number"
                  },
                  {
                    "name": 20,
                    "type": "number"
                  },
                  {
                    "name": 21,
                    "type": "number"
                  },
                  {
                    "name": 22,
                    "type": "number"
                  },
                  {
                    "name": 23,
                    "type": "number"
                  },
                  {
                    "name": 24,
                    "type": "number"
                  },
                  {
                    "name": 25,
                    "type": "number"
                  },
                  {
                    "name": 26,
                    "type": "number"
                  },
                  {
                    "name": 27,
                    "type": "number"
                  },
                  {
                    "name": 28,
                    "type": "number"
                  },
                  {
                    "name": 29,
                    "type": "number"
                  },
                  {
                    "name": 30,
                    "type": "number"
                  },
                  {
                    "name": 31,
                    "type": "number"
                  },
                  {
                    "name": 32,
                    "type": "number"
                  },
                  {
                    "name": 33,
                    "type": "number"
                  },
                  {
                    "name": 34,
                    "type": "number"
                  },
                  {
                    "name": 35,
                    "type": "number"
                  },
                  {
                    "name": 36,
                    "type": "number"
                  },
                  {
                    "name": 37,
                    "type": "number"
                  },
                  {
                    "name": 38,
                    "type": "number"
                  },
                  {
                    "name": 39,
                    "type": "number"
                  },
                  {
                    "name": 40,
                    "type": "number"
                  },
                  {
                    "name": 41,
                    "type": "number"
                  },
                  {
                    "name": 42,
                    "type": "number"
                  },
                  {
                    "name": 43,
                    "type": "number"
                  },
                  {
                    "name": 44,
                    "type": "number"
                  },
                  {
                    "name": 45,
                    "type": "number"
                  },
                  {
                    "name": 46,
                    "type": "number"
                  },
                  {
                    "name": 47,
                    "type": "number"
                  },
                  {
                    "name": 48,
                    "type": "number"
                  },
                  {
                    "name": 49,
                    "type": "number"
                  },
                  {
                    "name": 50,
                    "type": "number"
                  },
                  {
                    "name": 51,
                    "type": "number"
                  },
                  {
                    "name": 52,
                    "type": "number"
                  },
                  {
                    "name": 53,
                    "type": "number"
                  },
                  {
                    "name": 54,
                    "type": "number"
                  },
                  {
                    "name": 55,
                    "type": "number"
                  },
                  {
                    "name": 56,
                    "type": "number"
                  },
                  {
                    "name": 57,
                    "type": "number"
                  },
                  {
                    "name": 58,
                    "type": "number"
                  },
                  {
                    "name": 59,
                    "type": "number"
                  },
                  {
                    "name": 60,
                    "type": "number"
                  },
                  {
                    "name": 61,
                    "type": "number"
                  },
                  {
                    "name": 62,
                    "type": "number"
                  },
                  {
                    "name": 63,
                    "type": "number"
                  },
                  {
                    "name": 64,
                    "type": "number"
                  },
                  {
                    "name": 65,
                    "type": "number"
                  },
                  {
                    "name": 66,
                    "type": "number"
                  },
                  {
                    "name": 67,
                    "type": "number"
                  },
                  {
                    "name": 68,
                    "type": "number"
                  },
                  {
                    "name": 69,
                    "type": "number"
                  },
                  {
                    "name": 70,
                    "type": "number"
                  },
                  {
                    "name": 71,
                    "type": "number"
                  },
                  {
                    "name": 72,
                    "type": "number"
                  },
                  {
                    "name": 73,
                    "type": "number"
                  },
                  {
                    "name": 74,
                    "type": "number"
                  },
                  {
                    "name": 75,
                    "type": "number"
                  },
                  {
                    "name": 76,
                    "type": "number"
                  },
                  {
                    "name": 77,
                    "type": "number"
                  },
                  {
                    "name": 78,
                    "type": "number"
                  },
                  {
                    "name": 79,
                    "type": "number"
                  },
                  {
                    "name": 80,
                    "type": "number"
                  },
                  {
                    "name": 81,
                    "type": "number"
                  },
                  {
                    "name": 82,
                    "type": "number"
                  },
                  {
                    "name": 83,
                    "type": "number"
                  },
                  {
                    "name": 84,
                    "type": "number"
                  },
                  {
                    "name": 85,
                    "type": "number"
                  },
                  {
                    "name": 86,
                    "type": "number"
                  },
                  {
                    "name": 87,
                    "type": "number"
                  },
                  {
                    "name": 88,
                    "type": "number"
                  },
                  {
                    "name": 89,
                    "type": "number"
                  },
                  {
                    "name": 90,
                    "type": "number"
                  },
                  {
                    "name": 91,
                    "type": "number"
                  },
                  {
                    "name": 92,
                    "type": "number"
                  },
                  {
                    "name": 93,
                    "type": "number"
                  },
                  {
                    "name": 94,
                    "type": "number"
                  },
                  {
                    "name": 95,
                    "type": "number"
                  },
                  {
                    "name": 96,
                    "type": "number"
                  },
                  {
                    "name": 97,
                    "type": "number"
                  },
                  {
                    "name": 98,
                    "type": "number"
                  },
                  {
                    "name": 99,
                    "type": "number"
                  },
                  {
                    "name": 100,
                    "type": "number"
                  },
                  {
                    "name": 101,
                    "type": "number"
                  },
                  {
                    "name": 102,
                    "type": "number"
                  },
                  {
                    "name": 103,
                    "type": "number"
                  },
                  {
                    "name": 104,
                    "type": "number"
                  },
                  {
                    "name": 105,
                    "type": "number"
                  },
                  {
                    "name": 106,
                    "type": "number"
                  },
                  {
                    "name": 107,
                    "type": "number"
                  },
                  {
                    "name": 108,
                    "type": "number"
                  },
                  {
                    "name": 109,
                    "type": "number"
                  },
                  {
                    "name": 110,
                    "type": "number"
                  },
                  {
                    "name": 111,
                    "type": "number"
                  },
                  {
                    "name": 112,
                    "type": "number"
                  },
                  {
                    "name": 113,
                    "type": "number"
                  },
                  {
                    "name": 114,
                    "type": "number"
                  },
                  {
                    "name": 115,
                    "type": "number"
                  },
                  {
                    "name": 116,
                    "type": "number"
                  },
                  {
                    "name": 117,
                    "type": "number"
                  },
                  {
                    "name": 118,
                    "type": "number"
                  },
                  {
                    "name": 119,
                    "type": "number"
                  },
                  {
                    "name": 120,
                    "type": "number"
                  },
                  {
                    "name": 121,
                    "type": "number"
                  },
                  {
                    "name": 122,
                    "type": "number"
                  },
                  {
                    "name": 123,
                    "type": "number"
                  },
                  {
                    "name": 124,
                    "type": "number"
                  },
                  {
                    "name": 125,
                    "type": "number"
                  },
                  {
                    "name": 126,
                    "type": "number"
                  },
                  {
                    "name": 127,
                    "type": "number"
                  }
                ],
                "primaryKey": [
                  "index"
                ],
                "pandas_version": "0.20.0"
              },
              "data": [
                {
                  "0": 0,
                  "1": 20.9566937776,
                  "2": 38.2013114024,
                  "3": 2.6583993306,
                  "4": 12.3775787441,
                  "5": 3.6258849888,
                  "6": 0.1814463542,
                  "7": 0.4967002426,
                  "8": 0,
                  "9": 0,
                  "10": 0,
                  "11": 0,
                  "12": 0,
                  "13": 0,
                  "14": 0,
                  "15": 0,
                  "16": 0,
                  "17": 0,
                  "18": 0,
                  "19": 0,
                  "20": 0,
                  "21": 0,
                  "22": 0,
                  "23": 0,
                  "24": 0,
                  "25": 0,
                  "26": 0,
                  "27": 0,
                  "28": 0,
                  "29": 0,
                  "30": 0,
                  "31": 0,
                  "32": 0,
                  "33": 0,
                  "34": 0,
                  "35": 0,
                  "36": 0,
                  "37": 0,
                  "38": 0,
                  "39": 0,
                  "40": 0,
                  "41": 0,
                  "42": 0,
                  "43": 0,
                  "44": 0,
                  "45": 0,
                  "46": 0,
                  "47": 0,
                  "48": 0,
                  "49": 0,
                  "50": 0,
                  "51": 0,
                  "52": 0,
                  "53": 0,
                  "54": 0,
                  "55": 0,
                  "56": 0,
                  "57": 0,
                  "58": 0,
                  "59": 0,
                  "60": 0,
                  "61": 0,
                  "62": 0,
                  "63": 0,
                  "64": 0,
                  "65": 0,
                  "66": 0,
                  "67": 0,
                  "68": 0,
                  "69": 0,
                  "70": 0,
                  "71": 0,
                  "72": 0,
                  "73": 0,
                  "74": 0,
                  "75": 0,
                  "76": 0,
                  "77": 0,
                  "78": 0,
                  "79": 0,
                  "80": 0,
                  "81": 0,
                  "82": 0,
                  "83": 0,
                  "84": 0,
                  "85": 0,
                  "86": 0,
                  "87": 0,
                  "88": 0,
                  "89": 0,
                  "90": 0,
                  "91": 0,
                  "92": 0,
                  "93": 0,
                  "94": 0,
                  "95": 0,
                  "96": 0,
                  "97": 0,
                  "98": 0,
                  "99": 0,
                  "100": 0,
                  "101": 0,
                  "102": 0,
                  "103": 0,
                  "104": 0,
                  "105": 0,
                  "106": 0,
                  "107": 0,
                  "108": 0,
                  "109": 0,
                  "110": 0,
                  "111": 0,
                  "112": 0,
                  "113": 0,
                  "114": 0,
                  "115": 0,
                  "116": 0,
                  "117": 0,
                  "118": 0,
                  "119": 0,
                  "120": 0,
                  "121": 0,
                  "122": 0,
                  "123": 0,
                  "124": 0,
                  "125": 0,
                  "126": 0,
                  "127": 0,
                  "index": 0,
                  "src_x": 0
                },
                {
                  "0": 47.5552935352,
                  "1": 61.5558936784,
                  "2": 22.5275685043,
                  "3": 16.083484168,
                  "4": 2.5979636512,
                  "5": 4.9752635734,
                  "6": 46.1726490947,
                  "7": 13.5411507992,
                  "8": 2.9813494538,
                  "9": 0,
                  "10": 0,
                  "11": 1.9605990489,
                  "12": 0,
                  "13": 0,
                  "14": 0,
                  "15": 0,
                  "16": 0,
                  "17": 0,
                  "18": 0,
                  "19": 0,
                  "20": 0,
                  "21": 0,
                  "22": 0,
                  "23": 0,
                  "24": 0,
                  "25": 0,
                  "26": 0,
                  "27": 0,
                  "28": 0,
                  "29": 0,
                  "30": 0,
                  "31": 0,
                  "32": 0,
                  "33": 0,
                  "34": 0,
                  "35": 0,
                  "36": 0,
                  "37": 0,
                  "38": 0,
                  "39": 0,
                  "40": 0,
                  "41": 0,
                  "42": 0,
                  "43": 0,
                  "44": 0,
                  "45": 0,
                  "46": 0,
                  "47": 0,
                  "48": 0,
                  "49": 0,
                  "50": 0,
                  "51": 0,
                  "52": 0,
                  "53": 0,
                  "54": 0,
                  "55": 0,
                  "56": 0,
                  "57": 0,
                  "58": 0,
                  "59": 0,
                  "60": 0,
                  "61": 0,
                  "62": 0,
                  "63": 0,
                  "64": 0,
                  "65": 0,
                  "66": 0,
                  "67": 0,
                  "68": 0,
                  "69": 0,
                  "70": 0,
                  "71": 0,
                  "72": 0,
                  "73": 0,
                  "74": 0,
                  "75": 0,
                  "76": 0,
                  "77": 0,
                  "78": 0,
                  "79": 0,
                  "80": 0,
                  "81": 0,
                  "82": 0,
                  "83": 0,
                  "84": 0,
                  "85": 0,
                  "86": 0,
                  "87": 0,
                  "88": 0,
                  "89": 0,
                  "90": 0,
                  "91": 0,
                  "92": 0,
                  "93": 0,
                  "94": 0,
                  "95": 0,
                  "96": 0,
                  "97": 0,
                  "98": 0,
                  "99": 0,
                  "100": 0,
                  "101": 0,
                  "102": 0,
                  "103": 0,
                  "104": 0,
                  "105": 0,
                  "106": 0,
                  "107": 0,
                  "108": 0,
                  "109": 0,
                  "110": 0,
                  "111": 0,
                  "112": 0,
                  "113": 0,
                  "114": 0,
                  "115": 0,
                  "116": 0,
                  "117": 0,
                  "118": 0,
                  "119": 0,
                  "120": 0,
                  "121": 0,
                  "122": 0,
                  "123": 0,
                  "124": 0,
                  "125": 0,
                  "126": 0,
                  "127": 0,
                  "index": 1,
                  "src_x": 1
                },
                {
                  "0": 0,
                  "1": 0,
                  "2": 0.8089632578,
                  "3": 0,
                  "4": 0,
                  "5": 0,
                  "6": 0,
                  "7": 0,
                  "8": 0,
                  "9": 0,
                  "10": 0,
                  "11": 0,
                  "12": 0,
                  "13": 0,
                  "14": 0,
                  "15": 0,
                  "16": 0,
                  "17": 0,
                  "18": 0,
                  "19": 0,
                  "20": 0,
                  "21": 0,
                  "22": 0,
                  "23": 0,
                  "24": 0,
                  "25": 0,
                  "26": 0,
                  "27": 0,
                  "28": 0,
                  "29": 0,
                  "30": 0,
                  "31": 0,
                  "32": 0,
                  "33": 0,
                  "34": 0,
                  "35": 0,
                  "36": 0,
                  "37": 0,
                  "38": 0,
                  "39": 0,
                  "40": 0,
                  "41": 0,
                  "42": 0,
                  "43": 0,
                  "44": 0,
                  "45": 0,
                  "46": 0,
                  "47": 0,
                  "48": 0,
                  "49": 0,
                  "50": 0,
                  "51": 0,
                  "52": 0,
                  "53": 0,
                  "54": 0,
                  "55": 0,
                  "56": 0,
                  "57": 0,
                  "58": 0,
                  "59": 0,
                  "60": 0,
                  "61": 0,
                  "62": 0,
                  "63": 0,
                  "64": 0,
                  "65": 0,
                  "66": 0,
                  "67": 0,
                  "68": 0,
                  "69": 0,
                  "70": 0,
                  "71": 0,
                  "72": 0,
                  "73": 0,
                  "74": 0,
                  "75": 0,
                  "76": 0,
                  "77": 0,
                  "78": 0,
                  "79": 0,
                  "80": 0,
                  "81": 0,
                  "82": 0,
                  "83": 0,
                  "84": 0,
                  "85": 0,
                  "86": 0,
                  "87": 0,
                  "88": 0,
                  "89": 0,
                  "90": 0,
                  "91": 0,
                  "92": 0,
                  "93": 0,
                  "94": 0,
                  "95": 0,
                  "96": 0,
                  "97": 0,
                  "98": 0,
                  "99": 0,
                  "100": 0,
                  "101": 0,
                  "102": 0,
                  "103": 0,
                  "104": 0,
                  "105": 0,
                  "106": 0,
                  "107": 0,
                  "108": 0,
                  "109": 0,
                  "110": 0,
                  "111": 0,
                  "112": 0,
                  "113": 0,
                  "114": 0,
                  "115": 0,
                  "116": 0,
                  "117": 0,
                  "118": 0,
                  "119": 0,
                  "120": 0,
                  "121": 0,
                  "122": 0,
                  "123": 0,
                  "124": 0,
                  "125": 0,
                  "126": 0,
                  "127": 0,
                  "index": 2,
                  "src_x": 2
                },
                {
                  "0": 0,
                  "1": 23.2178639552,
                  "2": 31.2117805669,
                  "3": 1.5228230577,
                  "4": 2.2853863026,
                  "5": 0,
                  "6": 0.3898284402,
                  "7": 0,
                  "8": 0,
                  "9": 0,
                  "10": 0,
                  "11": 0,
                  "12": 0,
                  "13": 0,
                  "14": 0,
                  "15": 0,
                  "16": 0,
                  "17": 0,
                  "18": 0,
                  "19": 0,
                  "20": 0.4087707825,
                  "21": 0,
                  "22": 0,
                  "23": 0,
                  "24": 0,
                  "25": 0,
                  "26": 0,
                  "27": 0,
                  "28": 0,
                  "29": 0,
                  "30": 0,
                  "31": 0,
                  "32": 0,
                  "33": 0,
                  "34": 0,
                  "35": 0.5603642031,
                  "36": 0,
                  "37": 0,
                  "38": 0,
                  "39": 0,
                  "40": 0,
                  "41": 0,
                  "42": 0,
                  "43": 0,
                  "44": 0,
                  "45": 0,
                  "46": 0,
                  "47": 0,
                  "48": 0,
                  "49": 0,
                  "50": 0,
                  "51": 0,
                  "52": 0,
                  "53": 0,
                  "54": 0,
                  "55": 0,
                  "56": 0,
                  "57": 0,
                  "58": 0,
                  "59": 0,
                  "60": 0,
                  "61": 0,
                  "62": 0,
                  "63": 0,
                  "64": 0,
                  "65": 0,
                  "66": 0,
                  "67": 0,
                  "68": 0,
                  "69": 0,
                  "70": 0,
                  "71": 0,
                  "72": 0,
                  "73": 0,
                  "74": 0,
                  "75": 0,
                  "76": 0,
                  "77": 0,
                  "78": 0,
                  "79": 0,
                  "80": 0,
                  "81": 0,
                  "82": 0,
                  "83": 0,
                  "84": 0,
                  "85": 0,
                  "86": 0,
                  "87": 0,
                  "88": 0,
                  "89": 0,
                  "90": 0,
                  "91": 0,
                  "92": 0,
                  "93": 0,
                  "94": 0,
                  "95": 0,
                  "96": 0,
                  "97": 0,
                  "98": 0,
                  "99": 0,
                  "100": 0,
                  "101": 0,
                  "102": 0,
                  "103": 0,
                  "104": 0,
                  "105": 0,
                  "106": 0,
                  "107": 0,
                  "108": 0,
                  "109": 0,
                  "110": 0,
                  "111": 0,
                  "112": 0,
                  "113": 0,
                  "114": 0,
                  "115": 0,
                  "116": 0,
                  "117": 0,
                  "118": 0,
                  "119": 0,
                  "120": 0,
                  "121": 0,
                  "122": 0,
                  "123": 0,
                  "124": 0,
                  "125": 0,
                  "126": 0,
                  "127": 0,
                  "index": 3,
                  "src_x": 3
                },
                {
                  "0": 5.2184546657,
                  "1": 45.8930277795,
                  "2": 52.6562201432,
                  "3": 11.8932364176,
                  "4": 0.9742037906,
                  "5": 9.9542348684,
                  "6": 10.3239410923,
                  "7": 4.48840116,
                  "8": 0.3946295464,
                  "9": 0,
                  "10": 0,
                  "11": 0,
                  "12": 0,
                  "13": 0,
                  "14": 0,
                  "15": 1.3910516681,
                  "16": 0,
                  "17": 0,
                  "18": 7.6203280593,
                  "19": 5.1860135466,
                  "20": 0,
                  "21": 10.8457319594,
                  "22": 24.9304722585,
                  "23": 0,
                  "24": 0,
                  "25": 0,
                  "26": 0,
                  "27": 0,
                  "28": 0,
                  "29": 0,
                  "30": 0,
                  "31": 0,
                  "32": 0,
                  "33": 0,
                  "34": 0,
                  "35": 0,
                  "36": 0,
                  "37": 9.3546292668,
                  "38": 0,
                  "39": 0,
                  "40": 0,
                  "41": 0,
                  "42": 0,
                  "43": 0,
                  "44": 0.7008720855,
                  "45": 0,
                  "46": 0,
                  "47": 0,
                  "48": 0.5397744104,
                  "49": 0,
                  "50": 0,
                  "51": 0,
                  "52": 0,
                  "53": 0.5642099177,
                  "54": 0,
                  "55": 0,
                  "56": 0,
                  "57": 0,
                  "58": 0,
                  "59": 0,
                  "60": 0,
                  "61": 0,
                  "62": 0,
                  "63": 0,
                  "64": 0,
                  "65": 0,
                  "66": 0,
                  "67": 0,
                  "68": 0,
                  "69": 0,
                  "70": 0,
                  "71": 0,
                  "72": 0,
                  "73": 0,
                  "74": 0,
                  "75": 0,
                  "76": 0,
                  "77": 0,
                  "78": 0,
                  "79": 0,
                  "80": 0,
                  "81": 0,
                  "82": 0,
                  "83": 0,
                  "84": 0,
                  "85": 0,
                  "86": 0,
                  "87": 0,
                  "88": 0,
                  "89": 0,
                  "90": 0,
                  "91": 0,
                  "92": 0,
                  "93": 0,
                  "94": 0,
                  "95": 0,
                  "96": 0,
                  "97": 0,
                  "98": 0,
                  "99": 0,
                  "100": 0,
                  "101": 0,
                  "102": 0,
                  "103": 0,
                  "104": 0,
                  "105": 0,
                  "106": 0,
                  "107": 0,
                  "108": 0,
                  "109": 0,
                  "110": 0,
                  "111": 0,
                  "112": 0,
                  "113": 0,
                  "114": 0,
                  "115": 0,
                  "116": 0,
                  "117": 0,
                  "118": 0,
                  "119": 0,
                  "120": 0,
                  "121": 0,
                  "122": 0,
                  "123": 0,
                  "124": 0,
                  "125": 0,
                  "126": 0,
                  "127": 0,
                  "index": 4,
                  "src_x": 4
                }
              ]
            }
          },
          "metadata": {
            "bento_obj_id": "140209754481424"
          },
          "execution_count": 31
        }
      ]
    },
    {
      "cell_type": "code",
      "metadata": {
        "originalKey": "df7cb5f0-b42c-4374-9a38-19ff76bfff14",
        "showInput": true,
        "customInput": null,
        "collapsed": false,
        "requestMsgId": "df7cb5f0-b42c-4374-9a38-19ff76bfff14",
        "executionStartTime": 1680993635109,
        "executionStopTime": 1680993635202
      },
      "source": [
        "two_hop_v1 = two_hop_v1.add_prefix('score_')"
      ],
      "execution_count": 32,
      "outputs": []
    },
    {
      "cell_type": "code",
      "metadata": {
        "originalKey": "d6c3d2d1-9daf-4c6f-978e-834e8fbf5eb5",
        "showInput": true,
        "customInput": null,
        "collapsed": false,
        "requestMsgId": "d6c3d2d1-9daf-4c6f-978e-834e8fbf5eb5",
        "executionStartTime": 1680993647744,
        "executionStopTime": 1680993647880
      },
      "source": [
        "np.array(two_hop_v1.columns)"
      ],
      "execution_count": 34,
      "outputs": [
        {
          "output_type": "execute_result",
          "data": {
            "text/plain": "array(['score_src_x', 'score_0', 'score_1', 'score_2', 'score_3',\n       'score_4', 'score_5', 'score_6', 'score_7', 'score_8', 'score_9',\n       'score_10', 'score_11', 'score_12', 'score_13', 'score_14',\n       'score_15', 'score_16', 'score_17', 'score_18', 'score_19',\n       'score_20', 'score_21', 'score_22', 'score_23', 'score_24',\n       'score_25', 'score_26', 'score_27', 'score_28', 'score_29',\n       'score_30', 'score_31', 'score_32', 'score_33', 'score_34',\n       'score_35', 'score_36', 'score_37', 'score_38', 'score_39',\n       'score_40', 'score_41', 'score_42', 'score_43', 'score_44',\n       'score_45', 'score_46', 'score_47', 'score_48', 'score_49',\n       'score_50', 'score_51', 'score_52', 'score_53', 'score_54',\n       'score_55', 'score_56', 'score_57', 'score_58', 'score_59',\n       'score_60', 'score_61', 'score_62', 'score_63', 'score_64',\n       'score_65', 'score_66', 'score_67', 'score_68', 'score_69',\n       'score_70', 'score_71', 'score_72', 'score_73', 'score_74',\n       'score_75', 'score_76', 'score_77', 'score_78', 'score_79',\n       'score_80', 'score_81', 'score_82', 'score_83', 'score_84',\n       'score_85', 'score_86', 'score_87', 'score_88', 'score_89',\n       'score_90', 'score_91', 'score_92', 'score_93', 'score_94',\n       'score_95', 'score_96', 'score_97', 'score_98', 'score_99',\n       'score_100', 'score_101', 'score_102', 'score_103', 'score_104',\n       'score_105', 'score_106', 'score_107', 'score_108', 'score_109',\n       'score_110', 'score_111', 'score_112', 'score_113', 'score_114',\n       'score_115', 'score_116', 'score_117', 'score_118', 'score_119',\n       'score_120', 'score_121', 'score_122', 'score_123', 'score_124',\n       'score_125', 'score_126', 'score_127'], dtype=object)"
          },
          "metadata": {
            "bento_obj_id": "140209706060256"
          },
          "execution_count": 34
        }
      ]
    },
    {
      "cell_type": "code",
      "metadata": {
        "originalKey": "1d0a958f-7a11-4295-9040-aae4cdd94e8d",
        "showInput": true,
        "customInput": null,
        "collapsed": false,
        "requestMsgId": "1d0a958f-7a11-4295-9040-aae4cdd94e8d",
        "executionStartTime": 1680968260650,
        "executionStopTime": 1680968260737
      },
      "source": [
        "#two_hop_v1.columns = ['src_x', 'score0', 'score1','score2','score3','score4','score5','score6','score7','score8','score9','score10','score11',\\\n",
        "#'score12','score13','score14','score15','score16',]"
      ],
      "execution_count": 38,
      "outputs": []
    },
    {
      "cell_type": "code",
      "metadata": {
        "originalKey": "8ae427f3-495c-4baa-a82b-7e27fa279524",
        "showInput": true,
        "customInput": null,
        "collapsed": false,
        "requestMsgId": "8ae427f3-495c-4baa-a82b-7e27fa279524",
        "executionStartTime": 1680993670593,
        "executionStopTime": 1680993671529
      },
      "source": [
        "two_hop_v1_valid = two_hop_v1.merge(\n",
        "        y_valid, left_on=\"score_src_x\", right_on=\"node_id\", how=\"right\"\n",
        "    )\n",
        "\n",
        "clf = LogisticRegression(random_state=0).fit(\n",
        "    two_hop_v1_valid[['score_0', 'score_1', 'score_2', 'score_3',\n",
        "       'score_4', 'score_5', 'score_6', 'score_7', 'score_8', 'score_9',\n",
        "       'score_10', 'score_11', 'score_12', 'score_13', 'score_14',\n",
        "       'score_15', 'score_16', 'score_17', 'score_18', 'score_19',\n",
        "       'score_20', 'score_21', 'score_22', 'score_23', 'score_24',\n",
        "       'score_25', 'score_26', 'score_27', 'score_28', 'score_29',\n",
        "       'score_30', 'score_31', 'score_32', 'score_33', 'score_34',\n",
        "       'score_35', 'score_36', 'score_37', 'score_38', 'score_39',\n",
        "       'score_40', 'score_41', 'score_42', 'score_43', 'score_44',\n",
        "       'score_45', 'score_46', 'score_47', 'score_48', 'score_49',\n",
        "       'score_50', 'score_51', 'score_52', 'score_53', 'score_54',\n",
        "       'score_55', 'score_56', 'score_57', 'score_58', 'score_59',\n",
        "       'score_60', 'score_61', 'score_62', 'score_63', 'score_64',\n",
        "       'score_65', 'score_66', 'score_67', 'score_68', 'score_69',\n",
        "       'score_70', 'score_71', 'score_72', 'score_73', 'score_74',\n",
        "       'score_75', 'score_76', 'score_77', 'score_78', 'score_79',\n",
        "       'score_80', 'score_81', 'score_82', 'score_83', 'score_84',\n",
        "       'score_85', 'score_86', 'score_87', 'score_88', 'score_89',\n",
        "       'score_90', 'score_91', 'score_92', 'score_93', 'score_94',\n",
        "       'score_95', 'score_96', 'score_97', 'score_98', 'score_99',\n",
        "       'score_100', 'score_101', 'score_102', 'score_103', 'score_104',\n",
        "       'score_105', 'score_106', 'score_107', 'score_108', 'score_109',\n",
        "       'score_110', 'score_111', 'score_112', 'score_113', 'score_114',\n",
        "       'score_115', 'score_116', 'score_117', 'score_118', 'score_119',\n",
        "       'score_120', 'score_121', 'score_122', 'score_123', 'score_124',\n",
        "       'score_125', 'score_126', 'score_127']], two_hop_v1_valid[i]\n",
        ")\n",
        "\n",
        "\n",
        "pred_v0 = y_test.merge(two_hop_v1, right_on=\"score_src_x\", left_on=\"node_id\", how=\"left\")\n",
        "print(\n",
        "    \"roc-auc, v1: \",\n",
        "    roc_auc_score(\n",
        "        pred_v0[i],\n",
        "        clf.predict_proba(pred_v0[['score_0', 'score_1', 'score_2', 'score_3',\n",
        "       'score_4', 'score_5', 'score_6', 'score_7', 'score_8', 'score_9',\n",
        "       'score_10', 'score_11', 'score_12', 'score_13', 'score_14',\n",
        "       'score_15', 'score_16', 'score_17', 'score_18', 'score_19',\n",
        "       'score_20', 'score_21', 'score_22', 'score_23', 'score_24',\n",
        "       'score_25', 'score_26', 'score_27', 'score_28', 'score_29',\n",
        "       'score_30', 'score_31', 'score_32', 'score_33', 'score_34',\n",
        "       'score_35', 'score_36', 'score_37', 'score_38', 'score_39',\n",
        "       'score_40', 'score_41', 'score_42', 'score_43', 'score_44',\n",
        "       'score_45', 'score_46', 'score_47', 'score_48', 'score_49',\n",
        "       'score_50', 'score_51', 'score_52', 'score_53', 'score_54',\n",
        "       'score_55', 'score_56', 'score_57', 'score_58', 'score_59',\n",
        "       'score_60', 'score_61', 'score_62', 'score_63', 'score_64',\n",
        "       'score_65', 'score_66', 'score_67', 'score_68', 'score_69',\n",
        "       'score_70', 'score_71', 'score_72', 'score_73', 'score_74',\n",
        "       'score_75', 'score_76', 'score_77', 'score_78', 'score_79',\n",
        "       'score_80', 'score_81', 'score_82', 'score_83', 'score_84',\n",
        "       'score_85', 'score_86', 'score_87', 'score_88', 'score_89',\n",
        "       'score_90', 'score_91', 'score_92', 'score_93', 'score_94',\n",
        "       'score_95', 'score_96', 'score_97', 'score_98', 'score_99',\n",
        "       'score_100', 'score_101', 'score_102', 'score_103', 'score_104',\n",
        "       'score_105', 'score_106', 'score_107', 'score_108', 'score_109',\n",
        "       'score_110', 'score_111', 'score_112', 'score_113', 'score_114',\n",
        "       'score_115', 'score_116', 'score_117', 'score_118', 'score_119',\n",
        "       'score_120', 'score_121', 'score_122', 'score_123', 'score_124',\n",
        "       'score_125', 'score_126', 'score_127']])[:,1]\n",
        "    ),\n",
        ")\n",
        "\n",
        ""
      ],
      "execution_count": 35,
      "outputs": [
        {
          "output_type": "stream",
          "name": "stdout",
          "text": [
            "roc-auc, v1:  0.6758308390352166\n"
          ]
        }
      ]
    },
    {
      "cell_type": "code",
      "metadata": {
        "originalKey": "acd4e797-0043-4cce-9bda-0930843b8b01",
        "showInput": true,
        "customInput": null
      },
      "source": [
        ""
      ],
      "execution_count": null,
      "outputs": []
    },
    {
      "cell_type": "code",
      "metadata": {
        "originalKey": "66c26a29-9196-422a-8855-c10f490d0f7b",
        "showInput": true,
        "customInput": null,
        "collapsed": false,
        "requestMsgId": "66c26a29-9196-422a-8855-c10f490d0f7b",
        "executionStartTime": 1681011748033,
        "executionStopTime": 1681017136243,
        "customOutput": null
      },
      "source": [
        "from sklearn.ensemble import RandomForestClassifier\n",
        "\n",
        "# set-up loop\n",
        "rocauc_v1_ud_w = []\n",
        "#rocauc_v2_ud_w = []\n",
        "#rocauc_ud_uw = []\n",
        "\n",
        "baseline_prop = []\n",
        "\n",
        "#for i in range(0,25): # loop through outcomes part 1\n",
        "#for i in range(25,50):\n",
        "for i in range(50,112):\n",
        "    print(i)\n",
        "\n",
        "    relevant_edges = relevant_edges_tmp[[\"src\", \"dst\", \"node_id\", i, 'edge_bin']]\n",
        "    relevant_edges.columns = [\"src\", \"dst\",  \"node_id\", \"y\", 'edge_bin']\n",
        "    label1 = relevant_edges.groupby([\"src\"])[\"y\"].sum().reset_index()\n",
        "    labeltotal = relevant_edges.groupby([\"src\"])[\"y\"].count().reset_index()\n",
        "    relevant_edgelist = labeltotal.merge(label1, on=\"src\")\n",
        "    relevant_edgelist[\"label_0\"] = relevant_edgelist[\"y_x\"] - relevant_edgelist[\"y_y\"]\n",
        "    relevant_edgelist.rename(columns={\"y_y\": \"label_1\"}, inplace=True)\n",
        "    relevant_edgelist.drop([\"y_x\"], axis=1, inplace=True)\n",
        "\n",
        "    ## v0 - linear combination of single layers\n",
        "    normalizer = pd.DataFrame(y_train[i].value_counts(normalize=True, ascending=True))\n",
        "\n",
        "    # step 1 - one hop scores\n",
        "    step1_one_hop_scores = pd.DataFrame(\n",
        "        {\n",
        "            \"src\": relevant_edgelist.src,\n",
        "            \"frac\": np.log(\n",
        "                (relevant_edgelist[\"label_1\"] + 1) / (relevant_edgelist[\"label_0\"] + 1)\n",
        "            )\n",
        "            * list((normalizer.iloc[0]) / (normalizer.iloc[1]))[0],\n",
        "        }\n",
        "    )\n",
        "\n",
        "    two_hop_stg_v1 = relevant_edges.merge(\n",
        "        step1_one_hop_scores, left_on=\"dst\", right_on=\"src\", how=\"inner\"\n",
        "    )\n",
        "    two_hop_stg = two_hop_stg_v1.groupby(['src_x','edge_bin'])['frac'].sum().reset_index()\n",
        "\n",
        "    two_hop_v1 = pd.pivot_table(two_hop_stg, values = 'frac', columns = 'edge_bin', index = 'src_x').reset_index().fillna(0)\n",
        "\n",
        "    two_hop_v1 = two_hop_v1.add_prefix('score_')\n",
        "\n",
        "    # two_hop_v1.columns = ['src_x', 'score0', 'score1','score2','score3','score4','score5','score6','score7','score8','score9','score10','score11',\\\n",
        "    # 'score12','score13','score14','score15','score16',]\n",
        "\n",
        "    two_hop_v1_valid = two_hop_v1.merge(\n",
        "            y_valid, left_on=\"score_src_x\", right_on=\"node_id\", how=\"right\"\n",
        "        )\n",
        "\n",
        "    clf = LogisticRegression(random_state=0).fit(\n",
        "        two_hop_v1_valid[['score_0', 'score_1', 'score_2', 'score_3',\n",
        "       'score_4', 'score_5', 'score_6', 'score_7', 'score_8', 'score_9',\n",
        "       'score_10', 'score_11', 'score_12', 'score_13', 'score_14',\n",
        "       'score_15', 'score_16', 'score_17', 'score_18', 'score_19',\n",
        "       'score_20', 'score_21', 'score_22', 'score_23', 'score_24',\n",
        "       'score_25', 'score_26', 'score_27', 'score_28', 'score_29',\n",
        "       'score_30', 'score_31', 'score_32', 'score_33', 'score_34',\n",
        "       'score_35', 'score_36', 'score_37', 'score_38', 'score_39',\n",
        "       'score_40', 'score_41', 'score_42', 'score_43', 'score_44',\n",
        "       'score_45', 'score_46', 'score_47', 'score_48', 'score_49',\n",
        "       'score_50', 'score_51', 'score_52', 'score_53', 'score_54',\n",
        "       'score_55', 'score_56', 'score_57', 'score_58', 'score_59',\n",
        "       'score_60', 'score_61', 'score_62', 'score_63', 'score_64',\n",
        "       'score_65', 'score_66', 'score_67', 'score_68', 'score_69',\n",
        "       'score_70', 'score_71', 'score_72', 'score_73', 'score_74',\n",
        "       'score_75', 'score_76', 'score_77', 'score_78', 'score_79',\n",
        "       'score_80', 'score_81', 'score_82', 'score_83', 'score_84',\n",
        "       'score_85', 'score_86', 'score_87', 'score_88', 'score_89',\n",
        "       'score_90', 'score_91', 'score_92', 'score_93', 'score_94',\n",
        "       'score_95', 'score_96', 'score_97', 'score_98', 'score_99',\n",
        "       'score_100', 'score_101', 'score_102', 'score_103', 'score_104',\n",
        "       'score_105', 'score_106', 'score_107', 'score_108', 'score_109',\n",
        "       'score_110', 'score_111', 'score_112', 'score_113', 'score_114',\n",
        "       'score_115', 'score_116', 'score_117', 'score_118', 'score_119',\n",
        "       'score_120', 'score_121', 'score_122', 'score_123', 'score_124',\n",
        "       'score_125', 'score_126', 'score_127']], two_hop_v1_valid[i]\n",
        "    )\n",
        "\n",
        "\n",
        "    pred_v1 = y_test.merge(two_hop_v1, right_on=\"score_src_x\", left_on=\"node_id\", how=\"left\")\n",
        "    print(\n",
        "        \"roc-auc, v1: \",\n",
        "        roc_auc_score(\n",
        "            pred_v1[i],\n",
        "            clf.predict_proba(pred_v1[['score_0', 'score_1', 'score_2', 'score_3',\n",
        "       'score_4', 'score_5', 'score_6', 'score_7', 'score_8', 'score_9',\n",
        "       'score_10', 'score_11', 'score_12', 'score_13', 'score_14',\n",
        "       'score_15', 'score_16', 'score_17', 'score_18', 'score_19',\n",
        "       'score_20', 'score_21', 'score_22', 'score_23', 'score_24',\n",
        "       'score_25', 'score_26', 'score_27', 'score_28', 'score_29',\n",
        "       'score_30', 'score_31', 'score_32', 'score_33', 'score_34',\n",
        "       'score_35', 'score_36', 'score_37', 'score_38', 'score_39',\n",
        "       'score_40', 'score_41', 'score_42', 'score_43', 'score_44',\n",
        "       'score_45', 'score_46', 'score_47', 'score_48', 'score_49',\n",
        "       'score_50', 'score_51', 'score_52', 'score_53', 'score_54',\n",
        "       'score_55', 'score_56', 'score_57', 'score_58', 'score_59',\n",
        "       'score_60', 'score_61', 'score_62', 'score_63', 'score_64',\n",
        "       'score_65', 'score_66', 'score_67', 'score_68', 'score_69',\n",
        "       'score_70', 'score_71', 'score_72', 'score_73', 'score_74',\n",
        "       'score_75', 'score_76', 'score_77', 'score_78', 'score_79',\n",
        "       'score_80', 'score_81', 'score_82', 'score_83', 'score_84',\n",
        "       'score_85', 'score_86', 'score_87', 'score_88', 'score_89',\n",
        "       'score_90', 'score_91', 'score_92', 'score_93', 'score_94',\n",
        "       'score_95', 'score_96', 'score_97', 'score_98', 'score_99',\n",
        "       'score_100', 'score_101', 'score_102', 'score_103', 'score_104',\n",
        "       'score_105', 'score_106', 'score_107', 'score_108', 'score_109',\n",
        "       'score_110', 'score_111', 'score_112', 'score_113', 'score_114',\n",
        "       'score_115', 'score_116', 'score_117', 'score_118', 'score_119',\n",
        "       'score_120', 'score_121', 'score_122', 'score_123', 'score_124',\n",
        "       'score_125', 'score_126', 'score_127']])[:,1]\n",
        "        ),\n",
        "    )\n",
        "    rocauc_v1_ud_w.append(roc_auc_score(\n",
        "            pred_v1[i],\n",
        "            clf.predict_proba(pred_v1[['score_0', 'score_1', 'score_2', 'score_3',\n",
        "       'score_4', 'score_5', 'score_6', 'score_7', 'score_8', 'score_9',\n",
        "       'score_10', 'score_11', 'score_12', 'score_13', 'score_14',\n",
        "       'score_15', 'score_16', 'score_17', 'score_18', 'score_19',\n",
        "       'score_20', 'score_21', 'score_22', 'score_23', 'score_24',\n",
        "       'score_25', 'score_26', 'score_27', 'score_28', 'score_29',\n",
        "       'score_30', 'score_31', 'score_32', 'score_33', 'score_34',\n",
        "       'score_35', 'score_36', 'score_37', 'score_38', 'score_39',\n",
        "       'score_40', 'score_41', 'score_42', 'score_43', 'score_44',\n",
        "       'score_45', 'score_46', 'score_47', 'score_48', 'score_49',\n",
        "       'score_50', 'score_51', 'score_52', 'score_53', 'score_54',\n",
        "       'score_55', 'score_56', 'score_57', 'score_58', 'score_59',\n",
        "       'score_60', 'score_61', 'score_62', 'score_63', 'score_64',\n",
        "       'score_65', 'score_66', 'score_67', 'score_68', 'score_69',\n",
        "       'score_70', 'score_71', 'score_72', 'score_73', 'score_74',\n",
        "       'score_75', 'score_76', 'score_77', 'score_78', 'score_79',\n",
        "       'score_80', 'score_81', 'score_82', 'score_83', 'score_84',\n",
        "       'score_85', 'score_86', 'score_87', 'score_88', 'score_89',\n",
        "       'score_90', 'score_91', 'score_92', 'score_93', 'score_94',\n",
        "       'score_95', 'score_96', 'score_97', 'score_98', 'score_99',\n",
        "       'score_100', 'score_101', 'score_102', 'score_103', 'score_104',\n",
        "       'score_105', 'score_106', 'score_107', 'score_108', 'score_109',\n",
        "       'score_110', 'score_111', 'score_112', 'score_113', 'score_114',\n",
        "       'score_115', 'score_116', 'score_117', 'score_118', 'score_119',\n",
        "       'score_120', 'score_121', 'score_122', 'score_123', 'score_124',\n",
        "       'score_125', 'score_126', 'score_127']])[:,1]\n",
        "        ))\n",
        ""
      ],
      "execution_count": 17,
      "outputs": [
        {
          "output_type": "stream",
          "name": "stdout",
          "text": [
            "50\n"
          ]
        },
        {
          "output_type": "stream",
          "name": "stdout",
          "text": [
            "roc-auc, v1:  0.6967289905585605\n51\n"
          ]
        },
        {
          "output_type": "stream",
          "name": "stdout",
          "text": [
            "roc-auc, v1:  0.7591226794132392\n52\n"
          ]
        },
        {
          "output_type": "stream",
          "name": "stdout",
          "text": [
            "roc-auc, v1:  0.7510907621304683\n53\n"
          ]
        },
        {
          "output_type": "stream",
          "name": "stdout",
          "text": [
            "roc-auc, v1:  0.7487378688457916\n54\n"
          ]
        },
        {
          "output_type": "stream",
          "name": "stdout",
          "text": [
            "roc-auc, v1:  0.6806618788511061\n55\n"
          ]
        },
        {
          "output_type": "stream",
          "name": "stdout",
          "text": [
            "roc-auc, v1:  0.6930995418443817\n56\n"
          ]
        },
        {
          "output_type": "stream",
          "name": "stdout",
          "text": [
            "roc-auc, v1:  0.6963009831329913\n57\n"
          ]
        },
        {
          "output_type": "stream",
          "name": "stdout",
          "text": [
            "roc-auc, v1:  0.6844420876628603\n58\n"
          ]
        },
        {
          "output_type": "stream",
          "name": "stdout",
          "text": [
            "roc-auc, v1:  0.7716465310484775\n59\n"
          ]
        },
        {
          "output_type": "stream",
          "name": "stdout",
          "text": [
            "roc-auc, v1:  0.6870377201541429\n60\n"
          ]
        },
        {
          "output_type": "stream",
          "name": "stdout",
          "text": [
            "roc-auc, v1:  0.7490667043235082\n61\n"
          ]
        },
        {
          "output_type": "stream",
          "name": "stdout",
          "text": [
            "roc-auc, v1:  0.7777903580717163\n62\n"
          ]
        },
        {
          "output_type": "stream",
          "name": "stdout",
          "text": [
            "roc-auc, v1:  0.6495709523167821\n63\n"
          ]
        },
        {
          "output_type": "stream",
          "name": "stdout",
          "text": [
            "roc-auc, v1:  0.7321072996826226\n64\n"
          ]
        },
        {
          "output_type": "stream",
          "name": "stdout",
          "text": [
            "roc-auc, v1:  0.7520733444509605\n65\n"
          ]
        },
        {
          "output_type": "stream",
          "name": "stdout",
          "text": [
            "roc-auc, v1:  0.7547176306663701\n66\n"
          ]
        },
        {
          "output_type": "stream",
          "name": "stdout",
          "text": [
            "roc-auc, v1:  0.6977761796921575\n67\n"
          ]
        },
        {
          "output_type": "stream",
          "name": "stdout",
          "text": [
            "roc-auc, v1:  0.6977761796921575\n68\n"
          ]
        },
        {
          "output_type": "stream",
          "name": "stdout",
          "text": [
            "roc-auc, v1:  0.7065652839240663\n69\n"
          ]
        },
        {
          "output_type": "stream",
          "name": "stdout",
          "text": [
            "roc-auc, v1:  0.7561491300261833\n70\n"
          ]
        },
        {
          "output_type": "stream",
          "name": "stdout",
          "text": [
            "roc-auc, v1:  0.7018145824412464\n71\n"
          ]
        },
        {
          "output_type": "stream",
          "name": "stdout",
          "text": [
            "roc-auc, v1:  0.8153808025287548\n72\n"
          ]
        },
        {
          "output_type": "stream",
          "name": "stdout",
          "text": [
            "roc-auc, v1:  0.7103803702509071\n73\n"
          ]
        },
        {
          "output_type": "stream",
          "name": "stdout",
          "text": [
            "roc-auc, v1:  0.8073600660351448\n74\n"
          ]
        },
        {
          "output_type": "stream",
          "name": "stdout",
          "text": [
            "roc-auc, v1:  0.7084129284264772\n75\n"
          ]
        },
        {
          "output_type": "stream",
          "name": "stdout",
          "text": [
            "roc-auc, v1:  0.7383331568110277\n76\n"
          ]
        },
        {
          "output_type": "stream",
          "name": "stdout",
          "text": [
            "roc-auc, v1:  0.7999783017503255\n77\n"
          ]
        },
        {
          "output_type": "stream",
          "name": "stdout",
          "text": [
            "roc-auc, v1:  0.8344575891280194\n78\n"
          ]
        },
        {
          "output_type": "stream",
          "name": "stdout",
          "text": [
            "roc-auc, v1:  0.8334652150934871\n79\n"
          ]
        },
        {
          "output_type": "stream",
          "name": "stdout",
          "text": [
            "roc-auc, v1:  0.6788095562643693\n80\n"
          ]
        },
        {
          "output_type": "stream",
          "name": "stdout",
          "text": [
            "roc-auc, v1:  0.6668655891500292\n81\n"
          ]
        },
        {
          "output_type": "stream",
          "name": "stdout",
          "text": [
            "roc-auc, v1:  0.8401737682577306\n82\n"
          ]
        },
        {
          "output_type": "stream",
          "name": "stdout",
          "text": [
            "roc-auc, v1:  0.8153526775922038\n83\n"
          ]
        },
        {
          "output_type": "stream",
          "name": "stdout",
          "text": [
            "roc-auc, v1:  0.7874336470867094\n84\n"
          ]
        },
        {
          "output_type": "stream",
          "name": "stdout",
          "text": [
            "roc-auc, v1:  0.7861370120766291\n85\n"
          ]
        },
        {
          "output_type": "stream",
          "name": "stdout",
          "text": [
            "roc-auc, v1:  0.8164852443451609\n86\n"
          ]
        },
        {
          "output_type": "stream",
          "name": "stdout",
          "text": [
            "roc-auc, v1:  0.7860633776765173\n87\n"
          ]
        },
        {
          "output_type": "stream",
          "name": "stdout",
          "text": [
            "roc-auc, v1:  0.8153795905269974\n88\n"
          ]
        },
        {
          "output_type": "stream",
          "name": "stdout",
          "text": [
            "roc-auc, v1:  0.6808824516040474\n89\n"
          ]
        },
        {
          "output_type": "stream",
          "name": "stdout",
          "text": [
            "roc-auc, v1:  0.6759452324179689\n90\n"
          ]
        },
        {
          "output_type": "stream",
          "name": "stdout",
          "text": [
            "roc-auc, v1:  0.7116001473658357\n91\n"
          ]
        },
        {
          "output_type": "stream",
          "name": "stdout",
          "text": [
            "roc-auc, v1:  0.7172478312185405\n92\n"
          ]
        },
        {
          "output_type": "stream",
          "name": "stdout",
          "text": [
            "roc-auc, v1:  0.6732934170975622\n93\n"
          ]
        },
        {
          "output_type": "stream",
          "name": "stdout",
          "text": [
            "roc-auc, v1:  0.8112737560549914\n94\n"
          ]
        },
        {
          "output_type": "stream",
          "name": "stdout",
          "text": [
            "roc-auc, v1:  0.7027491942246993\n95\n"
          ]
        },
        {
          "output_type": "stream",
          "name": "stdout",
          "text": [
            "roc-auc, v1:  0.7207549478770587\n96\n"
          ]
        },
        {
          "output_type": "stream",
          "name": "stdout",
          "text": [
            "roc-auc, v1:  0.7379805862093151\n97\n"
          ]
        },
        {
          "output_type": "stream",
          "name": "stdout",
          "text": [
            "roc-auc, v1:  0.6832707745461345\n98\n"
          ]
        },
        {
          "output_type": "stream",
          "name": "stdout",
          "text": [
            "roc-auc, v1:  0.7440287207835126\n99\n"
          ]
        },
        {
          "output_type": "stream",
          "name": "stdout",
          "text": [
            "roc-auc, v1:  0.6468669369189022\n100\n"
          ]
        },
        {
          "output_type": "stream",
          "name": "stdout",
          "text": [
            "roc-auc, v1:  0.7276626487307359\n101\n"
          ]
        },
        {
          "output_type": "stream",
          "name": "stdout",
          "text": [
            "roc-auc, v1:  0.8126889525699779\n102\n"
          ]
        },
        {
          "output_type": "stream",
          "name": "stdout",
          "text": [
            "roc-auc, v1:  0.7373992638876585\n103\n"
          ]
        },
        {
          "output_type": "stream",
          "name": "stdout",
          "text": [
            "roc-auc, v1:  0.7434122453884515\n104\n"
          ]
        },
        {
          "output_type": "stream",
          "name": "stdout",
          "text": [
            "roc-auc, v1:  0.7304676468296172\n105\n"
          ]
        },
        {
          "output_type": "stream",
          "name": "stdout",
          "text": [
            "roc-auc, v1:  0.7266113741549642\n106\n"
          ]
        },
        {
          "output_type": "stream",
          "name": "stdout",
          "text": [
            "roc-auc, v1:  0.7892824530770027\n107\n"
          ]
        },
        {
          "output_type": "stream",
          "name": "stdout",
          "text": [
            "roc-auc, v1:  0.7393288210587678\n108\n"
          ]
        },
        {
          "output_type": "stream",
          "name": "stdout",
          "text": [
            "roc-auc, v1:  0.7637358992945502\n109\n"
          ]
        },
        {
          "output_type": "stream",
          "name": "stdout",
          "text": [
            "roc-auc, v1:  0.7084277019759738\n110\n"
          ]
        },
        {
          "output_type": "stream",
          "name": "stdout",
          "text": [
            "roc-auc, v1:  0.7651929649361109\n111\n"
          ]
        },
        {
          "output_type": "stream",
          "name": "stdout",
          "text": [
            "roc-auc, v1:  0.7414799523392093\n"
          ]
        }
      ]
    },
    {
      "cell_type": "code",
      "metadata": {
        "originalKey": "fe21c9b0-eb3f-4fc4-878b-3bb4840ca719",
        "showInput": true,
        "customInput": null,
        "collapsed": false,
        "requestMsgId": "fe21c9b0-eb3f-4fc4-878b-3bb4840ca719",
        "executionStartTime": 1681017136389,
        "executionStopTime": 1681017136493
      },
      "source": [
        "print(np.mean(rocauc_v1_ud_w))\n",
        ""
      ],
      "execution_count": 18,
      "outputs": [
        {
          "output_type": "stream",
          "name": "stdout",
          "text": [
            "0.7399407984272882\n"
          ]
        }
      ]
    },
    {
      "cell_type": "code",
      "metadata": {
        "originalKey": "1067b7a2-bff9-461e-92a2-8a9bb07f19f8",
        "showInput": true,
        "customInput": null,
        "collapsed": false,
        "requestMsgId": "1067b7a2-bff9-461e-92a2-8a9bb07f19f8",
        "executionStartTime": 1681017136884,
        "executionStopTime": 1681017136976
      },
      "source": [
        "#with open('rocauc_v1_ud_w_part1_multilayer.npy', 'wb') as f:\n",
        "#with open('rocauc_v1_ud_w_part2_multilayer.npy', 'wb') as f:\n",
        "with open('rocauc_v1_ud_w_part3_multilayer.npy', 'wb') as f:\n",
        "    np.save(f, rocauc_v1_ud_w)"
      ],
      "execution_count": 19,
      "outputs": []
    },
    {
      "cell_type": "code",
      "metadata": {
        "originalKey": "98181fba-81fd-4cea-a882-5967df41a14f",
        "showInput": true,
        "customInput": null
      },
      "source": [
        ""
      ],
      "execution_count": null,
      "outputs": []
    },
    {
      "cell_type": "code",
      "metadata": {
        "originalKey": "156d0ae6-2691-48b5-9cc1-57920675c7cf",
        "showInput": true,
        "customInput": null
      },
      "source": [
        ""
      ],
      "execution_count": null,
      "outputs": []
    },
    {
      "cell_type": "code",
      "metadata": {
        "originalKey": "65637d88-62f5-43ef-a3de-e9531be22b15",
        "showInput": true,
        "customInput": null
      },
      "source": [
        ""
      ],
      "execution_count": null,
      "outputs": []
    }
  ]
}
