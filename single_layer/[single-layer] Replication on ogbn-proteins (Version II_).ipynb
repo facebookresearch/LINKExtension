{
  "metadata": {
    "dataExplorerConfig": {},
    "bento_stylesheets": {
      "bento/extensions/flow/main.css": true,
      "bento/extensions/kernel_selector/main.css": true,
      "bento/extensions/kernel_ui/main.css": true,
      "bento/extensions/new_kernel/main.css": true,
      "bento/extensions/system_usage/main.css": true,
      "bento/extensions/theme/main.css": true
    },
    "kernelspec": {
      "display_name": "pytorch",
      "language": "python",
      "name": "bento_kernel_pytorch",
      "cinder_runtime": false,
      "ipyflow_runtime": false,
      "metadata": {
        "kernel_name": "bento_kernel_pytorch",
        "nightly_builds": true,
        "fbpkg_supported": true,
        "cinder_runtime": false,
        "ipyflow_runtime": false,
        "is_prebuilt": true
      }
    },
    "language_info": {
      "codemirror_mode": {
        "name": "ipython",
        "version": 3
      },
      "file_extension": ".py",
      "mimetype": "text/x-python",
      "name": "python",
      "nbconvert_exporter": "python",
      "pygments_lexer": "ipython3"
    },
    "last_server_session_id": "5f34b1c4-e0e5-4c8f-b1c7-341a05398606",
    "last_kernel_id": "d680624c-a62a-4c7e-809e-5c3e086a176b",
    "last_base_url": "https://devvm1422.ash0.facebook.com:8090/",
    "last_msg_id": "338db45e-de73a37d81f300ed5ac5dbfa_111",
    "outputWidgetContext": {}
  },
  "nbformat": 4,
  "nbformat_minor": 2,
  "cells": [
    {
      "cell_type": "code",
      "metadata": {
        "collapsed": false,
        "originalKey": "8f1d2471-b589-47e0-99e4-c5864ab6ad22",
        "requestMsgId": "3b0efd82-f623-42d1-8820-2cd900809084",
        "executionStartTime": 1683912275119,
        "executionStopTime": 1683912278057
      },
      "source": [
        "# 4/6/23\n",
        "# KM Altenburger\n",
        "\n",
        "# steps for downloading repo internally; run w/ \"grasp_workflows kernel\"\n",
        "# sudo feature install ttls_fwdproxy\n",
        "# mgt import --src-type pypi sdist\n",
        "# mgt import --src-type pypi nvidia-cublas-cu11==11.10.3.66\n",
        "# mgt import --src-type pypi ogb\n",
        "\n",
        "import sys\n",
        "\n",
        "sys.path.insert(0, \"/home/kaltenburger/fbsource/ogb\")\n",
        "import matplotlib.pyplot as plt\n",
        "import networkx as nx\n",
        "import numpy as np\n",
        "import ogb\n",
        "import pandas as pd\n",
        "import torch\n",
        "#import torch_geometric\n",
        "from ogb.nodeproppred import NodePropPredDataset\n",
        "from sklearn.linear_model import LogisticRegression\n",
        "from sklearn.metrics import auc, log_loss, precision_recall_curve, roc_auc_score\n",
        "from sklearn.model_selection import train_test_split"
      ],
      "execution_count": 1,
      "outputs": [
        {
          "output_type": "stream",
          "name": "stderr",
          "text": [
            "\nBad key \"axes.color_cycle\" on line 214 in\n/home/kaltenburger/.matplotlib/matplotlibrc.\nYou probably need to get an updated matplotlibrc file from\nhttps://github.com/matplotlib/matplotlib/blob/v3.1.3/matplotlibrc.template\nor from the matplotlib source distribution\n"
          ]
        },
        {
          "output_type": "stream",
          "name": "stderr",
          "text": [
            "I0512 102435.856 _utils_internal.py:199] NCCL_DEBUG env var is set to None\n"
          ]
        },
        {
          "output_type": "stream",
          "name": "stderr",
          "text": [
            "I0512 102435.858 _utils_internal.py:217] NCCL_DEBUG is forced to WARN from None\n"
          ]
        }
      ]
    },
    {
      "cell_type": "markdown",
      "metadata": {
        "originalKey": "0eb50079-caca-4391-bdb5-32bf6d7eaabc",
        "showInput": false,
        "customInput": null
      },
      "source": [
        "### read & set-up dataset\n",
        ""
      ]
    },
    {
      "cell_type": "code",
      "metadata": {
        "originalKey": "4482c7c8-135d-4dcd-b7ba-7c369f7f5e4a",
        "showInput": true,
        "customInput": null,
        "collapsed": false,
        "requestMsgId": "fa26ac82-84c1-43b7-8e1d-6255dd6b08be",
        "executionStartTime": 1683912278236,
        "executionStopTime": 1683912295109
      },
      "source": [
        "dataset = NodePropPredDataset(name='ogbn-proteins')\n",
        "g = dataset.graph # get edgelist and graph metadata\n",
        "y = dataset.labels # outcomes\n",
        "node_species_df = pd.DataFrame({'node_id':range(len(g['node_species'].flatten())), 'node_species': g['node_species'].flatten()})\n",
        "node_species_df.head()"
      ],
      "execution_count": 2,
      "outputs": [
        {
          "output_type": "execute_result",
          "data": {
            "text/plain": "   node_id  node_species\n0        0          3702\n1        1          3702\n2        2          3702\n3        3          3702\n4        4          3702",
            "text/html": "<div>\n<style scoped>\n    .dataframe tbody tr th:only-of-type {\n        vertical-align: middle;\n    }\n\n    .dataframe tbody tr th {\n        vertical-align: top;\n    }\n\n    .dataframe thead th {\n        text-align: right;\n    }\n</style>\n<table border=\"1\" class=\"dataframe\">\n  <thead>\n    <tr style=\"text-align: right;\">\n      <th></th>\n      <th>node_id</th>\n      <th>node_species</th>\n    </tr>\n  </thead>\n  <tbody>\n    <tr>\n      <th>0</th>\n      <td>0</td>\n      <td>3702</td>\n    </tr>\n    <tr>\n      <th>1</th>\n      <td>1</td>\n      <td>3702</td>\n    </tr>\n    <tr>\n      <th>2</th>\n      <td>2</td>\n      <td>3702</td>\n    </tr>\n    <tr>\n      <th>3</th>\n      <td>3</td>\n      <td>3702</td>\n    </tr>\n    <tr>\n      <th>4</th>\n      <td>4</td>\n      <td>3702</td>\n    </tr>\n  </tbody>\n</table>\n</div>",
            "application/vnd.dataresource+json": {
              "schema": {
                "fields": [
                  {
                    "name": "index",
                    "type": "integer"
                  },
                  {
                    "name": "node_id",
                    "type": "integer"
                  },
                  {
                    "name": "node_species",
                    "type": "integer"
                  }
                ],
                "primaryKey": [
                  "index"
                ],
                "pandas_version": "0.20.0"
              },
              "data": [
                {
                  "index": 0,
                  "node_id": 0,
                  "node_species": 3702
                },
                {
                  "index": 1,
                  "node_id": 1,
                  "node_species": 3702
                },
                {
                  "index": 2,
                  "node_id": 2,
                  "node_species": 3702
                },
                {
                  "index": 3,
                  "node_id": 3,
                  "node_species": 3702
                },
                {
                  "index": 4,
                  "node_id": 4,
                  "node_species": 3702
                }
              ]
            }
          },
          "metadata": {
            "bento_obj_id": "140226276847776"
          },
          "execution_count": 2
        }
      ]
    },
    {
      "cell_type": "code",
      "metadata": {
        "originalKey": "f6b49003-6711-40d6-9403-4b89e6e8b4cd",
        "showInput": true,
        "customInput": null,
        "collapsed": false,
        "requestMsgId": "767b91bf-acc4-4758-a416-b7e90ed9f94b",
        "executionStartTime": 1683912295139,
        "executionStopTime": 1683912295168
      },
      "source": [
        "# create edgelist\n",
        "edge_list_df = pd.DataFrame(g[\"edge_index\"].T)\n",
        "edge_list_df.columns = ['src','dst']\n",
        "edge_list_df.head()"
      ],
      "execution_count": 3,
      "outputs": [
        {
          "output_type": "execute_result",
          "data": {
            "text/plain": "     src     dst\n0      1   96401\n1  96401       1\n2      1   68343\n3  68343       1\n4      1  125069",
            "text/html": "<div>\n<style scoped>\n    .dataframe tbody tr th:only-of-type {\n        vertical-align: middle;\n    }\n\n    .dataframe tbody tr th {\n        vertical-align: top;\n    }\n\n    .dataframe thead th {\n        text-align: right;\n    }\n</style>\n<table border=\"1\" class=\"dataframe\">\n  <thead>\n    <tr style=\"text-align: right;\">\n      <th></th>\n      <th>src</th>\n      <th>dst</th>\n    </tr>\n  </thead>\n  <tbody>\n    <tr>\n      <th>0</th>\n      <td>1</td>\n      <td>96401</td>\n    </tr>\n    <tr>\n      <th>1</th>\n      <td>96401</td>\n      <td>1</td>\n    </tr>\n    <tr>\n      <th>2</th>\n      <td>1</td>\n      <td>68343</td>\n    </tr>\n    <tr>\n      <th>3</th>\n      <td>68343</td>\n      <td>1</td>\n    </tr>\n    <tr>\n      <th>4</th>\n      <td>1</td>\n      <td>125069</td>\n    </tr>\n  </tbody>\n</table>\n</div>",
            "application/vnd.dataresource+json": {
              "schema": {
                "fields": [
                  {
                    "name": "index",
                    "type": "integer"
                  },
                  {
                    "name": "src",
                    "type": "integer"
                  },
                  {
                    "name": "dst",
                    "type": "integer"
                  }
                ],
                "primaryKey": [
                  "index"
                ],
                "pandas_version": "0.20.0"
              },
              "data": [
                {
                  "index": 0,
                  "src": 1,
                  "dst": 96401
                },
                {
                  "index": 1,
                  "src": 96401,
                  "dst": 1
                },
                {
                  "index": 2,
                  "src": 1,
                  "dst": 68343
                },
                {
                  "index": 3,
                  "src": 68343,
                  "dst": 1
                },
                {
                  "index": 4,
                  "src": 1,
                  "dst": 125069
                }
              ]
            }
          },
          "metadata": {
            "bento_obj_id": "140224973623504"
          },
          "execution_count": 3
        }
      ]
    },
    {
      "cell_type": "code",
      "metadata": {
        "originalKey": "7d1fe0e7-5a9e-463a-a917-02929149c367",
        "showInput": true,
        "customInput": null,
        "collapsed": false,
        "requestMsgId": "1bdaf867-6775-4fdc-ba59-34d92364ef12",
        "executionStartTime": 1683912295217,
        "executionStopTime": 1683912357136
      },
      "source": [
        "# sanity check on inter-species connections\n",
        "edge_list_df_check = edge_list_df.merge(node_species_df, how = 'left', left_on = 'src', right_on = 'node_id')\n",
        "edge_list_df_check.drop('node_id', axis = 1, inplace=True)\n",
        "edge_list_df_check = edge_list_df_check.merge(node_species_df, how = 'left', left_on = 'dst', right_on = 'node_id')\n",
        "edge_list_df_check.drop('node_id', axis = 1, inplace=True)\n",
        "#edge_list_df_check.head()\n",
        "print(np.mean(edge_list_df_check['node_species_x']==edge_list_df_check['node_species_y']))\n",
        "print(np.mean(edge_list_df_check['node_species_x']!=edge_list_df_check['node_species_y']))"
      ],
      "execution_count": 4,
      "outputs": [
        {
          "output_type": "stream",
          "name": "stdout",
          "text": [
            "0.8059610954678583\n"
          ]
        },
        {
          "output_type": "stream",
          "name": "stdout",
          "text": [
            "0.1940389045321417\n"
          ]
        }
      ]
    },
    {
      "cell_type": "code",
      "metadata": {
        "originalKey": "c461fd0f-03e0-4d4f-ae6f-09db96c3ed20",
        "showInput": true,
        "customInput": null,
        "collapsed": false,
        "requestMsgId": "b8ea59ce-9b71-43d9-9cb3-d720c3225b60",
        "executionStartTime": 1683912357177,
        "executionStopTime": 1683912368651
      },
      "source": [
        "# edge weights\n",
        "edge_w = pd.DataFrame(g['edge_feat'])\n",
        "w0 = np.mean(edge_w,1) # average edge weight\n",
        "#w0 = edge_w[3]\n",
        "edge_list_df['weight'] = w0\n",
        "edge_list_df.head()"
      ],
      "execution_count": 5,
      "outputs": [
        {
          "output_type": "execute_result",
          "data": {
            "text/plain": "     src     dst  weight\n0      1   96401  0.0635\n1  96401       1  0.0635\n2      1   68343  0.0635\n3  68343       1  0.0635\n4      1  125069  0.0635",
            "text/html": "<div>\n<style scoped>\n    .dataframe tbody tr th:only-of-type {\n        vertical-align: middle;\n    }\n\n    .dataframe tbody tr th {\n        vertical-align: top;\n    }\n\n    .dataframe thead th {\n        text-align: right;\n    }\n</style>\n<table border=\"1\" class=\"dataframe\">\n  <thead>\n    <tr style=\"text-align: right;\">\n      <th></th>\n      <th>src</th>\n      <th>dst</th>\n      <th>weight</th>\n    </tr>\n  </thead>\n  <tbody>\n    <tr>\n      <th>0</th>\n      <td>1</td>\n      <td>96401</td>\n      <td>0.0635</td>\n    </tr>\n    <tr>\n      <th>1</th>\n      <td>96401</td>\n      <td>1</td>\n      <td>0.0635</td>\n    </tr>\n    <tr>\n      <th>2</th>\n      <td>1</td>\n      <td>68343</td>\n      <td>0.0635</td>\n    </tr>\n    <tr>\n      <th>3</th>\n      <td>68343</td>\n      <td>1</td>\n      <td>0.0635</td>\n    </tr>\n    <tr>\n      <th>4</th>\n      <td>1</td>\n      <td>125069</td>\n      <td>0.0635</td>\n    </tr>\n  </tbody>\n</table>\n</div>",
            "application/vnd.dataresource+json": {
              "schema": {
                "fields": [
                  {
                    "name": "index",
                    "type": "integer"
                  },
                  {
                    "name": "src",
                    "type": "integer"
                  },
                  {
                    "name": "dst",
                    "type": "integer"
                  },
                  {
                    "name": "weight",
                    "type": "number"
                  }
                ],
                "primaryKey": [
                  "index"
                ],
                "pandas_version": "0.20.0"
              },
              "data": [
                {
                  "index": 0,
                  "src": 1,
                  "dst": 96401,
                  "weight": 0.0634999946
                },
                {
                  "index": 1,
                  "src": 96401,
                  "dst": 1,
                  "weight": 0.0634999946
                },
                {
                  "index": 2,
                  "src": 1,
                  "dst": 68343,
                  "weight": 0.0634999946
                },
                {
                  "index": 3,
                  "src": 68343,
                  "dst": 1,
                  "weight": 0.0634999946
                },
                {
                  "index": 4,
                  "src": 1,
                  "dst": 125069,
                  "weight": 0.0634999946
                }
              ]
            }
          },
          "metadata": {
            "bento_obj_id": "140226273894752"
          },
          "execution_count": 5
        }
      ]
    },
    {
      "cell_type": "code",
      "metadata": {
        "originalKey": "b42334c1-79d5-4dec-bffa-5735d51f7571",
        "showInput": true,
        "customInput": null,
        "collapsed": false,
        "requestMsgId": "81193312-22dc-46b9-8624-eb435cb3d8e4",
        "executionStartTime": 1683912368707,
        "executionStopTime": 1683912370691
      },
      "source": [
        "plt.hist(edge_list_df.weight)\n",
        "plt.show()"
      ],
      "execution_count": 6,
      "outputs": [
        {
          "output_type": "display_data",
          "data": {
            "text/plain": "<Figure size 432x288 with 1 Axes>",
            "image/png": "[encoded data removed]"
          },
          "metadata": {
            "bento_obj_id": "140224973625904",
            "needs_background": "light"
          }
        }
      ]
    },
    {
      "cell_type": "code",
      "metadata": {
        "originalKey": "55f05802-a355-4035-aef1-0f977e88169d",
        "showInput": true,
        "customInput": null,
        "collapsed": false,
        "requestMsgId": "1967af4a-8e40-4103-9601-0ceaffc558de",
        "executionStartTime": 1683912370783,
        "executionStopTime": 1683912422342
      },
      "source": [
        "y0 = pd.DataFrame(y)\n",
        "y0 = y0.iloc[:, 0:25]  # part I\n",
        "#y0 = y0.iloc[:,25:50] # part II\n",
        "#y0 = y0.iloc[:,50:112] # part II\n",
        "y0[\"node_id\"] = range(len(y0[24]))\n",
        "\n",
        "split_idx = dataset.get_idx_split()\n",
        "train_idx, valid_idx, test_idx = (\n",
        "    split_idx[\"train\"],\n",
        "    split_idx[\"valid\"],\n",
        "    split_idx[\"test\"],\n",
        ")\n",
        "\n",
        "X_train = y0[\"node_id\"].iloc[train_idx]\n",
        "y_train = y0.iloc[train_idx]\n",
        "\n",
        "X_valid = y0[\"node_id\"].iloc[valid_idx]\n",
        "X_test = y0[\"node_id\"].iloc[test_idx]\n",
        "y_valid = y0.iloc[valid_idx]\n",
        "y_test = y0.iloc[test_idx]\n",
        "\n",
        "# merge in labels for training nodes on a user's connections\n",
        "relevant_edges_tmp = edge_list_df.merge(\n",
        "    y_train, left_on=\"dst\", right_on=\"node_id\", how=\"left\"\n",
        ")"
      ],
      "execution_count": 7,
      "outputs": []
    },
    {
      "cell_type": "code",
      "metadata": {
        "originalKey": "a55ccd83-9f41-4602-8b03-9949de2b8af9",
        "showInput": true,
        "customInput": null
      },
      "source": [
        ""
      ],
      "execution_count": null,
      "outputs": []
    },
    {
      "cell_type": "code",
      "metadata": {
        "originalKey": "5f6e0ac8-4bcd-4eeb-9a90-8f3de6f3a162",
        "showInput": true,
        "customInput": null,
        "collapsed": false,
        "requestMsgId": "0b260da7-d299-4981-aa4e-5a229f009a5c",
        "executionStartTime": 1683912426934,
        "executionStopTime": 1683916381422
      },
      "source": [
        "# set-up loop\n",
        "rocauc_v2_ud_w = []\n",
        "\n",
        "\n",
        "for i in range(0, 25):  # part I\n",
        "    # for i in range(25, 50): # part II\n",
        "    # for i in range(50,112): # part III\n",
        "    print(i)\n",
        "    relevant_edges = relevant_edges_tmp[[\"src\", \"dst\", \"weight\", \"node_id\", i]]\n",
        "    relevant_edges.columns = [\"src\", \"dst\", \"weight\", \"node_id\", \"y\"]\n",
        "    label1 = relevant_edges.groupby([\"src\"])[\"y\"].sum().reset_index()\n",
        "    labeltotal = relevant_edges.groupby([\"src\"])[\"y\"].count().reset_index()\n",
        "    relevant_edgelist = labeltotal.merge(label1, on=\"src\")\n",
        "    relevant_edgelist[\"label_0\"] = relevant_edgelist[\"y_x\"] - relevant_edgelist[\"y_y\"]\n",
        "    relevant_edgelist.rename(columns={\"y_y\": \"label_1\"}, inplace=True)\n",
        "    relevant_edgelist.drop([\"y_x\"], axis=1, inplace=True)\n",
        "\n",
        "    ## v1 - undirected, weighted\n",
        "    normalizer = pd.DataFrame(y_train[i].value_counts(normalize=True, ascending=True))\n",
        "\n",
        "    # step 1 - one hop scores\n",
        "    step1_one_hop_scores = pd.DataFrame(\n",
        "        {\n",
        "            \"src\": relevant_edgelist.src,\n",
        "            \"frac\": np.log(\n",
        "                (relevant_edgelist[\"label_1\"] + 1) / (relevant_edgelist[\"label_0\"] + 1)\n",
        "            )\n",
        "            * list((normalizer.iloc[0]) / (normalizer.iloc[1]))[0],\n",
        "        }\n",
        "    )\n",
        "\n",
        "    ## v2* undirected, weighted\n",
        "    W = 4\n",
        "    interval = pd.DataFrame(\n",
        "        relevant_edges.weight.quantile([0.25, 0.5, 0.75])\n",
        "    ).reset_index()\n",
        "    interval.columns = [\"interval\", \"weight\"]\n",
        "\n",
        "    relevant_edgelist_dict = {}\n",
        "    for w in range(W):\n",
        "        if w == 0:\n",
        "            idx = relevant_edges.weight <= interval.weight[0]\n",
        "        if w == 1:\n",
        "            idx = (relevant_edges.weight > interval.weight[0]) & (\n",
        "                relevant_edges.weight <= interval.weight[1]\n",
        "            )\n",
        "        if w == 2:\n",
        "            idx = (relevant_edges.weight > interval.weight[1]) & (\n",
        "                relevant_edges.weight <= interval.weight[2]\n",
        "            )\n",
        "        if w == 3:\n",
        "            idx = relevant_edges.weight > interval.weight[2]\n",
        "\n",
        "        label1 = (\n",
        "            relevant_edges.iloc[np.where(idx)[0]]\n",
        "            .groupby([\"src\"])[\"y\"]\n",
        "            .sum()\n",
        "            .reset_index()\n",
        "        )\n",
        "        labeltotal = (\n",
        "            relevant_edges.iloc[np.where(idx)[0]]\n",
        "            .groupby([\"src\"])[\"y\"]\n",
        "            .count()\n",
        "            .reset_index()\n",
        "        )\n",
        "\n",
        "        relevant_edgelist = labeltotal.merge(label1, on=\"src\", how=\"outer\").fillna(0)\n",
        "        relevant_edgelist[\"label_0\"] = (\n",
        "            relevant_edgelist[\"y_x\"] - relevant_edgelist[\"y_y\"]\n",
        "        )\n",
        "        relevant_edgelist.rename(columns={\"y_y\": \"label_1\"}, inplace=True)\n",
        "        relevant_edgelist.drop([\"y_x\"], axis=1, inplace=True)\n",
        "        relevant_edgelist.columns = [\"src\", \"label_1_\" + str(w), \"label_0_\" + str(w)]\n",
        "        relevant_edgelist_dict[w] = relevant_edgelist\n",
        "\n",
        "    merged_edgelist = relevant_edgelist_dict[0].merge(\n",
        "        relevant_edgelist_dict[1], on=\"src\", how=\"outer\"\n",
        "    )\n",
        "    merged_edgelist = merged_edgelist.merge(\n",
        "        relevant_edgelist_dict[2], on=\"src\", how=\"outer\"\n",
        "    )\n",
        "    merged_edgelist = merged_edgelist.merge(\n",
        "        relevant_edgelist_dict[3], on=\"src\", how=\"outer\"\n",
        "    ).fillna(0)\n",
        "    normalizer = pd.DataFrame(y_train[i].value_counts(normalize=True, ascending=True))\n",
        "    step1_one_hop_scores = pd.DataFrame(\n",
        "        {\n",
        "            \"src\": merged_edgelist.src,\n",
        "            \"frac0\": np.log(\n",
        "                (merged_edgelist[\"label_1_0\"] + 1) / (merged_edgelist[\"label_0_0\"] + 1)\n",
        "            )\n",
        "            * list((normalizer.iloc[0]) / (normalizer.iloc[1]))[0],\n",
        "            \"frac1\": np.log(\n",
        "                (merged_edgelist[\"label_1_1\"] + 1) / (merged_edgelist[\"label_0_1\"] + 1)\n",
        "            )\n",
        "            * list((normalizer.iloc[0] / normalizer.iloc[1]))[0],\n",
        "            \"frac2\": np.log(\n",
        "                (merged_edgelist[\"label_1_2\"] + 1) / (merged_edgelist[\"label_0_2\"] + 1)\n",
        "            )\n",
        "            * list((normalizer.iloc[0] / normalizer.iloc[1]))[0],\n",
        "            \"frac3\": np.log(\n",
        "                (merged_edgelist[\"label_1_3\"] + 1) / (merged_edgelist[\"label_0_3\"] + 1)\n",
        "            )\n",
        "            * list((normalizer.iloc[0] / normalizer.iloc[1]))[0],\n",
        "        }\n",
        "    )\n",
        "    two_hop_stg = relevant_edges.merge(\n",
        "        step1_one_hop_scores, left_on=\"dst\", right_on=\"src\", how=\"inner\"\n",
        "    )\n",
        "    interval = pd.DataFrame(\n",
        "        two_hop_stg.weight.quantile([0.25, 0.5, 0.75])\n",
        "    ).reset_index()\n",
        "    interval.columns = [\"interval\", \"weight\"]\n",
        "\n",
        "    two_0 = (\n",
        "        two_hop_stg[two_hop_stg.weight <= interval.weight[0]]\n",
        "        .groupby([\"src_x\"])[\"frac0\"]\n",
        "        .sum()\n",
        "        .reset_index()\n",
        "    )\n",
        "    # Version II*\n",
        "    two_0_new1 = (\n",
        "        two_hop_stg[two_hop_stg.weight <= interval.weight[0]]\n",
        "        .groupby([\"src_x\"])[\"frac1\"]\n",
        "        .sum()\n",
        "        .reset_index()\n",
        "    )\n",
        "    two_0_new2 = (\n",
        "        two_hop_stg[two_hop_stg.weight <= interval.weight[0]]\n",
        "        .groupby([\"src_x\"])[\"frac2\"]\n",
        "        .sum()\n",
        "        .reset_index()\n",
        "    )\n",
        "    two_0_new3 = (\n",
        "        two_hop_stg[two_hop_stg.weight <= interval.weight[0]]\n",
        "        .groupby([\"src_x\"])[\"frac3\"]\n",
        "        .sum()\n",
        "        .reset_index()\n",
        "    )\n",
        "\n",
        "    two_1 = (\n",
        "        two_hop_stg[\n",
        "            (two_hop_stg.weight > interval.weight[0])\n",
        "            & (two_hop_stg.weight <= interval.weight[1])\n",
        "        ]\n",
        "        .groupby([\"src_x\"])[\"frac1\"]\n",
        "        .sum()\n",
        "        .reset_index()\n",
        "    )\n",
        "    # Version II*\n",
        "    two_1_new1 = (\n",
        "        two_hop_stg[\n",
        "            (two_hop_stg.weight > interval.weight[0])\n",
        "            & (two_hop_stg.weight <= interval.weight[1])\n",
        "        ]\n",
        "        .groupby([\"src_x\"])[\"frac0\"]\n",
        "        .sum()\n",
        "        .reset_index()\n",
        "    )\n",
        "    two_1_new2 = (\n",
        "        two_hop_stg[\n",
        "            (two_hop_stg.weight > interval.weight[0])\n",
        "            & (two_hop_stg.weight <= interval.weight[1])\n",
        "        ]\n",
        "        .groupby([\"src_x\"])[\"frac2\"]\n",
        "        .sum()\n",
        "        .reset_index()\n",
        "    )\n",
        "    two_1_new3 = (\n",
        "        two_hop_stg[\n",
        "            (two_hop_stg.weight > interval.weight[0])\n",
        "            & (two_hop_stg.weight <= interval.weight[1])\n",
        "        ]\n",
        "        .groupby([\"src_x\"])[\"frac3\"]\n",
        "        .sum()\n",
        "        .reset_index()\n",
        "    )\n",
        "\n",
        "    two_2 = (\n",
        "        two_hop_stg[\n",
        "            (two_hop_stg.weight > interval.weight[1])\n",
        "            & (two_hop_stg.weight <= interval.weight[2])\n",
        "        ]\n",
        "        .groupby([\"src_x\"])[\"frac2\"]\n",
        "        .sum()\n",
        "        .reset_index()\n",
        "    )\n",
        "\n",
        "    # Version II*\n",
        "    two_2_new1 = (\n",
        "        two_hop_stg[\n",
        "            (two_hop_stg.weight > interval.weight[1])\n",
        "            & (two_hop_stg.weight <= interval.weight[2])\n",
        "        ]\n",
        "        .groupby([\"src_x\"])[\"frac0\"]\n",
        "        .sum()\n",
        "        .reset_index()\n",
        "    )\n",
        "    two_2_new2 = (\n",
        "        two_hop_stg[\n",
        "            (two_hop_stg.weight > interval.weight[1])\n",
        "            & (two_hop_stg.weight <= interval.weight[2])\n",
        "        ]\n",
        "        .groupby([\"src_x\"])[\"frac1\"]\n",
        "        .sum()\n",
        "        .reset_index()\n",
        "    )\n",
        "    two_2_new3 = (\n",
        "        two_hop_stg[\n",
        "            (two_hop_stg.weight > interval.weight[1])\n",
        "            & (two_hop_stg.weight <= interval.weight[2])\n",
        "        ]\n",
        "        .groupby([\"src_x\"])[\"frac3\"]\n",
        "        .sum()\n",
        "        .reset_index()\n",
        "    )\n",
        "\n",
        "    two_3 = (\n",
        "        two_hop_stg[(two_hop_stg.weight > interval.weight[2])]\n",
        "        .groupby([\"src_x\"])[\"frac3\"]\n",
        "        .sum()\n",
        "        .reset_index()\n",
        "    )\n",
        "\n",
        "    # Version II*\n",
        "    two_3_new1 = (\n",
        "        two_hop_stg[(two_hop_stg.weight > interval.weight[2])]\n",
        "        .groupby([\"src_x\"])[\"frac0\"]\n",
        "        .sum()\n",
        "        .reset_index()\n",
        "    )\n",
        "    two_3_new2 = (\n",
        "        two_hop_stg[(two_hop_stg.weight > interval.weight[2])]\n",
        "        .groupby([\"src_x\"])[\"frac1\"]\n",
        "        .sum()\n",
        "        .reset_index()\n",
        "    )\n",
        "    two_3_new3 = (\n",
        "        two_hop_stg[(two_hop_stg.weight > interval.weight[2])]\n",
        "        .groupby([\"src_x\"])[\"frac2\"]\n",
        "        .sum()\n",
        "        .reset_index()\n",
        "    )\n",
        "\n",
        "    two_hop_v2 = two_0.merge(two_1, how=\"outer\", on=\"src_x\").fillna(0)\n",
        "    two_hop_v2 = two_hop_v2.merge(two_2, how=\"outer\", on=\"src_x\").fillna(0)\n",
        "    two_hop_v2 = two_hop_v2.merge(two_3, how=\"outer\", on=\"src_x\").fillna(0)\n",
        "\n",
        "    # Version II*\n",
        "    two_hop_v2 = two_hop_v2.merge(two_1_new1, how=\"outer\", on=\"src_x\").fillna(0)\n",
        "    two_hop_v2 = two_hop_v2.merge(two_1_new2, how=\"outer\", on=\"src_x\").fillna(0)\n",
        "    two_hop_v2 = two_hop_v2.merge(two_1_new3, how=\"outer\", on=\"src_x\").fillna(0)\n",
        "    two_hop_v2 = two_hop_v2.merge(two_2_new1, how=\"outer\", on=\"src_x\").fillna(0)\n",
        "    two_hop_v2 = two_hop_v2.merge(two_2_new2, how=\"outer\", on=\"src_x\").fillna(0)\n",
        "    two_hop_v2 = two_hop_v2.merge(two_2_new3, how=\"outer\", on=\"src_x\").fillna(0)\n",
        "    two_hop_v2 = two_hop_v2.merge(two_3_new1, how=\"outer\", on=\"src_x\").fillna(0)\n",
        "    two_hop_v2 = two_hop_v2.merge(two_3_new2, how=\"outer\", on=\"src_x\").fillna(0)\n",
        "    two_hop_v2 = two_hop_v2.merge(two_3_new3, how=\"outer\", on=\"src_x\").fillna(0)\n",
        "    two_hop_v2 = two_hop_v2.merge(two_0_new1, how=\"outer\", on=\"src_x\").fillna(0)\n",
        "    two_hop_v2 = two_hop_v2.merge(two_0_new2, how=\"outer\", on=\"src_x\").fillna(0)\n",
        "    two_hop_v2 = two_hop_v2.merge(two_0_new3, how=\"outer\", on=\"src_x\").fillna(0)\n",
        "\n",
        "    two_hop_v2.columns = [\n",
        "        \"src_x\",\n",
        "        \"frac0\",\n",
        "        \"frac1\",\n",
        "        \"frac2\",\n",
        "        \"frac3\",\n",
        "        \"frac4\",\n",
        "        \"frac5\",\n",
        "        \"frac6\",\n",
        "        \"frac7\",\n",
        "        \"frac8\",\n",
        "        \"frac9\",\n",
        "        \"frac10\",\n",
        "        \"frac11\",\n",
        "        \"frac12\",\n",
        "        \"frac13\",\n",
        "        \"frac14\",\n",
        "        \"frac15\",\n",
        "    ]\n",
        "    two_hop_v2_valid = two_hop_v2.merge(\n",
        "        y_valid, left_on=\"src_x\", right_on=\"node_id\", how=\"right\"\n",
        "    )\n",
        "\n",
        "    pred_v2 = y_test.merge(two_hop_v2, right_on=\"src_x\", left_on=\"node_id\", how=\"left\")\n",
        "    clf = LogisticRegression(random_state=0).fit(\n",
        "        two_hop_v2_valid[\n",
        "            [\n",
        "                \"frac0\",\n",
        "                \"frac1\",\n",
        "                \"frac2\",\n",
        "                \"frac3\",\n",
        "                \"frac4\",\n",
        "                \"frac5\",\n",
        "                \"frac6\",\n",
        "                \"frac7\",\n",
        "                \"frac8\",\n",
        "                \"frac9\",\n",
        "                \"frac10\",\n",
        "                \"frac11\",\n",
        "                \"frac12\",\n",
        "                \"frac13\",\n",
        "                \"frac14\",\n",
        "                \"frac15\",\n",
        "            ]\n",
        "        ],\n",
        "        two_hop_v2_valid[i],\n",
        "    )\n",
        "\n",
        "    print(\n",
        "        \"roc-auc, v2: \",\n",
        "        roc_auc_score(\n",
        "            pred_v2[i],\n",
        "            clf.predict_proba(\n",
        "                pred_v2[\n",
        "                    [\n",
        "                        \"frac0\",\n",
        "                        \"frac1\",\n",
        "                        \"frac2\",\n",
        "                        \"frac3\",\n",
        "                        \"frac4\",\n",
        "                        \"frac5\",\n",
        "                        \"frac6\",\n",
        "                        \"frac7\",\n",
        "                        \"frac8\",\n",
        "                        \"frac9\",\n",
        "                        \"frac10\",\n",
        "                        \"frac11\",\n",
        "                        \"frac12\",\n",
        "                        \"frac13\",\n",
        "                        \"frac14\",\n",
        "                        \"frac15\",\n",
        "                    ]\n",
        "                ]\n",
        "            )[:, 1],\n",
        "        ),\n",
        "    )\n",
        "\n",
        "    rocauc_v2_ud_w.append(\n",
        "        roc_auc_score(\n",
        "            pred_v2[i],\n",
        "            clf.predict_proba(\n",
        "                pred_v2[\n",
        "                    [\n",
        "                        \"frac0\",\n",
        "                        \"frac1\",\n",
        "                        \"frac2\",\n",
        "                        \"frac3\",\n",
        "                        \"frac4\",\n",
        "                        \"frac5\",\n",
        "                        \"frac6\",\n",
        "                        \"frac7\",\n",
        "                        \"frac8\",\n",
        "                        \"frac9\",\n",
        "                        \"frac10\",\n",
        "                        \"frac11\",\n",
        "                        \"frac12\",\n",
        "                        \"frac13\",\n",
        "                        \"frac14\",\n",
        "                        \"frac15\",\n",
        "                    ]\n",
        "                ]\n",
        "            )[:, 1],\n",
        "        )\n",
        "    )\n",
        "\n",
        "    print(\"************************************************************************\")"
      ],
      "execution_count": 8,
      "outputs": [
        {
          "output_type": "stream",
          "name": "stdout",
          "text": [
            "0\n"
          ]
        },
        {
          "output_type": "stream",
          "name": "stdout",
          "text": [
            "roc-auc, v2:  0.6502859184753726\n************************************************************************\n1\n"
          ]
        },
        {
          "output_type": "stream",
          "name": "stdout",
          "text": [
            "roc-auc, v2:  0.6538896803615811\n************************************************************************\n2\n"
          ]
        },
        {
          "output_type": "stream",
          "name": "stdout",
          "text": [
            "roc-auc, v2:  0.6792864866922101\n************************************************************************\n3\n"
          ]
        },
        {
          "output_type": "stream",
          "name": "stdout",
          "text": [
            "roc-auc, v2:  0.7397756910706484\n************************************************************************\n4\n"
          ]
        },
        {
          "output_type": "stream",
          "name": "stdout",
          "text": [
            "roc-auc, v2:  0.7477748040926062\n************************************************************************\n5\n"
          ]
        },
        {
          "output_type": "stream",
          "name": "stdout",
          "text": [
            "roc-auc, v2:  0.6237771424072732\n************************************************************************\n6\n"
          ]
        },
        {
          "output_type": "stream",
          "name": "stdout",
          "text": [
            "roc-auc, v2:  0.7445108792642362\n************************************************************************\n7\n"
          ]
        },
        {
          "output_type": "stream",
          "name": "stdout",
          "text": [
            "roc-auc, v2:  0.6212310899066837\n************************************************************************\n8\n"
          ]
        },
        {
          "output_type": "stream",
          "name": "stdout",
          "text": [
            "roc-auc, v2:  0.7532930577313828\n************************************************************************\n9\n"
          ]
        },
        {
          "output_type": "stream",
          "name": "stdout",
          "text": [
            "roc-auc, v2:  0.6640081325036574\n************************************************************************\n10\n"
          ]
        },
        {
          "output_type": "stream",
          "name": "stdout",
          "text": [
            "roc-auc, v2:  0.7349486068424497\n************************************************************************\n11\n"
          ]
        },
        {
          "output_type": "stream",
          "name": "stdout",
          "text": [
            "roc-auc, v2:  0.6731747643528143\n************************************************************************\n12\n"
          ]
        },
        {
          "output_type": "stream",
          "name": "stdout",
          "text": [
            "roc-auc, v2:  0.692501753241543\n************************************************************************\n13\n"
          ]
        },
        {
          "output_type": "stream",
          "name": "stdout",
          "text": [
            "roc-auc, v2:  0.7836743127047701\n************************************************************************\n14\n"
          ]
        },
        {
          "output_type": "stream",
          "name": "stdout",
          "text": [
            "roc-auc, v2:  0.5925198431531329\n************************************************************************\n15\n"
          ]
        },
        {
          "output_type": "stream",
          "name": "stdout",
          "text": [
            "roc-auc, v2:  0.5911565003515182\n************************************************************************\n16\n"
          ]
        },
        {
          "output_type": "stream",
          "name": "stdout",
          "text": [
            "roc-auc, v2:  0.7607486487620603\n************************************************************************\n17\n"
          ]
        },
        {
          "output_type": "stream",
          "name": "stdout",
          "text": [
            "roc-auc, v2:  0.6742839309420001\n************************************************************************\n18\n"
          ]
        },
        {
          "output_type": "stream",
          "name": "stdout",
          "text": [
            "roc-auc, v2:  0.767429977421336\n************************************************************************\n19\n"
          ]
        },
        {
          "output_type": "stream",
          "name": "stdout",
          "text": [
            "roc-auc, v2:  0.6666817320963473\n************************************************************************\n20\n"
          ]
        },
        {
          "output_type": "stream",
          "name": "stdout",
          "text": [
            "roc-auc, v2:  0.6543830374004536\n************************************************************************\n21\n"
          ]
        },
        {
          "output_type": "stream",
          "name": "stdout",
          "text": [
            "roc-auc, v2:  0.7687187207077459\n************************************************************************\n22\n"
          ]
        },
        {
          "output_type": "stream",
          "name": "stdout",
          "text": [
            "roc-auc, v2:  0.7526713465476323\n************************************************************************\n23\n"
          ]
        },
        {
          "output_type": "stream",
          "name": "stdout",
          "text": [
            "roc-auc, v2:  0.7481672556841693\n************************************************************************\n24\n"
          ]
        },
        {
          "output_type": "stream",
          "name": "stdout",
          "text": [
            "roc-auc, v2:  0.6596957202662759\n************************************************************************\n"
          ]
        }
      ]
    },
    {
      "cell_type": "code",
      "metadata": {
        "originalKey": "70f0fa59-3f44-4889-b039-dea946481522",
        "showInput": true,
        "customInput": null,
        "collapsed": false,
        "requestMsgId": "70f0fa59-3f44-4889-b039-dea946481522",
        "executionStopTime": 1681073392922,
        "executionStartTime": 1681073392901
      },
      "source": [
        ""
      ],
      "execution_count": 9,
      "outputs": []
    },
    {
      "cell_type": "code",
      "metadata": {
        "originalKey": "a74c8a97-06ee-4ee0-8f9a-5789e0baa7a5",
        "showInput": true,
        "customInput": null
      },
      "source": [
        ""
      ],
      "execution_count": null,
      "outputs": []
    },
    {
      "cell_type": "code",
      "metadata": {
        "originalKey": "77c70b77-7840-46fe-9902-98cb4d1ee2ca",
        "showInput": true,
        "customInput": null,
        "collapsed": false,
        "requestMsgId": "77c70b77-7840-46fe-9902-98cb4d1ee2ca",
        "executionStartTime": 1681101778705,
        "executionStopTime": 1681101778859
      },
      "source": [
        "with open('rocauc_v2_ud_w_part1.npy', 'wb') as f:\n",
        "#with open('rocauc_v2_ud_w_part2.npy', 'wb') as f:\n",
        "#with open('rocauc_v2_ud_w_part3.npy', 'wb') as f:\n",
        "    np.save(f, rocauc_v2_ud_w)"
      ],
      "execution_count": 49,
      "outputs": []
    },
    {
      "cell_type": "code",
      "metadata": {
        "originalKey": "84a97f92-87fa-4cb3-af6e-29e300c2b684",
        "showInput": true,
        "customInput": null,
        "collapsed": false,
        "requestMsgId": "84a97f92-87fa-4cb3-af6e-29e300c2b684",
        "executionStartTime": 1680719763751,
        "executionStopTime": 1680719763901
      },
      "source": [
        ""
      ],
      "execution_count": 60,
      "outputs": []
    },
    {
      "cell_type": "code",
      "metadata": {
        "originalKey": "371df966-b2f0-4d0b-bd05-4ae363f499aa",
        "showInput": true,
        "customInput": null,
        "collapsed": false,
        "requestMsgId": "371df966-b2f0-4d0b-bd05-4ae363f499aa",
        "executionStartTime": 1680625683366,
        "executionStopTime": 1680625683374
      },
      "source": [
        ""
      ],
      "execution_count": 149,
      "outputs": []
    }
  ]
}
