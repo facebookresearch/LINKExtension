{
  "metadata": {
    "dataExplorerConfig": {},
    "bento_stylesheets": {
      "bento/extensions/flow/main.css": true,
      "bento/extensions/kernel_selector/main.css": true,
      "bento/extensions/kernel_ui/main.css": true,
      "bento/extensions/new_kernel/main.css": true,
      "bento/extensions/system_usage/main.css": true,
      "bento/extensions/theme/main.css": true
    },
    "kernelspec": {
      "display_name": "pytorch",
      "language": "python",
      "name": "bento_kernel_pytorch",
      "cinder_runtime": false,
      "ipyflow_runtime": false,
      "metadata": {
        "kernel_name": "bento_kernel_pytorch",
        "nightly_builds": true,
        "fbpkg_supported": true,
        "cinder_runtime": false,
        "ipyflow_runtime": false,
        "is_prebuilt": true
      }
    },
    "language_info": {
      "codemirror_mode": {
        "name": "ipython",
        "version": 3
      },
      "file_extension": ".py",
      "mimetype": "text/x-python",
      "name": "python",
      "nbconvert_exporter": "python",
      "pygments_lexer": "ipython3"
    },
    "last_server_session_id": "e5a2af04-74ab-45f1-bdb9-398ed1a6fe01",
    "last_kernel_id": "77658025-4392-4637-b04a-a67df86e7728",
    "last_base_url": "https://devvm751.nao0.facebook.com:8090/",
    "last_msg_id": "0214e377-821c1595e58c5cb277c5fd53_53",
    "outputWidgetContext": {}
  },
  "nbformat": 4,
  "nbformat_minor": 2,
  "cells": [
    {
      "cell_type": "markdown",
      "metadata": {
        "originalKey": "5957f11d-a880-46d6-ae07-1317ed977c0b",
        "showInput": false,
        "customInput": null
      },
      "source": [
        "Include results for Reference/Version I/Version II (we save as *_original.npy) on single layer networks"
      ]
    },
    {
      "cell_type": "code",
      "metadata": {
        "collapsed": false,
        "originalKey": "b0770e76-a736-4de9-a8ac-aaac214ac347",
        "requestMsgId": "65586e43-8c88-4b6b-9509-c38a3434ab2f",
        "executionStartTime": 1683659473063,
        "executionStopTime": 1683659475624
      },
      "source": [
        "# 4/6/23\n",
        "# KM Altenburger\n",
        "\n",
        "# steps for downloading repo internally; run w/ \"grasp_workflows kernel\"\n",
        "# sudo feature install ttls_fwdproxy\n",
        "# mgt import --src-type pypi sdist\n",
        "# mgt import --src-type pypi nvidia-cublas-cu11==11.10.3.66\n",
        "# mgt import --src-type pypi ogb\n",
        "\n",
        "import sys\n",
        "\n",
        "sys.path.insert(0, \"/home/kaltenburger/fbsource/ogb\")\n",
        "import matplotlib.pyplot as plt\n",
        "import networkx as nx\n",
        "import numpy as np\n",
        "import ogb\n",
        "import pandas as pd\n",
        "import torch\n",
        "#import torch_geometric\n",
        "from ogb.nodeproppred import NodePropPredDataset\n",
        "from sklearn.linear_model import LogisticRegression\n",
        "from sklearn.metrics import auc, log_loss, precision_recall_curve, roc_auc_score\n",
        "from sklearn.model_selection import train_test_split"
      ],
      "execution_count": 1,
      "outputs": [
        {
          "output_type": "stream",
          "name": "stderr",
          "text": [
            "\nBad key \"axes.color_cycle\" on line 214 in\n/home/kaltenburger/.matplotlib/matplotlibrc.\nYou probably need to get an updated matplotlibrc file from\nhttps://github.com/matplotlib/matplotlib/blob/v3.1.3/matplotlibrc.template\nor from the matplotlib source distribution\n"
          ]
        },
        {
          "output_type": "stream",
          "name": "stderr",
          "text": [
            "I0509 121113.853 _utils_internal.py:199] NCCL_DEBUG env var is set to None\n"
          ]
        },
        {
          "output_type": "stream",
          "name": "stderr",
          "text": [
            "I0509 121113.854 _utils_internal.py:217] NCCL_DEBUG is forced to WARN from None\n"
          ]
        }
      ]
    },
    {
      "cell_type": "markdown",
      "metadata": {
        "originalKey": "0eb50079-caca-4391-bdb5-32bf6d7eaabc",
        "showInput": false,
        "customInput": null
      },
      "source": [
        "### read & set-up dataset\n",
        ""
      ]
    },
    {
      "cell_type": "code",
      "metadata": {
        "originalKey": "fcb98803-6638-492e-a043-5b43532da1eb",
        "showInput": true,
        "customInput": null,
        "collapsed": false,
        "requestMsgId": "6be1ebdd-342a-420e-ae46-9501cbff320e",
        "executionStartTime": 1683642736540,
        "executionStopTime": 1683642752848
      },
      "source": [
        "dataset = NodePropPredDataset(name='ogbn-proteins')\n",
        "g = dataset.graph # get edgelist and graph metadata\n",
        "y = dataset.labels # outcomes\n",
        "node_species_df = pd.DataFrame({'node_id':range(len(g['node_species'].flatten())), 'node_species': g['node_species'].flatten()})\n",
        "node_species_df.head()"
      ],
      "execution_count": 2,
      "outputs": [
        {
          "output_type": "execute_result",
          "data": {
            "text/plain": "   node_id  node_species\n0        0          3702\n1        1          3702\n2        2          3702\n3        3          3702\n4        4          3702",
            "text/html": "<div>\n<style scoped>\n    .dataframe tbody tr th:only-of-type {\n        vertical-align: middle;\n    }\n\n    .dataframe tbody tr th {\n        vertical-align: top;\n    }\n\n    .dataframe thead th {\n        text-align: right;\n    }\n</style>\n<table border=\"1\" class=\"dataframe\">\n  <thead>\n    <tr style=\"text-align: right;\">\n      <th></th>\n      <th>node_id</th>\n      <th>node_species</th>\n    </tr>\n  </thead>\n  <tbody>\n    <tr>\n      <th>0</th>\n      <td>0</td>\n      <td>3702</td>\n    </tr>\n    <tr>\n      <th>1</th>\n      <td>1</td>\n      <td>3702</td>\n    </tr>\n    <tr>\n      <th>2</th>\n      <td>2</td>\n      <td>3702</td>\n    </tr>\n    <tr>\n      <th>3</th>\n      <td>3</td>\n      <td>3702</td>\n    </tr>\n    <tr>\n      <th>4</th>\n      <td>4</td>\n      <td>3702</td>\n    </tr>\n  </tbody>\n</table>\n</div>",
            "application/vnd.dataresource+json": {
              "schema": {
                "fields": [
                  {
                    "name": "index",
                    "type": "integer"
                  },
                  {
                    "name": "node_id",
                    "type": "integer"
                  },
                  {
                    "name": "node_species",
                    "type": "integer"
                  }
                ],
                "primaryKey": [
                  "index"
                ],
                "pandas_version": "0.20.0"
              },
              "data": [
                {
                  "index": 0,
                  "node_id": 0,
                  "node_species": 3702
                },
                {
                  "index": 1,
                  "node_id": 1,
                  "node_species": 3702
                },
                {
                  "index": 2,
                  "node_id": 2,
                  "node_species": 3702
                },
                {
                  "index": 3,
                  "node_id": 3,
                  "node_species": 3702
                },
                {
                  "index": 4,
                  "node_id": 4,
                  "node_species": 3702
                }
              ]
            }
          },
          "metadata": {
            "bento_obj_id": "139620749851088"
          },
          "execution_count": 2
        }
      ]
    },
    {
      "cell_type": "code",
      "metadata": {
        "originalKey": "a39b469c-0af6-40fe-9cd7-76818ef64907",
        "showInput": true,
        "customInput": null,
        "collapsed": false,
        "requestMsgId": "2c4fd914-ec68-44fd-a8f5-e87095d4626f",
        "executionStartTime": 1683642752864,
        "executionStopTime": 1683642752877
      },
      "source": [
        "# create edgelist\n",
        "edge_list_df = pd.DataFrame(g[\"edge_index\"].T)\n",
        "edge_list_df.columns = ['src','dst']\n",
        "edge_list_df.head()"
      ],
      "execution_count": 3,
      "outputs": [
        {
          "output_type": "execute_result",
          "data": {
            "text/plain": "     src     dst\n0      1   96401\n1  96401       1\n2      1   68343\n3  68343       1\n4      1  125069",
            "text/html": "<div>\n<style scoped>\n    .dataframe tbody tr th:only-of-type {\n        vertical-align: middle;\n    }\n\n    .dataframe tbody tr th {\n        vertical-align: top;\n    }\n\n    .dataframe thead th {\n        text-align: right;\n    }\n</style>\n<table border=\"1\" class=\"dataframe\">\n  <thead>\n    <tr style=\"text-align: right;\">\n      <th></th>\n      <th>src</th>\n      <th>dst</th>\n    </tr>\n  </thead>\n  <tbody>\n    <tr>\n      <th>0</th>\n      <td>1</td>\n      <td>96401</td>\n    </tr>\n    <tr>\n      <th>1</th>\n      <td>96401</td>\n      <td>1</td>\n    </tr>\n    <tr>\n      <th>2</th>\n      <td>1</td>\n      <td>68343</td>\n    </tr>\n    <tr>\n      <th>3</th>\n      <td>68343</td>\n      <td>1</td>\n    </tr>\n    <tr>\n      <th>4</th>\n      <td>1</td>\n      <td>125069</td>\n    </tr>\n  </tbody>\n</table>\n</div>",
            "application/vnd.dataresource+json": {
              "schema": {
                "fields": [
                  {
                    "name": "index",
                    "type": "integer"
                  },
                  {
                    "name": "src",
                    "type": "integer"
                  },
                  {
                    "name": "dst",
                    "type": "integer"
                  }
                ],
                "primaryKey": [
                  "index"
                ],
                "pandas_version": "0.20.0"
              },
              "data": [
                {
                  "index": 0,
                  "src": 1,
                  "dst": 96401
                },
                {
                  "index": 1,
                  "src": 96401,
                  "dst": 1
                },
                {
                  "index": 2,
                  "src": 1,
                  "dst": 68343
                },
                {
                  "index": 3,
                  "src": 68343,
                  "dst": 1
                },
                {
                  "index": 4,
                  "src": 1,
                  "dst": 125069
                }
              ]
            }
          },
          "metadata": {
            "bento_obj_id": "139620749851136"
          },
          "execution_count": 3
        }
      ]
    },
    {
      "cell_type": "code",
      "metadata": {
        "originalKey": "3640e5c9-6027-411f-a5d4-a7a04906f996",
        "showInput": true,
        "customInput": null,
        "collapsed": false,
        "requestMsgId": "105520ce-c804-4fc5-873e-9a33d0541ebc",
        "executionStartTime": 1683642752950,
        "executionStopTime": 1683642811534
      },
      "source": [
        "# sanity check on within- vs. between-species connections\n",
        "edge_list_df_check = edge_list_df.merge(node_species_df, how = 'left', left_on = 'src', right_on = 'node_id')\n",
        "edge_list_df_check.drop('node_id', axis = 1, inplace=True)\n",
        "edge_list_df_check = edge_list_df_check.merge(node_species_df, how = 'left', left_on = 'dst', right_on = 'node_id')\n",
        "edge_list_df_check.drop('node_id', axis = 1, inplace=True)\n",
        "#edge_list_df_check.head()\n",
        "print(np.mean(edge_list_df_check['node_species_x']==edge_list_df_check['node_species_y']))\n",
        "print(np.mean(edge_list_df_check['node_species_x']!=edge_list_df_check['node_species_y']))"
      ],
      "execution_count": 4,
      "outputs": [
        {
          "output_type": "stream",
          "name": "stdout",
          "text": [
            "0.8059610954678583\n"
          ]
        },
        {
          "output_type": "stream",
          "name": "stdout",
          "text": [
            "0.1940389045321417\n"
          ]
        }
      ]
    },
    {
      "cell_type": "code",
      "metadata": {
        "originalKey": "855ffa9e-bd5c-4924-8d54-6a09b160e961",
        "showInput": true,
        "customInput": null,
        "collapsed": false,
        "requestMsgId": "1a34c468-25ab-4f63-9a26-5a34e29816f8",
        "executionStartTime": 1683642811577,
        "executionStopTime": 1683642822125
      },
      "source": [
        "# edge weights\n",
        "edge_w = pd.DataFrame(g['edge_feat'])\n",
        "w0 = np.mean(edge_w,1) # average edge weight\n",
        "#w0 = edge_w[3]\n",
        "edge_list_df['weight'] = w0\n",
        "edge_list_df.head()"
      ],
      "execution_count": 5,
      "outputs": [
        {
          "output_type": "execute_result",
          "data": {
            "text/plain": "     src     dst  weight\n0      1   96401  0.0635\n1  96401       1  0.0635\n2      1   68343  0.0635\n3  68343       1  0.0635\n4      1  125069  0.0635",
            "text/html": "<div>\n<style scoped>\n    .dataframe tbody tr th:only-of-type {\n        vertical-align: middle;\n    }\n\n    .dataframe tbody tr th {\n        vertical-align: top;\n    }\n\n    .dataframe thead th {\n        text-align: right;\n    }\n</style>\n<table border=\"1\" class=\"dataframe\">\n  <thead>\n    <tr style=\"text-align: right;\">\n      <th></th>\n      <th>src</th>\n      <th>dst</th>\n      <th>weight</th>\n    </tr>\n  </thead>\n  <tbody>\n    <tr>\n      <th>0</th>\n      <td>1</td>\n      <td>96401</td>\n      <td>0.0635</td>\n    </tr>\n    <tr>\n      <th>1</th>\n      <td>96401</td>\n      <td>1</td>\n      <td>0.0635</td>\n    </tr>\n    <tr>\n      <th>2</th>\n      <td>1</td>\n      <td>68343</td>\n      <td>0.0635</td>\n    </tr>\n    <tr>\n      <th>3</th>\n      <td>68343</td>\n      <td>1</td>\n      <td>0.0635</td>\n    </tr>\n    <tr>\n      <th>4</th>\n      <td>1</td>\n      <td>125069</td>\n      <td>0.0635</td>\n    </tr>\n  </tbody>\n</table>\n</div>",
            "application/vnd.dataresource+json": {
              "schema": {
                "fields": [
                  {
                    "name": "index",
                    "type": "integer"
                  },
                  {
                    "name": "src",
                    "type": "integer"
                  },
                  {
                    "name": "dst",
                    "type": "integer"
                  },
                  {
                    "name": "weight",
                    "type": "number"
                  }
                ],
                "primaryKey": [
                  "index"
                ],
                "pandas_version": "0.20.0"
              },
              "data": [
                {
                  "index": 0,
                  "src": 1,
                  "dst": 96401,
                  "weight": 0.0634999946
                },
                {
                  "index": 1,
                  "src": 96401,
                  "dst": 1,
                  "weight": 0.0634999946
                },
                {
                  "index": 2,
                  "src": 1,
                  "dst": 68343,
                  "weight": 0.0634999946
                },
                {
                  "index": 3,
                  "src": 68343,
                  "dst": 1,
                  "weight": 0.0634999946
                },
                {
                  "index": 4,
                  "src": 1,
                  "dst": 125069,
                  "weight": 0.0634999946
                }
              ]
            }
          },
          "metadata": {
            "bento_obj_id": "139620748944192"
          },
          "execution_count": 5
        }
      ]
    },
    {
      "cell_type": "code",
      "metadata": {
        "originalKey": "4360d77d-bd3f-44f8-bde2-46202e5e863d",
        "showInput": true,
        "customInput": null,
        "collapsed": false,
        "requestMsgId": "75b8b691-3d91-4855-beb7-e50c7f53a2c6",
        "executionStartTime": 1683642822170,
        "executionStopTime": 1683642824290
      },
      "source": [
        "plt.hist(edge_list_df.weight)\n",
        "plt.show()"
      ],
      "execution_count": 6,
      "outputs": [
        {
          "output_type": "display_data",
          "data": {
            "text/plain": "<Figure size 432x288 with 1 Axes>",
            "image/png": "[encoded data removed]"
          },
          "metadata": {
            "bento_obj_id": "139621020229696",
            "needs_background": "light"
          }
        }
      ]
    },
    {
      "cell_type": "code",
      "metadata": {
        "originalKey": "5c562d1e-9fc3-4212-a8cc-2a40e87f2bac",
        "showInput": true,
        "customInput": null,
        "collapsed": false,
        "requestMsgId": "08aa2293-3a69-4a87-82f4-27cc56bad6aa",
        "executionStartTime": 1683642838288,
        "executionStopTime": 1683642877559
      },
      "source": [
        "# about: there are 112 prediction tasks for the ogbn-protein dataset. we split this task into 3 parts and loop through each outcome. uncomment relevant parts of code to run.\n",
        "y0 = pd.DataFrame(y)\n",
        "y0 = y0.iloc[:, 0:25]  # part I\n",
        "#y0 = y0.iloc[:,25:50] # part II\n",
        "#y0 = y0.iloc[:,50:112] # part II\n",
        "y0[\"node_id\"] = range(len(y0[0])) # index to corresponding part I-III\n",
        "\n",
        "split_idx = dataset.get_idx_split()\n",
        "train_idx, valid_idx, test_idx = (\n",
        "    split_idx[\"train\"],\n",
        "    split_idx[\"valid\"],\n",
        "    split_idx[\"test\"],\n",
        ")\n",
        "\n",
        "X_train = y0[\"node_id\"].iloc[train_idx]\n",
        "y_train = y0.iloc[train_idx]\n",
        "\n",
        "X_valid = y0[\"node_id\"].iloc[valid_idx]\n",
        "X_test = y0[\"node_id\"].iloc[test_idx]\n",
        "y_valid = y0.iloc[valid_idx]\n",
        "y_test = y0.iloc[test_idx]\n",
        "\n",
        "# merge in labels for training nodes on a user's connections\n",
        "relevant_edges_tmp = edge_list_df.merge(\n",
        "    y_train, left_on=\"dst\", right_on=\"node_id\", how=\"left\"\n",
        ")"
      ],
      "execution_count": 8,
      "outputs": []
    },
    {
      "cell_type": "code",
      "metadata": {
        "originalKey": "9dcb7efd-6086-4bf1-82bb-6aaabe6ca9e1",
        "showInput": true,
        "customInput": null,
        "collapsed": false,
        "requestMsgId": "ba99d9ef-7dd6-448e-8eff-6d11ee304149",
        "executionStartTime": 1683643327750,
        "executionStopTime": 1683647453958
      },
      "source": [
        "# set-up loop\n",
        "rocauc_v1_ud_w = []\n",
        "rocauc_v2_ud_w = []\n",
        "rocauc_ud_uw = []\n",
        "\n",
        "for i in range(0, 25):  # part I\n",
        "    # for i in range(25, 50): # part II\n",
        "    # for i in range(50, 112):  # part III\n",
        "    print(i)\n",
        "    relevant_edges = relevant_edges_tmp[[\"src\", \"dst\", \"weight\", \"node_id\", i]]\n",
        "    relevant_edges.columns = [\"src\", \"dst\", \"weight\", \"node_id\", \"y\"]\n",
        "    label1 = relevant_edges.groupby([\"src\"])[\"y\"].sum().reset_index()\n",
        "    labeltotal = relevant_edges.groupby([\"src\"])[\"y\"].count().reset_index()\n",
        "    relevant_edgelist = labeltotal.merge(label1, on=\"src\")\n",
        "    relevant_edgelist[\"label_0\"] = relevant_edgelist[\"y_x\"] - relevant_edgelist[\"y_y\"]\n",
        "    relevant_edgelist.rename(columns={\"y_y\": \"label_1\"}, inplace=True)\n",
        "    relevant_edgelist.drop([\"y_x\"], axis=1, inplace=True)\n",
        "\n",
        "\n",
        "\n",
        "\n",
        "    normalizer = pd.DataFrame(y_train[i].value_counts(normalize=True, ascending=True))\n",
        "\n",
        "    # step 1 - one hop scores\n",
        "    step1_one_hop_scores = pd.DataFrame(\n",
        "        {\n",
        "            \"src\": relevant_edgelist.src,\n",
        "            \"frac\": np.log(\n",
        "                (relevant_edgelist[\"label_1\"] + 1) / (relevant_edgelist[\"label_0\"] + 1)\n",
        "            )\n",
        "            * list((normalizer.iloc[0]) / (normalizer.iloc[1]))[0],\n",
        "        }\n",
        "    )\n",
        "\n",
        "    # step 2 - two hop scores\n",
        "    two_hop_stg = relevant_edges.merge(\n",
        "        step1_one_hop_scores, left_on=\"dst\", right_on=\"src\", how=\"inner\"\n",
        "    )\n",
        "\n",
        "    ## undirected, unweighted\n",
        "    two_hop = two_hop_stg.groupby([\"src_x\"])[\"frac\"].sum().reset_index()\n",
        "    two_hop.columns = [\"src\", \"frac\"]\n",
        "    two_hop_pred = two_hop.merge(X_test, left_on=\"src\", right_on=\"node_id\", how=\"right\")\n",
        "    pred = y_test.merge(\n",
        "        two_hop_pred,\n",
        "        on=\"node_id\",\n",
        "    )\n",
        "    print(\"roc-auc, ud/uw: \", roc_auc_score(pred[i], pred[\"frac\"]))\n",
        "    rocauc_ud_uw.append(roc_auc_score(pred[i], pred[\"frac\"]))\n",
        "\n",
        "\n",
        "    ## v1 - undirected, weighted\n",
        "\n",
        "    interval = pd.DataFrame(\n",
        "        two_hop_stg.weight.quantile([0.25, 0.5, 0.75])\n",
        "    ).reset_index()\n",
        "    interval.columns = [\"interval\", \"weight\"]\n",
        "\n",
        "    two_0 = (\n",
        "        two_hop_stg[two_hop_stg.weight <= interval.weight[0]]\n",
        "        .groupby([\"src_x\"])[\"frac\"]\n",
        "        .sum()\n",
        "        .reset_index()\n",
        "    )\n",
        "    two_1 = (\n",
        "        two_hop_stg[\n",
        "            (two_hop_stg.weight > interval.weight[0])\n",
        "            & (two_hop_stg.weight <= interval.weight[1])\n",
        "        ]\n",
        "        .groupby([\"src_x\"])[\"frac\"]\n",
        "        .sum()\n",
        "        .reset_index()\n",
        "    )\n",
        "    two_2 = (\n",
        "        two_hop_stg[\n",
        "            (two_hop_stg.weight > interval.weight[1])\n",
        "            & (two_hop_stg.weight <= interval.weight[2])\n",
        "        ]\n",
        "        .groupby([\"src_x\"])[\"frac\"]\n",
        "        .sum()\n",
        "        .reset_index()\n",
        "    )\n",
        "    two_3 = (\n",
        "        two_hop_stg[(two_hop_stg.weight > interval.weight[2])]\n",
        "        .groupby([\"src_x\"])[\"frac\"]\n",
        "        .sum()\n",
        "        .reset_index()\n",
        "    )\n",
        "\n",
        "    two_hop_v1 = two_0.merge(two_1, how=\"outer\", on=\"src_x\").fillna(0)\n",
        "    two_hop_v1 = two_hop_v1.merge(two_2, how=\"outer\", on=\"src_x\").fillna(0)\n",
        "    two_hop_v1 = two_hop_v1.merge(two_3, how=\"outer\", on=\"src_x\").fillna(0)\n",
        "    two_hop_v1.columns = [\"src_x\", \"frac1\", \"frac2\", \"frac3\", \"frac4\"]\n",
        "    two_hop_v1_valid = two_hop_v1.merge(\n",
        "        y_valid, left_on=\"src_x\", right_on=\"node_id\", how=\"right\"\n",
        "    )\n",
        "\n",
        "    clf = LogisticRegression(random_state=0).fit(\n",
        "        two_hop_v1_valid[[\"frac1\", \"frac2\", \"frac3\", \"frac4\"]], two_hop_v1_valid[i]\n",
        "    )\n",
        "\n",
        "    pred_v1 = y_test.merge(two_hop_v1, right_on=\"src_x\", left_on=\"node_id\", how=\"left\")\n",
        "    print(\n",
        "        \"roc-auc, v1: \",\n",
        "        roc_auc_score(\n",
        "            pred_v1[i],\n",
        "            clf.predict_proba(pred_v1[[\"frac1\", \"frac2\", \"frac3\", \"frac4\"]])[:, 1],\n",
        "        ),\n",
        "    )\n",
        "    rocauc_v1_ud_w.append(\n",
        "        roc_auc_score(\n",
        "            pred_v1[i],\n",
        "            clf.predict_proba(pred_v1[[\"frac1\", \"frac2\", \"frac3\", \"frac4\"]])[:, 1],\n",
        "        )\n",
        "    )\n",
        "\n",
        "    ## v2 undirected, weighted\n",
        "    W = 4\n",
        "    interval = pd.DataFrame(\n",
        "        relevant_edges.weight.quantile([0.25, 0.5, 0.75])\n",
        "    ).reset_index()\n",
        "    interval.columns = [\"interval\", \"weight\"]\n",
        "\n",
        "    relevant_edgelist_dict = {}\n",
        "    for w in range(W):\n",
        "        if w == 0:\n",
        "            idx = relevant_edges.weight <= interval.weight[0]\n",
        "        if w == 1:\n",
        "            idx = (relevant_edges.weight > interval.weight[0]) & (\n",
        "                relevant_edges.weight <= interval.weight[1]\n",
        "            )\n",
        "        if w == 2:\n",
        "            idx = (relevant_edges.weight > interval.weight[1]) & (\n",
        "                relevant_edges.weight <= interval.weight[2]\n",
        "            )\n",
        "        if w == 3:\n",
        "            idx = relevant_edges.weight > interval.weight[2]\n",
        "\n",
        "        label1 = (\n",
        "            relevant_edges.iloc[np.where(idx)[0]]\n",
        "            .groupby([\"src\"])[\"y\"]\n",
        "            .sum()\n",
        "            .reset_index()\n",
        "        )\n",
        "        labeltotal = (\n",
        "            relevant_edges.iloc[np.where(idx)[0]]\n",
        "            .groupby([\"src\"])[\"y\"]\n",
        "            .count()\n",
        "            .reset_index()\n",
        "        )\n",
        "\n",
        "        relevant_edgelist = labeltotal.merge(label1, on=\"src\", how=\"outer\").fillna(0)\n",
        "        relevant_edgelist[\"label_0\"] = (\n",
        "            relevant_edgelist[\"y_x\"] - relevant_edgelist[\"y_y\"]\n",
        "        )\n",
        "        relevant_edgelist.rename(columns={\"y_y\": \"label_1\"}, inplace=True)\n",
        "        relevant_edgelist.drop([\"y_x\"], axis=1, inplace=True)\n",
        "        relevant_edgelist.columns = [\"src\", \"label_1_\" + str(w), \"label_0_\" + str(w)]\n",
        "        relevant_edgelist_dict[w] = relevant_edgelist\n",
        "\n",
        "    merged_edgelist = relevant_edgelist_dict[0].merge(\n",
        "        relevant_edgelist_dict[1], on=\"src\", how=\"outer\"\n",
        "    )\n",
        "    merged_edgelist = merged_edgelist.merge(\n",
        "        relevant_edgelist_dict[2], on=\"src\", how=\"outer\"\n",
        "    )\n",
        "    merged_edgelist = merged_edgelist.merge(\n",
        "        relevant_edgelist_dict[3], on=\"src\", how=\"outer\"\n",
        "    ).fillna(0)\n",
        "    normalizer = pd.DataFrame(y_train[i].value_counts(normalize=True, ascending=True))\n",
        "    step1_one_hop_scores = pd.DataFrame(\n",
        "        {\n",
        "            \"src\": merged_edgelist.src,\n",
        "            \"frac0\": np.log(\n",
        "                (merged_edgelist[\"label_1_0\"] + 1) / (merged_edgelist[\"label_0_0\"] + 1)\n",
        "            )\n",
        "            * list((normalizer.iloc[0]) / (normalizer.iloc[1]))[0],\n",
        "            \"frac1\": np.log(\n",
        "                (merged_edgelist[\"label_1_1\"] + 1) / (merged_edgelist[\"label_0_1\"] + 1)\n",
        "            )\n",
        "            * list((normalizer.iloc[0] / normalizer.iloc[1]))[0],\n",
        "            \"frac2\": np.log(\n",
        "                (merged_edgelist[\"label_1_2\"] + 1) / (merged_edgelist[\"label_0_2\"] + 1)\n",
        "            )\n",
        "            * list((normalizer.iloc[0] / normalizer.iloc[1]))[0],\n",
        "            \"frac3\": np.log(\n",
        "                (merged_edgelist[\"label_1_3\"] + 1) / (merged_edgelist[\"label_0_3\"] + 1)\n",
        "            )\n",
        "            * list((normalizer.iloc[0] / normalizer.iloc[1]))[0],\n",
        "        }\n",
        "    )\n",
        "    two_hop_stg = relevant_edges.merge(\n",
        "        step1_one_hop_scores, left_on=\"dst\", right_on=\"src\", how=\"inner\"\n",
        "    )\n",
        "    interval = pd.DataFrame(\n",
        "        two_hop_stg.weight.quantile([0.25, 0.5, 0.75])\n",
        "    ).reset_index()\n",
        "    interval.columns = [\"interval\", \"weight\"]\n",
        "\n",
        "    two_0 = (\n",
        "        two_hop_stg[two_hop_stg.weight <= interval.weight[0]]\n",
        "        .groupby([\"src_x\"])[\"frac0\"]\n",
        "        .sum()\n",
        "        .reset_index()\n",
        "    )\n",
        "\n",
        "    two_1 = (\n",
        "        two_hop_stg[\n",
        "            (two_hop_stg.weight > interval.weight[0])\n",
        "            & (two_hop_stg.weight <= interval.weight[1])\n",
        "        ]\n",
        "        .groupby([\"src_x\"])[\"frac1\"]\n",
        "        .sum()\n",
        "        .reset_index()\n",
        "    )\n",
        "\n",
        "    two_2 = (\n",
        "        two_hop_stg[\n",
        "            (two_hop_stg.weight > interval.weight[1])\n",
        "            & (two_hop_stg.weight <= interval.weight[2])\n",
        "        ]\n",
        "        .groupby([\"src_x\"])[\"frac2\"]\n",
        "        .sum()\n",
        "        .reset_index()\n",
        "    )\n",
        "\n",
        "    two_3 = (\n",
        "        two_hop_stg[(two_hop_stg.weight > interval.weight[2])]\n",
        "        .groupby([\"src_x\"])[\"frac3\"]\n",
        "        .sum()\n",
        "        .reset_index()\n",
        "    )\n",
        "\n",
        "    two_hop_v2 = two_0.merge(two_1, how=\"outer\", on=\"src_x\").fillna(0)\n",
        "    two_hop_v2 = two_hop_v2.merge(two_2, how=\"outer\", on=\"src_x\").fillna(0)\n",
        "    two_hop_v2 = two_hop_v2.merge(two_3, how=\"outer\", on=\"src_x\").fillna(0)\n",
        "\n",
        "    two_hop_v2.columns = [\n",
        "        \"src_x\",\n",
        "        \"frac0\",\n",
        "        \"frac1\",\n",
        "        \"frac2\",\n",
        "        \"frac3\",\n",
        "    ]\n",
        "    two_hop_v2_valid = two_hop_v2.merge(\n",
        "        y_valid, left_on=\"src_x\", right_on=\"node_id\", how=\"right\"\n",
        "    )\n",
        "\n",
        "    pred_v2 = y_test.merge(two_hop_v2, right_on=\"src_x\", left_on=\"node_id\", how=\"left\")\n",
        "    clf = LogisticRegression(random_state=0).fit(\n",
        "        two_hop_v2_valid[\n",
        "            [\n",
        "                \"frac0\",\n",
        "                \"frac1\",\n",
        "                \"frac2\",\n",
        "                \"frac3\",\n",
        "            ]\n",
        "        ],\n",
        "        two_hop_v2_valid[i],\n",
        "    )\n",
        "\n",
        "    print(\n",
        "        \"roc-auc, v2: \",\n",
        "        roc_auc_score(\n",
        "            pred_v2[i],\n",
        "            clf.predict_proba(\n",
        "                pred_v2[\n",
        "                    [\n",
        "                        \"frac0\",\n",
        "                        \"frac1\",\n",
        "                        \"frac2\",\n",
        "                        \"frac3\",\n",
        "                    ]\n",
        "                ]\n",
        "            )[:, 1],\n",
        "        ),\n",
        "    )\n",
        "\n",
        "    rocauc_v2_ud_w.append(\n",
        "        roc_auc_score(\n",
        "            pred_v2[i],\n",
        "            clf.predict_proba(\n",
        "                pred_v2[\n",
        "                    [\n",
        "                        \"frac0\",\n",
        "                        \"frac1\",\n",
        "                        \"frac2\",\n",
        "                        \"frac3\",\n",
        "                    ]\n",
        "                ]\n",
        "            )[:, 1],\n",
        "        )\n",
        "    )\n",
        "\n",
        "\n",
        "\n",
        "    print(\"************************************************************************\")"
      ],
      "execution_count": 14,
      "outputs": [
        {
          "output_type": "stream",
          "name": "stdout",
          "text": [
            "0\n"
          ]
        },
        {
          "output_type": "stream",
          "name": "stdout",
          "text": [
            "roc-auc, ud/uw:  0.5756635263681078\n"
          ]
        },
        {
          "output_type": "stream",
          "name": "stdout",
          "text": [
            "roc-auc, v1:  0.6422183723669541\n"
          ]
        },
        {
          "output_type": "stream",
          "name": "stdout",
          "text": [
            "roc-auc, v2:  0.5658765931929861\n************************************************************************\n1\n"
          ]
        },
        {
          "output_type": "stream",
          "name": "stdout",
          "text": [
            "roc-auc, ud/uw:  0.5875555063931286\n"
          ]
        },
        {
          "output_type": "stream",
          "name": "stdout",
          "text": [
            "roc-auc, v1:  0.6463187301853699\n"
          ]
        },
        {
          "output_type": "stream",
          "name": "stdout",
          "text": [
            "roc-auc, v2:  0.57506419193181\n************************************************************************\n2\n"
          ]
        },
        {
          "output_type": "stream",
          "name": "stdout",
          "text": [
            "roc-auc, ud/uw:  0.6263765117035245\n"
          ]
        },
        {
          "output_type": "stream",
          "name": "stdout",
          "text": [
            "roc-auc, v1:  0.6690320409028342\n"
          ]
        },
        {
          "output_type": "stream",
          "name": "stdout",
          "text": [
            "roc-auc, v2:  0.636885745260771\n************************************************************************\n3\n"
          ]
        },
        {
          "output_type": "stream",
          "name": "stdout",
          "text": [
            "roc-auc, ud/uw:  0.6881424867785879\n"
          ]
        },
        {
          "output_type": "stream",
          "name": "stdout",
          "text": [
            "roc-auc, v1:  0.7178933988064286\n"
          ]
        },
        {
          "output_type": "stream",
          "name": "stdout",
          "text": [
            "roc-auc, v2:  0.6890046555664098\n************************************************************************\n4\n"
          ]
        },
        {
          "output_type": "stream",
          "name": "stdout",
          "text": [
            "roc-auc, ud/uw:  0.68934773774016\n"
          ]
        },
        {
          "output_type": "stream",
          "name": "stdout",
          "text": [
            "roc-auc, v1:  0.7250112295036728\n"
          ]
        },
        {
          "output_type": "stream",
          "name": "stdout",
          "text": [
            "roc-auc, v2:  0.6970485429333156\n************************************************************************\n5\n"
          ]
        },
        {
          "output_type": "stream",
          "name": "stdout",
          "text": [
            "roc-auc, ud/uw:  0.6057115198028435\n"
          ]
        },
        {
          "output_type": "stream",
          "name": "stdout",
          "text": [
            "roc-auc, v1:  0.6248375412075031\n"
          ]
        },
        {
          "output_type": "stream",
          "name": "stdout",
          "text": [
            "roc-auc, v2:  0.6110987400156863\n************************************************************************\n6\n"
          ]
        },
        {
          "output_type": "stream",
          "name": "stdout",
          "text": [
            "roc-auc, ud/uw:  0.6734513651680474\n"
          ]
        },
        {
          "output_type": "stream",
          "name": "stdout",
          "text": [
            "roc-auc, v1:  0.7221502886671395\n"
          ]
        },
        {
          "output_type": "stream",
          "name": "stdout",
          "text": [
            "roc-auc, v2:  0.6875145617705533\n************************************************************************\n7\n"
          ]
        },
        {
          "output_type": "stream",
          "name": "stdout",
          "text": [
            "roc-auc, ud/uw:  0.6040723294432889\n"
          ]
        },
        {
          "output_type": "stream",
          "name": "stdout",
          "text": [
            "roc-auc, v1:  0.607824799314161\n"
          ]
        },
        {
          "output_type": "stream",
          "name": "stdout",
          "text": [
            "roc-auc, v2:  0.6108151929215188\n************************************************************************\n8\n"
          ]
        },
        {
          "output_type": "stream",
          "name": "stdout",
          "text": [
            "roc-auc, ud/uw:  0.6551339977321872\n"
          ]
        },
        {
          "output_type": "stream",
          "name": "stdout",
          "text": [
            "roc-auc, v1:  0.7213311024839038\n"
          ]
        },
        {
          "output_type": "stream",
          "name": "stdout",
          "text": [
            "roc-auc, v2:  0.6769622759592634\n************************************************************************\n9\n"
          ]
        },
        {
          "output_type": "stream",
          "name": "stdout",
          "text": [
            "roc-auc, ud/uw:  0.6070114195019654\n"
          ]
        },
        {
          "output_type": "stream",
          "name": "stdout",
          "text": [
            "roc-auc, v1:  0.6091447692607405\n"
          ]
        },
        {
          "output_type": "stream",
          "name": "stdout",
          "text": [
            "roc-auc, v2:  0.6776909314371496\n************************************************************************\n10\n"
          ]
        },
        {
          "output_type": "stream",
          "name": "stdout",
          "text": [
            "roc-auc, ud/uw:  0.5989126492260899\n"
          ]
        },
        {
          "output_type": "stream",
          "name": "stdout",
          "text": [
            "roc-auc, v1:  0.676111581262226\n"
          ]
        },
        {
          "output_type": "stream",
          "name": "stdout",
          "text": [
            "roc-auc, v2:  0.6447789837664756\n************************************************************************\n11\n"
          ]
        },
        {
          "output_type": "stream",
          "name": "stdout",
          "text": [
            "roc-auc, ud/uw:  0.6085430351231871\n"
          ]
        },
        {
          "output_type": "stream",
          "name": "stdout",
          "text": [
            "roc-auc, v1:  0.6129512070287939\n"
          ]
        },
        {
          "output_type": "stream",
          "name": "stdout",
          "text": [
            "roc-auc, v2:  0.6797233710101402\n************************************************************************\n12\n"
          ]
        },
        {
          "output_type": "stream",
          "name": "stdout",
          "text": [
            "roc-auc, ud/uw:  0.5107245585461103\n"
          ]
        },
        {
          "output_type": "stream",
          "name": "stdout",
          "text": [
            "roc-auc, v1:  0.6736042582147052\n"
          ]
        },
        {
          "output_type": "stream",
          "name": "stdout",
          "text": [
            "roc-auc, v2:  0.573434682678043\n************************************************************************\n13\n"
          ]
        },
        {
          "output_type": "stream",
          "name": "stdout",
          "text": [
            "roc-auc, ud/uw:  0.5865557257324359\n"
          ]
        },
        {
          "output_type": "stream",
          "name": "stdout",
          "text": [
            "roc-auc, v1:  0.7110317632542631\n"
          ]
        },
        {
          "output_type": "stream",
          "name": "stdout",
          "text": [
            "roc-auc, v2:  0.6581995022930381\n************************************************************************\n14\n"
          ]
        },
        {
          "output_type": "stream",
          "name": "stdout",
          "text": [
            "roc-auc, ud/uw:  0.5370597620903081\n"
          ]
        },
        {
          "output_type": "stream",
          "name": "stdout",
          "text": [
            "roc-auc, v1:  0.5673917752385536\n"
          ]
        },
        {
          "output_type": "stream",
          "name": "stdout",
          "text": [
            "roc-auc, v2:  0.5722934341599253\n************************************************************************\n15\n"
          ]
        },
        {
          "output_type": "stream",
          "name": "stdout",
          "text": [
            "roc-auc, ud/uw:  0.5066775753098062\n"
          ]
        },
        {
          "output_type": "stream",
          "name": "stdout",
          "text": [
            "roc-auc, v1:  0.620242619519718\n"
          ]
        },
        {
          "output_type": "stream",
          "name": "stdout",
          "text": [
            "roc-auc, v2:  0.5793715611199751\n************************************************************************\n16\n"
          ]
        },
        {
          "output_type": "stream",
          "name": "stdout",
          "text": [
            "roc-auc, ud/uw:  0.559353478318273\n"
          ]
        },
        {
          "output_type": "stream",
          "name": "stdout",
          "text": [
            "roc-auc, v1:  0.676220719766403\n"
          ]
        },
        {
          "output_type": "stream",
          "name": "stdout",
          "text": [
            "roc-auc, v2:  0.6333624766776484\n************************************************************************\n17\n"
          ]
        },
        {
          "output_type": "stream",
          "name": "stdout",
          "text": [
            "roc-auc, ud/uw:  0.6440683605463722\n"
          ]
        },
        {
          "output_type": "stream",
          "name": "stdout",
          "text": [
            "roc-auc, v1:  0.5081463630217142\n"
          ]
        },
        {
          "output_type": "stream",
          "name": "stdout",
          "text": [
            "roc-auc, v2:  0.6756557297878888\n************************************************************************\n18\n"
          ]
        },
        {
          "output_type": "stream",
          "name": "stdout",
          "text": [
            "roc-auc, ud/uw:  0.5612518323729354\n"
          ]
        },
        {
          "output_type": "stream",
          "name": "stdout",
          "text": [
            "roc-auc, v1:  0.6830475599536014\n"
          ]
        },
        {
          "output_type": "stream",
          "name": "stdout",
          "text": [
            "roc-auc, v2:  0.6367738443084239\n************************************************************************\n19\n"
          ]
        },
        {
          "output_type": "stream",
          "name": "stdout",
          "text": [
            "roc-auc, ud/uw:  0.6340760240685683\n"
          ]
        },
        {
          "output_type": "stream",
          "name": "stdout",
          "text": [
            "roc-auc, v1:  0.4984171097792075\n"
          ]
        },
        {
          "output_type": "stream",
          "name": "stdout",
          "text": [
            "roc-auc, v2:  0.6638968756131253\n************************************************************************\n20\n"
          ]
        },
        {
          "output_type": "stream",
          "name": "stdout",
          "text": [
            "roc-auc, ud/uw:  0.5066166379353961\n"
          ]
        },
        {
          "output_type": "stream",
          "name": "stdout",
          "text": [
            "roc-auc, v1:  0.6647351766707476\n"
          ]
        },
        {
          "output_type": "stream",
          "name": "stdout",
          "text": [
            "roc-auc, v2:  0.5718338068481456\n************************************************************************\n21\n"
          ]
        },
        {
          "output_type": "stream",
          "name": "stdout",
          "text": [
            "roc-auc, ud/uw:  0.5612883372517725\n"
          ]
        },
        {
          "output_type": "stream",
          "name": "stdout",
          "text": [
            "roc-auc, v1:  0.6828740095939501\n"
          ]
        },
        {
          "output_type": "stream",
          "name": "stdout",
          "text": [
            "roc-auc, v2:  0.637144975893253\n************************************************************************\n22\n"
          ]
        },
        {
          "output_type": "stream",
          "name": "stdout",
          "text": [
            "roc-auc, ud/uw:  0.5285782693911588\n"
          ]
        },
        {
          "output_type": "stream",
          "name": "stdout",
          "text": [
            "roc-auc, v1:  0.6353135162823348\n"
          ]
        },
        {
          "output_type": "stream",
          "name": "stdout",
          "text": [
            "roc-auc, v2:  0.5913252172250197\n************************************************************************\n23\n"
          ]
        },
        {
          "output_type": "stream",
          "name": "stdout",
          "text": [
            "roc-auc, ud/uw:  0.5271371715780908\n"
          ]
        },
        {
          "output_type": "stream",
          "name": "stdout",
          "text": [
            "roc-auc, v1:  0.6358794487920363\n"
          ]
        },
        {
          "output_type": "stream",
          "name": "stdout",
          "text": [
            "roc-auc, v2:  0.5899736707234119\n************************************************************************\n24\n"
          ]
        },
        {
          "output_type": "stream",
          "name": "stdout",
          "text": [
            "roc-auc, ud/uw:  0.6383480754897477\n"
          ]
        },
        {
          "output_type": "stream",
          "name": "stdout",
          "text": [
            "roc-auc, v1:  0.5102575049746796\n"
          ]
        },
        {
          "output_type": "stream",
          "name": "stdout",
          "text": [
            "roc-auc, v2:  0.6696833619314527\n************************************************************************\n"
          ]
        }
      ]
    },
    {
      "cell_type": "code",
      "metadata": {
        "originalKey": "090ca256-60ce-48c8-982c-482b5d1066b0",
        "showInput": true,
        "customInput": null,
        "collapsed": false,
        "requestMsgId": "b4dcdf6d-29b2-4e65-995b-7135069fbe25",
        "executionStopTime": 1683647454137,
        "executionStartTime": 1683647454124
      },
      "source": [
        "print(np.mean(rocauc_ud_uw))\n",
        "print(np.mean(rocauc_v1_ud_w))\n",
        "print(np.mean(rocauc_v2_ud_w))"
      ],
      "execution_count": 15,
      "outputs": [
        {
          "output_type": "stream",
          "name": "stdout",
          "text": [
            "0.5928663157444838\n0.6416794754420657\n0.6322165170010172\n"
          ]
        }
      ]
    },
    {
      "cell_type": "code",
      "metadata": {
        "originalKey": "ee8122be-d810-4a41-8074-71c5cad8d1a0",
        "showInput": true,
        "customInput": null
      },
      "source": [
        ""
      ],
      "execution_count": null,
      "outputs": []
    },
    {
      "cell_type": "code",
      "metadata": {
        "originalKey": "b198129d-a643-47c2-8080-69d64d5d27ee",
        "showInput": true,
        "customInput": null,
        "collapsed": false,
        "requestMsgId": "b198129d-a643-47c2-8080-69d64d5d27ee",
        "executionStartTime": 1681194588040,
        "executionStopTime": 1681194588047
      },
      "source": [
        "with open('rocauc_v2_ud_w_part1_original.npy', 'wb') as f:\n",
        "#with open('rocauc_v2_ud_w_part2_original.npy', 'wb') as f: # run tomorrow\n",
        "#with open('rocauc_v2_ud_w_part3_original.npy', 'wb') as f:\n",
        "    np.save(f, rocauc_v2_ud_w)"
      ],
      "execution_count": 12,
      "outputs": []
    },
    {
      "cell_type": "code",
      "metadata": {
        "originalKey": "67d0789b-2f1f-49bc-8f7d-5afe5d52be59",
        "showInput": true,
        "customInput": null
      },
      "source": [
        "with open(\"rocauc_v1_ud_w_part1.npy\", \"wb\") as f:\n",
        "    # with open('rocauc_v1_ud_w_part2.npy', 'wb') as f:\n",
        "    # with open(\"rocauc_v1_ud_w_part3.npy\", \"wb\") as f:\n",
        "    np.save(f, rocauc_v1_ud_w)"
      ],
      "execution_count": null,
      "outputs": []
    },
    {
      "cell_type": "code",
      "metadata": {
        "originalKey": "371df966-b2f0-4d0b-bd05-4ae363f499aa",
        "showInput": true,
        "customInput": null,
        "collapsed": false,
        "requestMsgId": "371df966-b2f0-4d0b-bd05-4ae363f499aa",
        "executionStartTime": 1680625683366,
        "executionStopTime": 1680625683374
      },
      "source": [
        "with open('rocauc_ud_uw_part1.npy', 'wb') as f:\n",
        "#with open('rocauc_ud_uw_part2.npy', 'wb') as f:\n",
        "#with open('rocauc_ud_uw_part3.npy', 'wb') as f:\n",
        "    np.save(f, rocauc_ud_uw)"
      ],
      "execution_count": 149,
      "outputs": []
    }
  ]
}
