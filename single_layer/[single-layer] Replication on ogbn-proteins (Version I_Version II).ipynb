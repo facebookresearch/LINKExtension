{
  "metadata": {
    "dataExplorerConfig": {},
    "bento_stylesheets": {
      "bento/extensions/flow/main.css": true,
      "bento/extensions/kernel_selector/main.css": true,
      "bento/extensions/kernel_ui/main.css": true,
      "bento/extensions/new_kernel/main.css": true,
      "bento/extensions/system_usage/main.css": true,
      "bento/extensions/theme/main.css": true
    },
    "kernelspec": {
      "display_name": "pytorch",
      "language": "python",
      "name": "bento_kernel_pytorch",
      "cinder_runtime": false,
      "ipyflow_runtime": false,
      "metadata": {
        "kernel_name": "bento_kernel_pytorch",
        "nightly_builds": true,
        "fbpkg_supported": true,
        "cinder_runtime": false,
        "ipyflow_runtime": false,
        "is_prebuilt": true
      }
    },
    "language_info": {
      "codemirror_mode": {
        "name": "ipython",
        "version": 3
      },
      "file_extension": ".py",
      "mimetype": "text/x-python",
      "name": "python",
      "nbconvert_exporter": "python",
      "pygments_lexer": "ipython3"
    },
    "last_server_session_id": "6847477e-d237-422f-861c-98646b72ac86",
    "last_kernel_id": "5ef68d90-6139-446c-9a97-9a8bb547ffbe",
    "last_base_url": "https://devvm1422.ash0.facebook.com:8090/",
    "last_msg_id": "b70921a8-a65116b7c2c21827f25b9428_35",
    "outputWidgetContext": {}
  },
  "nbformat": 4,
  "nbformat_minor": 2,
  "cells": [
    {
      "cell_type": "markdown",
      "metadata": {
        "originalKey": "5957f11d-a880-46d6-ae07-1317ed977c0b",
        "showInput": false,
        "customInput": null
      },
      "source": [
        "Include results for Version II\n",
        "(we save as *_original.npy)"
      ]
    },
    {
      "cell_type": "code",
      "metadata": {
        "collapsed": false,
        "originalKey": "b0770e76-a736-4de9-a8ac-aaac214ac347",
        "requestMsgId": "b0770e76-a736-4de9-a8ac-aaac214ac347",
        "executionStartTime": 1681188200214,
        "executionStopTime": 1681188204388
      },
      "source": [
        "# 4/6/23\n",
        "# KM Altenburger\n",
        "\n",
        "# steps for downloading repo internally; run w/ \"grasp_workflows kernel\"\n",
        "# sudo feature install ttls_fwdproxy\n",
        "# mgt import --src-type pypi sdist\n",
        "# mgt import --src-type pypi nvidia-cublas-cu11==11.10.3.66\n",
        "# mgt import --src-type pypi ogb\n",
        "\n",
        "import sys\n",
        "\n",
        "sys.path.insert(0, \"/home/kaltenburger/fbsource/ogb\")\n",
        "import matplotlib.pyplot as plt\n",
        "import networkx as nx\n",
        "import numpy as np\n",
        "import ogb\n",
        "import pandas as pd\n",
        "import torch\n",
        "#import torch_geometric\n",
        "from ogb.nodeproppred import NodePropPredDataset\n",
        "from sklearn.linear_model import LogisticRegression\n",
        "from sklearn.metrics import auc, log_loss, precision_recall_curve, roc_auc_score\n",
        "from sklearn.model_selection import train_test_split"
      ],
      "execution_count": 1,
      "outputs": [
        {
          "output_type": "stream",
          "name": "stderr",
          "text": [
            "\nBad key \"axes.color_cycle\" on line 214 in\n/home/kaltenburger/.matplotlib/matplotlibrc.\nYou probably need to get an updated matplotlibrc file from\nhttps://github.com/matplotlib/matplotlib/blob/v3.1.3/matplotlibrc.template\nor from the matplotlib source distribution\n"
          ]
        },
        {
          "output_type": "stream",
          "name": "stderr",
          "text": [
            "I0410 214320.768 _utils_internal.py:179] NCCL_DEBUG env var is set to None\n"
          ]
        },
        {
          "output_type": "stream",
          "name": "stderr",
          "text": [
            "I0410 214320.769 _utils_internal.py:197] NCCL_DEBUG is forced to WARN from None\n"
          ]
        }
      ]
    },
    {
      "cell_type": "code",
      "metadata": {
        "originalKey": "48dafcd2-692b-4d4c-b837-b68d884dfaab",
        "showInput": true,
        "customInput": null,
        "collapsed": false,
        "requestMsgId": "48dafcd2-692b-4d4c-b837-b68d884dfaab",
        "executionStartTime": 1681188204420,
        "executionStopTime": 1681188204431
      },
      "source": [
        ""
      ],
      "execution_count": 1,
      "outputs": []
    },
    {
      "cell_type": "markdown",
      "metadata": {
        "originalKey": "0eb50079-caca-4391-bdb5-32bf6d7eaabc",
        "showInput": false,
        "customInput": null
      },
      "source": [
        "### read & set-up dataset\n",
        ""
      ]
    },
    {
      "cell_type": "code",
      "metadata": {
        "originalKey": "fcb98803-6638-492e-a043-5b43532da1eb",
        "showInput": true,
        "customInput": null,
        "collapsed": false,
        "requestMsgId": "fcb98803-6638-492e-a043-5b43532da1eb",
        "executionStartTime": 1681188204475,
        "executionStopTime": 1681188217910
      },
      "source": [
        "dataset = NodePropPredDataset(name='ogbn-proteins')\n",
        "g = dataset.graph # get edgelist and graph metadata\n",
        "y = dataset.labels # outcomes\n",
        "node_species_df = pd.DataFrame({'node_id':range(len(g['node_species'].flatten())), 'node_species': g['node_species'].flatten()})\n",
        "node_species_df.head()"
      ],
      "execution_count": 2,
      "outputs": [
        {
          "output_type": "execute_result",
          "data": {
            "text/plain": "   node_id  node_species\n0        0          3702\n1        1          3702\n2        2          3702\n3        3          3702\n4        4          3702",
            "text/html": "<div>\n<style scoped>\n    .dataframe tbody tr th:only-of-type {\n        vertical-align: middle;\n    }\n\n    .dataframe tbody tr th {\n        vertical-align: top;\n    }\n\n    .dataframe thead th {\n        text-align: right;\n    }\n</style>\n<table border=\"1\" class=\"dataframe\">\n  <thead>\n    <tr style=\"text-align: right;\">\n      <th></th>\n      <th>node_id</th>\n      <th>node_species</th>\n    </tr>\n  </thead>\n  <tbody>\n    <tr>\n      <th>0</th>\n      <td>0</td>\n      <td>3702</td>\n    </tr>\n    <tr>\n      <th>1</th>\n      <td>1</td>\n      <td>3702</td>\n    </tr>\n    <tr>\n      <th>2</th>\n      <td>2</td>\n      <td>3702</td>\n    </tr>\n    <tr>\n      <th>3</th>\n      <td>3</td>\n      <td>3702</td>\n    </tr>\n    <tr>\n      <th>4</th>\n      <td>4</td>\n      <td>3702</td>\n    </tr>\n  </tbody>\n</table>\n</div>",
            "application/vnd.dataresource+json": {
              "schema": {
                "fields": [
                  {
                    "name": "index",
                    "type": "integer"
                  },
                  {
                    "name": "node_id",
                    "type": "integer"
                  },
                  {
                    "name": "node_species",
                    "type": "integer"
                  }
                ],
                "primaryKey": [
                  "index"
                ],
                "pandas_version": "0.20.0"
              },
              "data": [
                {
                  "index": 0,
                  "node_id": 0,
                  "node_species": 3702
                },
                {
                  "index": 1,
                  "node_id": 1,
                  "node_species": 3702
                },
                {
                  "index": 2,
                  "node_id": 2,
                  "node_species": 3702
                },
                {
                  "index": 3,
                  "node_id": 3,
                  "node_species": 3702
                },
                {
                  "index": 4,
                  "node_id": 4,
                  "node_species": 3702
                }
              ]
            }
          },
          "metadata": {
            "bento_obj_id": "140249246710128"
          },
          "execution_count": 2
        }
      ]
    },
    {
      "cell_type": "code",
      "metadata": {
        "originalKey": "a39b469c-0af6-40fe-9cd7-76818ef64907",
        "showInput": true,
        "customInput": null,
        "collapsed": false,
        "requestMsgId": "a39b469c-0af6-40fe-9cd7-76818ef64907",
        "executionStartTime": 1681188217962,
        "executionStopTime": 1681188218020
      },
      "source": [
        "# create edgelist\n",
        "edge_list_df = pd.DataFrame(g[\"edge_index\"].T)\n",
        "edge_list_df.columns = ['src','dst']\n",
        "edge_list_df.head()"
      ],
      "execution_count": 3,
      "outputs": [
        {
          "output_type": "execute_result",
          "data": {
            "text/plain": "     src     dst\n0      1   96401\n1  96401       1\n2      1   68343\n3  68343       1\n4      1  125069",
            "text/html": "<div>\n<style scoped>\n    .dataframe tbody tr th:only-of-type {\n        vertical-align: middle;\n    }\n\n    .dataframe tbody tr th {\n        vertical-align: top;\n    }\n\n    .dataframe thead th {\n        text-align: right;\n    }\n</style>\n<table border=\"1\" class=\"dataframe\">\n  <thead>\n    <tr style=\"text-align: right;\">\n      <th></th>\n      <th>src</th>\n      <th>dst</th>\n    </tr>\n  </thead>\n  <tbody>\n    <tr>\n      <th>0</th>\n      <td>1</td>\n      <td>96401</td>\n    </tr>\n    <tr>\n      <th>1</th>\n      <td>96401</td>\n      <td>1</td>\n    </tr>\n    <tr>\n      <th>2</th>\n      <td>1</td>\n      <td>68343</td>\n    </tr>\n    <tr>\n      <th>3</th>\n      <td>68343</td>\n      <td>1</td>\n    </tr>\n    <tr>\n      <th>4</th>\n      <td>1</td>\n      <td>125069</td>\n    </tr>\n  </tbody>\n</table>\n</div>",
            "application/vnd.dataresource+json": {
              "schema": {
                "fields": [
                  {
                    "name": "index",
                    "type": "integer"
                  },
                  {
                    "name": "src",
                    "type": "integer"
                  },
                  {
                    "name": "dst",
                    "type": "integer"
                  }
                ],
                "primaryKey": [
                  "index"
                ],
                "pandas_version": "0.20.0"
              },
              "data": [
                {
                  "index": 0,
                  "src": 1,
                  "dst": 96401
                },
                {
                  "index": 1,
                  "src": 96401,
                  "dst": 1
                },
                {
                  "index": 2,
                  "src": 1,
                  "dst": 68343
                },
                {
                  "index": 3,
                  "src": 68343,
                  "dst": 1
                },
                {
                  "index": 4,
                  "src": 1,
                  "dst": 125069
                }
              ]
            }
          },
          "metadata": {
            "bento_obj_id": "140248103451424"
          },
          "execution_count": 3
        }
      ]
    },
    {
      "cell_type": "code",
      "metadata": {
        "originalKey": "3640e5c9-6027-411f-a5d4-a7a04906f996",
        "showInput": true,
        "customInput": null,
        "collapsed": false,
        "requestMsgId": "3640e5c9-6027-411f-a5d4-a7a04906f996",
        "executionStartTime": 1681188218031,
        "executionStopTime": 1681188255531
      },
      "source": [
        "# sanity check on inter-species connections\n",
        "edge_list_df_check = edge_list_df.merge(node_species_df, how = 'left', left_on = 'src', right_on = 'node_id')\n",
        "edge_list_df_check.drop('node_id', axis = 1, inplace=True)\n",
        "edge_list_df_check = edge_list_df_check.merge(node_species_df, how = 'left', left_on = 'dst', right_on = 'node_id')\n",
        "edge_list_df_check.drop('node_id', axis = 1, inplace=True)\n",
        "#edge_list_df_check.head()\n",
        "print(np.mean(edge_list_df_check['node_species_x']==edge_list_df_check['node_species_y']))\n",
        "print(np.mean(edge_list_df_check['node_species_x']!=edge_list_df_check['node_species_y']))"
      ],
      "execution_count": 4,
      "outputs": [
        {
          "output_type": "stream",
          "name": "stdout",
          "text": [
            "0.8059610954678583\n"
          ]
        },
        {
          "output_type": "stream",
          "name": "stdout",
          "text": [
            "0.1940389045321417\n"
          ]
        }
      ]
    },
    {
      "cell_type": "code",
      "metadata": {
        "originalKey": "855ffa9e-bd5c-4924-8d54-6a09b160e961",
        "showInput": true,
        "customInput": null,
        "collapsed": false,
        "requestMsgId": "855ffa9e-bd5c-4924-8d54-6a09b160e961",
        "executionStartTime": 1681188255551,
        "executionStopTime": 1681188262365
      },
      "source": [
        "# edge weights\n",
        "edge_w = pd.DataFrame(g['edge_feat'])\n",
        "w0 = np.mean(edge_w,1) # average edge weight\n",
        "#w0 = edge_w[3]\n",
        "edge_list_df['weight'] = w0\n",
        "edge_list_df.head()"
      ],
      "execution_count": 5,
      "outputs": [
        {
          "output_type": "execute_result",
          "data": {
            "text/plain": "     src     dst  weight\n0      1   96401  0.0635\n1  96401       1  0.0635\n2      1   68343  0.0635\n3  68343       1  0.0635\n4      1  125069  0.0635",
            "text/html": "<div>\n<style scoped>\n    .dataframe tbody tr th:only-of-type {\n        vertical-align: middle;\n    }\n\n    .dataframe tbody tr th {\n        vertical-align: top;\n    }\n\n    .dataframe thead th {\n        text-align: right;\n    }\n</style>\n<table border=\"1\" class=\"dataframe\">\n  <thead>\n    <tr style=\"text-align: right;\">\n      <th></th>\n      <th>src</th>\n      <th>dst</th>\n      <th>weight</th>\n    </tr>\n  </thead>\n  <tbody>\n    <tr>\n      <th>0</th>\n      <td>1</td>\n      <td>96401</td>\n      <td>0.0635</td>\n    </tr>\n    <tr>\n      <th>1</th>\n      <td>96401</td>\n      <td>1</td>\n      <td>0.0635</td>\n    </tr>\n    <tr>\n      <th>2</th>\n      <td>1</td>\n      <td>68343</td>\n      <td>0.0635</td>\n    </tr>\n    <tr>\n      <th>3</th>\n      <td>68343</td>\n      <td>1</td>\n      <td>0.0635</td>\n    </tr>\n    <tr>\n      <th>4</th>\n      <td>1</td>\n      <td>125069</td>\n      <td>0.0635</td>\n    </tr>\n  </tbody>\n</table>\n</div>",
            "application/vnd.dataresource+json": {
              "schema": {
                "fields": [
                  {
                    "name": "index",
                    "type": "integer"
                  },
                  {
                    "name": "src",
                    "type": "integer"
                  },
                  {
                    "name": "dst",
                    "type": "integer"
                  },
                  {
                    "name": "weight",
                    "type": "number"
                  }
                ],
                "primaryKey": [
                  "index"
                ],
                "pandas_version": "0.20.0"
              },
              "data": [
                {
                  "index": 0,
                  "src": 1,
                  "dst": 96401,
                  "weight": 0.0634999946
                },
                {
                  "index": 1,
                  "src": 96401,
                  "dst": 1,
                  "weight": 0.0634999946
                },
                {
                  "index": 2,
                  "src": 1,
                  "dst": 68343,
                  "weight": 0.0634999946
                },
                {
                  "index": 3,
                  "src": 68343,
                  "dst": 1,
                  "weight": 0.0634999946
                },
                {
                  "index": 4,
                  "src": 1,
                  "dst": 125069,
                  "weight": 0.0634999946
                }
              ]
            }
          },
          "metadata": {
            "bento_obj_id": "140248103452096"
          },
          "execution_count": 5
        }
      ]
    },
    {
      "cell_type": "code",
      "metadata": {
        "originalKey": "4360d77d-bd3f-44f8-bde2-46202e5e863d",
        "showInput": true,
        "customInput": null,
        "collapsed": false,
        "requestMsgId": "4360d77d-bd3f-44f8-bde2-46202e5e863d",
        "executionStartTime": 1681188262440,
        "executionStopTime": 1681188264469
      },
      "source": [
        "plt.hist(edge_list_df.weight)\n",
        "plt.show()"
      ],
      "execution_count": 6,
      "outputs": [
        {
          "output_type": "display_data",
          "data": {
            "text/plain": "<Figure size 432x288 with 1 Axes>",
            "image/png": "[encoded data removed]"
          },
          "metadata": {
            "bento_obj_id": "140248099456336",
            "needs_background": "light"
          }
        }
      ]
    },
    {
      "cell_type": "code",
      "metadata": {
        "originalKey": "5c562d1e-9fc3-4212-a8cc-2a40e87f2bac",
        "showInput": true,
        "customInput": null,
        "collapsed": false,
        "requestMsgId": "5c562d1e-9fc3-4212-a8cc-2a40e87f2bac",
        "executionStartTime": 1681188264537,
        "executionStopTime": 1681188342706
      },
      "source": [
        "y0 = pd.DataFrame(y)\n",
        "#y0 = y0.iloc[:, 0:25]  # part I\n",
        "#y0 = y0.iloc[:,25:50] # part II\n",
        "y0 = y0.iloc[:,50:112] # part II\n",
        "y0[\"node_id\"] = range(len(y0[50]))\n",
        "\n",
        "split_idx = dataset.get_idx_split()\n",
        "train_idx, valid_idx, test_idx = (\n",
        "    split_idx[\"train\"],\n",
        "    split_idx[\"valid\"],\n",
        "    split_idx[\"test\"],\n",
        ")\n",
        "\n",
        "X_train = y0[\"node_id\"].iloc[train_idx]\n",
        "y_train = y0.iloc[train_idx]\n",
        "\n",
        "X_valid = y0[\"node_id\"].iloc[valid_idx]\n",
        "X_test = y0[\"node_id\"].iloc[test_idx]\n",
        "y_valid = y0.iloc[valid_idx]\n",
        "y_test = y0.iloc[test_idx]\n",
        "\n",
        "# merge in labels for training nodes on a user's connections\n",
        "relevant_edges_tmp = edge_list_df.merge(\n",
        "    y_train, left_on=\"dst\", right_on=\"node_id\", how=\"left\"\n",
        ")"
      ],
      "execution_count": 7,
      "outputs": []
    },
    {
      "cell_type": "code",
      "metadata": {
        "originalKey": "9dcb7efd-6086-4bf1-82bb-6aaabe6ca9e1",
        "showInput": true,
        "customInput": null,
        "collapsed": false,
        "requestMsgId": "9dcb7efd-6086-4bf1-82bb-6aaabe6ca9e1",
        "executionStartTime": 1681188342919,
        "executionStopTime": 1681194587869
      },
      "source": [
        "# set-up loop\n",
        "rocauc_v1_ud_w = []\n",
        "rocauc_v2_ud_w = []\n",
        "\n",
        "\n",
        "# for i in range(0, 25): # part I\n",
        "# for i in range(25, 50): # part II\n",
        "for i in range(50, 112):  # part III\n",
        "    print(i)\n",
        "    relevant_edges = relevant_edges_tmp[[\"src\", \"dst\", \"weight\", \"node_id\", i]]\n",
        "    relevant_edges.columns = [\"src\", \"dst\", \"weight\", \"node_id\", \"y\"]\n",
        "    label1 = relevant_edges.groupby([\"src\"])[\"y\"].sum().reset_index()\n",
        "    labeltotal = relevant_edges.groupby([\"src\"])[\"y\"].count().reset_index()\n",
        "    relevant_edgelist = labeltotal.merge(label1, on=\"src\")\n",
        "    relevant_edgelist[\"label_0\"] = relevant_edgelist[\"y_x\"] - relevant_edgelist[\"y_y\"]\n",
        "    relevant_edgelist.rename(columns={\"y_y\": \"label_1\"}, inplace=True)\n",
        "    relevant_edgelist.drop([\"y_x\"], axis=1, inplace=True)\n",
        "\n",
        "    ## v1 - undirected, weighted\n",
        "    normalizer = pd.DataFrame(y_train[i].value_counts(normalize=True, ascending=True))\n",
        "\n",
        "    # step 1 - one hop scores\n",
        "    step1_one_hop_scores = pd.DataFrame(\n",
        "        {\n",
        "            \"src\": relevant_edgelist.src,\n",
        "            \"frac\": np.log(\n",
        "                (relevant_edgelist[\"label_1\"] + 1) / (relevant_edgelist[\"label_0\"] + 1)\n",
        "            )\n",
        "            * list((normalizer.iloc[0]) / (normalizer.iloc[1]))[0],\n",
        "        }\n",
        "    )\n",
        "\n",
        "    # step 2 - two hop scores\n",
        "    two_hop_stg = relevant_edges.merge(\n",
        "        step1_one_hop_scores, left_on=\"dst\", right_on=\"src\", how=\"inner\"\n",
        "    )\n",
        "\n",
        "    print(np.shape(two_hop_stg))\n",
        "\n",
        "    interval = pd.DataFrame(\n",
        "        two_hop_stg.weight.quantile([0.25, 0.5, 0.75])\n",
        "    ).reset_index()\n",
        "    interval.columns = [\"interval\", \"weight\"]\n",
        "\n",
        "    two_0 = (\n",
        "        two_hop_stg[two_hop_stg.weight <= interval.weight[0]]\n",
        "        .groupby([\"src_x\"])[\"frac\"]\n",
        "        .sum()\n",
        "        .reset_index()\n",
        "    )\n",
        "    two_1 = (\n",
        "        two_hop_stg[\n",
        "            (two_hop_stg.weight > interval.weight[0])\n",
        "            & (two_hop_stg.weight <= interval.weight[1])\n",
        "        ]\n",
        "        .groupby([\"src_x\"])[\"frac\"]\n",
        "        .sum()\n",
        "        .reset_index()\n",
        "    )\n",
        "    two_2 = (\n",
        "        two_hop_stg[\n",
        "            (two_hop_stg.weight > interval.weight[1])\n",
        "            & (two_hop_stg.weight <= interval.weight[2])\n",
        "        ]\n",
        "        .groupby([\"src_x\"])[\"frac\"]\n",
        "        .sum()\n",
        "        .reset_index()\n",
        "    )\n",
        "    two_3 = (\n",
        "        two_hop_stg[(two_hop_stg.weight > interval.weight[2])]\n",
        "        .groupby([\"src_x\"])[\"frac\"]\n",
        "        .sum()\n",
        "        .reset_index()\n",
        "    )\n",
        "\n",
        "    two_hop_v1 = two_0.merge(two_1, how=\"outer\", on=\"src_x\").fillna(0)\n",
        "    two_hop_v1 = two_hop_v1.merge(two_2, how=\"outer\", on=\"src_x\").fillna(0)\n",
        "    two_hop_v1 = two_hop_v1.merge(two_3, how=\"outer\", on=\"src_x\").fillna(0)\n",
        "    two_hop_v1.columns = [\"src_x\", \"frac1\", \"frac2\", \"frac3\", \"frac4\"]\n",
        "    two_hop_v1_valid = two_hop_v1.merge(\n",
        "        y_valid, left_on=\"src_x\", right_on=\"node_id\", how=\"right\"\n",
        "    )\n",
        "\n",
        "    clf = LogisticRegression(random_state=0).fit(\n",
        "        two_hop_v1_valid[[\"frac1\", \"frac2\", \"frac3\", \"frac4\"]], two_hop_v1_valid[i]\n",
        "    )\n",
        "\n",
        "    pred_v1 = y_test.merge(two_hop_v1, right_on=\"src_x\", left_on=\"node_id\", how=\"left\")\n",
        "    print(\n",
        "        \"roc-auc, v1: \",\n",
        "        roc_auc_score(\n",
        "            pred_v1[i],\n",
        "            clf.predict_proba(pred_v1[[\"frac1\", \"frac2\", \"frac3\", \"frac4\"]])[:, 1],\n",
        "        ),\n",
        "    )\n",
        "    print(\"baseline, v1: \", np.mean(pred_v1[i]), len(pred_v1[i]))\n",
        "    rocauc_v1_ud_w.append(\n",
        "        roc_auc_score(\n",
        "            pred_v1[i],\n",
        "            clf.predict_proba(pred_v1[[\"frac1\", \"frac2\", \"frac3\", \"frac4\"]])[:, 1],\n",
        "        )\n",
        "    )\n",
        "\n",
        "    ## v2 undirected, weighted\n",
        "    W = 4\n",
        "    interval = pd.DataFrame(\n",
        "        relevant_edges.weight.quantile([0.25, 0.5, 0.75])\n",
        "    ).reset_index()\n",
        "    interval.columns = [\"interval\", \"weight\"]\n",
        "\n",
        "    relevant_edgelist_dict = {}\n",
        "    for w in range(W):\n",
        "        if w == 0:\n",
        "            idx = relevant_edges.weight <= interval.weight[0]\n",
        "        if w == 1:\n",
        "            idx = (relevant_edges.weight > interval.weight[0]) & (\n",
        "                relevant_edges.weight <= interval.weight[1]\n",
        "            )\n",
        "        if w == 2:\n",
        "            idx = (relevant_edges.weight > interval.weight[1]) & (\n",
        "                relevant_edges.weight <= interval.weight[2]\n",
        "            )\n",
        "        if w == 3:\n",
        "            idx = relevant_edges.weight > interval.weight[2]\n",
        "\n",
        "        label1 = (\n",
        "            relevant_edges.iloc[np.where(idx)[0]]\n",
        "            .groupby([\"src\"])[\"y\"]\n",
        "            .sum()\n",
        "            .reset_index()\n",
        "        )\n",
        "        labeltotal = (\n",
        "            relevant_edges.iloc[np.where(idx)[0]]\n",
        "            .groupby([\"src\"])[\"y\"]\n",
        "            .count()\n",
        "            .reset_index()\n",
        "        )\n",
        "\n",
        "        relevant_edgelist = labeltotal.merge(label1, on=\"src\", how=\"outer\").fillna(0)\n",
        "        relevant_edgelist[\"label_0\"] = (\n",
        "            relevant_edgelist[\"y_x\"] - relevant_edgelist[\"y_y\"]\n",
        "        )\n",
        "        relevant_edgelist.rename(columns={\"y_y\": \"label_1\"}, inplace=True)\n",
        "        relevant_edgelist.drop([\"y_x\"], axis=1, inplace=True)\n",
        "        relevant_edgelist.columns = [\"src\", \"label_1_\" + str(w), \"label_0_\" + str(w)]\n",
        "        relevant_edgelist_dict[w] = relevant_edgelist\n",
        "\n",
        "    merged_edgelist = relevant_edgelist_dict[0].merge(\n",
        "        relevant_edgelist_dict[1], on=\"src\", how=\"outer\"\n",
        "    )\n",
        "    merged_edgelist = merged_edgelist.merge(\n",
        "        relevant_edgelist_dict[2], on=\"src\", how=\"outer\"\n",
        "    )\n",
        "    merged_edgelist = merged_edgelist.merge(\n",
        "        relevant_edgelist_dict[3], on=\"src\", how=\"outer\"\n",
        "    ).fillna(0)\n",
        "    normalizer = pd.DataFrame(y_train[i].value_counts(normalize=True, ascending=True))\n",
        "    step1_one_hop_scores = pd.DataFrame(\n",
        "        {\n",
        "            \"src\": merged_edgelist.src,\n",
        "            \"frac0\": np.log(\n",
        "                (merged_edgelist[\"label_1_0\"] + 1) / (merged_edgelist[\"label_0_0\"] + 1)\n",
        "            )\n",
        "            * list((normalizer.iloc[0]) / (normalizer.iloc[1]))[0],\n",
        "            \"frac1\": np.log(\n",
        "                (merged_edgelist[\"label_1_1\"] + 1) / (merged_edgelist[\"label_0_1\"] + 1)\n",
        "            )\n",
        "            * list((normalizer.iloc[0] / normalizer.iloc[1]))[0],\n",
        "            \"frac2\": np.log(\n",
        "                (merged_edgelist[\"label_1_2\"] + 1) / (merged_edgelist[\"label_0_2\"] + 1)\n",
        "            )\n",
        "            * list((normalizer.iloc[0] / normalizer.iloc[1]))[0],\n",
        "            \"frac3\": np.log(\n",
        "                (merged_edgelist[\"label_1_3\"] + 1) / (merged_edgelist[\"label_0_3\"] + 1)\n",
        "            )\n",
        "            * list((normalizer.iloc[0] / normalizer.iloc[1]))[0],\n",
        "        }\n",
        "    )\n",
        "    two_hop_stg = relevant_edges.merge(\n",
        "        step1_one_hop_scores, left_on=\"dst\", right_on=\"src\", how=\"inner\"\n",
        "    )\n",
        "    interval = pd.DataFrame(\n",
        "        two_hop_stg.weight.quantile([0.25, 0.5, 0.75])\n",
        "    ).reset_index()\n",
        "    interval.columns = [\"interval\", \"weight\"]\n",
        "\n",
        "    two_0 = (\n",
        "        two_hop_stg[two_hop_stg.weight <= interval.weight[0]]\n",
        "        .groupby([\"src_x\"])[\"frac0\"]\n",
        "        .sum()\n",
        "        .reset_index()\n",
        "    )\n",
        "\n",
        "    two_1 = (\n",
        "        two_hop_stg[\n",
        "            (two_hop_stg.weight > interval.weight[0])\n",
        "            & (two_hop_stg.weight <= interval.weight[1])\n",
        "        ]\n",
        "        .groupby([\"src_x\"])[\"frac1\"]\n",
        "        .sum()\n",
        "        .reset_index()\n",
        "    )\n",
        "\n",
        "    two_2 = (\n",
        "        two_hop_stg[\n",
        "            (two_hop_stg.weight > interval.weight[1])\n",
        "            & (two_hop_stg.weight <= interval.weight[2])\n",
        "        ]\n",
        "        .groupby([\"src_x\"])[\"frac2\"]\n",
        "        .sum()\n",
        "        .reset_index()\n",
        "    )\n",
        "\n",
        "    two_3 = (\n",
        "        two_hop_stg[(two_hop_stg.weight > interval.weight[2])]\n",
        "        .groupby([\"src_x\"])[\"frac3\"]\n",
        "        .sum()\n",
        "        .reset_index()\n",
        "    )\n",
        "\n",
        "    two_hop_v2 = two_0.merge(two_1, how=\"outer\", on=\"src_x\").fillna(0)\n",
        "    two_hop_v2 = two_hop_v2.merge(two_2, how=\"outer\", on=\"src_x\").fillna(0)\n",
        "    two_hop_v2 = two_hop_v2.merge(two_3, how=\"outer\", on=\"src_x\").fillna(0)\n",
        "\n",
        "    two_hop_v2.columns = [\n",
        "        \"src_x\",\n",
        "        \"frac0\",\n",
        "        \"frac1\",\n",
        "        \"frac2\",\n",
        "        \"frac3\",\n",
        "    ]\n",
        "    two_hop_v2_valid = two_hop_v2.merge(\n",
        "        y_valid, left_on=\"src_x\", right_on=\"node_id\", how=\"right\"\n",
        "    )\n",
        "\n",
        "    pred_v2 = y_test.merge(two_hop_v2, right_on=\"src_x\", left_on=\"node_id\", how=\"left\")\n",
        "    clf = LogisticRegression(random_state=0).fit(\n",
        "        two_hop_v2_valid[\n",
        "            [\n",
        "                \"frac0\",\n",
        "                \"frac1\",\n",
        "                \"frac2\",\n",
        "                \"frac3\",\n",
        "            ]\n",
        "        ],\n",
        "        two_hop_v2_valid[i],\n",
        "    )\n",
        "\n",
        "    print(\n",
        "        \"roc-auc, v2: \",\n",
        "        roc_auc_score(\n",
        "            pred_v2[i],\n",
        "            clf.predict_proba(\n",
        "                pred_v2[\n",
        "                    [\n",
        "                        \"frac0\",\n",
        "                        \"frac1\",\n",
        "                        \"frac2\",\n",
        "                        \"frac3\",\n",
        "                    ]\n",
        "                ]\n",
        "            )[:, 1],\n",
        "        ),\n",
        "    )\n",
        "\n",
        "    rocauc_v2_ud_w.append(\n",
        "        roc_auc_score(\n",
        "            pred_v2[i],\n",
        "            clf.predict_proba(\n",
        "                pred_v2[\n",
        "                    [\n",
        "                        \"frac0\",\n",
        "                        \"frac1\",\n",
        "                        \"frac2\",\n",
        "                        \"frac3\",\n",
        "                    ]\n",
        "                ]\n",
        "            )[:, 1],\n",
        "        )\n",
        "    )\n",
        "    print(\"************************************************************************\")"
      ],
      "execution_count": 8,
      "outputs": [
        {
          "output_type": "stream",
          "name": "stdout",
          "text": [
            "50\n"
          ]
        },
        {
          "output_type": "stream",
          "name": "stdout",
          "text": [
            "roc-auc, v2:  0.47897131231224543\nbaseline, v2:  0.014060537298918109 24679\n************************************************************************\n51\n"
          ]
        },
        {
          "output_type": "stream",
          "name": "stdout",
          "text": [
            "roc-auc, v2:  0.6280881542122743\nbaseline, v2:  0.024757891324607966 24679\n************************************************************************\n52\n"
          ]
        },
        {
          "output_type": "stream",
          "name": "stdout",
          "text": [
            "roc-auc, v2:  0.6018591378159035\nbaseline, v2:  0.015114064589326959 24679\n************************************************************************\n53\n"
          ]
        },
        {
          "output_type": "stream",
          "name": "stdout",
          "text": [
            "roc-auc, v2:  0.5311309058363318\nbaseline, v2:  0.013007010008509259 24679\n************************************************************************\n54\n"
          ]
        },
        {
          "output_type": "stream",
          "name": "stdout",
          "text": [
            "roc-auc, v2:  0.5239779724118181\nbaseline, v2:  0.02978240609425017 24679\n************************************************************************\n55\n"
          ]
        },
        {
          "output_type": "stream",
          "name": "stdout",
          "text": [
            "roc-auc, v2:  0.5503653468070165\nbaseline, v2:  0.019044531788159975 24679\n************************************************************************\n56\n"
          ]
        },
        {
          "output_type": "stream",
          "name": "stdout",
          "text": [
            "roc-auc, v2:  0.7155431476807216\nbaseline, v2:  0.02074638356497427 24679\n************************************************************************\n57\n"
          ]
        },
        {
          "output_type": "stream",
          "name": "stdout",
          "text": [
            "roc-auc, v2:  0.46793961115928234\nbaseline, v2:  0.010575793184488837 24679\n************************************************************************\n58\n"
          ]
        },
        {
          "output_type": "stream",
          "name": "stdout",
          "text": [
            "roc-auc, v2:  0.47600784442533783\nbaseline, v2:  0.01308805056930994 24679\n************************************************************************\n59\n"
          ]
        },
        {
          "output_type": "stream",
          "name": "stdout",
          "text": [
            "roc-auc, v2:  0.4819177301401756\nbaseline, v2:  0.01308805056930994 24679\n************************************************************************\n60\n"
          ]
        },
        {
          "output_type": "stream",
          "name": "stdout",
          "text": [
            "roc-auc, v2:  0.5873370945345225\nbaseline, v2:  0.020948984966975972 24679\n************************************************************************\n61\n"
          ]
        },
        {
          "output_type": "stream",
          "name": "stdout",
          "text": [
            "roc-auc, v2:  0.4750318566193299\nbaseline, v2:  0.0130475302889096 24679\n************************************************************************\n62\n"
          ]
        },
        {
          "output_type": "stream",
          "name": "stdout",
          "text": [
            "roc-auc, v2:  0.5748344199025897\nbaseline, v2:  0.020017018517768142 24679\n************************************************************************\n63\n"
          ]
        },
        {
          "output_type": "stream",
          "name": "stdout",
          "text": [
            "roc-auc, v2:  0.5546516372197864\nbaseline, v2:  0.014951983467725596 24679\n************************************************************************\n64\n"
          ]
        },
        {
          "output_type": "stream",
          "name": "stdout",
          "text": [
            "roc-auc, v2:  0.5908789203379001\nbaseline, v2:  0.020179099639369504 24679\n************************************************************************\n65\n"
          ]
        },
        {
          "output_type": "stream",
          "name": "stdout",
          "text": [
            "roc-auc, v2:  0.5891374253725983\nbaseline, v2:  0.020300660480570526 24679\n************************************************************************\n66\n"
          ]
        },
        {
          "output_type": "stream",
          "name": "stdout",
          "text": [
            "roc-auc, v2:  0.5538918576991109\nbaseline, v2:  0.016977997487742615 24679\n************************************************************************\n67\n"
          ]
        },
        {
          "output_type": "stream",
          "name": "stdout",
          "text": [
            "roc-auc, v2:  0.5538918576991109\nbaseline, v2:  0.016977997487742615 24679\n************************************************************************\n68\n"
          ]
        },
        {
          "output_type": "stream",
          "name": "stdout",
          "text": [
            "roc-auc, v2:  0.5413900078580586\nbaseline, v2:  0.020260140200170185 24679\n************************************************************************\n69\n"
          ]
        },
        {
          "output_type": "stream",
          "name": "stdout",
          "text": [
            "roc-auc, v2:  0.5904511427403496\nbaseline, v2:  0.01973337655496576 24679\n************************************************************************\n70\n"
          ]
        },
        {
          "output_type": "stream",
          "name": "stdout",
          "text": [
            "roc-auc, v2:  0.4777928527544542\nbaseline, v2:  0.010697354025689857 24679\n************************************************************************\n71\n"
          ]
        },
        {
          "output_type": "stream",
          "name": "stdout",
          "text": [
            "roc-auc, v2:  0.4610698816208593\nbaseline, v2:  0.011588800194497345 24679\n************************************************************************\n72\n"
          ]
        },
        {
          "output_type": "stream",
          "name": "stdout",
          "text": [
            "roc-auc, v2:  0.5401410283957208\nbaseline, v2:  0.0199764982373678 24679\n************************************************************************\n73\n"
          ]
        },
        {
          "output_type": "stream",
          "name": "stdout",
          "text": [
            "roc-auc, v2:  0.46087463185254984\nbaseline, v2:  0.0109404757080919 24679\n************************************************************************\n74\n"
          ]
        },
        {
          "output_type": "stream",
          "name": "stdout",
          "text": [
            "roc-auc, v2:  0.5426361266762076\nbaseline, v2:  0.011102556829693262 24679\n************************************************************************\n75\n"
          ]
        },
        {
          "output_type": "stream",
          "name": "stdout",
          "text": [
            "roc-auc, v2:  0.5314051688008783\nbaseline, v2:  0.011669840755298026 24679\n************************************************************************\n76\n"
          ]
        },
        {
          "output_type": "stream",
          "name": "stdout",
          "text": [
            "roc-auc, v2:  0.7288709699537855\nbaseline, v2:  0.015073544308926618 24679\n************************************************************************\n77\n"
          ]
        },
        {
          "output_type": "stream",
          "name": "stdout",
          "text": [
            "roc-auc, v2:  0.4579369055188403\nbaseline, v2:  0.010332671502086794 24679\n************************************************************************\n78\n"
          ]
        },
        {
          "output_type": "stream",
          "name": "stdout",
          "text": [
            "roc-auc, v2:  0.45706059343879346\nbaseline, v2:  0.010251630941286114 24679\n************************************************************************\n79\n"
          ]
        },
        {
          "output_type": "stream",
          "name": "stdout",
          "text": [
            "roc-auc, v2:  0.4902761647719528\nbaseline, v2:  0.009117063090076583 24679\n************************************************************************\n80\n"
          ]
        },
        {
          "output_type": "stream",
          "name": "stdout",
          "text": [
            "roc-auc, v2:  0.5220805147685055\nbaseline, v2:  0.013979496738117428 24679\n************************************************************************\n81\n"
          ]
        },
        {
          "output_type": "stream",
          "name": "stdout",
          "text": [
            "roc-auc, v2:  0.4524679255187993\nbaseline, v2:  0.010008509258884071 24679\n************************************************************************\n82\n"
          ]
        },
        {
          "output_type": "stream",
          "name": "stdout",
          "text": [
            "roc-auc, v2:  0.5327734778930218\nbaseline, v2:  0.009522265894079987 24679\n************************************************************************\n83\n"
          ]
        },
        {
          "output_type": "stream",
          "name": "stdout",
          "text": [
            "roc-auc, v2:  0.624957116213502\nbaseline, v2:  0.017140078609343978 24679\n************************************************************************\n84\n"
          ]
        },
        {
          "output_type": "stream",
          "name": "stdout",
          "text": [
            "roc-auc, v2:  0.6253047945198773\nbaseline, v2:  0.017059038048543296 24679\n************************************************************************\n85\n"
          ]
        },
        {
          "output_type": "stream",
          "name": "stdout",
          "text": [
            "roc-auc, v2:  0.5330327789128987\nbaseline, v2:  0.009441225333279306 24679\n************************************************************************\n86\n"
          ]
        },
        {
          "output_type": "stream",
          "name": "stdout",
          "text": [
            "roc-auc, v2:  0.6252986256805062\nbaseline, v2:  0.017059038048543296 24679\n************************************************************************\n87\n"
          ]
        },
        {
          "output_type": "stream",
          "name": "stdout",
          "text": [
            "roc-auc, v2:  0.4221966914398024\nbaseline, v2:  0.008671340005672839 24679\n************************************************************************\n88\n"
          ]
        },
        {
          "output_type": "stream",
          "name": "stdout",
          "text": [
            "roc-auc, v2:  0.4877232599010912\nbaseline, v2:  0.008590299444872159 24679\n************************************************************************\n89\n"
          ]
        },
        {
          "output_type": "stream",
          "name": "stdout",
          "text": [
            "roc-auc, v2:  0.4928380057176214\nbaseline, v2:  0.0086308197252725 24679\n************************************************************************\n90\n"
          ]
        },
        {
          "output_type": "stream",
          "name": "stdout",
          "text": [
            "roc-auc, v2:  0.5487747349461706\nbaseline, v2:  0.010130070100085093 24679\n************************************************************************\n91\n"
          ]
        },
        {
          "output_type": "stream",
          "name": "stdout",
          "text": [
            "roc-auc, v2:  0.5494074720348562\nbaseline, v2:  0.00996798897848373 24679\n************************************************************************\n92\n"
          ]
        },
        {
          "output_type": "stream",
          "name": "stdout",
          "text": [
            "roc-auc, v2:  0.4935970401795664\nbaseline, v2:  0.008185096640868755 24679\n************************************************************************\n93\n"
          ]
        },
        {
          "output_type": "stream",
          "name": "stdout",
          "text": [
            "roc-auc, v2:  0.59124782535541\nbaseline, v2:  0.008225616921269096 24679\n************************************************************************\n94\n"
          ]
        },
        {
          "output_type": "stream",
          "name": "stdout",
          "text": [
            "roc-auc, v2:  0.5154847952064527\nbaseline, v2:  0.02317760038899469 24679\n************************************************************************\n95\n"
          ]
        },
        {
          "output_type": "stream",
          "name": "stdout",
          "text": [
            "roc-auc, v2:  0.5480003950959157\nbaseline, v2:  0.009481745613679647 24679\n************************************************************************\n96\n"
          ]
        },
        {
          "output_type": "stream",
          "name": "stdout",
          "text": [
            "roc-auc, v2:  0.5310797116098309\nbaseline, v2:  0.008833421127274201 24679\n************************************************************************\n97\n"
          ]
        },
        {
          "output_type": "stream",
          "name": "stdout",
          "text": [
            "roc-auc, v2:  0.6195644860157294\nbaseline, v2:  0.009360184772478625 24679\n************************************************************************\n98\n"
          ]
        },
        {
          "output_type": "stream",
          "name": "stdout",
          "text": [
            "roc-auc, v2:  0.5245184161509343\nbaseline, v2:  0.008266137201669436 24679\n************************************************************************\n99\n"
          ]
        },
        {
          "output_type": "stream",
          "name": "stdout",
          "text": [
            "roc-auc, v2:  0.5255865891498732\nbaseline, v2:  0.011953482718100409 24679\n************************************************************************\n100\n"
          ]
        },
        {
          "output_type": "stream",
          "name": "stdout",
          "text": [
            "roc-auc, v2:  0.5026097726357638\nbaseline, v2:  0.016856436646541594 24679\n************************************************************************\n101\n"
          ]
        },
        {
          "output_type": "stream",
          "name": "stdout",
          "text": [
            "roc-auc, v2:  0.567811067872395\nbaseline, v2:  0.008914461688074882 24679\n************************************************************************\n102\n"
          ]
        },
        {
          "output_type": "stream",
          "name": "stdout",
          "text": [
            "roc-auc, v2:  0.5160383945000702\nbaseline, v2:  0.008185096640868755 24679\n************************************************************************\n103\n"
          ]
        },
        {
          "output_type": "stream",
          "name": "stdout",
          "text": [
            "roc-auc, v2:  0.6022890504516414\nbaseline, v2:  0.008266137201669436 24679\n************************************************************************\n104\n"
          ]
        },
        {
          "output_type": "stream",
          "name": "stdout",
          "text": [
            "roc-auc, v2:  0.5093656485231781\nbaseline, v2:  0.014668341504923214 24679\n************************************************************************\n105\n"
          ]
        },
        {
          "output_type": "stream",
          "name": "stdout",
          "text": [
            "roc-auc, v2:  0.5371942908400329\nbaseline, v2:  0.01089995542769156 24679\n************************************************************************\n106\n"
          ]
        },
        {
          "output_type": "stream",
          "name": "stdout",
          "text": [
            "roc-auc, v2:  0.5855101354456096\nbaseline, v2:  0.008468738603671137 24679\n************************************************************************\n107\n"
          ]
        },
        {
          "output_type": "stream",
          "name": "stdout",
          "text": [
            "roc-auc, v2:  0.5278329733707312\nbaseline, v2:  0.013938976457717087 24679\n************************************************************************\n108\n"
          ]
        },
        {
          "output_type": "stream",
          "name": "stdout",
          "text": [
            "roc-auc, v2:  0.5266286778698479\nbaseline, v2:  0.008387698042870456 24679\n************************************************************************\n109\n"
          ]
        },
        {
          "output_type": "stream",
          "name": "stdout",
          "text": [
            "roc-auc, v2:  0.5528645824871296\nbaseline, v2:  0.012277644961303132 24679\n************************************************************************\n110\n"
          ]
        },
        {
          "output_type": "stream",
          "name": "stdout",
          "text": [
            "roc-auc, v2:  0.5493887727568293\nbaseline, v2:  0.009400705052878966 24679\n************************************************************************\n111\n"
          ]
        },
        {
          "output_type": "stream",
          "name": "stdout",
          "text": [
            "roc-auc, v2:  0.5503625278387163\nbaseline, v2:  0.00875238056647352 24679\n************************************************************************\n"
          ]
        }
      ]
    },
    {
      "cell_type": "code",
      "metadata": {
        "originalKey": "b198129d-a643-47c2-8080-69d64d5d27ee",
        "showInput": true,
        "customInput": null,
        "collapsed": false,
        "requestMsgId": "b198129d-a643-47c2-8080-69d64d5d27ee",
        "executionStartTime": 1681194588040,
        "executionStopTime": 1681194588047
      },
      "source": [
        "#with open('rocauc_v2_ud_w_part1_original.npy', 'wb') as f:\n",
        "#with open('rocauc_v2_ud_w_part2_original.npy', 'wb') as f: # run tomorrow\n",
        "with open('rocauc_v2_ud_w_part3_original.npy', 'wb') as f:\n",
        "    np.save(f, rocauc_v2_ud_w)"
      ],
      "execution_count": 12,
      "outputs": []
    },
    {
      "cell_type": "code",
      "metadata": {
        "originalKey": "67d0789b-2f1f-49bc-8f7d-5afe5d52be59",
        "showInput": true,
        "customInput": null
      },
      "source": [
        "# with open('rocauc_v1_ud_w_part1.npy', 'wb') as f:\n",
        "# with open('rocauc_v1_ud_w_part2.npy', 'wb') as f:\n",
        "with open(\"rocauc_v1_ud_w_part3.npy\", \"wb\") as f:\n",
        "    np.save(f, rocauc_v1_ud_w)"
      ],
      "execution_count": null,
      "outputs": []
    },
    {
      "cell_type": "code",
      "metadata": {
        "originalKey": "371df966-b2f0-4d0b-bd05-4ae363f499aa",
        "showInput": true,
        "customInput": null,
        "collapsed": false,
        "requestMsgId": "371df966-b2f0-4d0b-bd05-4ae363f499aa",
        "executionStartTime": 1680625683366,
        "executionStopTime": 1680625683374
      },
      "source": [
        ""
      ],
      "execution_count": 149,
      "outputs": []
    }
  ]
}
